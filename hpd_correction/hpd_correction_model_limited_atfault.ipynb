{
 "cells": [
  {
   "cell_type": "markdown",
   "id": "ffeffdaf",
   "metadata": {},
   "source": [
    "## To do:\n",
    "- [ ] repair flags $\\leftarrow$ talk to george\n",
    "- [ ] multiply ellis evictions by # units\n",
    "- [ ] include demos?\n",
    "- [ ] counts > # units?\n",
    "- [ ] OMI counts > 1?\n",
    "- [ ] assessor value + sqft?\n",
    "- [ ] 40 MAP_BLK_LOTs with 2 diff neighborhood codes\n",
    "- [ ] treatment of failure to pay $\\leftarrow$ remove from uncontrolled pop? estimate # missing from controlled?"
   ]
  },
  {
   "cell_type": "code",
   "execution_count": 1,
   "id": "9e6e7cd8",
   "metadata": {},
   "outputs": [],
   "source": [
    "import pandas as pd\n",
    "import os\n",
    "from matplotlib import pyplot as plt\n",
    "import seaborn as sns\n",
    "import numpy as np\n",
    "import statsmodels.formula.api as smf"
   ]
  },
  {
   "cell_type": "code",
   "execution_count": 2,
   "id": "104e20be",
   "metadata": {},
   "outputs": [],
   "source": [
    "df = pd.read_stata(\"hpd_correction/Eviction_Building_Panel_Gardner_200307to201312_v2.dta\")"
   ]
  },
  {
   "cell_type": "code",
   "execution_count": 3,
   "id": "b1ff5563",
   "metadata": {},
   "outputs": [],
   "source": [
    "df['counter9_expanded'] = df['counter9'] * df['initial_newUNITS']\n",
    "df['counter9_new'] = df[['counter9_expanded','initial_newUNITS']].min(axis=1)\n",
    "\n",
    "df['counter10_expanded'] = df['counter10'] * df['initial_newUNITS']\n",
    "df['counter10_new'] = df[['counter10_expanded','initial_newUNITS']].min(axis=1)\n",
    "\n",
    "df['counter13_expanded'] = df['counter13'] * df['initial_newUNITS']\n",
    "df['counter13_new'] = df[['counter13_expanded','initial_newUNITS']].min(axis=1)\n",
    "\n",
    "df['counter14_expanded'] = df['counter14'] * df['initial_newUNITS']\n",
    "df['counter14_new'] = df[['counter14_expanded','initial_newUNITS']].min(axis=1)\n",
    "\n",
    "df['counter15_expanded'] = df['counter15'] * df['initial_newUNITS']\n",
    "df['counter15_new'] = df[['counter15_expanded','initial_newUNITS']].min(axis=1)"
   ]
  },
  {
   "cell_type": "code",
   "execution_count": 4,
   "id": "ac4037bd",
   "metadata": {},
   "outputs": [],
   "source": [
    "df['nofault_new'] = (\n",
    "    df['counter8']  # OMI\n",
    "#     + df['counter9_new']  # condo\n",
    "    + df['counter10_new']  # demo\n",
    "#     + df['counter11']  # capital improvement\n",
    "    + df['counter13_new']  # Ellis\n",
    "#     + df['counter14_new']  # lead\n",
    "#     + df['counter15_new']  # dev agreement demo\n",
    "#     + df['counter16']  # Good Samaritan\n",
    ")"
   ]
  },
  {
   "cell_type": "code",
   "execution_count": 5,
   "id": "3f7d7b9f",
   "metadata": {},
   "outputs": [],
   "source": [
    "df['total_evic'] = df['atfault'] + df['nofault_new']"
   ]
  },
  {
   "cell_type": "code",
   "execution_count": 6,
   "id": "d39591cc",
   "metadata": {},
   "outputs": [],
   "source": [
    "df_year = df.groupby(\n",
    "    ['MAP_BLK_LOT', 'year', 'newYRBLT', 'initial_newUNITS','initial_rentcontrol']).agg(\n",
    "    {'atfault': \"sum\", \"nofault\": \"sum\", \"total_evic\": \"sum\", \"month\": \"count\", \"RP1NBRCDE\": pd.Series.mode}\n",
    ").reset_index().rename(columns={'month':'months_obs'})\n",
    "\n",
    "df_year['nofault_per_unit_per_month'] = (df_year['nofault'] / df_year['initial_newUNITS']) / df_year['months_obs']\n",
    "df_year['atfault_per_unit_per_month'] = (df_year['atfault'] / df_year['initial_newUNITS']) / df_year['months_obs']\n",
    "df_year['total_evic_per_unit_per_month'] = (df_year['total_evic'] / df_year['initial_newUNITS']) / df_year['months_obs']\n",
    "\n",
    "df_year['nofault_per_unit_per_yr'] = df_year['nofault_per_unit_per_month'] * 12\n",
    "df_year['total_evic_per_unit_per_yr'] = df_year['total_evic_per_unit_per_month'] * 12\n",
    "df_year['atfault_per_unit_per_yr'] = df_year['atfault_per_unit_per_month'] * 12"
   ]
  },
  {
   "cell_type": "code",
   "execution_count": 7,
   "id": "a7ad3399",
   "metadata": {},
   "outputs": [],
   "source": [
    "bandwidth = 23\n",
    "\n",
    "rd_df = df_year[\n",
    "    (df_year['newYRBLT'] > 1980 - bandwidth) &  # bandwidth\n",
    "    (df_year['newYRBLT'] < 1980 + bandwidth) &  # bandwidth\n",
    "    (df_year['newYRBLT'] != 1985) &  # huge outlier (?)\n",
    "    (df_year['newYRBLT'] != 1979) &  # partial RC (?)\n",
    "    (df_year['newYRBLT'] != 1980) &  # Should be RC but could be fuzzy boundary (?)\n",
    "    (df_year['initial_newUNITS'] > 0)\n",
    "].copy()"
   ]
  },
  {
   "cell_type": "code",
   "execution_count": 8,
   "id": "fb7875fc",
   "metadata": {},
   "outputs": [],
   "source": [
    "rd_df['pre_1980'] = rd_df['newYRBLT'] < 1980\n",
    "rd_df['rent_control'] = False\n",
    "rd_df.loc[rd_df['pre_1980'] == True, 'rent_control'] = True\n",
    "rd_df['year_built_centered'] = rd_df['newYRBLT'] - 1980"
   ]
  },
  {
   "cell_type": "markdown",
   "id": "d7ba5158",
   "metadata": {},
   "source": [
    "### Model 1"
   ]
  },
  {
   "cell_type": "code",
   "execution_count": 9,
   "id": "5f68de8b",
   "metadata": {},
   "outputs": [],
   "source": [
    "rd = smf.ols(\n",
    "    \"total_evic_per_unit_per_yr ~ rent_control + year_built_centered * rent_control\",\n",
    "    data=rd_df)"
   ]
  },
  {
   "cell_type": "code",
   "execution_count": 10,
   "id": "f693db99",
   "metadata": {},
   "outputs": [],
   "source": [
    "fitted = rd.fit()"
   ]
  },
  {
   "cell_type": "code",
   "execution_count": 11,
   "id": "6059fb41",
   "metadata": {},
   "outputs": [
    {
     "name": "stdout",
     "output_type": "stream",
     "text": [
      "                                OLS Regression Results                                \n",
      "======================================================================================\n",
      "Dep. Variable:     total_evic_per_unit_per_yr   R-squared:                       0.001\n",
      "Model:                                    OLS   Adj. R-squared:                  0.001\n",
      "Method:                         Least Squares   F-statistic:                     15.29\n",
      "Date:                        Sat, 24 Dec 2022   Prob (F-statistic):           6.10e-10\n",
      "Time:                                11:42:56   Log-Likelihood:                 80414.\n",
      "No. Observations:                       52007   AIC:                        -1.608e+05\n",
      "Df Residuals:                           52003   BIC:                        -1.608e+05\n",
      "Df Model:                                   3                                         \n",
      "Covariance Type:                    nonrobust                                         \n",
      "============================================================================================================\n",
      "                                               coef    std err          t      P>|t|      [0.025      0.975]\n",
      "------------------------------------------------------------------------------------------------------------\n",
      "Intercept                                    0.0009      0.001      0.924      0.355      -0.001       0.003\n",
      "rent_control[T.True]                         0.0025      0.001      2.220      0.026       0.000       0.005\n",
      "year_built_centered                       2.682e-05   9.32e-05      0.288      0.774      -0.000       0.000\n",
      "year_built_centered:rent_control[T.True]    -0.0001      0.000     -1.035      0.301      -0.000    9.52e-05\n",
      "==============================================================================\n",
      "Omnibus:                   125986.850   Durbin-Watson:                   1.932\n",
      "Prob(Omnibus):                  0.000   Jarque-Bera (JB):       2175281784.970\n",
      "Skew:                          25.301   Prob(JB):                         0.00\n",
      "Kurtosis:                    1003.640   Cond. No.                         118.\n",
      "==============================================================================\n",
      "\n",
      "Notes:\n",
      "[1] Standard Errors assume that the covariance matrix of the errors is correctly specified.\n"
     ]
    }
   ],
   "source": [
    "print(fitted.summary())"
   ]
  },
  {
   "cell_type": "markdown",
   "id": "7330bd22",
   "metadata": {},
   "source": [
    "### Model 2"
   ]
  },
  {
   "cell_type": "code",
   "execution_count": 12,
   "id": "a95e8445",
   "metadata": {},
   "outputs": [],
   "source": [
    "rd2 = smf.ols(\n",
    "    \"total_evic_per_unit_per_yr ~ rent_control + year_built_centered*rent_control + np.log(initial_newUNITS)\",\n",
    "    data=rd_df)"
   ]
  },
  {
   "cell_type": "code",
   "execution_count": 13,
   "id": "9c0aa44e",
   "metadata": {},
   "outputs": [
    {
     "name": "stdout",
     "output_type": "stream",
     "text": [
      "                                OLS Regression Results                                \n",
      "======================================================================================\n",
      "Dep. Variable:     total_evic_per_unit_per_yr   R-squared:                       0.001\n",
      "Model:                                    OLS   Adj. R-squared:                  0.001\n",
      "Method:                         Least Squares   F-statistic:                     12.05\n",
      "Date:                        Sat, 24 Dec 2022   Prob (F-statistic):           8.60e-10\n",
      "Time:                                11:42:56   Log-Likelihood:                 80415.\n",
      "No. Observations:                       52007   AIC:                        -1.608e+05\n",
      "Df Residuals:                           52002   BIC:                        -1.608e+05\n",
      "Df Model:                                   4                                         \n",
      "Covariance Type:                    nonrobust                                         \n",
      "============================================================================================================\n",
      "                                               coef    std err          t      P>|t|      [0.025      0.975]\n",
      "------------------------------------------------------------------------------------------------------------\n",
      "Intercept                                    0.0013      0.001      1.324      0.186      -0.001       0.003\n",
      "rent_control[T.True]                         0.0027      0.001      2.356      0.019       0.000       0.005\n",
      "year_built_centered                        3.23e-05   9.33e-05      0.346      0.729      -0.000       0.000\n",
      "year_built_centered:rent_control[T.True]    -0.0001      0.000     -1.145      0.252      -0.000    8.41e-05\n",
      "np.log(initial_newUNITS)                    -0.0004      0.000     -1.531      0.126      -0.001       0.000\n",
      "==============================================================================\n",
      "Omnibus:                   125976.972   Durbin-Watson:                   1.932\n",
      "Prob(Omnibus):                  0.000   Jarque-Bera (JB):       2174547353.995\n",
      "Skew:                          25.296   Prob(JB):                         0.00\n",
      "Kurtosis:                    1003.471   Cond. No.                         118.\n",
      "==============================================================================\n",
      "\n",
      "Notes:\n",
      "[1] Standard Errors assume that the covariance matrix of the errors is correctly specified.\n"
     ]
    }
   ],
   "source": [
    "fitted2 = rd2.fit()\n",
    "print(fitted2.summary())"
   ]
  },
  {
   "cell_type": "markdown",
   "id": "9f70d110",
   "metadata": {},
   "source": [
    "### Model 3"
   ]
  },
  {
   "cell_type": "code",
   "execution_count": 22,
   "id": "6f077af1",
   "metadata": {},
   "outputs": [],
   "source": [
    "census_df = pd.read_csv('data/census_tract_acs_data_2006_2010.csv', dtype={'tract_id': str, 'tract': str})\n",
    "df_geo = pd.read_csv('hpd_correction/asquith_data_with_fipscd.csv', dtype={'tract_id': str, 'tract': str})"
   ]
  },
  {
   "cell_type": "code",
   "execution_count": 26,
   "id": "724b7109",
   "metadata": {},
   "outputs": [],
   "source": [
    "df_geo = df_geo[['MAP_BLK_LOT', 'tract_id']].drop_duplicates()"
   ]
  },
  {
   "cell_type": "code",
   "execution_count": 27,
   "id": "13adc8b5",
   "metadata": {},
   "outputs": [],
   "source": [
    "rd_df2 = rd_df.merge(df_geo, on='MAP_BLK_LOT')"
   ]
  },
  {
   "cell_type": "code",
   "execution_count": 28,
   "id": "a0ac6619",
   "metadata": {},
   "outputs": [],
   "source": [
    "rd_df2 = rd_df2.merge(census_df, on='tract_id')"
   ]
  },
  {
   "cell_type": "code",
   "execution_count": 29,
   "id": "4c8b6352",
   "metadata": {},
   "outputs": [],
   "source": [
    "rd_df2['pct_non_white'] = 1 - (rd_df2['white_only_pop'] / rd_df2['total_pop_race'])\n",
    "rd_df2['pct_black'] = (rd_df2['black_only_pop'] / rd_df2['total_pop_race'])\n",
    "rd_df2['pct_black_multi'] = (rd_df2['black_only_pop'] + rd_df2['multiracial_pop']) / rd_df2['total_pop_race']\n",
    "rd_df2['pct_latino'] = rd_df2['hispanic_pop'] / rd_df2['total_pop_race']\n",
    "rd_df2['pct_occ_units_rental'] = rd_df2['total_rental_tenure'] / rd_df2['total_occupied_units']\n",
    "rd_df2['pct_renter_pop'] = rd_df2['total_renter_pop'] / rd_df2['total_pop_tenure']\n",
    "rd_df2['pct_rentals_pre2000_movein'] = (\n",
    "    rd_df2['total_rental_tenure'] - rd_df2['rental_movein_2005_later'] - rd_df2['rental_movein_2000_2004']) / (\n",
    "    rd_df2['total_rental_tenure'])\n",
    "rd_df2['pct_renter_same_house_last_yr'] = rd_df2['renter_non_mover'] / rd_df2['total_renter_pop']\n",
    "rd_df2['pct_recent_mover_rent'] = 1 - (rd_df2['renter_non_mover'] / rd_df2['total_renter_pop'])"
   ]
  },
  {
   "cell_type": "code",
   "execution_count": 30,
   "id": "12e5800c",
   "metadata": {},
   "outputs": [],
   "source": [
    "rd3 = smf.ols(\n",
    "    \"total_evic_per_unit_per_yr ~ rent_control + year_built_centered*rent_control + \"\n",
    "#     \"np.log(median_hh_income) + \"\n",
    "    \"pct_non_white + \"\n",
    "    \"pct_latino + \"\n",
    "    \"pct_recent_mover_rent + \"\n",
    "    \"np.log(initial_newUNITS)\"\n",
    "    ,\n",
    "    data=rd_df2)"
   ]
  },
  {
   "cell_type": "code",
   "execution_count": 31,
   "id": "df1b6764",
   "metadata": {},
   "outputs": [
    {
     "name": "stdout",
     "output_type": "stream",
     "text": [
      "                                OLS Regression Results                                \n",
      "======================================================================================\n",
      "Dep. Variable:     total_evic_per_unit_per_yr   R-squared:                       0.001\n",
      "Model:                                    OLS   Adj. R-squared:                  0.001\n",
      "Method:                         Least Squares   F-statistic:                     9.301\n",
      "Date:                        Sat, 24 Dec 2022   Prob (F-statistic):           1.46e-11\n",
      "Time:                                11:51:03   Log-Likelihood:                 78672.\n",
      "No. Observations:                       51129   AIC:                        -1.573e+05\n",
      "Df Residuals:                           51121   BIC:                        -1.573e+05\n",
      "Df Model:                                   7                                         \n",
      "Covariance Type:                    nonrobust                                         \n",
      "============================================================================================================\n",
      "                                               coef    std err          t      P>|t|      [0.025      0.975]\n",
      "------------------------------------------------------------------------------------------------------------\n",
      "Intercept                                    0.0035      0.002      2.242      0.025       0.000       0.007\n",
      "rent_control[T.True]                         0.0025      0.001      2.151      0.031       0.000       0.005\n",
      "year_built_centered                       2.658e-05   9.56e-05      0.278      0.781      -0.000       0.000\n",
      "year_built_centered:rent_control[T.True]    -0.0001      0.000     -1.108      0.268      -0.000       9e-05\n",
      "pct_non_white                               -0.0031      0.001     -2.288      0.022      -0.006      -0.000\n",
      "pct_latino                                   0.0053      0.002      2.300      0.021       0.001       0.010\n",
      "pct_recent_mover_rent                       -0.0068      0.004     -1.900      0.057      -0.014       0.000\n",
      "np.log(initial_newUNITS)                    -0.0004      0.000     -1.382      0.167      -0.001       0.000\n",
      "==============================================================================\n",
      "Omnibus:                   123496.328   Durbin-Watson:                   1.933\n",
      "Prob(Omnibus):                  0.000   Jarque-Bera (JB):       2076514580.291\n",
      "Skew:                          25.122   Prob(JB):                         0.00\n",
      "Kurtosis:                     988.999   Cond. No.                         328.\n",
      "==============================================================================\n",
      "\n",
      "Notes:\n",
      "[1] Standard Errors assume that the covariance matrix of the errors is correctly specified.\n"
     ]
    }
   ],
   "source": [
    "fitted3 = rd3.fit()\n",
    "print(fitted3.summary())"
   ]
  },
  {
   "cell_type": "markdown",
   "id": "ace01ed1",
   "metadata": {},
   "source": [
    "### Model 4"
   ]
  },
  {
   "cell_type": "code",
   "execution_count": 32,
   "id": "ade80d27",
   "metadata": {},
   "outputs": [],
   "source": [
    "rd_df2['RP1NBRCDE'] = rd_df2['RP1NBRCDE'].astype(str)"
   ]
  },
  {
   "cell_type": "code",
   "execution_count": 33,
   "id": "3061e469",
   "metadata": {},
   "outputs": [],
   "source": [
    "rd4 = smf.ols(\n",
    "    \"total_evic_per_unit_per_yr ~ rent_control + year_built_centered*rent_control\"\n",
    "    \" + pct_non_white\"\n",
    "    \" + pct_latino\"\n",
    "    \" + pct_recent_mover_rent\"\n",
    "    \"+ np.log(initial_newUNITS)\"\n",
    "    \" + RP1NBRCDE\"\n",
    "    ,\n",
    "    data=rd_df2)"
   ]
  },
  {
   "cell_type": "code",
   "execution_count": 34,
   "id": "efaa5384",
   "metadata": {
    "scrolled": false
   },
   "outputs": [
    {
     "name": "stdout",
     "output_type": "stream",
     "text": [
      "                                OLS Regression Results                                \n",
      "======================================================================================\n",
      "Dep. Variable:     total_evic_per_unit_per_yr   R-squared:                       0.003\n",
      "Model:                                    OLS   Adj. R-squared:                  0.001\n",
      "Method:                         Least Squares   F-statistic:                     1.621\n",
      "Date:                        Sat, 24 Dec 2022   Prob (F-statistic):           0.000325\n",
      "Time:                                11:51:21   Log-Likelihood:                 78706.\n",
      "No. Observations:                       51129   AIC:                        -1.572e+05\n",
      "Df Residuals:                           51046   BIC:                        -1.565e+05\n",
      "Df Model:                                  82                                         \n",
      "Covariance Type:                    nonrobust                                         \n",
      "============================================================================================================\n",
      "                                               coef    std err          t      P>|t|      [0.025      0.975]\n",
      "------------------------------------------------------------------------------------------------------------\n",
      "Intercept                                    0.0009      0.003      0.355      0.723      -0.004       0.006\n",
      "rent_control[T.True]                         0.0027      0.001      2.255      0.024       0.000       0.005\n",
      "RP1NBRCDE[T.01B]                            -0.0025      0.001     -2.152      0.031      -0.005      -0.000\n",
      "RP1NBRCDE[T.01C]                            -0.0017      0.003     -0.649      0.516      -0.007       0.003\n",
      "RP1NBRCDE[T.01D]                             0.0004      0.002      0.231      0.817      -0.003       0.004\n",
      "RP1NBRCDE[T.01E]                             0.0004      0.001      0.349      0.727      -0.002       0.003\n",
      "RP1NBRCDE[T.01F]                            -0.0022      0.006     -0.364      0.716      -0.014       0.010\n",
      "RP1NBRCDE[T.01G]                            -0.0005      0.002     -0.241      0.810      -0.004       0.003\n",
      "RP1NBRCDE[T.02A]                            -0.0028      0.005     -0.619      0.536      -0.012       0.006\n",
      "RP1NBRCDE[T.02B]                            -0.0011      0.002     -0.537      0.592      -0.005       0.003\n",
      "RP1NBRCDE[T.02C]                             0.0015      0.001      1.157      0.247      -0.001       0.004\n",
      "RP1NBRCDE[T.02D]                            -0.0006      0.003     -0.216      0.829      -0.006       0.005\n",
      "RP1NBRCDE[T.02E]                            -0.0010      0.002     -0.610      0.542      -0.004       0.002\n",
      "RP1NBRCDE[T.02F]                            -0.0002      0.001     -0.157      0.875      -0.003       0.002\n",
      "RP1NBRCDE[T.02G]                             0.0047      0.005      0.926      0.354      -0.005       0.014\n",
      "RP1NBRCDE[T.03A]                             0.0026      0.016      0.163      0.870      -0.028       0.034\n",
      "RP1NBRCDE[T.03G]                            -0.0040      0.004     -0.941      0.347      -0.012       0.004\n",
      "RP1NBRCDE[T.03H]                         -3.967e-05      0.003     -0.013      0.990      -0.006       0.006\n",
      "RP1NBRCDE[T.03J]                            -0.0051      0.005     -1.048      0.295      -0.015       0.004\n",
      "RP1NBRCDE[T.04B]                             0.0050      0.004      1.370      0.171      -0.002       0.012\n",
      "RP1NBRCDE[T.04C]                             0.0050      0.002      2.273      0.023       0.001       0.009\n",
      "RP1NBRCDE[T.04D]                             0.0030      0.002      1.191      0.234      -0.002       0.008\n",
      "RP1NBRCDE[T.04F]                             0.0037      0.004      0.898      0.369      -0.004       0.012\n",
      "RP1NBRCDE[T.04H]                             0.0018      0.004      0.478      0.633      -0.005       0.009\n",
      "RP1NBRCDE[T.04N]                            -0.0013      0.004     -0.320      0.749      -0.009       0.007\n",
      "RP1NBRCDE[T.04S]                            -0.0032      0.003     -1.139      0.255      -0.009       0.002\n",
      "RP1NBRCDE[T.04T]                            -0.0046      0.016     -0.296      0.767      -0.035       0.026\n",
      "RP1NBRCDE[T.05A]                             0.0013      0.002      0.611      0.541      -0.003       0.005\n",
      "RP1NBRCDE[T.05B]                             0.0044      0.003      1.691      0.091      -0.001       0.010\n",
      "RP1NBRCDE[T.05C]                             0.0036      0.002      2.243      0.025       0.000       0.007\n",
      "RP1NBRCDE[T.05D]                             0.0044      0.002      2.033      0.042       0.000       0.009\n",
      "RP1NBRCDE[T.05E]                             0.0006      0.003      0.245      0.806      -0.004       0.006\n",
      "RP1NBRCDE[T.05F]                             0.0032      0.004      0.896      0.370      -0.004       0.010\n",
      "RP1NBRCDE[T.05G]                            -0.0018      0.002     -0.870      0.384      -0.006       0.002\n",
      "RP1NBRCDE[T.05H]                            -0.0010      0.005     -0.194      0.846      -0.011       0.009\n",
      "RP1NBRCDE[T.05J]                            -0.0007      0.005     -0.124      0.901      -0.011       0.010\n",
      "RP1NBRCDE[T.05K]                             0.0025      0.002      1.283      0.199      -0.001       0.006\n",
      "RP1NBRCDE[T.05M]                             0.0025      0.003      0.991      0.322      -0.002       0.008\n",
      "RP1NBRCDE[T.06A]                            -0.0043      0.005     -0.884      0.376      -0.014       0.005\n",
      "RP1NBRCDE[T.06B]                             0.0067      0.002      2.700      0.007       0.002       0.012\n",
      "RP1NBRCDE[T.06C]                             0.0003      0.002      0.123      0.902      -0.004       0.005\n",
      "RP1NBRCDE[T.06D]                            -0.0013      0.003     -0.396      0.692      -0.008       0.005\n",
      "RP1NBRCDE[T.06E]                            -0.0035      0.005     -0.666      0.505      -0.014       0.007\n",
      "RP1NBRCDE[T.06F]                          6.183e-05      0.003      0.019      0.985      -0.006       0.007\n",
      "RP1NBRCDE[T.07A]                             0.0006      0.003      0.237      0.812      -0.005       0.006\n",
      "RP1NBRCDE[T.07B]                            -0.0007      0.002     -0.320      0.749      -0.005       0.003\n",
      "RP1NBRCDE[T.07C]                            -0.0020      0.006     -0.309      0.757      -0.015       0.011\n",
      "RP1NBRCDE[T.07D]                             0.0002      0.002      0.079      0.937      -0.005       0.005\n",
      "RP1NBRCDE[T.08A]                            -0.0014      0.004     -0.312      0.755      -0.010       0.007\n",
      "RP1NBRCDE[T.08B]                            -0.0010      0.008     -0.124      0.902      -0.017       0.015\n",
      "RP1NBRCDE[T.08C]                            -0.0019      0.002     -0.780      0.436      -0.007       0.003\n",
      "RP1NBRCDE[T.08D]                            -0.0010      0.005     -0.225      0.822      -0.010       0.008\n",
      "RP1NBRCDE[T.08E]                             0.0016      0.002      0.771      0.441      -0.002       0.006\n",
      "RP1NBRCDE[T.08F]                            -0.0002      0.004     -0.054      0.957      -0.009       0.008\n",
      "RP1NBRCDE[T.08G]                             0.0016      0.002      0.697      0.486      -0.003       0.006\n",
      "RP1NBRCDE[T.08H]                             0.0027      0.009      0.291      0.771      -0.015       0.021\n",
      "RP1NBRCDE[T.09A]                            -0.0002      0.002     -0.106      0.916      -0.005       0.004\n",
      "RP1NBRCDE[T.09C]                             0.0010      0.002      0.430      0.667      -0.003       0.005\n",
      "RP1NBRCDE[T.09E]                            -0.0007      0.002     -0.416      0.678      -0.004       0.003\n",
      "RP1NBRCDE[T.09F]                            -0.0006      0.004     -0.145      0.885      -0.009       0.008\n",
      "RP1NBRCDE[T.09G]                            -0.0032      0.002     -1.471      0.141      -0.008       0.001\n",
      "RP1NBRCDE[T.09H]                             0.0031      0.006      0.483      0.629      -0.010       0.016\n",
      "RP1NBRCDE[T.10A]                            -0.0015      0.003     -0.549      0.583      -0.007       0.004\n",
      "RP1NBRCDE[T.10B]                            -0.0033      0.003     -1.136      0.256      -0.009       0.002\n",
      "RP1NBRCDE[T.10C]                             0.0019      0.003      0.761      0.447      -0.003       0.007\n",
      "RP1NBRCDE[T.10D]                            -0.0020      0.003     -0.640      0.522      -0.008       0.004\n",
      "RP1NBRCDE[T.10E]                            -0.0027      0.003     -0.877      0.381      -0.009       0.003\n",
      "RP1NBRCDE[T.10F]                            -0.0029      0.002     -1.250      0.211      -0.007       0.002\n",
      "RP1NBRCDE[T.10G]                            -0.0040      0.004     -0.962      0.336      -0.012       0.004\n",
      "RP1NBRCDE[T.10H]                            -0.0020      0.003     -0.679      0.497      -0.008       0.004\n",
      "RP1NBRCDE[T.10J]                            -0.0023      0.030     -0.078      0.938      -0.061       0.057\n",
      "RP1NBRCDE[T.10K]                            -0.0058      0.004     -1.319      0.187      -0.014       0.003\n",
      "RP1NBRCDE[T.['02B' '02D']]                  -0.0020      0.026     -0.077      0.938      -0.053       0.049\n",
      "RP1NBRCDE[T.['04C' '05C']]                  -0.0033      0.030     -0.110      0.913      -0.062       0.056\n",
      "RP1NBRCDE[T.['04C' '05D']]                   0.0039      0.016      0.234      0.815      -0.028       0.036\n",
      "RP1NBRCDE[T.['04F' '05D']]                  -0.0037      0.030     -0.125      0.901      -0.063       0.055\n",
      "RP1NBRCDE[T.['06B' '06D']]                  -0.0006      0.052     -0.012      0.990      -0.102       0.101\n",
      "year_built_centered                       3.044e-05   9.86e-05      0.309      0.757      -0.000       0.000\n",
      "year_built_centered:rent_control[T.True]    -0.0001      0.000     -1.060      0.289      -0.000    9.79e-05\n",
      "pct_non_white                                0.0020      0.003      0.633      0.527      -0.004       0.008\n",
      "pct_latino                                   0.0072      0.004      1.604      0.109      -0.002       0.016\n",
      "pct_recent_mover_rent                       -0.0076      0.005     -1.642      0.101      -0.017       0.001\n",
      "np.log(initial_newUNITS)                    -0.0004      0.000     -1.290      0.197      -0.001       0.000\n",
      "==============================================================================\n",
      "Omnibus:                   123425.967   Durbin-Watson:                   1.935\n",
      "Prob(Omnibus):                  0.000   Jarque-Bera (JB):       2070550257.455\n",
      "Skew:                          25.086   Prob(JB):                         0.00\n",
      "Kurtosis:                     987.582   Cond. No.                     4.33e+03\n",
      "==============================================================================\n",
      "\n",
      "Notes:\n",
      "[1] Standard Errors assume that the covariance matrix of the errors is correctly specified.\n",
      "[2] The condition number is large, 4.33e+03. This might indicate that there are\n",
      "strong multicollinearity or other numerical problems.\n"
     ]
    }
   ],
   "source": [
    "fitted4 = rd4.fit()\n",
    "print(fitted4.summary())"
   ]
  },
  {
   "cell_type": "code",
   "execution_count": null,
   "id": "a38116fc",
   "metadata": {},
   "outputs": [],
   "source": []
  }
 ],
 "metadata": {
  "kernelspec": {
   "display_name": "Python [conda env:evictions]",
   "language": "python",
   "name": "conda-env-evictions-py"
  },
  "language_info": {
   "codemirror_mode": {
    "name": "ipython",
    "version": 3
   },
   "file_extension": ".py",
   "mimetype": "text/x-python",
   "name": "python",
   "nbconvert_exporter": "python",
   "pygments_lexer": "ipython3",
   "version": "3.7.8"
  },
  "toc": {
   "base_numbering": 1,
   "nav_menu": {},
   "number_sections": false,
   "sideBar": false,
   "skip_h1_title": true,
   "title_cell": "Table of Contents",
   "title_sidebar": "Contents",
   "toc_cell": false,
   "toc_position": {},
   "toc_section_display": true,
   "toc_window_display": false
  }
 },
 "nbformat": 4,
 "nbformat_minor": 5
}
