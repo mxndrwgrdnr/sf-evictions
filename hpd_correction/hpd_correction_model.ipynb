{
 "cells": [
  {
   "cell_type": "markdown",
   "id": "ca6282f0",
   "metadata": {},
   "source": [
    "## To do:\n",
    "- [ ] repair flags $\\leftarrow$ talk to george\n",
    "- [ ] multiply ellis evictions by # units\n",
    "- [ ] include demos?\n",
    "- [ ] counts > # units?\n",
    "- [ ] OMI counts > 1?\n",
    "- [ ] assessor value + sqft?\n",
    "- [ ] 40 MAP_BLK_LOTs with 2 diff neighborhood codes\n",
    "- [ ] treatment of failure to pay $\\leftarrow$ remove from uncontrolled pop? estimate # missing from controlled?"
   ]
  },
  {
   "cell_type": "code",
   "execution_count": 50,
   "id": "9e811827",
   "metadata": {},
   "outputs": [],
   "source": [
    "import pandas as pd\n",
    "import os\n",
    "from matplotlib import pyplot as plt\n",
    "import seaborn as sns\n",
    "import numpy as np\n",
    "import statsmodels.formula.api as smf"
   ]
  },
  {
   "cell_type": "code",
   "execution_count": 73,
   "id": "ca4b7e3c",
   "metadata": {},
   "outputs": [],
   "source": [
    "df = pd.read_stata(\"hpd_correction/Eviction_Building_Panel_Gardner_200307to201312_v2.dta\")"
   ]
  },
  {
   "cell_type": "code",
   "execution_count": 74,
   "id": "e8138c47",
   "metadata": {},
   "outputs": [],
   "source": [
    "df['counter9_expanded'] = df['counter9'] * df['initial_newUNITS']\n",
    "df['counter9_new'] = df[['counter9_expanded','initial_newUNITS']].min(axis=1)\n",
    "\n",
    "df['counter10_expanded'] = df['counter10'] * df['initial_newUNITS']\n",
    "df['counter10_new'] = df[['counter10_expanded','initial_newUNITS']].min(axis=1)\n",
    "\n",
    "df['counter13_expanded'] = df['counter13'] * df['initial_newUNITS']\n",
    "df['counter13_new'] = df[['counter13_expanded','initial_newUNITS']].min(axis=1)\n",
    "\n",
    "df['counter14_expanded'] = df['counter14'] * df['initial_newUNITS']\n",
    "df['counter14_new'] = df[['counter14_expanded','initial_newUNITS']].min(axis=1)\n",
    "\n",
    "df['counter15_expanded'] = df['counter15'] * df['initial_newUNITS']\n",
    "df['counter15_new'] = df[['counter15_expanded','initial_newUNITS']].min(axis=1)"
   ]
  },
  {
   "cell_type": "code",
   "execution_count": 106,
   "id": "b6a0be82",
   "metadata": {},
   "outputs": [],
   "source": [
    "df['nofault_new'] = (\n",
    "    df['counter8']  # OMI\n",
    "    + df['counter9_new']  # condo\n",
    "    + df['counter10_new']  # demo\n",
    "    + df['counter11']  # capital improvement\n",
    "    + df['counter13_new']  # Ellis\n",
    "    + df['counter14_new']  # lead\n",
    "    + df['counter15_new']  # dev agreement demo\n",
    "    + df['counter16']  # Good Samaritan\n",
    ")"
   ]
  },
  {
   "cell_type": "code",
   "execution_count": 107,
   "id": "dc557a8f",
   "metadata": {},
   "outputs": [],
   "source": [
    "df['total_evic'] = df['atfault'] + df['nofault_new']"
   ]
  },
  {
   "cell_type": "code",
   "execution_count": 210,
   "id": "ed057930",
   "metadata": {},
   "outputs": [],
   "source": [
    "df_year = df.groupby(\n",
    "    ['MAP_BLK_LOT', 'year', 'newYRBLT', 'initial_newUNITS','initial_rentcontrol']).agg(\n",
    "    {'atfault': \"sum\", \"nofault\": \"sum\", \"total_evic\": \"sum\", \"month\": \"count\", \"RP1NBRCDE\": pd.Series.mode}\n",
    ").reset_index().rename(columns={'month':'months_obs'})\n",
    "\n",
    "df_year['nofault_per_unit_per_month'] = (df_year['nofault'] / df_year['initial_newUNITS']) / df_year['months_obs']\n",
    "df_year['atfault_per_unit_per_month'] = (df_year['atfault'] / df_year['initial_newUNITS']) / df_year['months_obs']\n",
    "df_year['total_evic_per_unit_per_month'] = (df_year['total_evic'] / df_year['initial_newUNITS']) / df_year['months_obs']\n",
    "\n",
    "df_year['nofault_per_unit_per_yr'] = df_year['nofault_per_unit_per_month'] * 12\n",
    "df_year['total_evic_per_unit_per_yr'] = df_year['total_evic_per_unit_per_month'] * 12\n",
    "df_year['atfault_per_unit_per_yr'] = df_year['atfault_per_unit_per_month'] * 12"
   ]
  },
  {
   "cell_type": "code",
   "execution_count": 211,
   "id": "9dc0ebae",
   "metadata": {},
   "outputs": [],
   "source": [
    "bandwidth = 23\n",
    "\n",
    "rd_df = df_year[\n",
    "    (df_year['newYRBLT'] > 1980 - bandwidth) &  # bandwidth\n",
    "    (df_year['newYRBLT'] < 1980 + bandwidth) &  # bandwidth\n",
    "    (df_year['newYRBLT'] != 1985) &  # huge outlier (?)\n",
    "    (df_year['newYRBLT'] != 1979) &  # partial RC (?)\n",
    "    (df_year['newYRBLT'] != 1980) &  # Should be RC but could be fuzzy boundary (?)\n",
    "    (df_year['initial_newUNITS'] > 0)\n",
    "].copy()"
   ]
  },
  {
   "cell_type": "code",
   "execution_count": 212,
   "id": "29373d99",
   "metadata": {},
   "outputs": [],
   "source": [
    "rd_df['pre_1980'] = rd_df['newYRBLT'] < 1980\n",
    "rd_df['rent_control'] = False\n",
    "rd_df.loc[rd_df['pre_1980'] == True, 'rent_control'] = True\n",
    "rd_df['year_built_centered'] = rd_df['newYRBLT'] - 1980"
   ]
  },
  {
   "cell_type": "markdown",
   "id": "80b5e427",
   "metadata": {},
   "source": [
    "### Model 1"
   ]
  },
  {
   "cell_type": "code",
   "execution_count": 111,
   "id": "4e00052e",
   "metadata": {},
   "outputs": [],
   "source": [
    "rd = smf.ols(\n",
    "    \"total_evic_per_unit_per_yr ~ rent_control + year_built_centered * rent_control\",\n",
    "    data=rd_df)"
   ]
  },
  {
   "cell_type": "code",
   "execution_count": 112,
   "id": "546ddafe",
   "metadata": {},
   "outputs": [],
   "source": [
    "fitted = rd.fit()"
   ]
  },
  {
   "cell_type": "code",
   "execution_count": 113,
   "id": "05fdd62b",
   "metadata": {},
   "outputs": [
    {
     "name": "stdout",
     "output_type": "stream",
     "text": [
      "                                OLS Regression Results                                \n",
      "======================================================================================\n",
      "Dep. Variable:     total_evic_per_unit_per_yr   R-squared:                       0.001\n",
      "Model:                                    OLS   Adj. R-squared:                  0.001\n",
      "Method:                         Least Squares   F-statistic:                     15.57\n",
      "Date:                        Mon, 19 Dec 2022   Prob (F-statistic):           4.05e-10\n",
      "Time:                                21:54:48   Log-Likelihood:                 78169.\n",
      "No. Observations:                       52007   AIC:                        -1.563e+05\n",
      "Df Residuals:                           52003   BIC:                        -1.563e+05\n",
      "Df Model:                                   3                                         \n",
      "Covariance Type:                    nonrobust                                         \n",
      "============================================================================================================\n",
      "                                               coef    std err          t      P>|t|      [0.025      0.975]\n",
      "------------------------------------------------------------------------------------------------------------\n",
      "Intercept                                    0.0009      0.001      0.885      0.376      -0.001       0.003\n",
      "rent_control[T.True]                         0.0028      0.001      2.331      0.020       0.000       0.005\n",
      "year_built_centered                       2.682e-05   9.73e-05      0.276      0.783      -0.000       0.000\n",
      "year_built_centered:rent_control[T.True]    -0.0001      0.000     -0.966      0.334      -0.000       0.000\n",
      "==============================================================================\n",
      "Omnibus:                   127315.228   Durbin-Watson:                   1.938\n",
      "Prob(Omnibus):                  0.000   Jarque-Bera (JB):       2330315767.481\n",
      "Skew:                          25.971   Prob(JB):                         0.00\n",
      "Kurtosis:                    1038.706   Cond. No.                         118.\n",
      "==============================================================================\n",
      "\n",
      "Notes:\n",
      "[1] Standard Errors assume that the covariance matrix of the errors is correctly specified.\n"
     ]
    }
   ],
   "source": [
    "print(fitted.summary())"
   ]
  },
  {
   "cell_type": "markdown",
   "id": "e6847fbf",
   "metadata": {},
   "source": [
    "### Model 2"
   ]
  },
  {
   "cell_type": "code",
   "execution_count": 114,
   "id": "1860f20e",
   "metadata": {},
   "outputs": [],
   "source": [
    "rd2 = smf.ols(\n",
    "    \"total_evic_per_unit_per_yr ~ rent_control + year_built_centered*rent_control + np.log(initial_newUNITS)\",\n",
    "    data=rd_df)"
   ]
  },
  {
   "cell_type": "code",
   "execution_count": 115,
   "id": "95dd3ca8",
   "metadata": {},
   "outputs": [
    {
     "name": "stdout",
     "output_type": "stream",
     "text": [
      "                                OLS Regression Results                                \n",
      "======================================================================================\n",
      "Dep. Variable:     total_evic_per_unit_per_yr   R-squared:                       0.001\n",
      "Model:                                    OLS   Adj. R-squared:                  0.001\n",
      "Method:                         Least Squares   F-statistic:                     12.41\n",
      "Date:                        Mon, 19 Dec 2022   Prob (F-statistic):           4.31e-10\n",
      "Time:                                21:54:55   Log-Likelihood:                 78171.\n",
      "No. Observations:                       52007   AIC:                        -1.563e+05\n",
      "Df Residuals:                           52002   BIC:                        -1.563e+05\n",
      "Df Model:                                   4                                         \n",
      "Covariance Type:                    nonrobust                                         \n",
      "============================================================================================================\n",
      "                                               coef    std err          t      P>|t|      [0.025      0.975]\n",
      "------------------------------------------------------------------------------------------------------------\n",
      "Intercept                                    0.0013      0.001      1.339      0.181      -0.001       0.003\n",
      "rent_control[T.True]                         0.0030      0.001      2.484      0.013       0.001       0.005\n",
      "year_built_centered                       3.323e-05   9.74e-05      0.341      0.733      -0.000       0.000\n",
      "year_built_centered:rent_control[T.True]    -0.0001      0.000     -1.089      0.276      -0.000    9.38e-05\n",
      "np.log(initial_newUNITS)                    -0.0005      0.000     -1.716      0.086      -0.001    6.96e-05\n",
      "==============================================================================\n",
      "Omnibus:                   127303.581   Durbin-Watson:                   1.938\n",
      "Prob(Omnibus):                  0.000   Jarque-Bera (JB):       2329255221.978\n",
      "Skew:                          25.965   Prob(JB):                         0.00\n",
      "Kurtosis:                    1038.471   Cond. No.                         118.\n",
      "==============================================================================\n",
      "\n",
      "Notes:\n",
      "[1] Standard Errors assume that the covariance matrix of the errors is correctly specified.\n"
     ]
    }
   ],
   "source": [
    "fitted2 = rd2.fit()\n",
    "print(fitted2.summary())"
   ]
  },
  {
   "cell_type": "markdown",
   "id": "93b00602",
   "metadata": {},
   "source": [
    "### Model 3"
   ]
  },
  {
   "cell_type": "code",
   "execution_count": 116,
   "id": "895b1bce",
   "metadata": {},
   "outputs": [],
   "source": [
    "census_df = pd.read_csv('data/census_tract_acs_data_2006_2010.csv', dtype={'tract_id': str, 'tract': str})"
   ]
  },
  {
   "cell_type": "code",
   "execution_count": 121,
   "id": "174b1581",
   "metadata": {},
   "outputs": [],
   "source": [
    "df_geo = pd.read_csv('hpd_correction/asquith_data_with_fipscd.csv', dtype={'tract_id': str, 'tract': str})"
   ]
  },
  {
   "cell_type": "code",
   "execution_count": 122,
   "id": "375395ca",
   "metadata": {},
   "outputs": [],
   "source": [
    "df_geo = df_geo[['MAP_BLK_LOT', 'tract_id']].drop_duplicates()"
   ]
  },
  {
   "cell_type": "code",
   "execution_count": 214,
   "id": "0d6ebcf6",
   "metadata": {},
   "outputs": [],
   "source": [
    "rd_df2 = rd_df.merge(df_geo, on='MAP_BLK_LOT')"
   ]
  },
  {
   "cell_type": "code",
   "execution_count": 215,
   "id": "fc5f951f",
   "metadata": {},
   "outputs": [],
   "source": [
    "rd_df2 = rd_df2.merge(census_df, on='tract_id')"
   ]
  },
  {
   "cell_type": "code",
   "execution_count": 216,
   "id": "f77c7db3",
   "metadata": {},
   "outputs": [],
   "source": [
    "rd_df2['pct_non_white'] = 1 - (rd_df2['white_only_pop'] / rd_df2['total_pop_race'])\n",
    "rd_df2['pct_black'] = (rd_df2['black_only_pop'] / rd_df2['total_pop_race'])\n",
    "rd_df2['pct_black_multi'] = (rd_df2['black_only_pop'] + rd_df2['multiracial_pop']) / rd_df2['total_pop_race']\n",
    "rd_df2['pct_latino'] = rd_df2['hispanic_pop'] / rd_df2['total_pop_race']\n",
    "rd_df2['pct_occ_units_rental'] = rd_df2['total_rental_tenure'] / rd_df2['total_occupied_units']\n",
    "rd_df2['pct_renter_pop'] = rd_df2['total_renter_pop'] / rd_df2['total_pop_tenure']\n",
    "rd_df2['pct_rentals_pre2000_movein'] = (\n",
    "    rd_df2['total_rental_tenure'] - rd_df2['rental_movein_2005_later'] - rd_df2['rental_movein_2000_2004']) / (\n",
    "    rd_df2['total_rental_tenure'])\n",
    "rd_df2['pct_renter_same_house_last_yr'] = rd_df2['renter_non_mover'] / rd_df2['total_renter_pop']\n",
    "rd_df2['pct_recent_mover_rent'] = 1 - (rd_df2['renter_non_mover'] / rd_df2['total_renter_pop'])"
   ]
  },
  {
   "cell_type": "code",
   "execution_count": 180,
   "id": "67c3aaac",
   "metadata": {},
   "outputs": [],
   "source": [
    "rd3 = smf.ols(\n",
    "    \"total_evic_per_unit_per_yr ~ rent_control + year_built_centered*rent_control + \"\n",
    "#     \"np.log(median_hh_income) + \"\n",
    "    \"pct_non_white + \"\n",
    "    \"pct_latino + \"\n",
    "    \"pct_recent_mover_rent + \"\n",
    "    \"np.log(initial_newUNITS)\"\n",
    "    ,\n",
    "    data=rd_df2)"
   ]
  },
  {
   "cell_type": "code",
   "execution_count": 181,
   "id": "e572911d",
   "metadata": {},
   "outputs": [
    {
     "name": "stdout",
     "output_type": "stream",
     "text": [
      "                                OLS Regression Results                                \n",
      "======================================================================================\n",
      "Dep. Variable:     total_evic_per_unit_per_yr   R-squared:                       0.001\n",
      "Model:                                    OLS   Adj. R-squared:                  0.001\n",
      "Method:                         Least Squares   F-statistic:                     9.524\n",
      "Date:                        Tue, 20 Dec 2022   Prob (F-statistic):           7.07e-12\n",
      "Time:                                09:35:28   Log-Likelihood:                 76462.\n",
      "No. Observations:                       51129   AIC:                        -1.529e+05\n",
      "Df Residuals:                           51121   BIC:                        -1.528e+05\n",
      "Df Model:                                   7                                         \n",
      "Covariance Type:                    nonrobust                                         \n",
      "============================================================================================================\n",
      "                                               coef    std err          t      P>|t|      [0.025      0.975]\n",
      "------------------------------------------------------------------------------------------------------------\n",
      "Intercept                                    0.0040      0.002      2.456      0.014       0.001       0.007\n",
      "rent_control[T.True]                         0.0027      0.001      2.253      0.024       0.000       0.005\n",
      "year_built_centered                       2.914e-05   9.98e-05      0.292      0.770      -0.000       0.000\n",
      "year_built_centered:rent_control[T.True]    -0.0001      0.000     -1.070      0.284      -0.000    9.81e-05\n",
      "pct_non_white                               -0.0038      0.001     -2.662      0.008      -0.007      -0.001\n",
      "pct_latino                                   0.0050      0.002      2.077      0.038       0.000       0.010\n",
      "pct_recent_mover_rent                       -0.0072      0.004     -1.907      0.057      -0.015       0.000\n",
      "np.log(initial_newUNITS)                    -0.0005      0.000     -1.607      0.108      -0.001       0.000\n",
      "==============================================================================\n",
      "Omnibus:                   124795.718   Durbin-Watson:                   1.939\n",
      "Prob(Omnibus):                  0.000   Jarque-Bera (JB):       2224251122.123\n",
      "Skew:                          25.785   Prob(JB):                         0.00\n",
      "Kurtosis:                    1023.493   Cond. No.                         328.\n",
      "==============================================================================\n",
      "\n",
      "Notes:\n",
      "[1] Standard Errors assume that the covariance matrix of the errors is correctly specified.\n"
     ]
    }
   ],
   "source": [
    "fitted3 = rd3.fit()\n",
    "print(fitted3.summary())"
   ]
  },
  {
   "cell_type": "markdown",
   "id": "f87c01d9",
   "metadata": {},
   "source": [
    "### Model 4"
   ]
  },
  {
   "cell_type": "code",
   "execution_count": 223,
   "id": "29d0a0c8",
   "metadata": {},
   "outputs": [],
   "source": [
    "rd_df2['RP1NBRCDE'] = rd_df2['RP1NBRCDE'].astype(str)"
   ]
  },
  {
   "cell_type": "code",
   "execution_count": 228,
   "id": "04ddc099",
   "metadata": {},
   "outputs": [],
   "source": [
    "rd4 = smf.ols(\n",
    "    \"total_evic_per_unit_per_yr ~ rent_control + year_built_centered*rent_control\"\n",
    "    \" + pct_non_white\"\n",
    "    \" + pct_latino\"\n",
    "    \" + pct_recent_mover_rent\"\n",
    "    \"+ np.log(initial_newUNITS)\"\n",
    "    \" + RP1NBRCDE\"\n",
    "    ,\n",
    "    data=rd_df2)"
   ]
  },
  {
   "cell_type": "code",
   "execution_count": 229,
   "id": "ddb5ba74",
   "metadata": {
    "scrolled": false
   },
   "outputs": [
    {
     "name": "stdout",
     "output_type": "stream",
     "text": [
      "                                OLS Regression Results                                \n",
      "======================================================================================\n",
      "Dep. Variable:     total_evic_per_unit_per_yr   R-squared:                       0.003\n",
      "Model:                                    OLS   Adj. R-squared:                  0.001\n",
      "Method:                         Least Squares   F-statistic:                     1.597\n",
      "Date:                        Sat, 24 Dec 2022   Prob (F-statistic):           0.000453\n",
      "Time:                                11:38:14   Log-Likelihood:                 76495.\n",
      "No. Observations:                       51129   AIC:                        -1.528e+05\n",
      "Df Residuals:                           51045   BIC:                        -1.521e+05\n",
      "Df Model:                                  83                                         \n",
      "Covariance Type:                    nonrobust                                         \n",
      "============================================================================================================\n",
      "                                               coef    std err          t      P>|t|      [0.025      0.975]\n",
      "------------------------------------------------------------------------------------------------------------\n",
      "Intercept                                    0.0005      0.004      0.112      0.911      -0.008       0.009\n",
      "rent_control[T.True]                         0.0030      0.001      2.383      0.017       0.001       0.005\n",
      "RP1NBRCDE[T.01B]                            -0.0025      0.001     -2.014      0.044      -0.005   -6.65e-05\n",
      "RP1NBRCDE[T.01C]                            -0.0019      0.003     -0.692      0.489      -0.007       0.004\n",
      "RP1NBRCDE[T.01D]                             0.0004      0.002      0.215      0.830      -0.003       0.004\n",
      "RP1NBRCDE[T.01E]                             0.0007      0.001      0.493      0.622      -0.002       0.003\n",
      "RP1NBRCDE[T.01F]                            -0.0031      0.006     -0.475      0.635      -0.016       0.010\n",
      "RP1NBRCDE[T.01G]                            -0.0006      0.002     -0.310      0.757      -0.005       0.003\n",
      "RP1NBRCDE[T.02A]                            -0.0032      0.005     -0.662      0.508      -0.013       0.006\n",
      "RP1NBRCDE[T.02B]                            -0.0011      0.002     -0.525      0.599      -0.005       0.003\n",
      "RP1NBRCDE[T.02C]                             0.0019      0.001      1.399      0.162      -0.001       0.005\n",
      "RP1NBRCDE[T.02D]                            -0.0008      0.003     -0.260      0.795      -0.007       0.005\n",
      "RP1NBRCDE[T.02E]                            -0.0008      0.002     -0.484      0.629      -0.004       0.002\n",
      "RP1NBRCDE[T.02F]                            -0.0003      0.001     -0.257      0.797      -0.003       0.002\n",
      "RP1NBRCDE[T.02G]                             0.0043      0.005      0.795      0.427      -0.006       0.015\n",
      "RP1NBRCDE[T.03A]                             0.0029      0.017      0.177      0.860      -0.029       0.035\n",
      "RP1NBRCDE[T.03G]                            -0.0040      0.004     -0.890      0.373      -0.013       0.005\n",
      "RP1NBRCDE[T.03H]                            -0.0001      0.003     -0.039      0.969      -0.006       0.006\n",
      "RP1NBRCDE[T.03J]                            -0.0051      0.005     -0.999      0.318      -0.015       0.005\n",
      "RP1NBRCDE[T.04B]                             0.0046      0.004      1.202      0.229      -0.003       0.012\n",
      "RP1NBRCDE[T.04C]                             0.0048      0.002      2.065      0.039       0.000       0.009\n",
      "RP1NBRCDE[T.04D]                             0.0026      0.003      1.017      0.309      -0.002       0.008\n",
      "RP1NBRCDE[T.04F]                             0.0041      0.004      0.937      0.349      -0.004       0.013\n",
      "RP1NBRCDE[T.04H]                             0.0010      0.004      0.243      0.808      -0.007       0.009\n",
      "RP1NBRCDE[T.04N]                            -0.0015      0.004     -0.358      0.720      -0.010       0.007\n",
      "RP1NBRCDE[T.04S]                            -0.0036      0.003     -1.200      0.230      -0.010       0.002\n",
      "RP1NBRCDE[T.04T]                            -0.0053      0.016     -0.323      0.747      -0.037       0.027\n",
      "RP1NBRCDE[T.05A]                             0.0008      0.002      0.344      0.731      -0.004       0.005\n",
      "RP1NBRCDE[T.05B]                             0.0042      0.003      1.521      0.128      -0.001       0.010\n",
      "RP1NBRCDE[T.05C]                             0.0031      0.002      1.769      0.077      -0.000       0.006\n",
      "RP1NBRCDE[T.05D]                             0.0055      0.002      2.433      0.015       0.001       0.010\n",
      "RP1NBRCDE[T.05E]                             0.0001      0.003      0.041      0.968      -0.005       0.005\n",
      "RP1NBRCDE[T.05F]                             0.0027      0.004      0.730      0.465      -0.005       0.010\n",
      "RP1NBRCDE[T.05G]                            -0.0024      0.002     -1.070      0.285      -0.007       0.002\n",
      "RP1NBRCDE[T.05H]                            -0.0015      0.006     -0.271      0.786      -0.012       0.009\n",
      "RP1NBRCDE[T.05J]                            -0.0011      0.006     -0.196      0.845      -0.012       0.010\n",
      "RP1NBRCDE[T.05K]                             0.0027      0.002      1.351      0.177      -0.001       0.007\n",
      "RP1NBRCDE[T.05M]                             0.0023      0.003      0.842      0.400      -0.003       0.008\n",
      "RP1NBRCDE[T.06A]                            -0.0044      0.005     -0.878      0.380      -0.014       0.005\n",
      "RP1NBRCDE[T.06B]                             0.0072      0.003      2.771      0.006       0.002       0.012\n",
      "RP1NBRCDE[T.06C]                             0.0009      0.002      0.357      0.721      -0.004       0.006\n",
      "RP1NBRCDE[T.06D]                            -0.0008      0.004     -0.218      0.827      -0.008       0.006\n",
      "RP1NBRCDE[T.06E]                            -0.0036      0.006     -0.650      0.515      -0.014       0.007\n",
      "RP1NBRCDE[T.06F]                            -0.0002      0.003     -0.057      0.955      -0.007       0.007\n",
      "RP1NBRCDE[T.07A]                             0.0004      0.003      0.135      0.893      -0.005       0.006\n",
      "RP1NBRCDE[T.07B]                            -0.0007      0.002     -0.315      0.753      -0.005       0.004\n",
      "RP1NBRCDE[T.07C]                            -0.0025      0.007     -0.373      0.709      -0.016       0.011\n",
      "RP1NBRCDE[T.07D]                            -0.0002      0.003     -0.097      0.923      -0.005       0.005\n",
      "RP1NBRCDE[T.08A]                            -0.0009      0.005     -0.193      0.847      -0.010       0.008\n",
      "RP1NBRCDE[T.08B]                            -0.0009      0.008     -0.114      0.909      -0.017       0.015\n",
      "RP1NBRCDE[T.08C]                            -0.0017      0.003     -0.673      0.501      -0.007       0.003\n",
      "RP1NBRCDE[T.08D]                            -0.0007      0.005     -0.138      0.890      -0.010       0.009\n",
      "RP1NBRCDE[T.08E]                             0.0013      0.002      0.588      0.557      -0.003       0.006\n",
      "RP1NBRCDE[T.08F]                            -0.0001      0.004     -0.025      0.980      -0.009       0.009\n",
      "RP1NBRCDE[T.08G]                             0.0017      0.002      0.695      0.487      -0.003       0.006\n",
      "RP1NBRCDE[T.08H]                             0.0031      0.010      0.320      0.749      -0.016       0.022\n",
      "RP1NBRCDE[T.09A]                            -0.0008      0.002     -0.342      0.733      -0.006       0.004\n",
      "RP1NBRCDE[T.09C]                             0.0006      0.002      0.246      0.806      -0.004       0.005\n",
      "RP1NBRCDE[T.09E]                          5.131e-05      0.002      0.027      0.979      -0.004       0.004\n",
      "RP1NBRCDE[T.09F]                         -1.086e-05      0.004     -0.002      0.998      -0.009       0.009\n",
      "RP1NBRCDE[T.09G]                            -0.0037      0.002     -1.618      0.106      -0.008       0.001\n",
      "RP1NBRCDE[T.09H]                             0.0032      0.007      0.471      0.638      -0.010       0.017\n",
      "RP1NBRCDE[T.10A]                            -0.0015      0.003     -0.525      0.599      -0.007       0.004\n",
      "RP1NBRCDE[T.10B]                            -0.0034      0.003     -1.119      0.263      -0.009       0.003\n",
      "RP1NBRCDE[T.10C]                             0.0016      0.003      0.581      0.561      -0.004       0.007\n",
      "RP1NBRCDE[T.10D]                            -0.0024      0.003     -0.690      0.490      -0.009       0.004\n",
      "RP1NBRCDE[T.10E]                            -0.0025      0.003     -0.784      0.433      -0.009       0.004\n",
      "RP1NBRCDE[T.10F]                            -0.0029      0.002     -1.221      0.222      -0.008       0.002\n",
      "RP1NBRCDE[T.10G]                            -0.0040      0.004     -0.923      0.356      -0.012       0.004\n",
      "RP1NBRCDE[T.10H]                            -0.0022      0.003     -0.704      0.481      -0.009       0.004\n",
      "RP1NBRCDE[T.10J]                            -0.0024      0.031     -0.078      0.938      -0.064       0.059\n",
      "RP1NBRCDE[T.10K]                            -0.0057      0.005     -1.250      0.211      -0.015       0.003\n",
      "RP1NBRCDE[T.['02B' '02D']]                  -0.0023      0.027     -0.084      0.933      -0.056       0.051\n",
      "RP1NBRCDE[T.['04C' '05C']]                  -0.0039      0.031     -0.125      0.901      -0.065       0.058\n",
      "RP1NBRCDE[T.['04C' '05D']]                   0.0036      0.017      0.211      0.833      -0.030       0.037\n",
      "RP1NBRCDE[T.['04F' '05D']]                  -0.0040      0.031     -0.127      0.899      -0.065       0.057\n",
      "RP1NBRCDE[T.['06B' '06D']]                  -0.0003      0.054     -0.005      0.996      -0.107       0.106\n",
      "year_built_centered                       3.379e-05      0.000      0.328      0.743      -0.000       0.000\n",
      "year_built_centered:rent_control[T.True]    -0.0001      0.000     -1.026      0.305      -0.000       0.000\n",
      "median_hh_income                          8.385e-09   2.46e-08      0.341      0.733   -3.98e-08    5.66e-08\n",
      "pct_non_white                                0.0015      0.004      0.398      0.691      -0.006       0.009\n",
      "pct_latino                                   0.0084      0.005      1.682      0.093      -0.001       0.018\n",
      "pct_recent_mover_rent                       -0.0075      0.005     -1.523      0.128      -0.017       0.002\n",
      "np.log(initial_newUNITS)                    -0.0005      0.000     -1.490      0.136      -0.001       0.000\n",
      "==============================================================================\n",
      "Omnibus:                   124736.648   Durbin-Watson:                   1.941\n",
      "Prob(Omnibus):                  0.000   Jarque-Bera (JB):       2219557455.485\n",
      "Skew:                          25.754   Prob(JB):                         0.00\n",
      "Kurtosis:                    1022.416   Cond. No.                     1.90e+07\n",
      "==============================================================================\n",
      "\n",
      "Notes:\n",
      "[1] Standard Errors assume that the covariance matrix of the errors is correctly specified.\n",
      "[2] The condition number is large, 1.9e+07. This might indicate that there are\n",
      "strong multicollinearity or other numerical problems.\n"
     ]
    }
   ],
   "source": [
    "fitted4 = rd4.fit()\n",
    "print(fitted4.summary())"
   ]
  },
  {
   "cell_type": "code",
   "execution_count": null,
   "id": "06cd38e5",
   "metadata": {},
   "outputs": [],
   "source": []
  }
 ],
 "metadata": {
  "kernelspec": {
   "display_name": "Python [conda env:evictions]",
   "language": "python",
   "name": "conda-env-evictions-py"
  },
  "language_info": {
   "codemirror_mode": {
    "name": "ipython",
    "version": 3
   },
   "file_extension": ".py",
   "mimetype": "text/x-python",
   "name": "python",
   "nbconvert_exporter": "python",
   "pygments_lexer": "ipython3",
   "version": "3.7.8"
  },
  "toc": {
   "base_numbering": 1,
   "nav_menu": {},
   "number_sections": false,
   "sideBar": false,
   "skip_h1_title": true,
   "title_cell": "Table of Contents",
   "title_sidebar": "Contents",
   "toc_cell": false,
   "toc_position": {},
   "toc_section_display": true,
   "toc_window_display": false
  }
 },
 "nbformat": 4,
 "nbformat_minor": 5
}
