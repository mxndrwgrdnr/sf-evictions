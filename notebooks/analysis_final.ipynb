{
 "cells": [
  {
   "cell_type": "code",
   "execution_count": 1,
   "metadata": {},
   "outputs": [],
   "source": [
    "import pandas as pd"
   ]
  },
  {
   "cell_type": "code",
   "execution_count": 2,
   "metadata": {},
   "outputs": [],
   "source": [
    "import pandas as pd\n",
    "import numpy as np\n",
    "from matplotlib import pyplot as plt\n",
    "import seaborn as sns\n",
    "import statsmodels.formula.api as smf\n",
    "%matplotlib inline"
   ]
  },
  {
   "cell_type": "code",
   "execution_count": 56,
   "metadata": {},
   "outputs": [],
   "source": [
    "asr = pd.read_csv('../data/asr_grouped_by_yr_w_fips.csv', dtype={'fipscd': str})"
   ]
  },
  {
   "cell_type": "code",
   "execution_count": 69,
   "metadata": {},
   "outputs": [],
   "source": [
    "asr['any_ev'] = (asr['ev_count'] > 0).astype(int)\n",
    "asr['any_ev_07'] = (asr['ev_count_post_07'] > 0).astype(int)\n",
    "asr['pre_1980'] = (asr['year_built_max'] < 1980)\n",
    "asr['built_1980'] = None\n",
    "asr.loc[asr['pre_1980'], 'built_1980'] = 'before'\n",
    "asr.loc[~asr['pre_1980'], 'built_1980'] = 'after'\n",
    "asr['ev_per_unit'] = asr['ev_count'] / asr['total_units']\n",
    "asr['ev_per_unit_since_07'] = asr['ev_count_post_07'] / asr['total_units']"
   ]
  },
  {
   "cell_type": "code",
   "execution_count": 85,
   "metadata": {},
   "outputs": [
    {
     "name": "stdout",
     "output_type": "stream",
     "text": [
      "(47720, 26)\n"
     ]
    },
    {
     "name": "stderr",
     "output_type": "stream",
     "text": [
      "/Users/max/anaconda3/envs/evictions/lib/python3.7/site-packages/IPython/core/interactiveshell.py:2714: DtypeWarning: Columns (4) have mixed types.Specify dtype option on import or set low_memory=False.\n",
      "  interactivity=interactivity, compiler=compiler, result=result)\n"
     ]
    }
   ],
   "source": [
    "ev = pd.read_csv('../data/ev_matched_w_fips.csv')\n",
    "print(ev.shape)"
   ]
  },
  {
   "cell_type": "code",
   "execution_count": 86,
   "metadata": {},
   "outputs": [
    {
     "name": "stdout",
     "output_type": "stream",
     "text": [
      "(45273, 53)\n"
     ]
    }
   ],
   "source": [
    "ev = ev.merge(asr, left_on='asr_index', right_on='index', suffixes=('_ev', '_asr'))\n",
    "print(ev.shape)"
   ]
  },
  {
   "cell_type": "code",
   "execution_count": 87,
   "metadata": {},
   "outputs": [
    {
     "name": "stdout",
     "output_type": "stream",
     "text": [
      "(29749, 53)\n"
     ]
    }
   ],
   "source": [
    "ev = ev[(ev['any_rc_eligibility'] == 1) & (ev['total_units'] > 0)]\n",
    "print(ev.shape)"
   ]
  },
  {
   "cell_type": "markdown",
   "metadata": {},
   "source": [
    "#### Table 1"
   ]
  },
  {
   "cell_type": "code",
   "execution_count": 89,
   "metadata": {},
   "outputs": [],
   "source": [
    "ev.loc[pd.isnull(ev['type']), 'type'] = 'unknown'\n",
    "type_counts = ev.groupby(['built_1980', 'type']).agg(count=('index_ev', 'nunique')).reset_index()\n",
    "pre_sums = type_counts.groupby('built_1980')['count'].sum()\n",
    "\n",
    "ev['ev_type_cat'] = 'breach of lease'\n",
    "ev.loc[ev['type'].isin([\n",
    "    'OMI', 'Capital Improvement', 'ELLIS', 'Condo Conversion', 'Substantial Rehabilitation',\n",
    "    'Lead Remediation', 'Good Samaritan Tenancy Ends',\n",
    "    'Development Agreement', 'Demolition']), 'ev_type_cat'] = 'no fault'\n",
    "ev.loc[ev['type'].isin(['unknown', 'Other']), 'ev_type_cat'] = 'unknown/Other'"
   ]
  },
  {
   "cell_type": "code",
   "execution_count": 90,
   "metadata": {},
   "outputs": [
    {
     "data": {
      "text/html": [
       "<div>\n",
       "<style scoped>\n",
       "    .dataframe tbody tr th:only-of-type {\n",
       "        vertical-align: middle;\n",
       "    }\n",
       "\n",
       "    .dataframe tbody tr th {\n",
       "        vertical-align: top;\n",
       "    }\n",
       "\n",
       "    .dataframe thead th {\n",
       "        text-align: right;\n",
       "    }\n",
       "</style>\n",
       "<table border=\"1\" class=\"dataframe\">\n",
       "  <thead>\n",
       "    <tr style=\"text-align: right;\">\n",
       "      <th>built_1980</th>\n",
       "      <th>after</th>\n",
       "      <th>before</th>\n",
       "      <th>pct_after</th>\n",
       "      <th>pct_before</th>\n",
       "    </tr>\n",
       "    <tr>\n",
       "      <th>ev_type_cat</th>\n",
       "      <th></th>\n",
       "      <th></th>\n",
       "      <th></th>\n",
       "      <th></th>\n",
       "    </tr>\n",
       "  </thead>\n",
       "  <tbody>\n",
       "    <tr>\n",
       "      <th>breach of lease</th>\n",
       "      <td>211</td>\n",
       "      <td>12239</td>\n",
       "      <td>0.522277</td>\n",
       "      <td>0.417073</td>\n",
       "    </tr>\n",
       "    <tr>\n",
       "      <th>no fault</th>\n",
       "      <td>48</td>\n",
       "      <td>6848</td>\n",
       "      <td>0.118812</td>\n",
       "      <td>0.233362</td>\n",
       "    </tr>\n",
       "    <tr>\n",
       "      <th>unknown/Other</th>\n",
       "      <td>145</td>\n",
       "      <td>10258</td>\n",
       "      <td>0.358911</td>\n",
       "      <td>0.349566</td>\n",
       "    </tr>\n",
       "  </tbody>\n",
       "</table>\n",
       "</div>"
      ],
      "text/plain": [
       "built_1980       after  before  pct_after  pct_before\n",
       "ev_type_cat                                          \n",
       "breach of lease    211   12239   0.522277    0.417073\n",
       "no fault            48    6848   0.118812    0.233362\n",
       "unknown/Other      145   10258   0.358911    0.349566"
      ]
     },
     "execution_count": 90,
     "metadata": {},
     "output_type": "execute_result"
    }
   ],
   "source": [
    "cat_counts = ev.groupby(['built_1980', 'ev_type_cat']).agg(count=('index_ev', 'nunique')).reset_index()\n",
    "cat_counts = cat_counts.pivot(index='ev_type_cat', columns='built_1980', values='count')\n",
    "cat_counts['pct_after'] = cat_counts['after'] / pre_sums['after']\n",
    "cat_counts['pct_before'] = cat_counts['before'] / pre_sums['before']\n",
    "cat_counts"
   ]
  },
  {
   "cell_type": "markdown",
   "metadata": {},
   "source": [
    "#### Table 2"
   ]
  },
  {
   "cell_type": "code",
   "execution_count": 77,
   "metadata": {},
   "outputs": [
    {
     "data": {
      "text/html": [
       "<div>\n",
       "<style scoped>\n",
       "    .dataframe tbody tr th:only-of-type {\n",
       "        vertical-align: middle;\n",
       "    }\n",
       "\n",
       "    .dataframe tbody tr th {\n",
       "        vertical-align: top;\n",
       "    }\n",
       "\n",
       "    .dataframe thead th {\n",
       "        text-align: right;\n",
       "    }\n",
       "</style>\n",
       "<table border=\"1\" class=\"dataframe\">\n",
       "  <thead>\n",
       "    <tr style=\"text-align: right;\">\n",
       "      <th></th>\n",
       "      <th></th>\n",
       "      <th>total_addresses</th>\n",
       "      <th>total_units</th>\n",
       "      <th>mean_units_per_address</th>\n",
       "      <th>total_evictions</th>\n",
       "      <th>mean_any_ev</th>\n",
       "      <th>mean_ev_per_address</th>\n",
       "      <th>mean_ev_per_unit</th>\n",
       "    </tr>\n",
       "    <tr>\n",
       "      <th>any_rc_eligibility</th>\n",
       "      <th>pre_1980</th>\n",
       "      <th></th>\n",
       "      <th></th>\n",
       "      <th></th>\n",
       "      <th></th>\n",
       "      <th></th>\n",
       "      <th></th>\n",
       "      <th></th>\n",
       "    </tr>\n",
       "  </thead>\n",
       "  <tbody>\n",
       "    <tr>\n",
       "      <th rowspan=\"2\" valign=\"top\">0.0</th>\n",
       "      <th>False</th>\n",
       "      <td>76864</td>\n",
       "      <td>364153</td>\n",
       "      <td>4.737627</td>\n",
       "      <td>485</td>\n",
       "      <td>0.004215</td>\n",
       "      <td>0.006310</td>\n",
       "      <td>0.003296</td>\n",
       "    </tr>\n",
       "    <tr>\n",
       "      <th>True</th>\n",
       "      <td>1120987</td>\n",
       "      <td>1588711</td>\n",
       "      <td>1.417243</td>\n",
       "      <td>12308</td>\n",
       "      <td>0.006608</td>\n",
       "      <td>0.010980</td>\n",
       "      <td>0.008609</td>\n",
       "    </tr>\n",
       "    <tr>\n",
       "      <th rowspan=\"2\" valign=\"top\">1.0</th>\n",
       "      <th>False</th>\n",
       "      <td>15645</td>\n",
       "      <td>134008</td>\n",
       "      <td>8.565548</td>\n",
       "      <td>404</td>\n",
       "      <td>0.014062</td>\n",
       "      <td>0.025823</td>\n",
       "      <td>0.009969</td>\n",
       "    </tr>\n",
       "    <tr>\n",
       "      <th>True</th>\n",
       "      <td>362735</td>\n",
       "      <td>1770103</td>\n",
       "      <td>4.879879</td>\n",
       "      <td>29345</td>\n",
       "      <td>0.036341</td>\n",
       "      <td>0.080899</td>\n",
       "      <td>0.023403</td>\n",
       "    </tr>\n",
       "  </tbody>\n",
       "</table>\n",
       "</div>"
      ],
      "text/plain": [
       "                             total_addresses  total_units  \\\n",
       "any_rc_eligibility pre_1980                                 \n",
       "0.0                False               76864       364153   \n",
       "                   True              1120987      1588711   \n",
       "1.0                False               15645       134008   \n",
       "                   True               362735      1770103   \n",
       "\n",
       "                             mean_units_per_address  total_evictions  \\\n",
       "any_rc_eligibility pre_1980                                            \n",
       "0.0                False                   4.737627              485   \n",
       "                   True                    1.417243            12308   \n",
       "1.0                False                   8.565548              404   \n",
       "                   True                    4.879879            29345   \n",
       "\n",
       "                             mean_any_ev  mean_ev_per_address  \\\n",
       "any_rc_eligibility pre_1980                                     \n",
       "0.0                False        0.004215             0.006310   \n",
       "                   True         0.006608             0.010980   \n",
       "1.0                False        0.014062             0.025823   \n",
       "                   True         0.036341             0.080899   \n",
       "\n",
       "                             mean_ev_per_unit  \n",
       "any_rc_eligibility pre_1980                    \n",
       "0.0                False             0.003296  \n",
       "                   True              0.008609  \n",
       "1.0                False             0.009969  \n",
       "                   True              0.023403  "
      ]
     },
     "execution_count": 77,
     "metadata": {},
     "output_type": "execute_result"
    }
   ],
   "source": [
    "mean_diffs = asr[\n",
    "    (asr['total_units'] > 0)].groupby(['any_rc_eligibility', 'pre_1980']).agg(\n",
    "        total_addresses=('index', 'count'),\n",
    "        total_units=('total_units', 'sum'),\n",
    "        mean_units_per_address=('total_units','mean'),\n",
    "        total_evictions=('ev_count', 'sum'),\n",
    "        mean_any_ev=('any_ev', 'mean'),\n",
    "        mean_ev_per_address=('ev_count','mean'),\n",
    "        mean_ev_per_unit=('ev_per_unit','mean'),\n",
    "\n",
    "\n",
    "\n",
    "\n",
    "\n",
    ")\n",
    "\n",
    "# mean_diffs['units_per_address'] = mean_diffs['total_units'] / mean_diffs['total_addresses']\n",
    "# mean_diffs['evictions_per_address'] = mean_diffs['total_evictions'] / mean_diffs['total_addresses']\n",
    "# mean_diffs['evictions_per_unit'] = mean_diffs['total_evictions'] / mean_diffs['total_units']\n",
    "\n",
    "mean_diffs"
   ]
  },
  {
   "cell_type": "code",
   "execution_count": 88,
   "metadata": {},
   "outputs": [
    {
     "data": {
      "text/plain": [
       "378380"
      ]
     },
     "execution_count": 88,
     "metadata": {},
     "output_type": "execute_result"
    }
   ],
   "source": [
    "362735 + 15645"
   ]
  },
  {
   "cell_type": "markdown",
   "metadata": {},
   "source": [
    "#### Fig 1"
   ]
  },
  {
   "cell_type": "code",
   "execution_count": 75,
   "metadata": {},
   "outputs": [],
   "source": [
    "rc_pop = asr[\n",
    "    (asr['any_rc_eligibility'] == 1) & (asr['year_built_max'] > 1953) &\n",
    "    (asr['year_built_max'] < 2007) & (asr['total_units'] > 0)]\n",
    "\n",
    "yr_vs_ev = rc_pop.groupby('year_built_max').agg({\n",
    "    'ev_per_unit': 'mean',\n",
    "}).reset_index()\n",
    "\n",
    "yr_vs_ev1 = yr_vs_ev[(yr_vs_ev['year_built_max'] < 1980) &\n",
    "                     (yr_vs_ev['year_built_max'] >= 1953)]\n",
    "yr_vs_ev2 = yr_vs_ev[(yr_vs_ev['year_built_max'] >= 1980) &\n",
    "                     (yr_vs_ev['year_built_max'] <= 2007)]"
   ]
  },
  {
   "cell_type": "code",
   "execution_count": 76,
   "metadata": {},
   "outputs": [
    {
     "name": "stderr",
     "output_type": "stream",
     "text": [
      "/Users/max/anaconda3/envs/evictions/lib/python3.7/site-packages/seaborn/_decorators.py:43: FutureWarning: Pass the following variables as keyword args: x, y, data. From version 0.12, the only valid positional argument will be `data`, and passing other arguments without an explicit keyword will result in an error or misinterpretation.\n",
      "  FutureWarning\n",
      "/Users/max/anaconda3/envs/evictions/lib/python3.7/site-packages/seaborn/_decorators.py:43: FutureWarning: Pass the following variables as keyword args: x, y, data. From version 0.12, the only valid positional argument will be `data`, and passing other arguments without an explicit keyword will result in an error or misinterpretation.\n",
      "  FutureWarning\n"
     ]
    },
    {
     "data": {
      "text/plain": [
       "Text(0.3, 0.8, 'rent control \\nbuilt-year threshold')"
      ]
     },
     "execution_count": 76,
     "metadata": {},
     "output_type": "execute_result"
    },
    {
     "name": "stderr",
     "output_type": "stream",
     "text": [
      "/Users/max/anaconda3/envs/evictions/lib/python3.7/site-packages/IPython/core/events.py:74: UserWarning: 'frac' option in 'arrowprops' is no longer supported; use 'headlength' to set the head length in points.\n",
      "  func(*args, **kwargs)\n",
      "/Users/max/anaconda3/envs/evictions/lib/python3.7/site-packages/IPython/core/pylabtools.py:131: UserWarning: 'frac' option in 'arrowprops' is no longer supported; use 'headlength' to set the head length in points.\n",
      "  fig.canvas.print_figure(bytes_io, **kw)\n"
     ]
    },
    {
     "data": {
      "image/png": "[encoded data removed]",
      "text/plain": [
       "<Figure size 936x504 with 1 Axes>"
      ]
     },
     "metadata": {
      "needs_background": "light"
     },
     "output_type": "display_data"
    }
   ],
   "source": [
    "fig, ax = plt.subplots(figsize=(13,7))\n",
    "sns.regplot('year_built_max', 'ev_per_unit', yr_vs_ev1, ax=ax, truncate=True, label='rent controlled')\n",
    "sns.regplot('year_built_max', 'ev_per_unit', yr_vs_ev2, ax=ax, truncate=True, label='non-rent controlled')\n",
    "ax.axvline(1979.5, ls=':', c='r')\n",
    "ax.legend()\n",
    "_ = ax.set_xlabel(\"property built-year\", fontsize=16)\n",
    "_ = ax.set_ylabel(\"avg.\\nevictions/unit\\nper year\", fontsize=16, rotation=0, labelpad=70)\n",
    "_ = ax.set_title(\"SF Eviction Rates (1994-2017)\\nfor Multi-family Residential Properties\", fontsize=20)\n",
    "ax.set_ylim((-0.005, 0.05))\n",
    "ax.annotate('rent control \\nbuilt-year threshold', xy=(1979, 0.04),  xycoords='data',\n",
    "            xytext=(0.3, 0.8), textcoords='axes fraction',\n",
    "            arrowprops=dict(facecolor='black',frac=0.05, width=0.5, headwidth=10),\n",
    "            horizontalalignment='center', verticalalignment='center', fontsize=12\n",
    "            )"
   ]
  },
  {
   "cell_type": "code",
   "execution_count": null,
   "metadata": {},
   "outputs": [],
   "source": []
  }
 ],
 "metadata": {
  "kernelspec": {
   "display_name": "Python [conda env:evictions] *",
   "language": "python",
   "name": "conda-env-evictions-py"
  },
  "language_info": {
   "codemirror_mode": {
    "name": "ipython",
    "version": 3
   },
   "file_extension": ".py",
   "mimetype": "text/x-python",
   "name": "python",
   "nbconvert_exporter": "python",
   "pygments_lexer": "ipython3",
   "version": "3.7.8"
  }
 },
 "nbformat": 4,
 "nbformat_minor": 4
}
