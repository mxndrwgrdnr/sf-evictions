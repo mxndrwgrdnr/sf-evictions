{
 "cells": [
  {
   "cell_type": "markdown",
   "metadata": {},
   "source": [
    "# TO DO\n",
    "\n",
    "- [ ] re-estimate without buildings constructed in 1979\n",
    "- [ ] re-estimate with diff census attrs\n",
    "- [x] re-estimate w/ + w/o buildings built < 2007\n",
    "- [ ] check variability of census attrs over time\n",
    "- [ ] map of eviction data (hexes)\n",
    "- [x] redo table 1 by rates across all addresses\n",
    "- [x] redo rd plot for pre 2013 evictions and post 2013 evictions\n",
    "- [x] subtract evictions in year 2017??\n",
    "- [ ] dedupe evictions at same addr on same date for same tenants? shouldn't be greater than max unit count"
   ]
  },
  {
   "cell_type": "code",
   "execution_count": 1,
   "metadata": {},
   "outputs": [],
   "source": [
    "import pandas as pd\n",
    "import numpy as np\n",
    "from matplotlib import pyplot as plt\n",
    "import seaborn as sns\n",
    "import geopandas as gpd\n",
    "from shapely.geometry import Point\n",
    "import statsmodels.formula.api as smf\n",
    "%matplotlib inline"
   ]
  },
  {
   "cell_type": "markdown",
   "metadata": {},
   "source": [
    "# Load data "
   ]
  },
  {
   "cell_type": "code",
   "execution_count": 2,
   "metadata": {},
   "outputs": [
    {
     "name": "stderr",
     "output_type": "stream",
     "text": [
      "/Users/max/anaconda3/envs/evictions/lib/python3.7/site-packages/IPython/core/interactiveshell.py:2714: DtypeWarning: Columns (2,8,11,17,46) have mixed types.Specify dtype option on import or set low_memory=False.\n",
      "  interactivity=interactivity, compiler=compiler, result=result)\n"
     ]
    }
   ],
   "source": [
    "asr = pd.read_csv('../../../2021_02_summer/evic_paper/data/asr_grouped_by_yr_w_geom.csv', dtype={'fipscd': str})\n",
    "ev = pd.read_csv('../../../2021_02_summer/evic_paper/data/ev_matched_w_fips.csv')\n",
    "asr_all = pd.read_csv('../data/assessor_2007-2016_fips_jun_2021.csv')"
   ]
  },
  {
   "cell_type": "markdown",
   "metadata": {},
   "source": [
    "# Validate pre-processing "
   ]
  },
  {
   "cell_type": "markdown",
   "metadata": {},
   "source": [
    "\\# matched evictions should match the number of evictions in the assessor file"
   ]
  },
  {
   "cell_type": "code",
   "execution_count": 3,
   "metadata": {},
   "outputs": [],
   "source": [
    "assert len(ev[~pd.isnull(ev['asr_index'])]) == asr['ev_count'].sum()"
   ]
  },
  {
   "cell_type": "markdown",
   "metadata": {},
   "source": [
    "Only counting evictions after 2007"
   ]
  },
  {
   "cell_type": "code",
   "execution_count": 4,
   "metadata": {},
   "outputs": [],
   "source": [
    "assert (asr['ev_count'] == asr['ev_count_post_07']).all()"
   ]
  },
  {
   "cell_type": "markdown",
   "metadata": {},
   "source": [
    "Make sure we're comparing like to like"
   ]
  },
  {
   "cell_type": "code",
   "execution_count": 5,
   "metadata": {},
   "outputs": [],
   "source": [
    "assert ev['year'].min() == 2007"
   ]
  },
  {
   "cell_type": "code",
   "execution_count": 6,
   "metadata": {},
   "outputs": [],
   "source": [
    "assert ev['year'].max() == 2016"
   ]
  },
  {
   "cell_type": "code",
   "execution_count": 7,
   "metadata": {},
   "outputs": [],
   "source": [
    "assert asr['asr_yr'].min() == 2007"
   ]
  },
  {
   "cell_type": "code",
   "execution_count": 8,
   "metadata": {},
   "outputs": [],
   "source": [
    "assert asr['asr_yr'].max() == 2016"
   ]
  },
  {
   "cell_type": "markdown",
   "metadata": {},
   "source": [
    "# Describe data processing/filtering steps"
   ]
  },
  {
   "cell_type": "code",
   "execution_count": 9,
   "metadata": {},
   "outputs": [
    {
     "name": "stdout",
     "output_type": "stream",
     "text": [
      "21802 eviction records after cleaning\n"
     ]
    }
   ],
   "source": [
    "print('{0} eviction records after cleaning'.format(ev.shape[0]))"
   ]
  },
  {
   "cell_type": "code",
   "execution_count": 10,
   "metadata": {},
   "outputs": [
    {
     "name": "stdout",
     "output_type": "stream",
     "text": [
      "1978687 total assessor records considered\n"
     ]
    }
   ],
   "source": [
    "print(\"{0} total assessor records considered\".format(asr_all.shape[0]))"
   ]
  },
  {
   "cell_type": "code",
   "execution_count": 11,
   "metadata": {},
   "outputs": [
    {
     "name": "stdout",
     "output_type": "stream",
     "text": [
      "1553397 assessor records after grouping by address and assessed year\n"
     ]
    }
   ],
   "source": [
    "print(\"{0} assessor records after grouping by address and assessed year\".format(asr.shape[0]))"
   ]
  },
  {
   "cell_type": "code",
   "execution_count": 12,
   "metadata": {},
   "outputs": [
    {
     "name": "stdout",
     "output_type": "stream",
     "text": [
      "20136 evictions (92.4%) were matched to assessor records\n"
     ]
    }
   ],
   "source": [
    "print(\"{0} evictions ({1}%) were matched to assessor records\".format(\n",
    "    len(ev[~pd.isnull(ev['asr_index'])]),\n",
    "    np.round(len(ev[~pd.isnull(ev['asr_index'])]) / len(ev) * 100,1)))"
   ]
  },
  {
   "cell_type": "code",
   "execution_count": 13,
   "metadata": {},
   "outputs": [
    {
     "name": "stdout",
     "output_type": "stream",
     "text": [
      "14259 evictions across 349607 rent control eligible assessor records\n"
     ]
    }
   ],
   "source": [
    "asr_rc_eligible = asr[asr['any_rc_eligibility'] == 1] # all rc eligible\n",
    "print(\"{0} evictions across {1} rent control eligible assessor records\".format(asr_rc_eligible['ev_count'].sum(), len(asr_rc_eligible)))"
   ]
  },
  {
   "cell_type": "code",
   "execution_count": 14,
   "metadata": {},
   "outputs": [
    {
     "name": "stdout",
     "output_type": "stream",
     "text": [
      "13963 evictions assigned to 344513 rent control eligible assessor records with valid unit counts\n"
     ]
    }
   ],
   "source": [
    "asr_rc_eligible_valid_units = asr_rc_eligible[asr_rc_eligible['total_units'] > 0]\n",
    "print(\"{0} evictions assigned to {1} rent control eligible assessor records with valid unit counts\".format(asr_rc_eligible_valid_units['ev_count'].sum(), len(asr_rc_eligible_valid_units)))"
   ]
  },
  {
   "cell_type": "code",
   "execution_count": 15,
   "metadata": {},
   "outputs": [
    {
     "name": "stdout",
     "output_type": "stream",
     "text": [
      "5094 assessor records with 296 evictions dropped due to unreliable unit counts\n"
     ]
    }
   ],
   "source": [
    "print(\"{0} assessor records with {1} evictions dropped due to unreliable unit counts\".format(\n",
    "    asr_rc_eligible.shape[0] - asr_rc_eligible_valid_units.shape[0],\n",
    "    asr_rc_eligible.loc[asr_rc_eligible['total_units']<=0, 'ev_count'].sum()))"
   ]
  },
  {
   "cell_type": "code",
   "execution_count": 16,
   "metadata": {},
   "outputs": [],
   "source": [
    "asr['any_ev'] = (asr['ev_count'] > 0).astype(int)\n",
    "asr['pre_1980'] = (asr['year_built_max'] < 1980)\n",
    "asr['built_1980'] = None\n",
    "asr.loc[asr['pre_1980'], 'built_1980'] = 'before'\n",
    "asr.loc[~asr['pre_1980'], 'built_1980'] = 'after'\n",
    "asr['ev_per_unit'] = asr['ev_count'] / asr['total_units']"
   ]
  },
  {
   "cell_type": "code",
   "execution_count": 17,
   "metadata": {},
   "outputs": [
    {
     "name": "stdout",
     "output_type": "stream",
     "text": [
      "(20136, 59)\n"
     ]
    }
   ],
   "source": [
    "ev = ev.merge(asr, left_on='asr_index', right_on='index', suffixes=('_ev', '_asr'))\n",
    "print(ev.shape)"
   ]
  },
  {
   "cell_type": "code",
   "execution_count": 18,
   "metadata": {},
   "outputs": [
    {
     "name": "stdout",
     "output_type": "stream",
     "text": [
      "(19199, 59)\n"
     ]
    }
   ],
   "source": [
    "ev = ev[(ev['total_units'] > 0)]\n",
    "print(ev.shape)"
   ]
  },
  {
   "cell_type": "code",
   "execution_count": 19,
   "metadata": {},
   "outputs": [
    {
     "name": "stdout",
     "output_type": "stream",
     "text": [
      "(13963, 59)\n"
     ]
    }
   ],
   "source": [
    "ev = ev[(ev['any_rc_eligibility'] == 1)]\n",
    "print(ev.shape)"
   ]
  },
  {
   "cell_type": "markdown",
   "metadata": {},
   "source": [
    "#### Table 1"
   ]
  },
  {
   "cell_type": "code",
   "execution_count": 20,
   "metadata": {},
   "outputs": [],
   "source": [
    "ev.loc[pd.isnull(ev['type']), 'type'] = 'unknown'\n",
    "type_counts = ev.groupby(['built_1980', 'type']).agg(count=('index_ev', 'nunique')).reset_index()\n",
    "pre_sums = type_counts.groupby('built_1980')['count'].sum()\n",
    "\n",
    "ev['ev_type_cat'] = 'breach of lease'\n",
    "ev.loc[ev['type'].isin([\n",
    "    'OMI', 'Capital Improvement', 'ELLIS', 'Condo Conversion', 'Substantial Rehabilitation',\n",
    "    'Lead Remediation', 'Good Samaritan Tenancy Ends',\n",
    "    'Development Agreement', 'Demolition']), 'ev_type_cat'] = 'no fault'\n",
    "ev.loc[ev['type'].isin(['unknown', 'Other']), 'ev_type_cat'] = 'unknown/Other'"
   ]
  },
  {
   "cell_type": "code",
   "execution_count": 50,
   "metadata": {},
   "outputs": [],
   "source": [
    "cat_counts = ev.groupby(['built_1980', 'ev_type_cat']).agg(count=('index_ev', 'nunique')).reset_index()\n",
    "cat_counts = cat_counts.pivot(index='ev_type_cat', columns='built_1980', values='count')\n",
    "cat_counts['pct_ev_after'] = cat_counts['after'] / pre_sums['after']\n",
    "cat_counts['pct_ev_before'] = cat_counts['before'] / pre_sums['before']"
   ]
  },
  {
   "cell_type": "code",
   "execution_count": 52,
   "metadata": {},
   "outputs": [
    {
     "data": {
      "text/html": [
       "<div>\n",
       "<style scoped>\n",
       "    .dataframe tbody tr th:only-of-type {\n",
       "        vertical-align: middle;\n",
       "    }\n",
       "\n",
       "    .dataframe tbody tr th {\n",
       "        vertical-align: top;\n",
       "    }\n",
       "\n",
       "    .dataframe thead th {\n",
       "        text-align: right;\n",
       "    }\n",
       "</style>\n",
       "<table border=\"1\" class=\"dataframe\">\n",
       "  <thead>\n",
       "    <tr style=\"text-align: right;\">\n",
       "      <th>built_1980</th>\n",
       "      <th>before</th>\n",
       "      <th>pct_ev_before</th>\n",
       "      <th>after</th>\n",
       "      <th>pct_ev_after</th>\n",
       "    </tr>\n",
       "    <tr>\n",
       "      <th>ev_type_cat</th>\n",
       "      <th></th>\n",
       "      <th></th>\n",
       "      <th></th>\n",
       "      <th></th>\n",
       "    </tr>\n",
       "  </thead>\n",
       "  <tbody>\n",
       "    <tr>\n",
       "      <th>breach of lease</th>\n",
       "      <td>6432</td>\n",
       "      <td>0.466967</td>\n",
       "      <td>124</td>\n",
       "      <td>0.656085</td>\n",
       "    </tr>\n",
       "    <tr>\n",
       "      <th>no fault</th>\n",
       "      <td>2168</td>\n",
       "      <td>0.157398</td>\n",
       "      <td>3</td>\n",
       "      <td>0.015873</td>\n",
       "    </tr>\n",
       "    <tr>\n",
       "      <th>unknown/Other</th>\n",
       "      <td>5174</td>\n",
       "      <td>0.375635</td>\n",
       "      <td>62</td>\n",
       "      <td>0.328042</td>\n",
       "    </tr>\n",
       "  </tbody>\n",
       "</table>\n",
       "</div>"
      ],
      "text/plain": [
       "built_1980       before  pct_ev_before  after  pct_ev_after\n",
       "ev_type_cat                                                \n",
       "breach of lease    6432       0.466967    124      0.656085\n",
       "no fault           2168       0.157398      3      0.015873\n",
       "unknown/Other      5174       0.375635     62      0.328042"
      ]
     },
     "execution_count": 52,
     "metadata": {},
     "output_type": "execute_result"
    }
   ],
   "source": [
    "cat_counts[['before','pct_ev_before','after','pct_ev_after']]"
   ]
  },
  {
   "cell_type": "code",
   "execution_count": 53,
   "metadata": {},
   "outputs": [
    {
     "data": {
      "text/plain": [
       "13774"
      ]
     },
     "execution_count": 53,
     "metadata": {},
     "output_type": "execute_result"
    }
   ],
   "source": [
    "cat_counts['before'].sum()"
   ]
  },
  {
   "cell_type": "code",
   "execution_count": 54,
   "metadata": {},
   "outputs": [
    {
     "data": {
      "text/plain": [
       "189"
      ]
     },
     "execution_count": 54,
     "metadata": {},
     "output_type": "execute_result"
    }
   ],
   "source": [
    "cat_counts['after'].sum()"
   ]
  },
  {
   "cell_type": "code",
   "execution_count": 55,
   "metadata": {},
   "outputs": [
    {
     "data": {
      "text/plain": [
       "13963"
      ]
     },
     "execution_count": 55,
     "metadata": {},
     "output_type": "execute_result"
    }
   ],
   "source": [
    "13774 + 189"
   ]
  },
  {
   "cell_type": "markdown",
   "metadata": {},
   "source": [
    "#### Table 2"
   ]
  },
  {
   "cell_type": "code",
   "execution_count": 56,
   "metadata": {},
   "outputs": [
    {
     "data": {
      "text/html": [
       "<div>\n",
       "<style scoped>\n",
       "    .dataframe tbody tr th:only-of-type {\n",
       "        vertical-align: middle;\n",
       "    }\n",
       "\n",
       "    .dataframe tbody tr th {\n",
       "        vertical-align: top;\n",
       "    }\n",
       "\n",
       "    .dataframe thead th {\n",
       "        text-align: right;\n",
       "    }\n",
       "</style>\n",
       "<table border=\"1\" class=\"dataframe\">\n",
       "  <thead>\n",
       "    <tr style=\"text-align: right;\">\n",
       "      <th></th>\n",
       "      <th></th>\n",
       "      <th>total_addresses</th>\n",
       "      <th>total_units</th>\n",
       "      <th>mean_units_per_address</th>\n",
       "      <th>total_evictions</th>\n",
       "      <th>mean_any_ev</th>\n",
       "      <th>mean_ev_per_address</th>\n",
       "      <th>mean_ev_per_unit</th>\n",
       "    </tr>\n",
       "    <tr>\n",
       "      <th>any_rc_eligibility</th>\n",
       "      <th>pre_1980</th>\n",
       "      <th></th>\n",
       "      <th></th>\n",
       "      <th></th>\n",
       "      <th></th>\n",
       "      <th></th>\n",
       "      <th></th>\n",
       "      <th></th>\n",
       "    </tr>\n",
       "  </thead>\n",
       "  <tbody>\n",
       "    <tr>\n",
       "      <th rowspan=\"2\" valign=\"top\">0.0</th>\n",
       "      <th>False</th>\n",
       "      <td>70104</td>\n",
       "      <td>331191</td>\n",
       "      <td>4.724281</td>\n",
       "      <td>243</td>\n",
       "      <td>0.002054</td>\n",
       "      <td>0.003466</td>\n",
       "      <td>0.001604</td>\n",
       "    </tr>\n",
       "    <tr>\n",
       "      <th>True</th>\n",
       "      <td>1020259</td>\n",
       "      <td>1445753</td>\n",
       "      <td>1.417045</td>\n",
       "      <td>4993</td>\n",
       "      <td>0.003060</td>\n",
       "      <td>0.004894</td>\n",
       "      <td>0.003940</td>\n",
       "    </tr>\n",
       "    <tr>\n",
       "      <th rowspan=\"2\" valign=\"top\">1.0</th>\n",
       "      <th>False</th>\n",
       "      <td>14132</td>\n",
       "      <td>114759</td>\n",
       "      <td>8.120507</td>\n",
       "      <td>189</td>\n",
       "      <td>0.006369</td>\n",
       "      <td>0.013374</td>\n",
       "      <td>0.005447</td>\n",
       "    </tr>\n",
       "    <tr>\n",
       "      <th>True</th>\n",
       "      <td>330381</td>\n",
       "      <td>1591854</td>\n",
       "      <td>4.818237</td>\n",
       "      <td>13774</td>\n",
       "      <td>0.019375</td>\n",
       "      <td>0.041691</td>\n",
       "      <td>0.013095</td>\n",
       "    </tr>\n",
       "  </tbody>\n",
       "</table>\n",
       "</div>"
      ],
      "text/plain": [
       "                             total_addresses  total_units  \\\n",
       "any_rc_eligibility pre_1980                                 \n",
       "0.0                False               70104       331191   \n",
       "                   True              1020259      1445753   \n",
       "1.0                False               14132       114759   \n",
       "                   True               330381      1591854   \n",
       "\n",
       "                             mean_units_per_address  total_evictions  \\\n",
       "any_rc_eligibility pre_1980                                            \n",
       "0.0                False                   4.724281              243   \n",
       "                   True                    1.417045             4993   \n",
       "1.0                False                   8.120507              189   \n",
       "                   True                    4.818237            13774   \n",
       "\n",
       "                             mean_any_ev  mean_ev_per_address  \\\n",
       "any_rc_eligibility pre_1980                                     \n",
       "0.0                False        0.002054             0.003466   \n",
       "                   True         0.003060             0.004894   \n",
       "1.0                False        0.006369             0.013374   \n",
       "                   True         0.019375             0.041691   \n",
       "\n",
       "                             mean_ev_per_unit  \n",
       "any_rc_eligibility pre_1980                    \n",
       "0.0                False             0.001604  \n",
       "                   True              0.003940  \n",
       "1.0                False             0.005447  \n",
       "                   True              0.013095  "
      ]
     },
     "execution_count": 56,
     "metadata": {},
     "output_type": "execute_result"
    }
   ],
   "source": [
    "mean_diffs = asr[\n",
    "    (asr['total_units'] > 0)].groupby(['any_rc_eligibility', 'pre_1980']).agg(\n",
    "        total_addresses=('index', 'count'),\n",
    "        total_units=('total_units', 'sum'),\n",
    "        mean_units_per_address=('total_units','mean'),\n",
    "        total_evictions=('ev_count', 'sum'),\n",
    "        mean_any_ev=('any_ev', 'mean'),\n",
    "        mean_ev_per_address=('ev_count','mean'),\n",
    "        mean_ev_per_unit=('ev_per_unit','mean'),\n",
    ")\n",
    "\n",
    "# mean_diffs['units_per_address'] = mean_diffs['total_units'] / mean_diffs['total_addresses']\n",
    "# mean_diffs['evictions_per_address'] = mean_diffs['total_evictions'] / mean_diffs['total_addresses']\n",
    "# mean_diffs['evictions_per_unit'] = mean_diffs['total_evictions'] / mean_diffs['total_units']\n",
    "\n",
    "mean_diffs"
   ]
  },
  {
   "cell_type": "code",
   "execution_count": 57,
   "metadata": {},
   "outputs": [],
   "source": [
    "cat_counts['ev_per_unit_before'] = cat_counts['before'] / mean_diffs.loc[1.0, True]['total_units']\n",
    "cat_counts['ev_per_unit_after'] = cat_counts['after'] / mean_diffs.loc[1.0, False]['total_units']"
   ]
  },
  {
   "cell_type": "code",
   "execution_count": 58,
   "metadata": {},
   "outputs": [
    {
     "data": {
      "text/html": [
       "<div>\n",
       "<style scoped>\n",
       "    .dataframe tbody tr th:only-of-type {\n",
       "        vertical-align: middle;\n",
       "    }\n",
       "\n",
       "    .dataframe tbody tr th {\n",
       "        vertical-align: top;\n",
       "    }\n",
       "\n",
       "    .dataframe thead th {\n",
       "        text-align: right;\n",
       "    }\n",
       "</style>\n",
       "<table border=\"1\" class=\"dataframe\">\n",
       "  <thead>\n",
       "    <tr style=\"text-align: right;\">\n",
       "      <th>built_1980</th>\n",
       "      <th>after</th>\n",
       "      <th>before</th>\n",
       "      <th>pct_ev_after</th>\n",
       "      <th>pct_ev_before</th>\n",
       "      <th>ev_per_unit_before</th>\n",
       "      <th>ev_per_unit_after</th>\n",
       "    </tr>\n",
       "    <tr>\n",
       "      <th>ev_type_cat</th>\n",
       "      <th></th>\n",
       "      <th></th>\n",
       "      <th></th>\n",
       "      <th></th>\n",
       "      <th></th>\n",
       "      <th></th>\n",
       "    </tr>\n",
       "  </thead>\n",
       "  <tbody>\n",
       "    <tr>\n",
       "      <th>breach of lease</th>\n",
       "      <td>124</td>\n",
       "      <td>6432</td>\n",
       "      <td>0.656085</td>\n",
       "      <td>0.466967</td>\n",
       "      <td>0.004041</td>\n",
       "      <td>0.001081</td>\n",
       "    </tr>\n",
       "    <tr>\n",
       "      <th>no fault</th>\n",
       "      <td>3</td>\n",
       "      <td>2168</td>\n",
       "      <td>0.015873</td>\n",
       "      <td>0.157398</td>\n",
       "      <td>0.001362</td>\n",
       "      <td>0.000026</td>\n",
       "    </tr>\n",
       "    <tr>\n",
       "      <th>unknown/Other</th>\n",
       "      <td>62</td>\n",
       "      <td>5174</td>\n",
       "      <td>0.328042</td>\n",
       "      <td>0.375635</td>\n",
       "      <td>0.003250</td>\n",
       "      <td>0.000540</td>\n",
       "    </tr>\n",
       "  </tbody>\n",
       "</table>\n",
       "</div>"
      ],
      "text/plain": [
       "built_1980       after  before  pct_ev_after  pct_ev_before  \\\n",
       "ev_type_cat                                                   \n",
       "breach of lease    124    6432      0.656085       0.466967   \n",
       "no fault             3    2168      0.015873       0.157398   \n",
       "unknown/Other       62    5174      0.328042       0.375635   \n",
       "\n",
       "built_1980       ev_per_unit_before  ev_per_unit_after  \n",
       "ev_type_cat                                             \n",
       "breach of lease            0.004041           0.001081  \n",
       "no fault                   0.001362           0.000026  \n",
       "unknown/Other              0.003250           0.000540  "
      ]
     },
     "execution_count": 58,
     "metadata": {},
     "output_type": "execute_result"
    }
   ],
   "source": [
    "cat_counts"
   ]
  },
  {
   "cell_type": "code",
   "execution_count": 62,
   "metadata": {},
   "outputs": [],
   "source": [
    "cat_counts['mean_diff'] = cat_counts['ev_per_unit_before'] - cat_counts['ev_per_unit_after']"
   ]
  },
  {
   "cell_type": "code",
   "execution_count": 63,
   "metadata": {},
   "outputs": [
    {
     "data": {
      "text/html": [
       "<div>\n",
       "<style scoped>\n",
       "    .dataframe tbody tr th:only-of-type {\n",
       "        vertical-align: middle;\n",
       "    }\n",
       "\n",
       "    .dataframe tbody tr th {\n",
       "        vertical-align: top;\n",
       "    }\n",
       "\n",
       "    .dataframe thead th {\n",
       "        text-align: right;\n",
       "    }\n",
       "</style>\n",
       "<table border=\"1\" class=\"dataframe\">\n",
       "  <thead>\n",
       "    <tr style=\"text-align: right;\">\n",
       "      <th>built_1980</th>\n",
       "      <th>after</th>\n",
       "      <th>before</th>\n",
       "      <th>pct_ev_after</th>\n",
       "      <th>pct_ev_before</th>\n",
       "      <th>ev_per_unit_before</th>\n",
       "      <th>ev_per_unit_after</th>\n",
       "      <th>mean_diff</th>\n",
       "    </tr>\n",
       "    <tr>\n",
       "      <th>ev_type_cat</th>\n",
       "      <th></th>\n",
       "      <th></th>\n",
       "      <th></th>\n",
       "      <th></th>\n",
       "      <th></th>\n",
       "      <th></th>\n",
       "      <th></th>\n",
       "    </tr>\n",
       "  </thead>\n",
       "  <tbody>\n",
       "    <tr>\n",
       "      <th>breach of lease</th>\n",
       "      <td>124</td>\n",
       "      <td>6432</td>\n",
       "      <td>0.656085</td>\n",
       "      <td>0.466967</td>\n",
       "      <td>0.004041</td>\n",
       "      <td>0.001081</td>\n",
       "      <td>0.002960</td>\n",
       "    </tr>\n",
       "    <tr>\n",
       "      <th>no fault</th>\n",
       "      <td>3</td>\n",
       "      <td>2168</td>\n",
       "      <td>0.015873</td>\n",
       "      <td>0.157398</td>\n",
       "      <td>0.001362</td>\n",
       "      <td>0.000026</td>\n",
       "      <td>0.001336</td>\n",
       "    </tr>\n",
       "    <tr>\n",
       "      <th>unknown/Other</th>\n",
       "      <td>62</td>\n",
       "      <td>5174</td>\n",
       "      <td>0.328042</td>\n",
       "      <td>0.375635</td>\n",
       "      <td>0.003250</td>\n",
       "      <td>0.000540</td>\n",
       "      <td>0.002710</td>\n",
       "    </tr>\n",
       "  </tbody>\n",
       "</table>\n",
       "</div>"
      ],
      "text/plain": [
       "built_1980       after  before  pct_ev_after  pct_ev_before  \\\n",
       "ev_type_cat                                                   \n",
       "breach of lease    124    6432      0.656085       0.466967   \n",
       "no fault             3    2168      0.015873       0.157398   \n",
       "unknown/Other       62    5174      0.328042       0.375635   \n",
       "\n",
       "built_1980       ev_per_unit_before  ev_per_unit_after  mean_diff  \n",
       "ev_type_cat                                                        \n",
       "breach of lease            0.004041           0.001081   0.002960  \n",
       "no fault                   0.001362           0.000026   0.001336  \n",
       "unknown/Other              0.003250           0.000540   0.002710  "
      ]
     },
     "execution_count": 63,
     "metadata": {},
     "output_type": "execute_result"
    }
   ],
   "source": [
    "cat_counts"
   ]
  },
  {
   "cell_type": "markdown",
   "metadata": {},
   "source": [
    "#### Fig 1"
   ]
  },
  {
   "cell_type": "code",
   "execution_count": 254,
   "metadata": {
    "scrolled": false
   },
   "outputs": [
    {
     "data": {
      "image/png": "[encoded data removed]",
      "text/plain": [
       "<Figure size 720x360 with 1 Axes>"
      ]
     },
     "metadata": {
      "needs_background": "light"
     },
     "output_type": "display_data"
    }
   ],
   "source": [
    "units_by_yr = asr[\n",
    "    (asr['any_rc_eligibility'] == 1) &\n",
    "    (asr['year_built_max'] > 1900) &\n",
    "    (asr['year_built_max'] < 2100)].groupby('year_built_max').agg({'total_units': 'sum'}).reset_index()\n",
    "\n",
    "fig, ax = plt.subplots(figsize=(10,5))\n",
    "plt.rcParams[\"font.family\"] = 'times new roman'\n",
    "ax.scatter(units_by_yr['year_built_max'], units_by_yr['total_units'], s=25, facecolors='none', edgecolors='r')\n",
    "ax.plot(units_by_yr['year_built_max'], units_by_yr['total_units'], lw=1, c='k', )\n",
    "\n",
    "_ = ax.set_xlabel(\"year built\", fontsize=12)\n",
    "_ = ax.set_ylabel(\"# new units\", fontsize=12)\n",
    "# _ = ax.set_title(\"SF New Construction: Rent-control eligible use-codes\", fontsize=20)\n",
    "\n",
    "plt.savefig('../../../2021_02_summer/evic_paper/fig_1.jpg', dpi=300, bbox_inches='tight')"
   ]
  },
  {
   "cell_type": "markdown",
   "metadata": {},
   "source": [
    "#### Fig 2"
   ]
  },
  {
   "cell_type": "code",
   "execution_count": 65,
   "metadata": {},
   "outputs": [],
   "source": [
    "rc_pop = asr[\n",
    "    (asr['any_rc_eligibility'] == 1) & (asr['year_built_max'] > 1953) &\n",
    "    (asr['year_built_max'] < 2007) & (asr['total_units'] > 0)]\n",
    "\n",
    "yr_vs_ev = rc_pop.groupby('year_built_max').agg({\n",
    "    'ev_per_unit': 'mean',\n",
    "}).reset_index()\n",
    "\n",
    "yr_vs_ev1 = yr_vs_ev[(yr_vs_ev['year_built_max'] < 1980) &\n",
    "                     (yr_vs_ev['year_built_max'] >= 1953)]\n",
    "yr_vs_ev2 = yr_vs_ev[(yr_vs_ev['year_built_max'] >= 1980) &\n",
    "                     (yr_vs_ev['year_built_max'] <= 2007)]"
   ]
  },
  {
   "cell_type": "code",
   "execution_count": 66,
   "metadata": {},
   "outputs": [
    {
     "data": {
      "text/plain": [
       "(54388, 33)"
      ]
     },
     "execution_count": 66,
     "metadata": {},
     "output_type": "execute_result"
    }
   ],
   "source": [
    "rc_pop.shape"
   ]
  },
  {
   "cell_type": "code",
   "execution_count": 253,
   "metadata": {},
   "outputs": [
    {
     "data": {
      "image/png": "[encoded data removed]",
      "text/plain": [
       "<Figure size 720x360 with 1 Axes>"
      ]
     },
     "metadata": {
      "needs_background": "light"
     },
     "output_type": "display_data"
    }
   ],
   "source": [
    "fig, ax = plt.subplots(figsize=(10,5))\n",
    "sns.set_style({'font.family': 'Times New Roman'})\n",
    "sns.regplot(\n",
    "    x='year_built_max', y='ev_per_unit', data=yr_vs_ev1, ax=ax, truncate=True,\n",
    "    label='rent controlled', line_kws={'color':'k', 'lw':1, 'label':'linear fit (c.i. = 95%)', 'zorder': 0})\n",
    "sns.regplot(\n",
    "    x='year_built_max', y='ev_per_unit', data=yr_vs_ev2, ax=ax, truncate=True,\n",
    "    label='non-rent controlled', line_kws={'color':'k', 'lw':'1',  'zorder': 0})\n",
    "ax.axvline(1979.5, ls=':', c='r', label='rent control built-year\\n eligibility threshold')\n",
    "ax.legend()\n",
    "_ = ax.set_xlabel(\"property built-year\", fontsize=12)\n",
    "_ = ax.set_ylabel(\"avg. evictions per unit per year\", fontsize=12,\n",
    "#                   rotation=0,\n",
    "#                   labelpad=70\n",
    "                 )\n",
    "# _ = ax.set_title(\"SF Eviction Rates (2007-2016)\\nfor Multi-family Residential Addresses\", fontsize=20)\n",
    "ax.set_ylim((-0.005, 0.05))\n",
    "ax.set_xlim((1952, 2008))\n",
    "# ax.annotate('rent control \\nbuilt-year threshold', xy=(1979, 0.04),  xycoords='data',\n",
    "#             xytext=(0.3, 0.8), textcoords='axes fraction',\n",
    "#             arrowprops=dict(facecolor='black',headlength=10, width=0.5, headwidth=10),\n",
    "#             horizontalalignment='center', verticalalignment='center', fontsize=12\n",
    "#             )\n",
    "plt.savefig('../../../2021_02_summer/evic_paper/fig_2.jpg', dpi=300, bbox_inches='tight')"
   ]
  },
  {
   "cell_type": "markdown",
   "metadata": {},
   "source": [
    "#### Fig 3"
   ]
  },
  {
   "cell_type": "code",
   "execution_count": 73,
   "metadata": {},
   "outputs": [],
   "source": [
    "sf = gpd.read_file('../../../2021_02_summer/evic_paper/sf_boundary.shp')"
   ]
  },
  {
   "cell_type": "code",
   "execution_count": 69,
   "metadata": {},
   "outputs": [],
   "source": [
    "ev['geometry'] = ev.apply(lambda x: Point(x['longitude_asr'], x['latitude_asr']), axis=1)"
   ]
  },
  {
   "cell_type": "code",
   "execution_count": 94,
   "metadata": {},
   "outputs": [],
   "source": [
    "ev_gpd = gpd.GeoDataFrame(ev, geometry='geometry')"
   ]
  },
  {
   "cell_type": "code",
   "execution_count": 95,
   "metadata": {},
   "outputs": [],
   "source": [
    "ev_gpd.crs = 'EPSG:4326'"
   ]
  },
  {
   "cell_type": "code",
   "execution_count": 96,
   "metadata": {},
   "outputs": [],
   "source": [
    "ev_gpd = ev_gpd.to_crs(sf.crs)"
   ]
  },
  {
   "cell_type": "code",
   "execution_count": 97,
   "metadata": {},
   "outputs": [],
   "source": [
    "ev_gpd['proj_x'] = ev_gpd.geometry.x\n",
    "ev_gpd['proj_y'] = ev_gpd.geometry.y"
   ]
  },
  {
   "cell_type": "code",
   "execution_count": 112,
   "metadata": {},
   "outputs": [
    {
     "data": {
      "text/plain": [
       "<AxesSubplot:>"
      ]
     },
     "execution_count": 112,
     "metadata": {},
     "output_type": "execute_result"
    },
    {
     "data": {
      "image/png": "[encoded data removed]",
      "text/plain": [
       "<Figure size 504x504 with 1 Axes>"
      ]
     },
     "metadata": {
      "needs_background": "light"
     },
     "output_type": "display_data"
    }
   ],
   "source": [
    "fig, ax = plt.subplots(figsize=(7,7))\n",
    "ev_gpd.plot(ax=ax, facecolor='r', edgecolor='None', alpha=0.1, marker='.')\n",
    "sf.plot(facecolor='None', edgecolor='k', ax=ax)"
   ]
  },
  {
   "cell_type": "code",
   "execution_count": 250,
   "metadata": {},
   "outputs": [
    {
     "data": {
      "image/png": "[encoded data removed]",
      "text/plain": [
       "<Figure size 720x720 with 2 Axes>"
      ]
     },
     "metadata": {
      "needs_background": "light"
     },
     "output_type": "display_data"
    }
   ],
   "source": [
    "fig, ax = plt.subplots(figsize=(10,10))\n",
    "sf.plot(facecolor='None', edgecolor='k', ax=ax, lw=0.5, alpha=0.8)\n",
    "hb = ax.hexbin(x=ev_df['proj_x'], y=ev_df['proj_y'], mincnt=1,\n",
    "               bins=[0,20,40,60,80,100,120,140,160,180,200],\n",
    "               gridsize=18)\n",
    "cb = fig.colorbar(hb, ax=ax, fraction=0.038,pad=0.01)\n",
    "cb.set_label('count', fontsize=12)\n",
    "cb.set_ticks([1,2.25,3.5,4.75,6,7.25,8.5,9.75,11])\n",
    "cb.set_ticklabels([1,25, 50,75,100,125,150,175,'> 200+'])\n",
    "ax.axis('off')\n",
    "plt.savefig('../../../2021_02_summer/evic_paper/fig_3.jpg', dpi=300, bbox_inches='tight')"
   ]
  },
  {
   "cell_type": "markdown",
   "metadata": {},
   "source": [
    "#### Appendix A"
   ]
  },
  {
   "cell_type": "code",
   "execution_count": 315,
   "metadata": {},
   "outputs": [],
   "source": [
    "ev.loc[pd.isnull(ev['type']), 'type'] = 'unknown'\n",
    "type_counts = ev.groupby(['built_1980', 'type']).agg(count=('index_ev', 'nunique')).reset_index()\n",
    "pre_sums = type_counts.groupby('built_1980')['count'].sum()\n",
    "\n",
    "type_counts = type_counts.pivot(index='type', columns='built_1980', values='count')\n",
    "type_counts['pct_after'] = np.round(type_counts['after'] / pre_sums['after'] * 100, 1)\n",
    "type_counts['pct_before'] = np.round(type_counts['before'] / pre_sums['before'] * 100, 1)\n",
    "type_counts.reset_index(inplace=True)\n",
    "type_counts.set_index('type', inplace=True, drop=True)"
   ]
  },
  {
   "cell_type": "code",
   "execution_count": 316,
   "metadata": {},
   "outputs": [],
   "source": [
    "type_counts = type_counts.sort_values('pct_before', ascending=False)[['before','pct_before','after','pct_after']]"
   ]
  },
  {
   "cell_type": "code",
   "execution_count": 317,
   "metadata": {},
   "outputs": [],
   "source": [
    "type_counts = type_counts.astype(str)"
   ]
  },
  {
   "cell_type": "code",
   "execution_count": 318,
   "metadata": {},
   "outputs": [],
   "source": [
    "type_counts['after'] = type_counts['after'].str.split('.').str[0]\n",
    "type_counts['before'] = type_counts['before'].str.split('.').str[0]\n",
    "type_counts = type_counts.replace('nan', '--', regex=True)"
   ]
  },
  {
   "cell_type": "code",
   "execution_count": 319,
   "metadata": {},
   "outputs": [
    {
     "data": {
      "text/html": [
       "<div>\n",
       "<style scoped>\n",
       "    .dataframe tbody tr th:only-of-type {\n",
       "        vertical-align: middle;\n",
       "    }\n",
       "\n",
       "    .dataframe tbody tr th {\n",
       "        vertical-align: top;\n",
       "    }\n",
       "\n",
       "    .dataframe thead th {\n",
       "        text-align: right;\n",
       "    }\n",
       "</style>\n",
       "<table border=\"1\" class=\"dataframe\">\n",
       "  <thead>\n",
       "    <tr style=\"text-align: right;\">\n",
       "      <th>built_1980</th>\n",
       "      <th>before</th>\n",
       "      <th>pct_before</th>\n",
       "      <th>after</th>\n",
       "      <th>pct_after</th>\n",
       "    </tr>\n",
       "    <tr>\n",
       "      <th>type</th>\n",
       "      <th></th>\n",
       "      <th></th>\n",
       "      <th></th>\n",
       "      <th></th>\n",
       "    </tr>\n",
       "  </thead>\n",
       "  <tbody>\n",
       "    <tr>\n",
       "      <th>unknown</th>\n",
       "      <td>5066</td>\n",
       "      <td>36.8</td>\n",
       "      <td>44</td>\n",
       "      <td>23.3</td>\n",
       "    </tr>\n",
       "    <tr>\n",
       "      <th>Breach of Lease Agreement</th>\n",
       "      <td>3031</td>\n",
       "      <td>22.0</td>\n",
       "      <td>66</td>\n",
       "      <td>34.9</td>\n",
       "    </tr>\n",
       "    <tr>\n",
       "      <th>Nuisance</th>\n",
       "      <td>1621</td>\n",
       "      <td>11.8</td>\n",
       "      <td>28</td>\n",
       "      <td>14.8</td>\n",
       "    </tr>\n",
       "    <tr>\n",
       "      <th>OMI</th>\n",
       "      <td>1177</td>\n",
       "      <td>8.5</td>\n",
       "      <td>3</td>\n",
       "      <td>1.6</td>\n",
       "    </tr>\n",
       "    <tr>\n",
       "      <th>Capital Improvement</th>\n",
       "      <td>518</td>\n",
       "      <td>3.8</td>\n",
       "      <td>--</td>\n",
       "      <td>--</td>\n",
       "    </tr>\n",
       "    <tr>\n",
       "      <th>Non-payment of Rent</th>\n",
       "      <td>487</td>\n",
       "      <td>3.5</td>\n",
       "      <td>11</td>\n",
       "      <td>5.8</td>\n",
       "    </tr>\n",
       "    <tr>\n",
       "      <th>Habitual Late Payment of Rent</th>\n",
       "      <td>399</td>\n",
       "      <td>2.9</td>\n",
       "      <td>4</td>\n",
       "      <td>2.1</td>\n",
       "    </tr>\n",
       "    <tr>\n",
       "      <th>ELLIS</th>\n",
       "      <td>346</td>\n",
       "      <td>2.5</td>\n",
       "      <td>--</td>\n",
       "      <td>--</td>\n",
       "    </tr>\n",
       "    <tr>\n",
       "      <th>Illegal Use of Unit</th>\n",
       "      <td>199</td>\n",
       "      <td>1.4</td>\n",
       "      <td>1</td>\n",
       "      <td>0.5</td>\n",
       "    </tr>\n",
       "    <tr>\n",
       "      <th>Breach of Lease Agreement Nuisance</th>\n",
       "      <td>182</td>\n",
       "      <td>1.3</td>\n",
       "      <td>3</td>\n",
       "      <td>1.6</td>\n",
       "    </tr>\n",
       "    <tr>\n",
       "      <th>Roommate Living in Same Unit</th>\n",
       "      <td>119</td>\n",
       "      <td>0.9</td>\n",
       "      <td>3</td>\n",
       "      <td>1.6</td>\n",
       "    </tr>\n",
       "    <tr>\n",
       "      <th>Unapproved Subtenant</th>\n",
       "      <td>110</td>\n",
       "      <td>0.8</td>\n",
       "      <td>1</td>\n",
       "      <td>0.5</td>\n",
       "    </tr>\n",
       "    <tr>\n",
       "      <th>Other</th>\n",
       "      <td>108</td>\n",
       "      <td>0.8</td>\n",
       "      <td>18</td>\n",
       "      <td>9.5</td>\n",
       "    </tr>\n",
       "    <tr>\n",
       "      <th>Demolition</th>\n",
       "      <td>94</td>\n",
       "      <td>0.7</td>\n",
       "      <td>--</td>\n",
       "      <td>--</td>\n",
       "    </tr>\n",
       "    <tr>\n",
       "      <th>Denial of Access to Unit</th>\n",
       "      <td>54</td>\n",
       "      <td>0.4</td>\n",
       "      <td>2</td>\n",
       "      <td>1.1</td>\n",
       "    </tr>\n",
       "    <tr>\n",
       "      <th>Nuisance Illegal Use of Unit</th>\n",
       "      <td>46</td>\n",
       "      <td>0.3</td>\n",
       "      <td>--</td>\n",
       "      <td>--</td>\n",
       "    </tr>\n",
       "    <tr>\n",
       "      <th>Breach of Lease Agreement Illegal Use of Unit</th>\n",
       "      <td>34</td>\n",
       "      <td>0.2</td>\n",
       "      <td>--</td>\n",
       "      <td>--</td>\n",
       "    </tr>\n",
       "    <tr>\n",
       "      <th>Breach of Lease Agreement Nuisance Illegal Use of Unit</th>\n",
       "      <td>24</td>\n",
       "      <td>0.2</td>\n",
       "      <td>--</td>\n",
       "      <td>--</td>\n",
       "    </tr>\n",
       "    <tr>\n",
       "      <th>Non-payment of Rent Breach of Lease Agreement</th>\n",
       "      <td>14</td>\n",
       "      <td>0.1</td>\n",
       "      <td>--</td>\n",
       "      <td>--</td>\n",
       "    </tr>\n",
       "    <tr>\n",
       "      <th>Failure to Sign Lease Renewal</th>\n",
       "      <td>19</td>\n",
       "      <td>0.1</td>\n",
       "      <td>--</td>\n",
       "      <td>--</td>\n",
       "    </tr>\n",
       "    <tr>\n",
       "      <th>Denial of Access to Unit Breach of Lease Agreement</th>\n",
       "      <td>10</td>\n",
       "      <td>0.1</td>\n",
       "      <td>--</td>\n",
       "      <td>--</td>\n",
       "    </tr>\n",
       "    <tr>\n",
       "      <th>Condo Conversion</th>\n",
       "      <td>17</td>\n",
       "      <td>0.1</td>\n",
       "      <td>--</td>\n",
       "      <td>--</td>\n",
       "    </tr>\n",
       "    <tr>\n",
       "      <th>Habitual Late Payment of Rent Breach of Lease Agreement</th>\n",
       "      <td>11</td>\n",
       "      <td>0.1</td>\n",
       "      <td>--</td>\n",
       "      <td>--</td>\n",
       "    </tr>\n",
       "    <tr>\n",
       "      <th>Non-payment of Rent Habitual Late Payment of Rent</th>\n",
       "      <td>10</td>\n",
       "      <td>0.1</td>\n",
       "      <td>1</td>\n",
       "      <td>0.5</td>\n",
       "    </tr>\n",
       "    <tr>\n",
       "      <th>Unapproved Subtenant Breach of Lease Agreement</th>\n",
       "      <td>8</td>\n",
       "      <td>0.1</td>\n",
       "      <td>--</td>\n",
       "      <td>--</td>\n",
       "    </tr>\n",
       "    <tr>\n",
       "      <th>Substantial Rehabilitation</th>\n",
       "      <td>7</td>\n",
       "      <td>0.1</td>\n",
       "      <td>--</td>\n",
       "      <td>--</td>\n",
       "    </tr>\n",
       "    <tr>\n",
       "      <th>Breach of Lease Agreement Roommate Living in Same Unit</th>\n",
       "      <td>1</td>\n",
       "      <td>0.0</td>\n",
       "      <td>--</td>\n",
       "      <td>--</td>\n",
       "    </tr>\n",
       "    <tr>\n",
       "      <th>Breach of Lease Agreement Other</th>\n",
       "      <td>5</td>\n",
       "      <td>0.0</td>\n",
       "      <td>1</td>\n",
       "      <td>0.5</td>\n",
       "    </tr>\n",
       "    <tr>\n",
       "      <th>Roommate Living in Same Unit Nuisance</th>\n",
       "      <td>6</td>\n",
       "      <td>0.0</td>\n",
       "      <td>--</td>\n",
       "      <td>--</td>\n",
       "    </tr>\n",
       "    <tr>\n",
       "      <th>Development Agreement</th>\n",
       "      <td>1</td>\n",
       "      <td>0.0</td>\n",
       "      <td>--</td>\n",
       "      <td>--</td>\n",
       "    </tr>\n",
       "    <tr>\n",
       "      <th>Denial of Access to Unit Breach of Lease Agreement Nuisance</th>\n",
       "      <td>4</td>\n",
       "      <td>0.0</td>\n",
       "      <td>--</td>\n",
       "      <td>--</td>\n",
       "    </tr>\n",
       "    <tr>\n",
       "      <th>Unapproved Subtenant Breach of Lease Agreement Nuisance</th>\n",
       "      <td>2</td>\n",
       "      <td>0.0</td>\n",
       "      <td>--</td>\n",
       "      <td>--</td>\n",
       "    </tr>\n",
       "    <tr>\n",
       "      <th>Unapproved Subtenant Breach of Lease Agreement Nuisance Illegal Use of Unit</th>\n",
       "      <td>1</td>\n",
       "      <td>0.0</td>\n",
       "      <td>--</td>\n",
       "      <td>--</td>\n",
       "    </tr>\n",
       "    <tr>\n",
       "      <th>Unapproved Subtenant Illegal Use of Unit</th>\n",
       "      <td>1</td>\n",
       "      <td>0.0</td>\n",
       "      <td>--</td>\n",
       "      <td>--</td>\n",
       "    </tr>\n",
       "    <tr>\n",
       "      <th>Unapproved Subtenant Nuisance</th>\n",
       "      <td>1</td>\n",
       "      <td>0.0</td>\n",
       "      <td>--</td>\n",
       "      <td>--</td>\n",
       "    </tr>\n",
       "    <tr>\n",
       "      <th>Unapproved Subtenant Nuisance Illegal Use of Unit</th>\n",
       "      <td>2</td>\n",
       "      <td>0.0</td>\n",
       "      <td>--</td>\n",
       "      <td>--</td>\n",
       "    </tr>\n",
       "    <tr>\n",
       "      <th>Nuisance Capital Improvement</th>\n",
       "      <td>1</td>\n",
       "      <td>0.0</td>\n",
       "      <td>--</td>\n",
       "      <td>--</td>\n",
       "    </tr>\n",
       "    <tr>\n",
       "      <th>Non-payment of Rent Nuisance</th>\n",
       "      <td>2</td>\n",
       "      <td>0.0</td>\n",
       "      <td>--</td>\n",
       "      <td>--</td>\n",
       "    </tr>\n",
       "    <tr>\n",
       "      <th>Non-payment of Rent Unapproved Subtenant</th>\n",
       "      <td>1</td>\n",
       "      <td>0.0</td>\n",
       "      <td>--</td>\n",
       "      <td>--</td>\n",
       "    </tr>\n",
       "    <tr>\n",
       "      <th>Non-payment of Rent Other</th>\n",
       "      <td>1</td>\n",
       "      <td>0.0</td>\n",
       "      <td>--</td>\n",
       "      <td>--</td>\n",
       "    </tr>\n",
       "    <tr>\n",
       "      <th>Denial of Access to Unit Other</th>\n",
       "      <td>2</td>\n",
       "      <td>0.0</td>\n",
       "      <td>--</td>\n",
       "      <td>--</td>\n",
       "    </tr>\n",
       "    <tr>\n",
       "      <th>Non-payment of Rent Habitual Late Payment of Rent Nuisance</th>\n",
       "      <td>1</td>\n",
       "      <td>0.0</td>\n",
       "      <td>--</td>\n",
       "      <td>--</td>\n",
       "    </tr>\n",
       "    <tr>\n",
       "      <th>Non-payment of Rent Habitual Late Payment of Rent Breach of Lease Agreement Nuisance</th>\n",
       "      <td>1</td>\n",
       "      <td>0.0</td>\n",
       "      <td>--</td>\n",
       "      <td>--</td>\n",
       "    </tr>\n",
       "    <tr>\n",
       "      <th>Non-payment of Rent Denial of Access to Unit</th>\n",
       "      <td>1</td>\n",
       "      <td>0.0</td>\n",
       "      <td>--</td>\n",
       "      <td>--</td>\n",
       "    </tr>\n",
       "    <tr>\n",
       "      <th>Non-payment of Rent Breach of Lease Agreement Nuisance</th>\n",
       "      <td>1</td>\n",
       "      <td>0.0</td>\n",
       "      <td>--</td>\n",
       "      <td>--</td>\n",
       "    </tr>\n",
       "    <tr>\n",
       "      <th>Denial of Access to Unit Breach of Lease Agreement Nuisance Illegal Use of Unit</th>\n",
       "      <td>3</td>\n",
       "      <td>0.0</td>\n",
       "      <td>--</td>\n",
       "      <td>--</td>\n",
       "    </tr>\n",
       "    <tr>\n",
       "      <th>Breach of Lease Agreement Failure to Sign Lease Renewal</th>\n",
       "      <td>3</td>\n",
       "      <td>0.0</td>\n",
       "      <td>--</td>\n",
       "      <td>--</td>\n",
       "    </tr>\n",
       "    <tr>\n",
       "      <th>Denial of Access to Unit Breach of Lease Agreement Other</th>\n",
       "      <td>1</td>\n",
       "      <td>0.0</td>\n",
       "      <td>--</td>\n",
       "      <td>--</td>\n",
       "    </tr>\n",
       "    <tr>\n",
       "      <th>Habitual Late Payment of Rent Nuisance</th>\n",
       "      <td>4</td>\n",
       "      <td>0.0</td>\n",
       "      <td>--</td>\n",
       "      <td>--</td>\n",
       "    </tr>\n",
       "    <tr>\n",
       "      <th>Habitual Late Payment of Rent Breach of Lease Agreement Nuisance</th>\n",
       "      <td>6</td>\n",
       "      <td>0.0</td>\n",
       "      <td>--</td>\n",
       "      <td>--</td>\n",
       "    </tr>\n",
       "    <tr>\n",
       "      <th>Habitual Late Payment of Rent Breach of Lease Agreement Failure to Sign Lease Renewal</th>\n",
       "      <td>1</td>\n",
       "      <td>0.0</td>\n",
       "      <td>--</td>\n",
       "      <td>--</td>\n",
       "    </tr>\n",
       "    <tr>\n",
       "      <th>Denial of Access to Unit Nuisance</th>\n",
       "      <td>2</td>\n",
       "      <td>0.0</td>\n",
       "      <td>--</td>\n",
       "      <td>--</td>\n",
       "    </tr>\n",
       "    <tr>\n",
       "      <th>Good Samaritan Tenancy Ends</th>\n",
       "      <td>2</td>\n",
       "      <td>0.0</td>\n",
       "      <td>--</td>\n",
       "      <td>--</td>\n",
       "    </tr>\n",
       "    <tr>\n",
       "      <th>Lead Remediation</th>\n",
       "      <td>6</td>\n",
       "      <td>0.0</td>\n",
       "      <td>--</td>\n",
       "      <td>--</td>\n",
       "    </tr>\n",
       "    <tr>\n",
       "      <th>Habitual Late Payment of Rent Other</th>\n",
       "      <td>--</td>\n",
       "      <td>--</td>\n",
       "      <td>1</td>\n",
       "      <td>0.5</td>\n",
       "    </tr>\n",
       "    <tr>\n",
       "      <th>Habitual Late Payment of Rent Roommate Living in Same Unit Nuisance</th>\n",
       "      <td>--</td>\n",
       "      <td>--</td>\n",
       "      <td>1</td>\n",
       "      <td>0.5</td>\n",
       "    </tr>\n",
       "    <tr>\n",
       "      <th>Nuisance Other</th>\n",
       "      <td>--</td>\n",
       "      <td>--</td>\n",
       "      <td>1</td>\n",
       "      <td>0.5</td>\n",
       "    </tr>\n",
       "  </tbody>\n",
       "</table>\n",
       "</div>"
      ],
      "text/plain": [
       "built_1980                                         before pct_before after  \\\n",
       "type                                                                         \n",
       "unknown                                              5066       36.8    44   \n",
       "Breach of Lease Agreement                            3031       22.0    66   \n",
       "Nuisance                                             1621       11.8    28   \n",
       "OMI                                                  1177        8.5     3   \n",
       "Capital Improvement                                   518        3.8    --   \n",
       "Non-payment of Rent                                   487        3.5    11   \n",
       "Habitual Late Payment of Rent                         399        2.9     4   \n",
       "ELLIS                                                 346        2.5    --   \n",
       "Illegal Use of Unit                                   199        1.4     1   \n",
       "Breach of Lease Agreement Nuisance                    182        1.3     3   \n",
       "Roommate Living in Same Unit                          119        0.9     3   \n",
       "Unapproved Subtenant                                  110        0.8     1   \n",
       "Other                                                 108        0.8    18   \n",
       "Demolition                                             94        0.7    --   \n",
       "Denial of Access to Unit                               54        0.4     2   \n",
       "Nuisance Illegal Use of Unit                           46        0.3    --   \n",
       "Breach of Lease Agreement Illegal Use of Unit          34        0.2    --   \n",
       "Breach of Lease Agreement Nuisance Illegal Use ...     24        0.2    --   \n",
       "Non-payment of Rent Breach of Lease Agreement          14        0.1    --   \n",
       "Failure to Sign Lease Renewal                          19        0.1    --   \n",
       "Denial of Access to Unit Breach of Lease Agreement     10        0.1    --   \n",
       "Condo Conversion                                       17        0.1    --   \n",
       "Habitual Late Payment of Rent Breach of Lease A...     11        0.1    --   \n",
       "Non-payment of Rent Habitual Late Payment of Rent      10        0.1     1   \n",
       "Unapproved Subtenant Breach of Lease Agreement          8        0.1    --   \n",
       "Substantial Rehabilitation                              7        0.1    --   \n",
       "Breach of Lease Agreement Roommate Living in Sa...      1        0.0    --   \n",
       "Breach of Lease Agreement Other                         5        0.0     1   \n",
       "Roommate Living in Same Unit Nuisance                   6        0.0    --   \n",
       "Development Agreement                                   1        0.0    --   \n",
       "Denial of Access to Unit Breach of Lease Agreem...      4        0.0    --   \n",
       "Unapproved Subtenant Breach of Lease Agreement ...      2        0.0    --   \n",
       "Unapproved Subtenant Breach of Lease Agreement ...      1        0.0    --   \n",
       "Unapproved Subtenant Illegal Use of Unit                1        0.0    --   \n",
       "Unapproved Subtenant Nuisance                           1        0.0    --   \n",
       "Unapproved Subtenant Nuisance Illegal Use of Unit       2        0.0    --   \n",
       "Nuisance Capital Improvement                            1        0.0    --   \n",
       "Non-payment of Rent Nuisance                            2        0.0    --   \n",
       "Non-payment of Rent Unapproved Subtenant                1        0.0    --   \n",
       "Non-payment of Rent Other                               1        0.0    --   \n",
       "Denial of Access to Unit Other                          2        0.0    --   \n",
       "Non-payment of Rent Habitual Late Payment of Re...      1        0.0    --   \n",
       "Non-payment of Rent Habitual Late Payment of Re...      1        0.0    --   \n",
       "Non-payment of Rent Denial of Access to Unit            1        0.0    --   \n",
       "Non-payment of Rent Breach of Lease Agreement N...      1        0.0    --   \n",
       "Denial of Access to Unit Breach of Lease Agreem...      3        0.0    --   \n",
       "Breach of Lease Agreement Failure to Sign Lease...      3        0.0    --   \n",
       "Denial of Access to Unit Breach of Lease Agreem...      1        0.0    --   \n",
       "Habitual Late Payment of Rent Nuisance                  4        0.0    --   \n",
       "Habitual Late Payment of Rent Breach of Lease A...      6        0.0    --   \n",
       "Habitual Late Payment of Rent Breach of Lease A...      1        0.0    --   \n",
       "Denial of Access to Unit Nuisance                       2        0.0    --   \n",
       "Good Samaritan Tenancy Ends                             2        0.0    --   \n",
       "Lead Remediation                                        6        0.0    --   \n",
       "Habitual Late Payment of Rent Other                    --         --     1   \n",
       "Habitual Late Payment of Rent Roommate Living i...     --         --     1   \n",
       "Nuisance Other                                         --         --     1   \n",
       "\n",
       "built_1980                                         pct_after  \n",
       "type                                                          \n",
       "unknown                                                 23.3  \n",
       "Breach of Lease Agreement                               34.9  \n",
       "Nuisance                                                14.8  \n",
       "OMI                                                      1.6  \n",
       "Capital Improvement                                       --  \n",
       "Non-payment of Rent                                      5.8  \n",
       "Habitual Late Payment of Rent                            2.1  \n",
       "ELLIS                                                     --  \n",
       "Illegal Use of Unit                                      0.5  \n",
       "Breach of Lease Agreement Nuisance                       1.6  \n",
       "Roommate Living in Same Unit                             1.6  \n",
       "Unapproved Subtenant                                     0.5  \n",
       "Other                                                    9.5  \n",
       "Demolition                                                --  \n",
       "Denial of Access to Unit                                 1.1  \n",
       "Nuisance Illegal Use of Unit                              --  \n",
       "Breach of Lease Agreement Illegal Use of Unit             --  \n",
       "Breach of Lease Agreement Nuisance Illegal Use ...        --  \n",
       "Non-payment of Rent Breach of Lease Agreement             --  \n",
       "Failure to Sign Lease Renewal                             --  \n",
       "Denial of Access to Unit Breach of Lease Agreement        --  \n",
       "Condo Conversion                                          --  \n",
       "Habitual Late Payment of Rent Breach of Lease A...        --  \n",
       "Non-payment of Rent Habitual Late Payment of Rent        0.5  \n",
       "Unapproved Subtenant Breach of Lease Agreement            --  \n",
       "Substantial Rehabilitation                                --  \n",
       "Breach of Lease Agreement Roommate Living in Sa...        --  \n",
       "Breach of Lease Agreement Other                          0.5  \n",
       "Roommate Living in Same Unit Nuisance                     --  \n",
       "Development Agreement                                     --  \n",
       "Denial of Access to Unit Breach of Lease Agreem...        --  \n",
       "Unapproved Subtenant Breach of Lease Agreement ...        --  \n",
       "Unapproved Subtenant Breach of Lease Agreement ...        --  \n",
       "Unapproved Subtenant Illegal Use of Unit                  --  \n",
       "Unapproved Subtenant Nuisance                             --  \n",
       "Unapproved Subtenant Nuisance Illegal Use of Unit         --  \n",
       "Nuisance Capital Improvement                              --  \n",
       "Non-payment of Rent Nuisance                              --  \n",
       "Non-payment of Rent Unapproved Subtenant                  --  \n",
       "Non-payment of Rent Other                                 --  \n",
       "Denial of Access to Unit Other                            --  \n",
       "Non-payment of Rent Habitual Late Payment of Re...        --  \n",
       "Non-payment of Rent Habitual Late Payment of Re...        --  \n",
       "Non-payment of Rent Denial of Access to Unit              --  \n",
       "Non-payment of Rent Breach of Lease Agreement N...        --  \n",
       "Denial of Access to Unit Breach of Lease Agreem...        --  \n",
       "Breach of Lease Agreement Failure to Sign Lease...        --  \n",
       "Denial of Access to Unit Breach of Lease Agreem...        --  \n",
       "Habitual Late Payment of Rent Nuisance                    --  \n",
       "Habitual Late Payment of Rent Breach of Lease A...        --  \n",
       "Habitual Late Payment of Rent Breach of Lease A...        --  \n",
       "Denial of Access to Unit Nuisance                         --  \n",
       "Good Samaritan Tenancy Ends                               --  \n",
       "Lead Remediation                                          --  \n",
       "Habitual Late Payment of Rent Other                      0.5  \n",
       "Habitual Late Payment of Rent Roommate Living i...       0.5  \n",
       "Nuisance Other                                           0.5  "
      ]
     },
     "execution_count": 319,
     "metadata": {},
     "output_type": "execute_result"
    }
   ],
   "source": [
    "type_counts"
   ]
  },
  {
   "cell_type": "markdown",
   "metadata": {
    "heading_collapsed": true
   },
   "source": [
    "# RD "
   ]
  },
  {
   "cell_type": "code",
   "execution_count": 86,
   "metadata": {
    "hidden": true
   },
   "outputs": [],
   "source": [
    "bandwidth = 27\n",
    "\n",
    "df = asr[\n",
    "    (asr['any_rc_eligibility'] == 1) & (asr['year_built_max'] > 1980 - bandwidth) &\n",
    "    (asr['year_built_max'] < 1980 + bandwidth) & (asr['total_units'] > 0)]"
   ]
  },
  {
   "cell_type": "code",
   "execution_count": 87,
   "metadata": {
    "hidden": true
   },
   "outputs": [
    {
     "data": {
      "text/plain": [
       "(54388, 29)"
      ]
     },
     "execution_count": 87,
     "metadata": {},
     "output_type": "execute_result"
    }
   ],
   "source": [
    "df.shape"
   ]
  },
  {
   "cell_type": "code",
   "execution_count": 90,
   "metadata": {
    "hidden": true
   },
   "outputs": [
    {
     "data": {
      "text/plain": [
       "Index(['index', 'asr_yr', 'house_1', 'house_2', 'street_name', 'street_type',\n",
       "       'total_units', 'uniq_unit_counts', 'min_units', 'uniq_bldg_types',\n",
       "       'bldg_type_min', 'bldg_type_max', 'uniq_rc_eligibility',\n",
       "       'any_rc_eligibility', 'uniq_years_built', 'year_built_min',\n",
       "       'year_built_max', 'uniq_fipscds', 'fipscd', 'uniq_parcels', 'parcel_id',\n",
       "       'uniq_nbds', 'nbd_code', 'ev_count_post_07', 'ev_count', 'any_ev',\n",
       "       'pre_1980', 'built_1980', 'ev_per_unit'],\n",
       "      dtype='object')"
      ]
     },
     "execution_count": 90,
     "metadata": {},
     "output_type": "execute_result"
    }
   ],
   "source": [
    "df.columns"
   ]
  },
  {
   "cell_type": "markdown",
   "metadata": {
    "hidden": true
   },
   "source": [
    "#### Get Census Data"
   ]
  },
  {
   "cell_type": "code",
   "execution_count": 91,
   "metadata": {
    "hidden": true
   },
   "outputs": [],
   "source": [
    "census_df = pd.read_csv('../data/census_tract_acs_data.csv', dtype={'tract_id': str})"
   ]
  },
  {
   "cell_type": "code",
   "execution_count": 92,
   "metadata": {
    "hidden": true
   },
   "outputs": [],
   "source": [
    "asr['tract_id'] = asr['fipscd'].astype(str).str.zfill(15).str[:11]"
   ]
  },
  {
   "cell_type": "code",
   "execution_count": 93,
   "metadata": {
    "hidden": true
   },
   "outputs": [],
   "source": [
    "asr = pd.merge(asr, census_df, on='tract_id', how='left')"
   ]
  },
  {
   "cell_type": "code",
   "execution_count": 94,
   "metadata": {
    "hidden": true
   },
   "outputs": [
    {
     "name": "stdout",
     "output_type": "stream",
     "text": [
      "Dropped 301 parcels (0.02%) merging on tract-level census data\n"
     ]
    }
   ],
   "source": [
    "dropped_parcels = len(asr[pd.isnull(asr['median_hh_income'])])\n",
    "print('Dropped {0} parcels ({1}%) merging on tract-level census data'.format(\n",
    "    dropped_parcels, np.round(dropped_parcels/len(asr)*100, 2)))"
   ]
  },
  {
   "cell_type": "code",
   "execution_count": 88,
   "metadata": {
    "hidden": true
   },
   "outputs": [],
   "source": [
    "asr_all['total_value'] = asr_all['RP1LNDVAL'] + asr_all['RP1IMPVAL']\n",
    "asr_all.loc[pd.isnull(asr_all['RP1NBRCDE']), 'RP1NBRCDE'] = 'unknown'"
   ]
  },
  {
   "cell_type": "code",
   "execution_count": 89,
   "metadata": {
    "hidden": true
   },
   "outputs": [],
   "source": [
    "# recreate assessor address-year groupby, preserving additional property attrs\n",
    "# won't be necessary after updating groupby statement in\n",
    "# match_eviction_addresses.py script\n",
    "asr_all_grouped_by_yr = asr_all.groupby(\n",
    "        ['asr_yr', 'house_1', 'house_2', 'street_name', 'street_type']).agg(\n",
    "        total_units=('UNITS', 'sum'),\n",
    "        uniq_unit_counts=('UNITS', 'nunique'),\n",
    "        min_units=('UNITS', 'min'),\n",
    "        uniq_bldg_types=('bldg_type', 'nunique'),\n",
    "        bldg_type_min=('bldg_type', 'min'),\n",
    "        bldg_type_max=('bldg_type', 'max'),\n",
    "        uniq_rc_eligibility=('rc_eligible', 'nunique'),\n",
    "        any_rc_eligibility=('rc_eligible', 'max'),\n",
    "        uniq_years_built=('YRBLT', 'nunique'),\n",
    "        year_built_min=('YRBLT', 'min'),\n",
    "        year_built_max=('YRBLT', 'max'),\n",
    "        uniq_fipscds=('GEOID', 'nunique'),\n",
    "        fipscd=('GEOID', 'min'),\n",
    "        uniq_parcels=('RP1PRCLID', 'nunique'),\n",
    "        parcel_id=('RP1PRCLID', 'first'),\n",
    "        uniq_nbds=('RP1NBRCDE', 'nunique'),\n",
    "        nbd_code=('RP1NBRCDE', 'first'),\n",
    "        total_value=('total_value', 'sum'),\n",
    "        total_beds=('BEDS', 'sum'),\n",
    "        total_baths=('BATHS', 'sum'),\n",
    "        mean_stories=('STOREYNO', 'mean'),\n",
    "        total_sqft=('SQFT', 'sum'),\n",
    "        nbd=('RP1NBRCDE', pd.Series.mode),\n",
    "        total_rooms=('ROOMS', 'sum'),\n",
    "        total_area=('LAREA', 'sum')\n",
    "    ).reset_index()"
   ]
  },
  {
   "cell_type": "code",
   "execution_count": 99,
   "metadata": {
    "hidden": true
   },
   "outputs": [
    {
     "ename": "KeyError",
     "evalue": "'ev_count'",
     "output_type": "error",
     "traceback": [
      "\u001b[0;31m---------------------------------------------------------------------------\u001b[0m",
      "\u001b[0;31mKeyError\u001b[0m                                  Traceback (most recent call last)",
      "\u001b[0;32m/Users/max/anaconda3/envs/evictions/lib/python3.7/site-packages/pandas/core/indexes/base.py\u001b[0m in \u001b[0;36mget_loc\u001b[0;34m(self, key, method, tolerance)\u001b[0m\n\u001b[1;32m   2894\u001b[0m             \u001b[0;32mtry\u001b[0m\u001b[0;34m:\u001b[0m\u001b[0;34m\u001b[0m\u001b[0;34m\u001b[0m\u001b[0m\n\u001b[0;32m-> 2895\u001b[0;31m                 \u001b[0;32mreturn\u001b[0m \u001b[0mself\u001b[0m\u001b[0;34m.\u001b[0m\u001b[0m_engine\u001b[0m\u001b[0;34m.\u001b[0m\u001b[0mget_loc\u001b[0m\u001b[0;34m(\u001b[0m\u001b[0mcasted_key\u001b[0m\u001b[0;34m)\u001b[0m\u001b[0;34m\u001b[0m\u001b[0;34m\u001b[0m\u001b[0m\n\u001b[0m\u001b[1;32m   2896\u001b[0m             \u001b[0;32mexcept\u001b[0m \u001b[0mKeyError\u001b[0m \u001b[0;32mas\u001b[0m \u001b[0merr\u001b[0m\u001b[0;34m:\u001b[0m\u001b[0;34m\u001b[0m\u001b[0;34m\u001b[0m\u001b[0m\n",
      "\u001b[0;32mpandas/_libs/index.pyx\u001b[0m in \u001b[0;36mpandas._libs.index.IndexEngine.get_loc\u001b[0;34m()\u001b[0m\n",
      "\u001b[0;32mpandas/_libs/index.pyx\u001b[0m in \u001b[0;36mpandas._libs.index.IndexEngine.get_loc\u001b[0;34m()\u001b[0m\n",
      "\u001b[0;32mpandas/_libs/hashtable_class_helper.pxi\u001b[0m in \u001b[0;36mpandas._libs.hashtable.PyObjectHashTable.get_item\u001b[0;34m()\u001b[0m\n",
      "\u001b[0;32mpandas/_libs/hashtable_class_helper.pxi\u001b[0m in \u001b[0;36mpandas._libs.hashtable.PyObjectHashTable.get_item\u001b[0;34m()\u001b[0m\n",
      "\u001b[0;31mKeyError\u001b[0m: 'ev_count'",
      "\nThe above exception was the direct cause of the following exception:\n",
      "\u001b[0;31mKeyError\u001b[0m                                  Traceback (most recent call last)",
      "\u001b[0;32m<ipython-input-99-076dd8583e37>\u001b[0m in \u001b[0;36m<module>\u001b[0;34m()\u001b[0m\n\u001b[0;32m----> 1\u001b[0;31m \u001b[0masr_all_grouped_by_yr\u001b[0m\u001b[0;34m[\u001b[0m\u001b[0;34m(\u001b[0m\u001b[0masr_all_grouped_by_yr\u001b[0m\u001b[0;34m[\u001b[0m\u001b[0;34m'any_rc_eligibility'\u001b[0m\u001b[0;34m]\u001b[0m \u001b[0;34m==\u001b[0m \u001b[0;36m1\u001b[0m\u001b[0;34m)\u001b[0m \u001b[0;34m&\u001b[0m \u001b[0;34m(\u001b[0m\u001b[0masr_all_grouped_by_yr\u001b[0m\u001b[0;34m[\u001b[0m\u001b[0;34m'total_units'\u001b[0m\u001b[0;34m]\u001b[0m \u001b[0;34m>\u001b[0m\u001b[0;36m0\u001b[0m\u001b[0;34m)\u001b[0m\u001b[0;34m]\u001b[0m\u001b[0;34m[\u001b[0m\u001b[0;34m'ev_count'\u001b[0m\u001b[0;34m]\u001b[0m\u001b[0;34m.\u001b[0m\u001b[0msum\u001b[0m\u001b[0;34m(\u001b[0m\u001b[0;34m)\u001b[0m\u001b[0;34m\u001b[0m\u001b[0;34m\u001b[0m\u001b[0m\n\u001b[0m",
      "\u001b[0;32m/Users/max/anaconda3/envs/evictions/lib/python3.7/site-packages/pandas/core/frame.py\u001b[0m in \u001b[0;36m__getitem__\u001b[0;34m(self, key)\u001b[0m\n\u001b[1;32m   2900\u001b[0m             \u001b[0;32mif\u001b[0m \u001b[0mself\u001b[0m\u001b[0;34m.\u001b[0m\u001b[0mcolumns\u001b[0m\u001b[0;34m.\u001b[0m\u001b[0mnlevels\u001b[0m \u001b[0;34m>\u001b[0m \u001b[0;36m1\u001b[0m\u001b[0;34m:\u001b[0m\u001b[0;34m\u001b[0m\u001b[0;34m\u001b[0m\u001b[0m\n\u001b[1;32m   2901\u001b[0m                 \u001b[0;32mreturn\u001b[0m \u001b[0mself\u001b[0m\u001b[0;34m.\u001b[0m\u001b[0m_getitem_multilevel\u001b[0m\u001b[0;34m(\u001b[0m\u001b[0mkey\u001b[0m\u001b[0;34m)\u001b[0m\u001b[0;34m\u001b[0m\u001b[0;34m\u001b[0m\u001b[0m\n\u001b[0;32m-> 2902\u001b[0;31m             \u001b[0mindexer\u001b[0m \u001b[0;34m=\u001b[0m \u001b[0mself\u001b[0m\u001b[0;34m.\u001b[0m\u001b[0mcolumns\u001b[0m\u001b[0;34m.\u001b[0m\u001b[0mget_loc\u001b[0m\u001b[0;34m(\u001b[0m\u001b[0mkey\u001b[0m\u001b[0;34m)\u001b[0m\u001b[0;34m\u001b[0m\u001b[0;34m\u001b[0m\u001b[0m\n\u001b[0m\u001b[1;32m   2903\u001b[0m             \u001b[0;32mif\u001b[0m \u001b[0mis_integer\u001b[0m\u001b[0;34m(\u001b[0m\u001b[0mindexer\u001b[0m\u001b[0;34m)\u001b[0m\u001b[0;34m:\u001b[0m\u001b[0;34m\u001b[0m\u001b[0;34m\u001b[0m\u001b[0m\n\u001b[1;32m   2904\u001b[0m                 \u001b[0mindexer\u001b[0m \u001b[0;34m=\u001b[0m \u001b[0;34m[\u001b[0m\u001b[0mindexer\u001b[0m\u001b[0;34m]\u001b[0m\u001b[0;34m\u001b[0m\u001b[0;34m\u001b[0m\u001b[0m\n",
      "\u001b[0;32m/Users/max/anaconda3/envs/evictions/lib/python3.7/site-packages/pandas/core/indexes/base.py\u001b[0m in \u001b[0;36mget_loc\u001b[0;34m(self, key, method, tolerance)\u001b[0m\n\u001b[1;32m   2895\u001b[0m                 \u001b[0;32mreturn\u001b[0m \u001b[0mself\u001b[0m\u001b[0;34m.\u001b[0m\u001b[0m_engine\u001b[0m\u001b[0;34m.\u001b[0m\u001b[0mget_loc\u001b[0m\u001b[0;34m(\u001b[0m\u001b[0mcasted_key\u001b[0m\u001b[0;34m)\u001b[0m\u001b[0;34m\u001b[0m\u001b[0;34m\u001b[0m\u001b[0m\n\u001b[1;32m   2896\u001b[0m             \u001b[0;32mexcept\u001b[0m \u001b[0mKeyError\u001b[0m \u001b[0;32mas\u001b[0m \u001b[0merr\u001b[0m\u001b[0;34m:\u001b[0m\u001b[0;34m\u001b[0m\u001b[0;34m\u001b[0m\u001b[0m\n\u001b[0;32m-> 2897\u001b[0;31m                 \u001b[0;32mraise\u001b[0m \u001b[0mKeyError\u001b[0m\u001b[0;34m(\u001b[0m\u001b[0mkey\u001b[0m\u001b[0;34m)\u001b[0m \u001b[0;32mfrom\u001b[0m \u001b[0merr\u001b[0m\u001b[0;34m\u001b[0m\u001b[0;34m\u001b[0m\u001b[0m\n\u001b[0m\u001b[1;32m   2898\u001b[0m \u001b[0;34m\u001b[0m\u001b[0m\n\u001b[1;32m   2899\u001b[0m         \u001b[0;32mif\u001b[0m \u001b[0mtolerance\u001b[0m \u001b[0;32mis\u001b[0m \u001b[0;32mnot\u001b[0m \u001b[0;32mNone\u001b[0m\u001b[0;34m:\u001b[0m\u001b[0;34m\u001b[0m\u001b[0;34m\u001b[0m\u001b[0m\n",
      "\u001b[0;31mKeyError\u001b[0m: 'ev_count'"
     ]
    }
   ],
   "source": [
    "asr_all_grouped_by_yr[(asr_all_grouped_by_yr['any_rc_eligibility'] == 1) & (asr_all_grouped_by_yr['total_units'] > 0)]"
   ]
  },
  {
   "cell_type": "code",
   "execution_count": null,
   "metadata": {
    "hidden": true
   },
   "outputs": [],
   "source": [
    "asr_all_grouped_by_yr['nbd'] = asr_all_grouped_by_yr['nbd'].apply(lambda x: list(x)[0] if type(x) == np.ndarray else x)\n",
    "asr_all_grouped_by_yr['yr_built_since_1900'] = asr_all_grouped_by_yr['year_built_max'] - 1900"
   ]
  },
  {
   "cell_type": "code",
   "execution_count": null,
   "metadata": {
    "hidden": true
   },
   "outputs": [],
   "source": [
    "asr_w_census = asr_all_grouped_by_yr[\n",
    "    (asr_all_grouped_by_yr['total_units'] > 0) & \n",
    "    (asr_all_grouped_by_yr['total_sqft'] > 0) &\n",
    "    (asr_all_grouped_by_yr['total_value'] > 0) \n",
    "    (asr_all_grouped_by_yr['total_baths'] > 0) & \n",
    "    (asr_all_grouped_by_yr['total_rooms'] > 0) &\n",
    "    (asr_all_grouped_by_yr['mean_stories'] > 0) &\n",
    "    (asr_all_grouped_by_yr['total_area'] > 0)\n",
    "]"
   ]
  }
 ],
 "metadata": {
  "kernelspec": {
   "display_name": "Python 3",
   "language": "python",
   "name": "python3"
  },
  "language_info": {
   "codemirror_mode": {
    "name": "ipython",
    "version": 3
   },
   "file_extension": ".py",
   "mimetype": "text/x-python",
   "name": "python",
   "nbconvert_exporter": "python",
   "pygments_lexer": "ipython3",
   "version": "3.7.8"
  }
 },
 "nbformat": 4,
 "nbformat_minor": 4
}
