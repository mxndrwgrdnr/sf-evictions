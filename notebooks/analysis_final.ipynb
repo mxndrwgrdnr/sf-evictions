{
 "cells": [
  {
   "cell_type": "markdown",
   "metadata": {},
   "source": [
    "# TO DO\n",
    "\n",
    "- [ ] re-estimate without buildings constructed in 1979\n",
    "- [ ] re-estimate with diff census attrs\n",
    "- [x] re-estimate w/ + w/o buildings built < 2007\n",
    "- [ ] check variability of census attrs over time\n",
    "- [ ] map of eviction data (hexes)\n",
    "- [x] redo table 1 by rates across all addresses\n",
    "- [x] redo rd plot for pre 2013 evictions and post 2013 evictions\n",
    "- [x] subtract evictions in year 2017??\n",
    "- [ ] dedupe evictions at same addr on same date for same tenants? shouldn't be greater than max unit count\n",
    "- [ ] use householder exemption in assessor records to infer ownership!"
   ]
  },
  {
   "cell_type": "code",
   "execution_count": 1,
   "metadata": {},
   "outputs": [],
   "source": [
    "import pandas as pd\n",
    "import numpy as np\n",
    "from matplotlib import pyplot as plt\n",
    "import seaborn as sns\n",
    "import geopandas as gpd\n",
    "from shapely.geometry import Point\n",
    "import statsmodels.formula.api as smf\n",
    "%matplotlib inline"
   ]
  },
  {
   "cell_type": "markdown",
   "metadata": {},
   "source": [
    "# Load data "
   ]
  },
  {
   "cell_type": "code",
   "execution_count": 2,
   "metadata": {},
   "outputs": [
    {
     "name": "stderr",
     "output_type": "stream",
     "text": [
      "/Users/max/anaconda3/envs/evictions/lib/python3.7/site-packages/IPython/core/interactiveshell.py:2714: DtypeWarning: Columns (2,8,11,17,46) have mixed types.Specify dtype option on import or set low_memory=False.\n",
      "  interactivity=interactivity, compiler=compiler, result=result)\n"
     ]
    }
   ],
   "source": [
    "asr = pd.read_csv('../../../2021_02_summer/evic_paper/data/asr_grouped_by_yr_w_geom.csv', dtype={'fipscd': str})\n",
    "ev = pd.read_csv('../../../2021_02_summer/evic_paper/data/ev_matched_w_fips.csv')\n",
    "asr_all = pd.read_csv('../data/assessor_2007-2016_fips_jun_2021.csv')"
   ]
  },
  {
   "cell_type": "markdown",
   "metadata": {},
   "source": [
    "# Validate pre-processing "
   ]
  },
  {
   "cell_type": "markdown",
   "metadata": {},
   "source": [
    "\\# matched evictions should match the number of evictions in the assessor file"
   ]
  },
  {
   "cell_type": "code",
   "execution_count": 3,
   "metadata": {},
   "outputs": [],
   "source": [
    "assert len(ev[~pd.isnull(ev['asr_index'])]) == asr['ev_count'].sum()"
   ]
  },
  {
   "cell_type": "markdown",
   "metadata": {},
   "source": [
    "Only counting evictions after 2007"
   ]
  },
  {
   "cell_type": "code",
   "execution_count": 4,
   "metadata": {},
   "outputs": [],
   "source": [
    "assert (asr['ev_count'] == asr['ev_count_post_07']).all()"
   ]
  },
  {
   "cell_type": "markdown",
   "metadata": {},
   "source": [
    "Make sure we're comparing like to like"
   ]
  },
  {
   "cell_type": "code",
   "execution_count": 5,
   "metadata": {},
   "outputs": [],
   "source": [
    "assert ev['year'].min() == 2007"
   ]
  },
  {
   "cell_type": "code",
   "execution_count": 6,
   "metadata": {},
   "outputs": [],
   "source": [
    "assert ev['year'].max() == 2016"
   ]
  },
  {
   "cell_type": "code",
   "execution_count": 7,
   "metadata": {},
   "outputs": [],
   "source": [
    "assert asr['asr_yr'].min() == 2007"
   ]
  },
  {
   "cell_type": "code",
   "execution_count": 8,
   "metadata": {},
   "outputs": [],
   "source": [
    "assert asr['asr_yr'].max() == 2016"
   ]
  },
  {
   "cell_type": "markdown",
   "metadata": {},
   "source": [
    "# Describe data processing/filtering steps"
   ]
  },
  {
   "cell_type": "code",
   "execution_count": 9,
   "metadata": {},
   "outputs": [
    {
     "name": "stdout",
     "output_type": "stream",
     "text": [
      "21802 eviction records after cleaning\n"
     ]
    }
   ],
   "source": [
    "print('{0} eviction records after cleaning'.format(ev.shape[0]))"
   ]
  },
  {
   "cell_type": "code",
   "execution_count": 10,
   "metadata": {},
   "outputs": [
    {
     "name": "stdout",
     "output_type": "stream",
     "text": [
      "1978687 total assessor records considered\n"
     ]
    }
   ],
   "source": [
    "print(\"{0} total assessor records considered\".format(asr_all.shape[0]))"
   ]
  },
  {
   "cell_type": "code",
   "execution_count": 11,
   "metadata": {},
   "outputs": [
    {
     "name": "stdout",
     "output_type": "stream",
     "text": [
      "1553397 assessor records after grouping by address and assessed year\n"
     ]
    }
   ],
   "source": [
    "print(\"{0} assessor records after grouping by address and assessed year\".format(asr.shape[0]))"
   ]
  },
  {
   "cell_type": "code",
   "execution_count": 12,
   "metadata": {},
   "outputs": [
    {
     "name": "stdout",
     "output_type": "stream",
     "text": [
      "20136 evictions (92.4%) were matched to assessor records\n"
     ]
    }
   ],
   "source": [
    "print(\"{0} evictions ({1}%) were matched to assessor records\".format(\n",
    "    len(ev[~pd.isnull(ev['asr_index'])]),\n",
    "    np.round(len(ev[~pd.isnull(ev['asr_index'])]) / len(ev) * 100,1)))"
   ]
  },
  {
   "cell_type": "code",
   "execution_count": 13,
   "metadata": {},
   "outputs": [
    {
     "name": "stdout",
     "output_type": "stream",
     "text": [
      "14259 evictions across 349607 rent control eligible assessor records\n"
     ]
    }
   ],
   "source": [
    "asr_rc_eligible = asr[asr['any_rc_eligibility'] == 1] # all rc eligible\n",
    "print(\"{0} evictions across {1} rent control eligible assessor records\".format(asr_rc_eligible['ev_count'].sum(), len(asr_rc_eligible)))"
   ]
  },
  {
   "cell_type": "code",
   "execution_count": 14,
   "metadata": {},
   "outputs": [
    {
     "name": "stdout",
     "output_type": "stream",
     "text": [
      "13963 evictions assigned to 344513 rent control eligible assessor records with valid unit counts\n"
     ]
    }
   ],
   "source": [
    "asr_rc_eligible_valid_units = asr_rc_eligible[asr_rc_eligible['total_units'] > 0]\n",
    "print(\"{0} evictions assigned to {1} rent control eligible assessor records with valid unit counts\".format(asr_rc_eligible_valid_units['ev_count'].sum(), len(asr_rc_eligible_valid_units)))"
   ]
  },
  {
   "cell_type": "code",
   "execution_count": 15,
   "metadata": {},
   "outputs": [
    {
     "name": "stdout",
     "output_type": "stream",
     "text": [
      "5094 assessor records with 296 evictions dropped due to unreliable unit counts\n"
     ]
    }
   ],
   "source": [
    "print(\"{0} assessor records with {1} evictions dropped due to unreliable unit counts\".format(\n",
    "    asr_rc_eligible.shape[0] - asr_rc_eligible_valid_units.shape[0],\n",
    "    asr_rc_eligible.loc[asr_rc_eligible['total_units']<=0, 'ev_count'].sum()))"
   ]
  },
  {
   "cell_type": "code",
   "execution_count": 16,
   "metadata": {},
   "outputs": [],
   "source": [
    "asr['any_ev'] = (asr['ev_count'] > 0).astype(int)\n",
    "asr['pre_1980'] = (asr['year_built_max'] < 1980)\n",
    "asr['built_1980'] = None\n",
    "asr.loc[asr['pre_1980'], 'built_1980'] = 'before'\n",
    "asr.loc[~asr['pre_1980'], 'built_1980'] = 'after'\n",
    "asr['ev_per_unit'] = asr['ev_count'] / asr['total_units']"
   ]
  },
  {
   "cell_type": "code",
   "execution_count": 17,
   "metadata": {},
   "outputs": [
    {
     "name": "stdout",
     "output_type": "stream",
     "text": [
      "(20136, 59)\n"
     ]
    }
   ],
   "source": [
    "ev = ev.merge(asr, left_on='asr_index', right_on='index', suffixes=('_ev', '_asr'))\n",
    "print(ev.shape)"
   ]
  },
  {
   "cell_type": "code",
   "execution_count": 18,
   "metadata": {},
   "outputs": [
    {
     "name": "stdout",
     "output_type": "stream",
     "text": [
      "(19199, 59)\n"
     ]
    }
   ],
   "source": [
    "ev = ev[(ev['total_units'] > 0)]\n",
    "print(ev.shape)"
   ]
  },
  {
   "cell_type": "code",
   "execution_count": 19,
   "metadata": {},
   "outputs": [
    {
     "name": "stdout",
     "output_type": "stream",
     "text": [
      "(13963, 59)\n"
     ]
    }
   ],
   "source": [
    "ev = ev[(ev['any_rc_eligibility'] == 1)]\n",
    "print(ev.shape)"
   ]
  },
  {
   "cell_type": "markdown",
   "metadata": {},
   "source": [
    "#### Table 1"
   ]
  },
  {
   "cell_type": "code",
   "execution_count": 20,
   "metadata": {},
   "outputs": [],
   "source": [
    "ev.loc[pd.isnull(ev['type']), 'type'] = 'unknown'\n",
    "type_counts = ev.groupby(['built_1980', 'type']).agg(count=('index_ev', 'nunique')).reset_index()\n",
    "pre_sums = type_counts.groupby('built_1980')['count'].sum()\n",
    "\n",
    "ev['ev_type_cat'] = 'breach of lease'\n",
    "ev.loc[ev['type'].isin([\n",
    "    'OMI', 'Capital Improvement', 'ELLIS', 'Condo Conversion', 'Substantial Rehabilitation',\n",
    "    'Lead Remediation', 'Good Samaritan Tenancy Ends',\n",
    "    'Development Agreement', 'Demolition']), 'ev_type_cat'] = 'no fault'\n",
    "ev.loc[ev['type'].isin(['unknown', 'Other']), 'ev_type_cat'] = 'unknown/Other'"
   ]
  },
  {
   "cell_type": "code",
   "execution_count": 21,
   "metadata": {},
   "outputs": [],
   "source": [
    "cat_counts = ev.groupby(['built_1980', 'ev_type_cat']).agg(count=('index_ev', 'nunique')).reset_index()\n",
    "cat_counts = cat_counts.pivot(index='ev_type_cat', columns='built_1980', values='count')\n",
    "cat_counts['pct_ev_after'] = cat_counts['after'] / pre_sums['after']\n",
    "cat_counts['pct_ev_before'] = cat_counts['before'] / pre_sums['before']"
   ]
  },
  {
   "cell_type": "code",
   "execution_count": 22,
   "metadata": {},
   "outputs": [
    {
     "data": {
      "text/html": [
       "<div>\n",
       "<style scoped>\n",
       "    .dataframe tbody tr th:only-of-type {\n",
       "        vertical-align: middle;\n",
       "    }\n",
       "\n",
       "    .dataframe tbody tr th {\n",
       "        vertical-align: top;\n",
       "    }\n",
       "\n",
       "    .dataframe thead th {\n",
       "        text-align: right;\n",
       "    }\n",
       "</style>\n",
       "<table border=\"1\" class=\"dataframe\">\n",
       "  <thead>\n",
       "    <tr style=\"text-align: right;\">\n",
       "      <th>built_1980</th>\n",
       "      <th>before</th>\n",
       "      <th>pct_ev_before</th>\n",
       "      <th>after</th>\n",
       "      <th>pct_ev_after</th>\n",
       "    </tr>\n",
       "    <tr>\n",
       "      <th>ev_type_cat</th>\n",
       "      <th></th>\n",
       "      <th></th>\n",
       "      <th></th>\n",
       "      <th></th>\n",
       "    </tr>\n",
       "  </thead>\n",
       "  <tbody>\n",
       "    <tr>\n",
       "      <th>breach of lease</th>\n",
       "      <td>6432</td>\n",
       "      <td>0.466967</td>\n",
       "      <td>124</td>\n",
       "      <td>0.656085</td>\n",
       "    </tr>\n",
       "    <tr>\n",
       "      <th>no fault</th>\n",
       "      <td>2168</td>\n",
       "      <td>0.157398</td>\n",
       "      <td>3</td>\n",
       "      <td>0.015873</td>\n",
       "    </tr>\n",
       "    <tr>\n",
       "      <th>unknown/Other</th>\n",
       "      <td>5174</td>\n",
       "      <td>0.375635</td>\n",
       "      <td>62</td>\n",
       "      <td>0.328042</td>\n",
       "    </tr>\n",
       "  </tbody>\n",
       "</table>\n",
       "</div>"
      ],
      "text/plain": [
       "built_1980       before  pct_ev_before  after  pct_ev_after\n",
       "ev_type_cat                                                \n",
       "breach of lease    6432       0.466967    124      0.656085\n",
       "no fault           2168       0.157398      3      0.015873\n",
       "unknown/Other      5174       0.375635     62      0.328042"
      ]
     },
     "execution_count": 22,
     "metadata": {},
     "output_type": "execute_result"
    }
   ],
   "source": [
    "cat_counts[['before','pct_ev_before','after','pct_ev_after']]"
   ]
  },
  {
   "cell_type": "code",
   "execution_count": 23,
   "metadata": {},
   "outputs": [
    {
     "data": {
      "text/plain": [
       "13774"
      ]
     },
     "execution_count": 23,
     "metadata": {},
     "output_type": "execute_result"
    }
   ],
   "source": [
    "cat_counts['before'].sum()"
   ]
  },
  {
   "cell_type": "code",
   "execution_count": 24,
   "metadata": {},
   "outputs": [
    {
     "data": {
      "text/plain": [
       "189"
      ]
     },
     "execution_count": 24,
     "metadata": {},
     "output_type": "execute_result"
    }
   ],
   "source": [
    "cat_counts['after'].sum()"
   ]
  },
  {
   "cell_type": "code",
   "execution_count": 25,
   "metadata": {},
   "outputs": [
    {
     "data": {
      "text/plain": [
       "13963"
      ]
     },
     "execution_count": 25,
     "metadata": {},
     "output_type": "execute_result"
    }
   ],
   "source": [
    "13774 + 189"
   ]
  },
  {
   "cell_type": "markdown",
   "metadata": {},
   "source": [
    "#### Table 2"
   ]
  },
  {
   "cell_type": "code",
   "execution_count": 26,
   "metadata": {},
   "outputs": [
    {
     "data": {
      "text/html": [
       "<div>\n",
       "<style scoped>\n",
       "    .dataframe tbody tr th:only-of-type {\n",
       "        vertical-align: middle;\n",
       "    }\n",
       "\n",
       "    .dataframe tbody tr th {\n",
       "        vertical-align: top;\n",
       "    }\n",
       "\n",
       "    .dataframe thead th {\n",
       "        text-align: right;\n",
       "    }\n",
       "</style>\n",
       "<table border=\"1\" class=\"dataframe\">\n",
       "  <thead>\n",
       "    <tr style=\"text-align: right;\">\n",
       "      <th></th>\n",
       "      <th></th>\n",
       "      <th>total_addresses</th>\n",
       "      <th>total_units</th>\n",
       "      <th>mean_units_per_address</th>\n",
       "      <th>total_evictions</th>\n",
       "      <th>mean_any_ev</th>\n",
       "      <th>mean_ev_per_address</th>\n",
       "      <th>mean_ev_per_unit</th>\n",
       "    </tr>\n",
       "    <tr>\n",
       "      <th>any_rc_eligibility</th>\n",
       "      <th>pre_1980</th>\n",
       "      <th></th>\n",
       "      <th></th>\n",
       "      <th></th>\n",
       "      <th></th>\n",
       "      <th></th>\n",
       "      <th></th>\n",
       "      <th></th>\n",
       "    </tr>\n",
       "  </thead>\n",
       "  <tbody>\n",
       "    <tr>\n",
       "      <th rowspan=\"2\" valign=\"top\">0.0</th>\n",
       "      <th>False</th>\n",
       "      <td>70104</td>\n",
       "      <td>331191</td>\n",
       "      <td>4.724281</td>\n",
       "      <td>243</td>\n",
       "      <td>0.002054</td>\n",
       "      <td>0.003466</td>\n",
       "      <td>0.001604</td>\n",
       "    </tr>\n",
       "    <tr>\n",
       "      <th>True</th>\n",
       "      <td>1020259</td>\n",
       "      <td>1445753</td>\n",
       "      <td>1.417045</td>\n",
       "      <td>4993</td>\n",
       "      <td>0.003060</td>\n",
       "      <td>0.004894</td>\n",
       "      <td>0.003940</td>\n",
       "    </tr>\n",
       "    <tr>\n",
       "      <th rowspan=\"2\" valign=\"top\">1.0</th>\n",
       "      <th>False</th>\n",
       "      <td>14132</td>\n",
       "      <td>114759</td>\n",
       "      <td>8.120507</td>\n",
       "      <td>189</td>\n",
       "      <td>0.006369</td>\n",
       "      <td>0.013374</td>\n",
       "      <td>0.005447</td>\n",
       "    </tr>\n",
       "    <tr>\n",
       "      <th>True</th>\n",
       "      <td>330381</td>\n",
       "      <td>1591854</td>\n",
       "      <td>4.818237</td>\n",
       "      <td>13774</td>\n",
       "      <td>0.019375</td>\n",
       "      <td>0.041691</td>\n",
       "      <td>0.013095</td>\n",
       "    </tr>\n",
       "  </tbody>\n",
       "</table>\n",
       "</div>"
      ],
      "text/plain": [
       "                             total_addresses  total_units  \\\n",
       "any_rc_eligibility pre_1980                                 \n",
       "0.0                False               70104       331191   \n",
       "                   True              1020259      1445753   \n",
       "1.0                False               14132       114759   \n",
       "                   True               330381      1591854   \n",
       "\n",
       "                             mean_units_per_address  total_evictions  \\\n",
       "any_rc_eligibility pre_1980                                            \n",
       "0.0                False                   4.724281              243   \n",
       "                   True                    1.417045             4993   \n",
       "1.0                False                   8.120507              189   \n",
       "                   True                    4.818237            13774   \n",
       "\n",
       "                             mean_any_ev  mean_ev_per_address  \\\n",
       "any_rc_eligibility pre_1980                                     \n",
       "0.0                False        0.002054             0.003466   \n",
       "                   True         0.003060             0.004894   \n",
       "1.0                False        0.006369             0.013374   \n",
       "                   True         0.019375             0.041691   \n",
       "\n",
       "                             mean_ev_per_unit  \n",
       "any_rc_eligibility pre_1980                    \n",
       "0.0                False             0.001604  \n",
       "                   True              0.003940  \n",
       "1.0                False             0.005447  \n",
       "                   True              0.013095  "
      ]
     },
     "execution_count": 26,
     "metadata": {},
     "output_type": "execute_result"
    }
   ],
   "source": [
    "mean_diffs = asr[\n",
    "    (asr['total_units'] > 0)].groupby(['any_rc_eligibility', 'pre_1980']).agg(\n",
    "        total_addresses=('index', 'count'),\n",
    "        total_units=('total_units', 'sum'),\n",
    "        mean_units_per_address=('total_units','mean'),\n",
    "        total_evictions=('ev_count', 'sum'),\n",
    "        mean_any_ev=('any_ev', 'mean'),\n",
    "        mean_ev_per_address=('ev_count','mean'),\n",
    "        mean_ev_per_unit=('ev_per_unit','mean'),\n",
    ")\n",
    "\n",
    "# mean_diffs['units_per_address'] = mean_diffs['total_units'] / mean_diffs['total_addresses']\n",
    "# mean_diffs['evictions_per_address'] = mean_diffs['total_evictions'] / mean_diffs['total_addresses']\n",
    "# mean_diffs['evictions_per_unit'] = mean_diffs['total_evictions'] / mean_diffs['total_units']\n",
    "\n",
    "mean_diffs"
   ]
  },
  {
   "cell_type": "code",
   "execution_count": 27,
   "metadata": {},
   "outputs": [],
   "source": [
    "cat_counts['ev_per_unit_before'] = cat_counts['before'] / mean_diffs.loc[1.0, True]['total_units']\n",
    "cat_counts['ev_per_unit_after'] = cat_counts['after'] / mean_diffs.loc[1.0, False]['total_units']"
   ]
  },
  {
   "cell_type": "code",
   "execution_count": 28,
   "metadata": {},
   "outputs": [
    {
     "data": {
      "text/html": [
       "<div>\n",
       "<style scoped>\n",
       "    .dataframe tbody tr th:only-of-type {\n",
       "        vertical-align: middle;\n",
       "    }\n",
       "\n",
       "    .dataframe tbody tr th {\n",
       "        vertical-align: top;\n",
       "    }\n",
       "\n",
       "    .dataframe thead th {\n",
       "        text-align: right;\n",
       "    }\n",
       "</style>\n",
       "<table border=\"1\" class=\"dataframe\">\n",
       "  <thead>\n",
       "    <tr style=\"text-align: right;\">\n",
       "      <th>built_1980</th>\n",
       "      <th>after</th>\n",
       "      <th>before</th>\n",
       "      <th>pct_ev_after</th>\n",
       "      <th>pct_ev_before</th>\n",
       "      <th>ev_per_unit_before</th>\n",
       "      <th>ev_per_unit_after</th>\n",
       "    </tr>\n",
       "    <tr>\n",
       "      <th>ev_type_cat</th>\n",
       "      <th></th>\n",
       "      <th></th>\n",
       "      <th></th>\n",
       "      <th></th>\n",
       "      <th></th>\n",
       "      <th></th>\n",
       "    </tr>\n",
       "  </thead>\n",
       "  <tbody>\n",
       "    <tr>\n",
       "      <th>breach of lease</th>\n",
       "      <td>124</td>\n",
       "      <td>6432</td>\n",
       "      <td>0.656085</td>\n",
       "      <td>0.466967</td>\n",
       "      <td>0.004041</td>\n",
       "      <td>0.001081</td>\n",
       "    </tr>\n",
       "    <tr>\n",
       "      <th>no fault</th>\n",
       "      <td>3</td>\n",
       "      <td>2168</td>\n",
       "      <td>0.015873</td>\n",
       "      <td>0.157398</td>\n",
       "      <td>0.001362</td>\n",
       "      <td>0.000026</td>\n",
       "    </tr>\n",
       "    <tr>\n",
       "      <th>unknown/Other</th>\n",
       "      <td>62</td>\n",
       "      <td>5174</td>\n",
       "      <td>0.328042</td>\n",
       "      <td>0.375635</td>\n",
       "      <td>0.003250</td>\n",
       "      <td>0.000540</td>\n",
       "    </tr>\n",
       "  </tbody>\n",
       "</table>\n",
       "</div>"
      ],
      "text/plain": [
       "built_1980       after  before  pct_ev_after  pct_ev_before  \\\n",
       "ev_type_cat                                                   \n",
       "breach of lease    124    6432      0.656085       0.466967   \n",
       "no fault             3    2168      0.015873       0.157398   \n",
       "unknown/Other       62    5174      0.328042       0.375635   \n",
       "\n",
       "built_1980       ev_per_unit_before  ev_per_unit_after  \n",
       "ev_type_cat                                             \n",
       "breach of lease            0.004041           0.001081  \n",
       "no fault                   0.001362           0.000026  \n",
       "unknown/Other              0.003250           0.000540  "
      ]
     },
     "execution_count": 28,
     "metadata": {},
     "output_type": "execute_result"
    }
   ],
   "source": [
    "cat_counts"
   ]
  },
  {
   "cell_type": "code",
   "execution_count": 29,
   "metadata": {},
   "outputs": [],
   "source": [
    "cat_counts['mean_diff'] = cat_counts['ev_per_unit_before'] - cat_counts['ev_per_unit_after']"
   ]
  },
  {
   "cell_type": "code",
   "execution_count": 30,
   "metadata": {},
   "outputs": [
    {
     "data": {
      "text/html": [
       "<div>\n",
       "<style scoped>\n",
       "    .dataframe tbody tr th:only-of-type {\n",
       "        vertical-align: middle;\n",
       "    }\n",
       "\n",
       "    .dataframe tbody tr th {\n",
       "        vertical-align: top;\n",
       "    }\n",
       "\n",
       "    .dataframe thead th {\n",
       "        text-align: right;\n",
       "    }\n",
       "</style>\n",
       "<table border=\"1\" class=\"dataframe\">\n",
       "  <thead>\n",
       "    <tr style=\"text-align: right;\">\n",
       "      <th>built_1980</th>\n",
       "      <th>after</th>\n",
       "      <th>before</th>\n",
       "      <th>pct_ev_after</th>\n",
       "      <th>pct_ev_before</th>\n",
       "      <th>ev_per_unit_before</th>\n",
       "      <th>ev_per_unit_after</th>\n",
       "      <th>mean_diff</th>\n",
       "    </tr>\n",
       "    <tr>\n",
       "      <th>ev_type_cat</th>\n",
       "      <th></th>\n",
       "      <th></th>\n",
       "      <th></th>\n",
       "      <th></th>\n",
       "      <th></th>\n",
       "      <th></th>\n",
       "      <th></th>\n",
       "    </tr>\n",
       "  </thead>\n",
       "  <tbody>\n",
       "    <tr>\n",
       "      <th>breach of lease</th>\n",
       "      <td>124</td>\n",
       "      <td>6432</td>\n",
       "      <td>0.656085</td>\n",
       "      <td>0.466967</td>\n",
       "      <td>0.004041</td>\n",
       "      <td>0.001081</td>\n",
       "      <td>0.002960</td>\n",
       "    </tr>\n",
       "    <tr>\n",
       "      <th>no fault</th>\n",
       "      <td>3</td>\n",
       "      <td>2168</td>\n",
       "      <td>0.015873</td>\n",
       "      <td>0.157398</td>\n",
       "      <td>0.001362</td>\n",
       "      <td>0.000026</td>\n",
       "      <td>0.001336</td>\n",
       "    </tr>\n",
       "    <tr>\n",
       "      <th>unknown/Other</th>\n",
       "      <td>62</td>\n",
       "      <td>5174</td>\n",
       "      <td>0.328042</td>\n",
       "      <td>0.375635</td>\n",
       "      <td>0.003250</td>\n",
       "      <td>0.000540</td>\n",
       "      <td>0.002710</td>\n",
       "    </tr>\n",
       "  </tbody>\n",
       "</table>\n",
       "</div>"
      ],
      "text/plain": [
       "built_1980       after  before  pct_ev_after  pct_ev_before  \\\n",
       "ev_type_cat                                                   \n",
       "breach of lease    124    6432      0.656085       0.466967   \n",
       "no fault             3    2168      0.015873       0.157398   \n",
       "unknown/Other       62    5174      0.328042       0.375635   \n",
       "\n",
       "built_1980       ev_per_unit_before  ev_per_unit_after  mean_diff  \n",
       "ev_type_cat                                                        \n",
       "breach of lease            0.004041           0.001081   0.002960  \n",
       "no fault                   0.001362           0.000026   0.001336  \n",
       "unknown/Other              0.003250           0.000540   0.002710  "
      ]
     },
     "execution_count": 30,
     "metadata": {},
     "output_type": "execute_result"
    }
   ],
   "source": [
    "cat_counts"
   ]
  },
  {
   "cell_type": "code",
   "execution_count": 31,
   "metadata": {},
   "outputs": [
    {
     "data": {
      "text/plain": [
       "0.007005873933682271"
      ]
     },
     "execution_count": 31,
     "metadata": {},
     "output_type": "execute_result"
    }
   ],
   "source": [
    "cat_counts['mean_diff'].sum()"
   ]
  },
  {
   "cell_type": "markdown",
   "metadata": {},
   "source": [
    "#### Fig 1"
   ]
  },
  {
   "cell_type": "code",
   "execution_count": 33,
   "metadata": {},
   "outputs": [],
   "source": [
    "sns.set_style({'font.family': 'Times New Roman'})"
   ]
  },
  {
   "cell_type": "code",
   "execution_count": 34,
   "metadata": {
    "scrolled": false
   },
   "outputs": [
    {
     "data": {
      "image/png": "[encoded data removed]",
      "text/plain": [
       "<Figure size 720x360 with 1 Axes>"
      ]
     },
     "metadata": {
      "needs_background": "light"
     },
     "output_type": "display_data"
    }
   ],
   "source": [
    "units_by_yr = asr[\n",
    "    (asr['any_rc_eligibility'] == 1) &\n",
    "    (asr['year_built_max'] > 1900) &\n",
    "    (asr['year_built_max'] < 2100)].groupby('year_built_max').agg({'total_units': 'sum'}).reset_index()\n",
    "\n",
    "fig, ax = plt.subplots(figsize=(10,5))\n",
    "plt.rcParams[\"font.family\"] = 'times new roman'\n",
    "ax.scatter(units_by_yr['year_built_max'], units_by_yr['total_units'], s=25, facecolors='none', edgecolors='r')\n",
    "ax.plot(units_by_yr['year_built_max'], units_by_yr['total_units'], lw=1, c='k', )\n",
    "\n",
    "_ = ax.set_xlabel(\"year built\", fontsize=12)\n",
    "_ = ax.set_ylabel(\"# new units\", fontsize=12)\n",
    "# _ = ax.set_title(\"SF New Construction: Rent-control eligible use-codes\", fontsize=20)\n",
    "\n",
    "plt.savefig('../../../2021_02_summer/evic_paper/fig_1.jpg', dpi=300, bbox_inches='tight')"
   ]
  },
  {
   "cell_type": "markdown",
   "metadata": {},
   "source": [
    "#### Fig 2"
   ]
  },
  {
   "cell_type": "code",
   "execution_count": 35,
   "metadata": {},
   "outputs": [],
   "source": [
    "rc_pop = asr[\n",
    "    (asr['any_rc_eligibility'] == 1) & (asr['year_built_max'] > 1953) &\n",
    "    (asr['year_built_max'] < 2007) & (asr['total_units'] > 0)]\n",
    "\n",
    "yr_vs_ev = rc_pop.groupby('year_built_max').agg({\n",
    "    'ev_per_unit': 'mean',\n",
    "}).reset_index()\n",
    "\n",
    "yr_vs_ev1 = yr_vs_ev[(yr_vs_ev['year_built_max'] < 1980) &\n",
    "                     (yr_vs_ev['year_built_max'] >= 1953)]\n",
    "yr_vs_ev2 = yr_vs_ev[(yr_vs_ev['year_built_max'] >= 1980) &\n",
    "                     (yr_vs_ev['year_built_max'] <= 2007)]"
   ]
  },
  {
   "cell_type": "code",
   "execution_count": 36,
   "metadata": {},
   "outputs": [
    {
     "data": {
      "text/plain": [
       "(54388, 33)"
      ]
     },
     "execution_count": 36,
     "metadata": {},
     "output_type": "execute_result"
    }
   ],
   "source": [
    "rc_pop.shape"
   ]
  },
  {
   "cell_type": "code",
   "execution_count": 37,
   "metadata": {},
   "outputs": [
    {
     "data": {
      "image/png": "[encoded data removed]",
      "text/plain": [
       "<Figure size 720x360 with 1 Axes>"
      ]
     },
     "metadata": {
      "needs_background": "light"
     },
     "output_type": "display_data"
    }
   ],
   "source": [
    "fig, ax = plt.subplots(figsize=(10,5))\n",
    "\n",
    "sns.regplot(\n",
    "    x='year_built_max', y='ev_per_unit', data=yr_vs_ev1, ax=ax, truncate=True,\n",
    "    label='rent controlled', line_kws={'color':'k', 'lw':1, 'label':'linear fit (c.i. = 95%)', 'zorder': 0})\n",
    "sns.regplot(\n",
    "    x='year_built_max', y='ev_per_unit', data=yr_vs_ev2, ax=ax, truncate=True,\n",
    "    label='non-rent controlled', line_kws={'color':'k', 'lw':'1',  'zorder': 0})\n",
    "ax.axvline(1979.5, ls=':', c='r', label='rent control built-year\\n eligibility threshold')\n",
    "ax.legend()\n",
    "_ = ax.set_xlabel(\"property built-year\", fontsize=12)\n",
    "_ = ax.set_ylabel(\"avg. evictions per unit per year\", fontsize=12,\n",
    "#                   rotation=0,\n",
    "#                   labelpad=70\n",
    "                 )\n",
    "# _ = ax.set_title(\"SF Eviction Rates (2007-2016)\\nfor Multi-family Residential Addresses\", fontsize=20)\n",
    "ax.set_ylim((-0.005, 0.05))\n",
    "ax.set_xlim((1952, 2008))\n",
    "# ax.annotate('rent control \\nbuilt-year threshold', xy=(1979, 0.04),  xycoords='data',\n",
    "#             xytext=(0.3, 0.8), textcoords='axes fraction',\n",
    "#             arrowprops=dict(facecolor='black',headlength=10, width=0.5, headwidth=10),\n",
    "#             horizontalalignment='center', verticalalignment='center', fontsize=12\n",
    "#             )\n",
    "plt.savefig('../../../2021_02_summer/evic_paper/fig_2.jpg', dpi=300, bbox_inches='tight')"
   ]
  },
  {
   "cell_type": "markdown",
   "metadata": {},
   "source": [
    "#### Fig 3"
   ]
  },
  {
   "cell_type": "code",
   "execution_count": 38,
   "metadata": {},
   "outputs": [],
   "source": [
    "sf = gpd.read_file('../../../2021_02_summer/evic_paper/sf_boundary.shp')"
   ]
  },
  {
   "cell_type": "code",
   "execution_count": 39,
   "metadata": {},
   "outputs": [],
   "source": [
    "ev['geometry'] = ev.apply(lambda x: Point(x['longitude_asr'], x['latitude_asr']), axis=1)"
   ]
  },
  {
   "cell_type": "code",
   "execution_count": 40,
   "metadata": {},
   "outputs": [],
   "source": [
    "ev_gpd = gpd.GeoDataFrame(ev, geometry='geometry')"
   ]
  },
  {
   "cell_type": "code",
   "execution_count": 41,
   "metadata": {},
   "outputs": [],
   "source": [
    "ev_gpd.crs = 'EPSG:4326'"
   ]
  },
  {
   "cell_type": "code",
   "execution_count": 42,
   "metadata": {},
   "outputs": [],
   "source": [
    "ev_gpd = ev_gpd.to_crs(sf.crs)"
   ]
  },
  {
   "cell_type": "code",
   "execution_count": 43,
   "metadata": {},
   "outputs": [],
   "source": [
    "ev_gpd['proj_x'] = ev_gpd.geometry.x\n",
    "ev_gpd['proj_y'] = ev_gpd.geometry.y"
   ]
  },
  {
   "cell_type": "code",
   "execution_count": 45,
   "metadata": {},
   "outputs": [
    {
     "data": {
      "image/png": "[encoded data removed]",
      "text/plain": [
       "<Figure size 720x720 with 2 Axes>"
      ]
     },
     "metadata": {
      "needs_background": "light"
     },
     "output_type": "display_data"
    }
   ],
   "source": [
    "fig, ax = plt.subplots(figsize=(10,10))\n",
    "sf.plot(facecolor='None', edgecolor='k', ax=ax, lw=0.5, alpha=0.8)\n",
    "hb = ax.hexbin(x=ev_gpd['proj_x'], y=ev_gpd['proj_y'], mincnt=1,\n",
    "               bins=[0,20,40,60,80,100,120,140,160,180,200],\n",
    "               gridsize=18)\n",
    "cb = fig.colorbar(hb, ax=ax, fraction=0.038,pad=0.01)\n",
    "cb.set_label('count', fontsize=12)\n",
    "cb.set_ticks([1,2.25,3.5,4.75,6,7.25,8.5,9.75,11])\n",
    "cb.set_ticklabels([1,25, 50,75,100,125,150,175,'> 200+'])\n",
    "ax.axis('off')\n",
    "plt.savefig('../../../2021_02_summer/evic_paper/fig_3.jpg', dpi=300, bbox_inches='tight')"
   ]
  },
  {
   "cell_type": "markdown",
   "metadata": {},
   "source": [
    "#### Appendix A"
   ]
  },
  {
   "cell_type": "code",
   "execution_count": 46,
   "metadata": {},
   "outputs": [],
   "source": [
    "ev.loc[pd.isnull(ev['type']), 'type'] = 'unknown'\n",
    "type_counts = ev.groupby(['built_1980', 'type']).agg(count=('index_ev', 'nunique')).reset_index()\n",
    "pre_sums = type_counts.groupby('built_1980')['count'].sum()\n",
    "\n",
    "type_counts = type_counts.pivot(index='type', columns='built_1980', values='count')\n",
    "type_counts['pct_after'] = np.round(type_counts['after'] / pre_sums['after'] * 100, 1)\n",
    "type_counts['pct_before'] = np.round(type_counts['before'] / pre_sums['before'] * 100, 1)\n",
    "type_counts.reset_index(inplace=True)\n",
    "type_counts.set_index('type', inplace=True, drop=True)"
   ]
  },
  {
   "cell_type": "code",
   "execution_count": 47,
   "metadata": {},
   "outputs": [],
   "source": [
    "type_counts = type_counts.sort_values('pct_before', ascending=False)[['before','pct_before','after','pct_after']]"
   ]
  },
  {
   "cell_type": "code",
   "execution_count": 48,
   "metadata": {},
   "outputs": [],
   "source": [
    "type_counts = type_counts.astype(str)"
   ]
  },
  {
   "cell_type": "code",
   "execution_count": 49,
   "metadata": {},
   "outputs": [],
   "source": [
    "type_counts['after'] = type_counts['after'].str.split('.').str[0]\n",
    "type_counts['before'] = type_counts['before'].str.split('.').str[0]\n",
    "type_counts = type_counts.replace('nan', '--', regex=True)"
   ]
  },
  {
   "cell_type": "code",
   "execution_count": 50,
   "metadata": {},
   "outputs": [
    {
     "data": {
      "text/html": [
       "<div>\n",
       "<style scoped>\n",
       "    .dataframe tbody tr th:only-of-type {\n",
       "        vertical-align: middle;\n",
       "    }\n",
       "\n",
       "    .dataframe tbody tr th {\n",
       "        vertical-align: top;\n",
       "    }\n",
       "\n",
       "    .dataframe thead th {\n",
       "        text-align: right;\n",
       "    }\n",
       "</style>\n",
       "<table border=\"1\" class=\"dataframe\">\n",
       "  <thead>\n",
       "    <tr style=\"text-align: right;\">\n",
       "      <th>built_1980</th>\n",
       "      <th>before</th>\n",
       "      <th>pct_before</th>\n",
       "      <th>after</th>\n",
       "      <th>pct_after</th>\n",
       "    </tr>\n",
       "    <tr>\n",
       "      <th>type</th>\n",
       "      <th></th>\n",
       "      <th></th>\n",
       "      <th></th>\n",
       "      <th></th>\n",
       "    </tr>\n",
       "  </thead>\n",
       "  <tbody>\n",
       "    <tr>\n",
       "      <th>unknown</th>\n",
       "      <td>5066</td>\n",
       "      <td>36.8</td>\n",
       "      <td>44</td>\n",
       "      <td>23.3</td>\n",
       "    </tr>\n",
       "    <tr>\n",
       "      <th>Breach of Lease Agreement</th>\n",
       "      <td>3031</td>\n",
       "      <td>22.0</td>\n",
       "      <td>66</td>\n",
       "      <td>34.9</td>\n",
       "    </tr>\n",
       "    <tr>\n",
       "      <th>Nuisance</th>\n",
       "      <td>1621</td>\n",
       "      <td>11.8</td>\n",
       "      <td>28</td>\n",
       "      <td>14.8</td>\n",
       "    </tr>\n",
       "    <tr>\n",
       "      <th>OMI</th>\n",
       "      <td>1177</td>\n",
       "      <td>8.5</td>\n",
       "      <td>3</td>\n",
       "      <td>1.6</td>\n",
       "    </tr>\n",
       "    <tr>\n",
       "      <th>Capital Improvement</th>\n",
       "      <td>518</td>\n",
       "      <td>3.8</td>\n",
       "      <td>--</td>\n",
       "      <td>--</td>\n",
       "    </tr>\n",
       "    <tr>\n",
       "      <th>Non-payment of Rent</th>\n",
       "      <td>487</td>\n",
       "      <td>3.5</td>\n",
       "      <td>11</td>\n",
       "      <td>5.8</td>\n",
       "    </tr>\n",
       "    <tr>\n",
       "      <th>Habitual Late Payment of Rent</th>\n",
       "      <td>399</td>\n",
       "      <td>2.9</td>\n",
       "      <td>4</td>\n",
       "      <td>2.1</td>\n",
       "    </tr>\n",
       "    <tr>\n",
       "      <th>ELLIS</th>\n",
       "      <td>346</td>\n",
       "      <td>2.5</td>\n",
       "      <td>--</td>\n",
       "      <td>--</td>\n",
       "    </tr>\n",
       "    <tr>\n",
       "      <th>Illegal Use of Unit</th>\n",
       "      <td>199</td>\n",
       "      <td>1.4</td>\n",
       "      <td>1</td>\n",
       "      <td>0.5</td>\n",
       "    </tr>\n",
       "    <tr>\n",
       "      <th>Breach of Lease Agreement Nuisance</th>\n",
       "      <td>182</td>\n",
       "      <td>1.3</td>\n",
       "      <td>3</td>\n",
       "      <td>1.6</td>\n",
       "    </tr>\n",
       "    <tr>\n",
       "      <th>Roommate Living in Same Unit</th>\n",
       "      <td>119</td>\n",
       "      <td>0.9</td>\n",
       "      <td>3</td>\n",
       "      <td>1.6</td>\n",
       "    </tr>\n",
       "    <tr>\n",
       "      <th>Unapproved Subtenant</th>\n",
       "      <td>110</td>\n",
       "      <td>0.8</td>\n",
       "      <td>1</td>\n",
       "      <td>0.5</td>\n",
       "    </tr>\n",
       "    <tr>\n",
       "      <th>Other</th>\n",
       "      <td>108</td>\n",
       "      <td>0.8</td>\n",
       "      <td>18</td>\n",
       "      <td>9.5</td>\n",
       "    </tr>\n",
       "    <tr>\n",
       "      <th>Demolition</th>\n",
       "      <td>94</td>\n",
       "      <td>0.7</td>\n",
       "      <td>--</td>\n",
       "      <td>--</td>\n",
       "    </tr>\n",
       "    <tr>\n",
       "      <th>Denial of Access to Unit</th>\n",
       "      <td>54</td>\n",
       "      <td>0.4</td>\n",
       "      <td>2</td>\n",
       "      <td>1.1</td>\n",
       "    </tr>\n",
       "    <tr>\n",
       "      <th>Nuisance Illegal Use of Unit</th>\n",
       "      <td>46</td>\n",
       "      <td>0.3</td>\n",
       "      <td>--</td>\n",
       "      <td>--</td>\n",
       "    </tr>\n",
       "    <tr>\n",
       "      <th>Breach of Lease Agreement Illegal Use of Unit</th>\n",
       "      <td>34</td>\n",
       "      <td>0.2</td>\n",
       "      <td>--</td>\n",
       "      <td>--</td>\n",
       "    </tr>\n",
       "    <tr>\n",
       "      <th>Breach of Lease Agreement Nuisance Illegal Use of Unit</th>\n",
       "      <td>24</td>\n",
       "      <td>0.2</td>\n",
       "      <td>--</td>\n",
       "      <td>--</td>\n",
       "    </tr>\n",
       "    <tr>\n",
       "      <th>Non-payment of Rent Breach of Lease Agreement</th>\n",
       "      <td>14</td>\n",
       "      <td>0.1</td>\n",
       "      <td>--</td>\n",
       "      <td>--</td>\n",
       "    </tr>\n",
       "    <tr>\n",
       "      <th>Failure to Sign Lease Renewal</th>\n",
       "      <td>19</td>\n",
       "      <td>0.1</td>\n",
       "      <td>--</td>\n",
       "      <td>--</td>\n",
       "    </tr>\n",
       "    <tr>\n",
       "      <th>Denial of Access to Unit Breach of Lease Agreement</th>\n",
       "      <td>10</td>\n",
       "      <td>0.1</td>\n",
       "      <td>--</td>\n",
       "      <td>--</td>\n",
       "    </tr>\n",
       "    <tr>\n",
       "      <th>Condo Conversion</th>\n",
       "      <td>17</td>\n",
       "      <td>0.1</td>\n",
       "      <td>--</td>\n",
       "      <td>--</td>\n",
       "    </tr>\n",
       "    <tr>\n",
       "      <th>Habitual Late Payment of Rent Breach of Lease Agreement</th>\n",
       "      <td>11</td>\n",
       "      <td>0.1</td>\n",
       "      <td>--</td>\n",
       "      <td>--</td>\n",
       "    </tr>\n",
       "    <tr>\n",
       "      <th>Non-payment of Rent Habitual Late Payment of Rent</th>\n",
       "      <td>10</td>\n",
       "      <td>0.1</td>\n",
       "      <td>1</td>\n",
       "      <td>0.5</td>\n",
       "    </tr>\n",
       "    <tr>\n",
       "      <th>Unapproved Subtenant Breach of Lease Agreement</th>\n",
       "      <td>8</td>\n",
       "      <td>0.1</td>\n",
       "      <td>--</td>\n",
       "      <td>--</td>\n",
       "    </tr>\n",
       "    <tr>\n",
       "      <th>Substantial Rehabilitation</th>\n",
       "      <td>7</td>\n",
       "      <td>0.1</td>\n",
       "      <td>--</td>\n",
       "      <td>--</td>\n",
       "    </tr>\n",
       "    <tr>\n",
       "      <th>Breach of Lease Agreement Roommate Living in Same Unit</th>\n",
       "      <td>1</td>\n",
       "      <td>0.0</td>\n",
       "      <td>--</td>\n",
       "      <td>--</td>\n",
       "    </tr>\n",
       "    <tr>\n",
       "      <th>Breach of Lease Agreement Other</th>\n",
       "      <td>5</td>\n",
       "      <td>0.0</td>\n",
       "      <td>1</td>\n",
       "      <td>0.5</td>\n",
       "    </tr>\n",
       "    <tr>\n",
       "      <th>Roommate Living in Same Unit Nuisance</th>\n",
       "      <td>6</td>\n",
       "      <td>0.0</td>\n",
       "      <td>--</td>\n",
       "      <td>--</td>\n",
       "    </tr>\n",
       "    <tr>\n",
       "      <th>Development Agreement</th>\n",
       "      <td>1</td>\n",
       "      <td>0.0</td>\n",
       "      <td>--</td>\n",
       "      <td>--</td>\n",
       "    </tr>\n",
       "    <tr>\n",
       "      <th>Denial of Access to Unit Breach of Lease Agreement Nuisance</th>\n",
       "      <td>4</td>\n",
       "      <td>0.0</td>\n",
       "      <td>--</td>\n",
       "      <td>--</td>\n",
       "    </tr>\n",
       "    <tr>\n",
       "      <th>Unapproved Subtenant Breach of Lease Agreement Nuisance</th>\n",
       "      <td>2</td>\n",
       "      <td>0.0</td>\n",
       "      <td>--</td>\n",
       "      <td>--</td>\n",
       "    </tr>\n",
       "    <tr>\n",
       "      <th>Unapproved Subtenant Breach of Lease Agreement Nuisance Illegal Use of Unit</th>\n",
       "      <td>1</td>\n",
       "      <td>0.0</td>\n",
       "      <td>--</td>\n",
       "      <td>--</td>\n",
       "    </tr>\n",
       "    <tr>\n",
       "      <th>Unapproved Subtenant Illegal Use of Unit</th>\n",
       "      <td>1</td>\n",
       "      <td>0.0</td>\n",
       "      <td>--</td>\n",
       "      <td>--</td>\n",
       "    </tr>\n",
       "    <tr>\n",
       "      <th>Unapproved Subtenant Nuisance</th>\n",
       "      <td>1</td>\n",
       "      <td>0.0</td>\n",
       "      <td>--</td>\n",
       "      <td>--</td>\n",
       "    </tr>\n",
       "    <tr>\n",
       "      <th>Unapproved Subtenant Nuisance Illegal Use of Unit</th>\n",
       "      <td>2</td>\n",
       "      <td>0.0</td>\n",
       "      <td>--</td>\n",
       "      <td>--</td>\n",
       "    </tr>\n",
       "    <tr>\n",
       "      <th>Nuisance Capital Improvement</th>\n",
       "      <td>1</td>\n",
       "      <td>0.0</td>\n",
       "      <td>--</td>\n",
       "      <td>--</td>\n",
       "    </tr>\n",
       "    <tr>\n",
       "      <th>Non-payment of Rent Nuisance</th>\n",
       "      <td>2</td>\n",
       "      <td>0.0</td>\n",
       "      <td>--</td>\n",
       "      <td>--</td>\n",
       "    </tr>\n",
       "    <tr>\n",
       "      <th>Non-payment of Rent Unapproved Subtenant</th>\n",
       "      <td>1</td>\n",
       "      <td>0.0</td>\n",
       "      <td>--</td>\n",
       "      <td>--</td>\n",
       "    </tr>\n",
       "    <tr>\n",
       "      <th>Non-payment of Rent Other</th>\n",
       "      <td>1</td>\n",
       "      <td>0.0</td>\n",
       "      <td>--</td>\n",
       "      <td>--</td>\n",
       "    </tr>\n",
       "    <tr>\n",
       "      <th>Denial of Access to Unit Other</th>\n",
       "      <td>2</td>\n",
       "      <td>0.0</td>\n",
       "      <td>--</td>\n",
       "      <td>--</td>\n",
       "    </tr>\n",
       "    <tr>\n",
       "      <th>Non-payment of Rent Habitual Late Payment of Rent Nuisance</th>\n",
       "      <td>1</td>\n",
       "      <td>0.0</td>\n",
       "      <td>--</td>\n",
       "      <td>--</td>\n",
       "    </tr>\n",
       "    <tr>\n",
       "      <th>Non-payment of Rent Habitual Late Payment of Rent Breach of Lease Agreement Nuisance</th>\n",
       "      <td>1</td>\n",
       "      <td>0.0</td>\n",
       "      <td>--</td>\n",
       "      <td>--</td>\n",
       "    </tr>\n",
       "    <tr>\n",
       "      <th>Non-payment of Rent Denial of Access to Unit</th>\n",
       "      <td>1</td>\n",
       "      <td>0.0</td>\n",
       "      <td>--</td>\n",
       "      <td>--</td>\n",
       "    </tr>\n",
       "    <tr>\n",
       "      <th>Non-payment of Rent Breach of Lease Agreement Nuisance</th>\n",
       "      <td>1</td>\n",
       "      <td>0.0</td>\n",
       "      <td>--</td>\n",
       "      <td>--</td>\n",
       "    </tr>\n",
       "    <tr>\n",
       "      <th>Denial of Access to Unit Breach of Lease Agreement Nuisance Illegal Use of Unit</th>\n",
       "      <td>3</td>\n",
       "      <td>0.0</td>\n",
       "      <td>--</td>\n",
       "      <td>--</td>\n",
       "    </tr>\n",
       "    <tr>\n",
       "      <th>Breach of Lease Agreement Failure to Sign Lease Renewal</th>\n",
       "      <td>3</td>\n",
       "      <td>0.0</td>\n",
       "      <td>--</td>\n",
       "      <td>--</td>\n",
       "    </tr>\n",
       "    <tr>\n",
       "      <th>Denial of Access to Unit Breach of Lease Agreement Other</th>\n",
       "      <td>1</td>\n",
       "      <td>0.0</td>\n",
       "      <td>--</td>\n",
       "      <td>--</td>\n",
       "    </tr>\n",
       "    <tr>\n",
       "      <th>Habitual Late Payment of Rent Nuisance</th>\n",
       "      <td>4</td>\n",
       "      <td>0.0</td>\n",
       "      <td>--</td>\n",
       "      <td>--</td>\n",
       "    </tr>\n",
       "    <tr>\n",
       "      <th>Habitual Late Payment of Rent Breach of Lease Agreement Nuisance</th>\n",
       "      <td>6</td>\n",
       "      <td>0.0</td>\n",
       "      <td>--</td>\n",
       "      <td>--</td>\n",
       "    </tr>\n",
       "    <tr>\n",
       "      <th>Habitual Late Payment of Rent Breach of Lease Agreement Failure to Sign Lease Renewal</th>\n",
       "      <td>1</td>\n",
       "      <td>0.0</td>\n",
       "      <td>--</td>\n",
       "      <td>--</td>\n",
       "    </tr>\n",
       "    <tr>\n",
       "      <th>Denial of Access to Unit Nuisance</th>\n",
       "      <td>2</td>\n",
       "      <td>0.0</td>\n",
       "      <td>--</td>\n",
       "      <td>--</td>\n",
       "    </tr>\n",
       "    <tr>\n",
       "      <th>Good Samaritan Tenancy Ends</th>\n",
       "      <td>2</td>\n",
       "      <td>0.0</td>\n",
       "      <td>--</td>\n",
       "      <td>--</td>\n",
       "    </tr>\n",
       "    <tr>\n",
       "      <th>Lead Remediation</th>\n",
       "      <td>6</td>\n",
       "      <td>0.0</td>\n",
       "      <td>--</td>\n",
       "      <td>--</td>\n",
       "    </tr>\n",
       "    <tr>\n",
       "      <th>Habitual Late Payment of Rent Other</th>\n",
       "      <td>--</td>\n",
       "      <td>--</td>\n",
       "      <td>1</td>\n",
       "      <td>0.5</td>\n",
       "    </tr>\n",
       "    <tr>\n",
       "      <th>Habitual Late Payment of Rent Roommate Living in Same Unit Nuisance</th>\n",
       "      <td>--</td>\n",
       "      <td>--</td>\n",
       "      <td>1</td>\n",
       "      <td>0.5</td>\n",
       "    </tr>\n",
       "    <tr>\n",
       "      <th>Nuisance Other</th>\n",
       "      <td>--</td>\n",
       "      <td>--</td>\n",
       "      <td>1</td>\n",
       "      <td>0.5</td>\n",
       "    </tr>\n",
       "  </tbody>\n",
       "</table>\n",
       "</div>"
      ],
      "text/plain": [
       "built_1980                                         before pct_before after  \\\n",
       "type                                                                         \n",
       "unknown                                              5066       36.8    44   \n",
       "Breach of Lease Agreement                            3031       22.0    66   \n",
       "Nuisance                                             1621       11.8    28   \n",
       "OMI                                                  1177        8.5     3   \n",
       "Capital Improvement                                   518        3.8    --   \n",
       "Non-payment of Rent                                   487        3.5    11   \n",
       "Habitual Late Payment of Rent                         399        2.9     4   \n",
       "ELLIS                                                 346        2.5    --   \n",
       "Illegal Use of Unit                                   199        1.4     1   \n",
       "Breach of Lease Agreement Nuisance                    182        1.3     3   \n",
       "Roommate Living in Same Unit                          119        0.9     3   \n",
       "Unapproved Subtenant                                  110        0.8     1   \n",
       "Other                                                 108        0.8    18   \n",
       "Demolition                                             94        0.7    --   \n",
       "Denial of Access to Unit                               54        0.4     2   \n",
       "Nuisance Illegal Use of Unit                           46        0.3    --   \n",
       "Breach of Lease Agreement Illegal Use of Unit          34        0.2    --   \n",
       "Breach of Lease Agreement Nuisance Illegal Use ...     24        0.2    --   \n",
       "Non-payment of Rent Breach of Lease Agreement          14        0.1    --   \n",
       "Failure to Sign Lease Renewal                          19        0.1    --   \n",
       "Denial of Access to Unit Breach of Lease Agreement     10        0.1    --   \n",
       "Condo Conversion                                       17        0.1    --   \n",
       "Habitual Late Payment of Rent Breach of Lease A...     11        0.1    --   \n",
       "Non-payment of Rent Habitual Late Payment of Rent      10        0.1     1   \n",
       "Unapproved Subtenant Breach of Lease Agreement          8        0.1    --   \n",
       "Substantial Rehabilitation                              7        0.1    --   \n",
       "Breach of Lease Agreement Roommate Living in Sa...      1        0.0    --   \n",
       "Breach of Lease Agreement Other                         5        0.0     1   \n",
       "Roommate Living in Same Unit Nuisance                   6        0.0    --   \n",
       "Development Agreement                                   1        0.0    --   \n",
       "Denial of Access to Unit Breach of Lease Agreem...      4        0.0    --   \n",
       "Unapproved Subtenant Breach of Lease Agreement ...      2        0.0    --   \n",
       "Unapproved Subtenant Breach of Lease Agreement ...      1        0.0    --   \n",
       "Unapproved Subtenant Illegal Use of Unit                1        0.0    --   \n",
       "Unapproved Subtenant Nuisance                           1        0.0    --   \n",
       "Unapproved Subtenant Nuisance Illegal Use of Unit       2        0.0    --   \n",
       "Nuisance Capital Improvement                            1        0.0    --   \n",
       "Non-payment of Rent Nuisance                            2        0.0    --   \n",
       "Non-payment of Rent Unapproved Subtenant                1        0.0    --   \n",
       "Non-payment of Rent Other                               1        0.0    --   \n",
       "Denial of Access to Unit Other                          2        0.0    --   \n",
       "Non-payment of Rent Habitual Late Payment of Re...      1        0.0    --   \n",
       "Non-payment of Rent Habitual Late Payment of Re...      1        0.0    --   \n",
       "Non-payment of Rent Denial of Access to Unit            1        0.0    --   \n",
       "Non-payment of Rent Breach of Lease Agreement N...      1        0.0    --   \n",
       "Denial of Access to Unit Breach of Lease Agreem...      3        0.0    --   \n",
       "Breach of Lease Agreement Failure to Sign Lease...      3        0.0    --   \n",
       "Denial of Access to Unit Breach of Lease Agreem...      1        0.0    --   \n",
       "Habitual Late Payment of Rent Nuisance                  4        0.0    --   \n",
       "Habitual Late Payment of Rent Breach of Lease A...      6        0.0    --   \n",
       "Habitual Late Payment of Rent Breach of Lease A...      1        0.0    --   \n",
       "Denial of Access to Unit Nuisance                       2        0.0    --   \n",
       "Good Samaritan Tenancy Ends                             2        0.0    --   \n",
       "Lead Remediation                                        6        0.0    --   \n",
       "Habitual Late Payment of Rent Other                    --         --     1   \n",
       "Habitual Late Payment of Rent Roommate Living i...     --         --     1   \n",
       "Nuisance Other                                         --         --     1   \n",
       "\n",
       "built_1980                                         pct_after  \n",
       "type                                                          \n",
       "unknown                                                 23.3  \n",
       "Breach of Lease Agreement                               34.9  \n",
       "Nuisance                                                14.8  \n",
       "OMI                                                      1.6  \n",
       "Capital Improvement                                       --  \n",
       "Non-payment of Rent                                      5.8  \n",
       "Habitual Late Payment of Rent                            2.1  \n",
       "ELLIS                                                     --  \n",
       "Illegal Use of Unit                                      0.5  \n",
       "Breach of Lease Agreement Nuisance                       1.6  \n",
       "Roommate Living in Same Unit                             1.6  \n",
       "Unapproved Subtenant                                     0.5  \n",
       "Other                                                    9.5  \n",
       "Demolition                                                --  \n",
       "Denial of Access to Unit                                 1.1  \n",
       "Nuisance Illegal Use of Unit                              --  \n",
       "Breach of Lease Agreement Illegal Use of Unit             --  \n",
       "Breach of Lease Agreement Nuisance Illegal Use ...        --  \n",
       "Non-payment of Rent Breach of Lease Agreement             --  \n",
       "Failure to Sign Lease Renewal                             --  \n",
       "Denial of Access to Unit Breach of Lease Agreement        --  \n",
       "Condo Conversion                                          --  \n",
       "Habitual Late Payment of Rent Breach of Lease A...        --  \n",
       "Non-payment of Rent Habitual Late Payment of Rent        0.5  \n",
       "Unapproved Subtenant Breach of Lease Agreement            --  \n",
       "Substantial Rehabilitation                                --  \n",
       "Breach of Lease Agreement Roommate Living in Sa...        --  \n",
       "Breach of Lease Agreement Other                          0.5  \n",
       "Roommate Living in Same Unit Nuisance                     --  \n",
       "Development Agreement                                     --  \n",
       "Denial of Access to Unit Breach of Lease Agreem...        --  \n",
       "Unapproved Subtenant Breach of Lease Agreement ...        --  \n",
       "Unapproved Subtenant Breach of Lease Agreement ...        --  \n",
       "Unapproved Subtenant Illegal Use of Unit                  --  \n",
       "Unapproved Subtenant Nuisance                             --  \n",
       "Unapproved Subtenant Nuisance Illegal Use of Unit         --  \n",
       "Nuisance Capital Improvement                              --  \n",
       "Non-payment of Rent Nuisance                              --  \n",
       "Non-payment of Rent Unapproved Subtenant                  --  \n",
       "Non-payment of Rent Other                                 --  \n",
       "Denial of Access to Unit Other                            --  \n",
       "Non-payment of Rent Habitual Late Payment of Re...        --  \n",
       "Non-payment of Rent Habitual Late Payment of Re...        --  \n",
       "Non-payment of Rent Denial of Access to Unit              --  \n",
       "Non-payment of Rent Breach of Lease Agreement N...        --  \n",
       "Denial of Access to Unit Breach of Lease Agreem...        --  \n",
       "Breach of Lease Agreement Failure to Sign Lease...        --  \n",
       "Denial of Access to Unit Breach of Lease Agreem...        --  \n",
       "Habitual Late Payment of Rent Nuisance                    --  \n",
       "Habitual Late Payment of Rent Breach of Lease A...        --  \n",
       "Habitual Late Payment of Rent Breach of Lease A...        --  \n",
       "Denial of Access to Unit Nuisance                         --  \n",
       "Good Samaritan Tenancy Ends                               --  \n",
       "Lead Remediation                                          --  \n",
       "Habitual Late Payment of Rent Other                      0.5  \n",
       "Habitual Late Payment of Rent Roommate Living i...       0.5  \n",
       "Nuisance Other                                           0.5  "
      ]
     },
     "execution_count": 50,
     "metadata": {},
     "output_type": "execute_result"
    }
   ],
   "source": [
    "type_counts"
   ]
  },
  {
   "cell_type": "markdown",
   "metadata": {},
   "source": [
    "# RD "
   ]
  },
  {
   "cell_type": "code",
   "execution_count": 51,
   "metadata": {},
   "outputs": [],
   "source": [
    "bandwidth = 27\n",
    "\n",
    "df = asr[\n",
    "    (asr['any_rc_eligibility'] == 1) & (asr['year_built_max'] > 1980 - bandwidth) &\n",
    "    (asr['year_built_max'] < 1980 + bandwidth) & (asr['total_units'] > 0)].copy()"
   ]
  },
  {
   "cell_type": "code",
   "execution_count": 52,
   "metadata": {},
   "outputs": [
    {
     "data": {
      "text/plain": [
       "(54388, 33)"
      ]
     },
     "execution_count": 52,
     "metadata": {},
     "output_type": "execute_result"
    }
   ],
   "source": [
    "df.shape"
   ]
  },
  {
   "cell_type": "code",
   "execution_count": 104,
   "metadata": {},
   "outputs": [
    {
     "data": {
      "text/plain": [
       "895"
      ]
     },
     "execution_count": 104,
     "metadata": {},
     "output_type": "execute_result"
    }
   ],
   "source": [
    "54388 - 53493"
   ]
  },
  {
   "cell_type": "code",
   "execution_count": 53,
   "metadata": {},
   "outputs": [],
   "source": [
    "df['rent_control'] = False\n",
    "df.loc[df['pre_1980'] == True, 'rent_control'] = True\n",
    "df['year_built_centered'] = df['year_built_max'] - 1980"
   ]
  },
  {
   "cell_type": "code",
   "execution_count": 54,
   "metadata": {},
   "outputs": [
    {
     "data": {
      "text/plain": [
       "2370"
      ]
     },
     "execution_count": 54,
     "metadata": {},
     "output_type": "execute_result"
    }
   ],
   "source": [
    "df['ev_count'].sum()"
   ]
  },
  {
   "cell_type": "markdown",
   "metadata": {},
   "source": [
    "### Model 1"
   ]
  },
  {
   "cell_type": "code",
   "execution_count": 55,
   "metadata": {},
   "outputs": [],
   "source": [
    "rd = smf.ols(\n",
    "    \"ev_per_unit ~ rent_control + year_built_centered*rent_control\",\n",
    "    data=df)"
   ]
  },
  {
   "cell_type": "code",
   "execution_count": 56,
   "metadata": {},
   "outputs": [],
   "source": [
    "fitted = rd.fit()"
   ]
  },
  {
   "cell_type": "code",
   "execution_count": 57,
   "metadata": {},
   "outputs": [
    {
     "name": "stdout",
     "output_type": "stream",
     "text": [
      "                            OLS Regression Results                            \n",
      "==============================================================================\n",
      "Dep. Variable:            ev_per_unit   R-squared:                       0.000\n",
      "Model:                            OLS   Adj. R-squared:                  0.000\n",
      "Method:                 Least Squares   F-statistic:                     7.953\n",
      "Date:                Wed, 30 Jun 2021   Prob (F-statistic):           2.68e-05\n",
      "Time:                        12:41:51   Log-Likelihood:                 19572.\n",
      "No. Observations:               54388   AIC:                        -3.914e+04\n",
      "Df Residuals:                   54384   BIC:                        -3.910e+04\n",
      "Df Model:                           3                                         \n",
      "Covariance Type:            nonrobust                                         \n",
      "============================================================================================================\n",
      "                                               coef    std err          t      P>|t|      [0.025      0.975]\n",
      "------------------------------------------------------------------------------------------------------------\n",
      "Intercept                                    0.0036      0.003      1.406      0.160      -0.001       0.009\n",
      "rent_control[T.True]                         0.0107      0.003      3.308      0.001       0.004       0.017\n",
      "year_built_centered                          0.0002      0.000      0.843      0.399      -0.000       0.001\n",
      "year_built_centered:rent_control[T.True]    -0.0001      0.000     -0.518      0.604      -0.001       0.000\n",
      "==============================================================================\n",
      "Omnibus:                   158834.969   Durbin-Watson:                   1.987\n",
      "Prob(Omnibus):                  0.000   Jarque-Bera (JB):      15415987232.601\n",
      "Skew:                          40.719   Prob(JB):                         0.00\n",
      "Kurtosis:                    2609.921   Cond. No.                         112.\n",
      "==============================================================================\n",
      "\n",
      "Notes:\n",
      "[1] Standard Errors assume that the covariance matrix of the errors is correctly specified.\n"
     ]
    }
   ],
   "source": [
    "print(fitted.summary())"
   ]
  },
  {
   "cell_type": "markdown",
   "metadata": {},
   "source": [
    "### Model 2: Standard RDD + Property Characteristics"
   ]
  },
  {
   "cell_type": "code",
   "execution_count": 58,
   "metadata": {},
   "outputs": [],
   "source": [
    "rd2_df = df[(df['total_sqft'] > 50) & (df['total_value'] > 100)].copy()"
   ]
  },
  {
   "cell_type": "code",
   "execution_count": 59,
   "metadata": {},
   "outputs": [],
   "source": [
    "rd2 = smf.ols(\n",
    "    \"ev_per_unit ~ rent_control + year_built_centered*rent_control + \"\n",
    "    \"np.log(total_value):np.log(total_sqft) + np.log(total_units)\",\n",
    "    data=rd2_df)"
   ]
  },
  {
   "cell_type": "code",
   "execution_count": 60,
   "metadata": {},
   "outputs": [
    {
     "name": "stdout",
     "output_type": "stream",
     "text": [
      "                            OLS Regression Results                            \n",
      "==============================================================================\n",
      "Dep. Variable:            ev_per_unit   R-squared:                       0.008\n",
      "Model:                            OLS   Adj. R-squared:                  0.008\n",
      "Method:                 Least Squares   F-statistic:                     91.86\n",
      "Date:                Wed, 30 Jun 2021   Prob (F-statistic):           1.28e-96\n",
      "Time:                        12:41:55   Log-Likelihood:                 20170.\n",
      "No. Observations:               53600   AIC:                        -4.033e+04\n",
      "Df Residuals:                   53594   BIC:                        -4.028e+04\n",
      "Df Model:                           5                                         \n",
      "Covariance Type:            nonrobust                                         \n",
      "============================================================================================================\n",
      "                                               coef    std err          t      P>|t|      [0.025      0.975]\n",
      "------------------------------------------------------------------------------------------------------------\n",
      "Intercept                                   -0.1001      0.007    -15.194      0.000      -0.113      -0.087\n",
      "rent_control[T.True]                         0.0138      0.003      4.272      0.000       0.007       0.020\n",
      "year_built_centered                         -0.0003      0.000     -1.101      0.271      -0.001       0.000\n",
      "year_built_centered:rent_control[T.True]    -0.0001      0.000     -0.455      0.649      -0.001       0.000\n",
      "np.log(total_value):np.log(total_sqft)       0.0011   6.02e-05     18.446      0.000       0.001       0.001\n",
      "np.log(total_units)                         -0.0217      0.001    -19.736      0.000      -0.024      -0.020\n",
      "==============================================================================\n",
      "Omnibus:                   157469.170   Durbin-Watson:                   1.995\n",
      "Prob(Omnibus):                  0.000   Jarque-Bera (JB):      16739523652.002\n",
      "Skew:                          41.354   Prob(JB):                         0.00\n",
      "Kurtosis:                    2739.507   Cond. No.                     1.07e+03\n",
      "==============================================================================\n",
      "\n",
      "Notes:\n",
      "[1] Standard Errors assume that the covariance matrix of the errors is correctly specified.\n",
      "[2] The condition number is large, 1.07e+03. This might indicate that there are\n",
      "strong multicollinearity or other numerical problems.\n"
     ]
    }
   ],
   "source": [
    "fitted2 = rd2.fit()\n",
    "print(fitted2.summary())"
   ]
  },
  {
   "cell_type": "markdown",
   "metadata": {},
   "source": [
    "### Model 3: Standard RDD + Property Characteristics + Census Tract Attributes"
   ]
  },
  {
   "cell_type": "code",
   "execution_count": 61,
   "metadata": {},
   "outputs": [],
   "source": [
    "census_df = pd.read_csv('../data/census_tract_acs_data.csv', dtype={'tract_id': str})"
   ]
  },
  {
   "cell_type": "code",
   "execution_count": 62,
   "metadata": {},
   "outputs": [],
   "source": [
    "asr['tract_id'] = asr['fipscd'].astype(str).str.zfill(15).str[:11]"
   ]
  },
  {
   "cell_type": "code",
   "execution_count": 63,
   "metadata": {},
   "outputs": [],
   "source": [
    "asr = pd.merge(asr, census_df, on='tract_id', how='left')"
   ]
  },
  {
   "cell_type": "code",
   "execution_count": 64,
   "metadata": {},
   "outputs": [
    {
     "name": "stdout",
     "output_type": "stream",
     "text": [
      "Dropped 301 parcels (0.02%) and 3 evictions merging on tract-level census data\n"
     ]
    }
   ],
   "source": [
    "dropped_parcels = len(asr[pd.isnull(asr['median_hh_income'])])\n",
    "dropped_evs = asr[pd.isnull(asr['median_hh_income'])]['ev_count'].sum()\n",
    "print('Dropped {0} parcels ({1}%) and {2} evictions merging on tract-level census data'.format(\n",
    "    dropped_parcels, np.round(dropped_parcels/len(asr)*100, 2), dropped_evs))"
   ]
  },
  {
   "cell_type": "code",
   "execution_count": 65,
   "metadata": {},
   "outputs": [],
   "source": [
    "rd3_df = asr[\n",
    "    (asr['any_rc_eligibility'] == 1) & (asr['year_built_max'] > 1980 - bandwidth) &\n",
    "    (asr['year_built_max'] < 1980 + bandwidth) & (asr['total_units'] > 0) & \n",
    "    (asr['total_sqft'] > 50) & (asr['total_value'] > 100)].copy()\n",
    "rd3_df['rent_control'] = False\n",
    "rd3_df.loc[rd3_df['pre_1980'] == True, 'rent_control'] = True\n",
    "rd3_df['year_built_centered'] = rd3_df['year_built_max'] - 1980"
   ]
  },
  {
   "cell_type": "code",
   "execution_count": 66,
   "metadata": {},
   "outputs": [],
   "source": [
    "rd3_df['pct_non_white'] = 1 - (rd3_df['white_only_pop'] / rd3_df['total_pop_race'])\n",
    "rd3_df['pct_black'] = (rd3_df['black_only_pop'] / rd3_df['total_pop_race'])\n",
    "rd3_df['pct_black_multi'] = (rd3_df['black_only_pop'] + rd3_df['multiracial_pop']) / rd3_df['total_pop_race']\n",
    "rd3_df['pct_latino'] = rd3_df['hispanic_pop'] / rd3_df['total_pop_race']\n",
    "rd3_df['pct_occ_units_rental'] = rd3_df['total_rental_tenure'] / rd3_df['total_occupied_units']\n",
    "rd3_df['pct_renter_pop'] = rd3_df['total_renter_pop'] / rd3_df['total_pop_tenure']\n",
    "rd3_df['pct_rentals_pre2000_movein'] = (\n",
    "    rd3_df['total_rental_tenure'] - rd3_df['renter_movein_2005_later'] - rd3_df['renter_movein_2000_2004']) / (\n",
    "    rd3_df['total_rental_tenure'])\n",
    "rd3_df['pct_renter_same_house_last_yr'] = rd3_df['renter_non_mover'] / rd3_df['total_renter_pop']"
   ]
  },
  {
   "cell_type": "code",
   "execution_count": 67,
   "metadata": {},
   "outputs": [],
   "source": [
    "rd3_df = rd3_df[(rd3_df['median_movein_yr_owners'] > 0) & (rd3_df['median_movein_yr_renters'] > 0)]\n",
    "rd3_df['yrs_before_2011_median_movein_yr_rent'] = rd3_df['median_movein_yr_renters'] - rd3_df['median_movein_yr_renters']\n",
    "rd3_df['yrs_before_2011_median_movein_yr_own'] = 2011 - rd3_df['median_movein_yr_owners']\n",
    "rd3_df['median_movein_yr_rent_std'] = (rd3_df['median_movein_yr_renters'] - rd3_df['median_movein_yr_renters'].mean()) / rd3_df['median_movein_yr_renters'].std()\n",
    "rd3_df['median_movein_yr_own_std'] = (rd3_df['median_movein_yr_owners'] - rd3_df['median_movein_yr_owners'].mean()) / rd3_df['median_movein_yr_owners'].std()"
   ]
  },
  {
   "cell_type": "code",
   "execution_count": 68,
   "metadata": {},
   "outputs": [],
   "source": [
    "rd3_df['pct_recent_mover_rent'] = 1 - (rd3_df['renter_non_mover'] / rd3_df['total_renter_pop'])"
   ]
  },
  {
   "cell_type": "code",
   "execution_count": 69,
   "metadata": {},
   "outputs": [],
   "source": [
    "rd3 = smf.ols(\n",
    "    \"ev_per_unit ~ rent_control + year_built_centered*rent_control + \"\n",
    "    \"np.log(total_value):np.log(total_sqft) + np.log(total_units) + \"\n",
    "    \"np.log(median_hh_income) + \"\n",
    "    \"pct_non_white + \"\n",
    "    \"pct_occ_units_rental + \"\n",
    "    \"pct_rentals_pre2000_movein\",\n",
    "    data=rd3_df)"
   ]
  },
  {
   "cell_type": "code",
   "execution_count": 70,
   "metadata": {},
   "outputs": [
    {
     "name": "stdout",
     "output_type": "stream",
     "text": [
      "                            OLS Regression Results                            \n",
      "==============================================================================\n",
      "Dep. Variable:            ev_per_unit   R-squared:                       0.008\n",
      "Model:                            OLS   Adj. R-squared:                  0.008\n",
      "Method:                 Least Squares   F-statistic:                     47.25\n",
      "Date:                Wed, 30 Jun 2021   Prob (F-statistic):           1.27e-85\n",
      "Time:                        12:42:10   Log-Likelihood:                 20951.\n",
      "No. Observations:               53493   AIC:                        -4.188e+04\n",
      "Df Residuals:                   53483   BIC:                        -4.179e+04\n",
      "Df Model:                           9                                         \n",
      "Covariance Type:            nonrobust                                         \n",
      "============================================================================================================\n",
      "                                               coef    std err          t      P>|t|      [0.025      0.975]\n",
      "------------------------------------------------------------------------------------------------------------\n",
      "Intercept                                   -0.0780      0.051     -1.524      0.128      -0.178       0.022\n",
      "rent_control[T.True]                         0.0141      0.003      4.414      0.000       0.008       0.020\n",
      "year_built_centered                         -0.0002      0.000     -0.808      0.419      -0.001       0.000\n",
      "year_built_centered:rent_control[T.True]    -0.0002      0.000     -0.679      0.497      -0.001       0.000\n",
      "np.log(total_value):np.log(total_sqft)       0.0010   6.07e-05     16.547      0.000       0.001       0.001\n",
      "np.log(total_units)                         -0.0209      0.001    -19.050      0.000      -0.023      -0.019\n",
      "np.log(median_hh_income)                    -0.0018      0.004     -0.451      0.652      -0.010       0.006\n",
      "pct_non_white                                0.0037      0.007      0.549      0.583      -0.009       0.017\n",
      "pct_occ_units_rental                         0.0170      0.006      2.763      0.006       0.005       0.029\n",
      "pct_rentals_pre2000_movein                  -0.0108      0.010     -1.035      0.301      -0.031       0.010\n",
      "==============================================================================\n",
      "Omnibus:                   158111.583   Durbin-Watson:                   2.013\n",
      "Prob(Omnibus):                  0.000   Jarque-Bera (JB):      18215458777.753\n",
      "Skew:                          42.022   Prob(JB):                         0.00\n",
      "Kurtosis:                    2860.521   Cond. No.                     8.44e+03\n",
      "==============================================================================\n",
      "\n",
      "Notes:\n",
      "[1] Standard Errors assume that the covariance matrix of the errors is correctly specified.\n",
      "[2] The condition number is large, 8.44e+03. This might indicate that there are\n",
      "strong multicollinearity or other numerical problems.\n"
     ]
    }
   ],
   "source": [
    "fitted3 = rd3.fit()\n",
    "print(fitted3.summary())"
   ]
  },
  {
   "cell_type": "code",
   "execution_count": 71,
   "metadata": {},
   "outputs": [
    {
     "name": "stdout",
     "output_type": "stream",
     "text": [
      "                            OLS Regression Results                            \n",
      "==============================================================================\n",
      "Dep. Variable:            ev_per_unit   R-squared:                       0.008\n",
      "Model:                            OLS   Adj. R-squared:                  0.008\n",
      "Method:                 Least Squares   F-statistic:                     64.24\n",
      "Date:                Wed, 30 Jun 2021   Prob (F-statistic):           1.32e-92\n",
      "Time:                        12:42:14   Log-Likelihood:                 20963.\n",
      "No. Observations:               53493   AIC:                        -4.191e+04\n",
      "Df Residuals:                   53485   BIC:                        -4.184e+04\n",
      "Df Model:                           7                                         \n",
      "Covariance Type:            nonrobust                                         \n",
      "============================================================================================================\n",
      "                                               coef    std err          t      P>|t|      [0.025      0.975]\n",
      "------------------------------------------------------------------------------------------------------------\n",
      "Intercept                                   -0.1075      0.007    -15.271      0.000      -0.121      -0.094\n",
      "rent_control[T.True]                         0.0135      0.003      4.246      0.000       0.007       0.020\n",
      "year_built_centered                         -0.0003      0.000     -1.094      0.274      -0.001       0.000\n",
      "year_built_centered:rent_control[T.True]    -0.0001      0.000     -0.547      0.585      -0.001       0.000\n",
      "np.log(total_value):np.log(total_sqft)       0.0010   6.08e-05     17.004      0.000       0.001       0.001\n",
      "np.log(total_units)                         -0.0212      0.001    -19.300      0.000      -0.023      -0.019\n",
      "pct_latino                                   0.0371      0.007      5.207      0.000       0.023       0.051\n",
      "pct_occ_units_rental                         0.0184      0.005      4.003      0.000       0.009       0.027\n",
      "==============================================================================\n",
      "Omnibus:                   158129.608   Durbin-Watson:                   2.013\n",
      "Prob(Omnibus):                  0.000   Jarque-Bera (JB):      18251423631.472\n",
      "Skew:                          42.035   Prob(JB):                         0.00\n",
      "Kurtosis:                    2863.342   Cond. No.                     1.30e+03\n",
      "==============================================================================\n",
      "\n",
      "Notes:\n",
      "[1] Standard Errors assume that the covariance matrix of the errors is correctly specified.\n",
      "[2] The condition number is large, 1.3e+03. This might indicate that there are\n",
      "strong multicollinearity or other numerical problems.\n"
     ]
    }
   ],
   "source": [
    "rd3b = smf.ols(\n",
    "    \"ev_per_unit ~ rent_control + year_built_centered*rent_control + \"\n",
    "    \"np.log(total_value):np.log(total_sqft) + np.log(total_units) + \"\n",
    "#     \"np.log(median_hh_income) + \"\n",
    "    \"pct_latino +\"\n",
    "#     \"median_movein_yr_rent_std +\"\n",
    "#     \"pct_recent_mover_rent +\"\n",
    "    \"pct_occ_units_rental\",\n",
    "#     \"pct_rentals_pre2000_movein\",\n",
    "    data=rd3_df)\n",
    "fitted3b = rd3b.fit()\n",
    "print(fitted3b.summary())"
   ]
  },
  {
   "cell_type": "markdown",
   "metadata": {},
   "source": [
    "### Model 4: Standard RDD + Property Characteristics + Census Tract Attributes + Neighborhood Fixed Effects"
   ]
  },
  {
   "cell_type": "code",
   "execution_count": 72,
   "metadata": {},
   "outputs": [],
   "source": [
    "rd4_df = rd3_df.copy()"
   ]
  },
  {
   "cell_type": "code",
   "execution_count": 73,
   "metadata": {},
   "outputs": [],
   "source": [
    "rd4 = smf.ols(\n",
    "    \"ev_per_unit ~ rent_control + year_built_centered*rent_control + \"\n",
    "    \"np.log(total_value):np.log(total_sqft) + np.log(total_units) + \"\n",
    "    \"pct_latino + \"\n",
    "    \"pct_occ_units_rental + \"\n",
    "    \"nbd_code\",\n",
    "    data=rd4_df)"
   ]
  },
  {
   "cell_type": "code",
   "execution_count": 74,
   "metadata": {
    "scrolled": false
   },
   "outputs": [
    {
     "name": "stdout",
     "output_type": "stream",
     "text": [
      "                            OLS Regression Results                            \n",
      "==============================================================================\n",
      "Dep. Variable:            ev_per_unit   R-squared:                       0.010\n",
      "Model:                            OLS   Adj. R-squared:                  0.008\n",
      "Method:                 Least Squares   F-statistic:                     6.377\n",
      "Date:                Wed, 30 Jun 2021   Prob (F-statistic):           5.01e-65\n",
      "Time:                        12:42:20   Log-Likelihood:                 21000.\n",
      "No. Observations:               53493   AIC:                        -4.183e+04\n",
      "Df Residuals:                   53410   BIC:                        -4.110e+04\n",
      "Df Model:                          82                                         \n",
      "Covariance Type:            nonrobust                                         \n",
      "============================================================================================================\n",
      "                                               coef    std err          t      P>|t|      [0.025      0.975]\n",
      "------------------------------------------------------------------------------------------------------------\n",
      "Intercept                                   -0.1102      0.009    -12.046      0.000      -0.128      -0.092\n",
      "rent_control[T.True]                         0.0141      0.003      4.332      0.000       0.008       0.021\n",
      "nbd_code[T.01B]                              0.0017      0.004      0.476      0.634      -0.005       0.009\n",
      "nbd_code[T.01C]                             -0.0048      0.007     -0.669      0.504      -0.019       0.009\n",
      "nbd_code[T.01D]                              0.0039      0.005      0.754      0.451      -0.006       0.014\n",
      "nbd_code[T.01E]                              0.0012      0.004      0.324      0.746      -0.006       0.009\n",
      "nbd_code[T.01F]                              0.0058      0.020      0.287      0.774      -0.034       0.045\n",
      "nbd_code[T.01G]                             -0.0083      0.006     -1.465      0.143      -0.019       0.003\n",
      "nbd_code[T.02A]                              0.0089      0.014      0.616      0.538      -0.019       0.037\n",
      "nbd_code[T.02B]                              0.0065      0.006      1.072      0.284      -0.005       0.018\n",
      "nbd_code[T.02C]                              0.0096      0.004      2.328      0.020       0.002       0.018\n",
      "nbd_code[T.02D]                              0.0132      0.009      1.534      0.125      -0.004       0.030\n",
      "nbd_code[T.02E]                              0.0026      0.005      0.552      0.581      -0.007       0.012\n",
      "nbd_code[T.02F]                              0.0041      0.003      1.174      0.240      -0.003       0.011\n",
      "nbd_code[T.02G]                              0.0122      0.016      0.747      0.455      -0.020       0.044\n",
      "nbd_code[T.03G]                             -0.0014      0.012     -0.113      0.910      -0.025       0.022\n",
      "nbd_code[T.03H]                              0.0090      0.009      0.974      0.330      -0.009       0.027\n",
      "nbd_code[T.03J]                             -0.0083      0.016     -0.512      0.609      -0.040       0.023\n",
      "nbd_code[T.04B]                             -0.0118      0.012     -0.947      0.344      -0.036       0.013\n",
      "nbd_code[T.04C]                              0.0001      0.008      0.016      0.987      -0.015       0.015\n",
      "nbd_code[T.04D]                             -0.0015      0.008     -0.194      0.846      -0.017       0.014\n",
      "nbd_code[T.04F]                             -0.0039      0.015     -0.255      0.798      -0.034       0.026\n",
      "nbd_code[T.04H]                             -0.0053      0.012     -0.434      0.665      -0.029       0.019\n",
      "nbd_code[T.04N]                              0.0061      0.013      0.478      0.633      -0.019       0.031\n",
      "nbd_code[T.04S]                             -0.0024      0.008     -0.297      0.767      -0.019       0.014\n",
      "nbd_code[T.04T]                             -0.0217      0.052     -0.417      0.676      -0.124       0.080\n",
      "nbd_code[T.05A]                             -0.0027      0.007     -0.413      0.680      -0.016       0.010\n",
      "nbd_code[T.05B]                              0.0049      0.008      0.644      0.520      -0.010       0.020\n",
      "nbd_code[T.05C]                              0.0001      0.004      0.024      0.981      -0.008       0.008\n",
      "nbd_code[T.05D]                              0.0058      0.005      1.064      0.287      -0.005       0.017\n",
      "nbd_code[T.05E]                             -0.0015      0.007     -0.198      0.843      -0.016       0.013\n",
      "nbd_code[T.05F]                             -0.0031      0.012     -0.264      0.792      -0.026       0.020\n",
      "nbd_code[T.05G]                             -0.0025      0.006     -0.415      0.678      -0.015       0.009\n",
      "nbd_code[T.05H]                              0.0006      0.016      0.036      0.971      -0.032       0.033\n",
      "nbd_code[T.05J]                             -0.0069      0.016     -0.440      0.660      -0.038       0.024\n",
      "nbd_code[T.05K]                              0.0034      0.005      0.692      0.489      -0.006       0.013\n",
      "nbd_code[T.05M]                              0.0049      0.007      0.670      0.503      -0.009       0.019\n",
      "nbd_code[T.06A]                             -0.0124      0.011     -1.126      0.260      -0.034       0.009\n",
      "nbd_code[T.06B]                              0.0155      0.008      1.920      0.055      -0.000       0.031\n",
      "nbd_code[T.06C]                             -0.0042      0.006     -0.648      0.517      -0.017       0.008\n",
      "nbd_code[T.06D]                             -0.0158      0.011     -1.428      0.153      -0.037       0.006\n",
      "nbd_code[T.06E]                              0.0073      0.017      0.440      0.660      -0.025       0.040\n",
      "nbd_code[T.06F]                             -0.0028      0.010     -0.292      0.770      -0.022       0.016\n",
      "nbd_code[T.07A]                              0.0040      0.008      0.535      0.592      -0.011       0.019\n",
      "nbd_code[T.07B]                              0.0094      0.006      1.709      0.087      -0.001       0.020\n",
      "nbd_code[T.07C]                             -0.0082      0.024     -0.343      0.732      -0.055       0.039\n",
      "nbd_code[T.07D]                             -0.0068      0.006     -1.104      0.270      -0.019       0.005\n",
      "nbd_code[T.08A]                              0.0504      0.018      2.824      0.005       0.015       0.085\n",
      "nbd_code[T.08B]                             -0.0206      0.032     -0.638      0.523      -0.084       0.043\n",
      "nbd_code[T.08C]                             -0.0094      0.007     -1.399      0.162      -0.023       0.004\n",
      "nbd_code[T.08D]                              0.0007      0.013      0.053      0.958      -0.024       0.026\n",
      "nbd_code[T.08E]                              0.0023      0.006      0.398      0.690      -0.009       0.014\n",
      "nbd_code[T.08F]                              0.0212      0.013      1.680      0.093      -0.004       0.046\n",
      "nbd_code[T.08G]                             -0.0013      0.007     -0.198      0.843      -0.014       0.012\n",
      "nbd_code[T.08H]                              0.0981      0.025      3.876      0.000       0.048       0.148\n",
      "nbd_code[T.09A]                             -0.0040      0.008     -0.523      0.601      -0.019       0.011\n",
      "nbd_code[T.09B]                             -0.0371      0.050     -0.747      0.455      -0.134       0.060\n",
      "nbd_code[T.09C]                              0.0005      0.007      0.081      0.935      -0.012       0.013\n",
      "nbd_code[T.09D]                             -0.0122      0.030     -0.402      0.687      -0.072       0.047\n",
      "nbd_code[T.09E]                              0.0032      0.005      0.655      0.513      -0.006       0.013\n",
      "nbd_code[T.09F]                              0.0102      0.012      0.878      0.380      -0.013       0.033\n",
      "nbd_code[T.09G]                              0.0051      0.007      0.699      0.485      -0.009       0.020\n",
      "nbd_code[T.09H]                             -0.0271      0.028     -0.968      0.333      -0.082       0.028\n",
      "nbd_code[T.10A]                              0.0072      0.009      0.814      0.416      -0.010       0.025\n",
      "nbd_code[T.10B]                              0.0030      0.009      0.316      0.752      -0.016       0.022\n",
      "nbd_code[T.10C]                             -0.0046      0.009     -0.517      0.605      -0.022       0.013\n",
      "nbd_code[T.10D]                             -0.0008      0.011     -0.072      0.942      -0.022       0.020\n",
      "nbd_code[T.10E]                              0.0082      0.010      0.840      0.401      -0.011       0.027\n",
      "nbd_code[T.10F]                             -0.0032      0.008     -0.426      0.670      -0.018       0.012\n",
      "nbd_code[T.10G]                             -0.0023      0.014     -0.161      0.872      -0.030       0.025\n",
      "nbd_code[T.10H]                              0.0005      0.010      0.045      0.964      -0.020       0.021\n",
      "nbd_code[T.10J]                              0.0092      0.036      0.255      0.799      -0.061       0.080\n",
      "nbd_code[T.10K]                             -0.0019      0.015     -0.127      0.899      -0.031       0.028\n",
      "nbd_code[T.['05B' '06A']]                   -0.0105      0.164     -0.064      0.949      -0.331       0.310\n",
      "nbd_code[T.['06F' '07A']]                   -0.0092      0.055     -0.169      0.866      -0.116       0.098\n",
      "nbd_code[T.['10A' '10G']]                    0.0025      0.052      0.047      0.962      -0.100       0.104\n",
      "nbd_code[T.unknown]                         -0.0117      0.164     -0.071      0.943      -0.332       0.309\n",
      "year_built_centered                         -0.0003      0.000     -1.142      0.253      -0.001       0.000\n",
      "year_built_centered:rent_control[T.True] -9.266e-05      0.000     -0.349      0.727      -0.001       0.000\n",
      "np.log(total_value):np.log(total_sqft)       0.0010    6.5e-05     15.910      0.000       0.001       0.001\n",
      "np.log(total_units)                         -0.0216      0.001    -19.441      0.000      -0.024      -0.019\n",
      "pct_latino                                   0.0406      0.015      2.622      0.009       0.010       0.071\n",
      "pct_occ_units_rental                         0.0199      0.009      2.334      0.020       0.003       0.037\n",
      "==============================================================================\n",
      "Omnibus:                   158130.086   Durbin-Watson:                   2.014\n",
      "Prob(Omnibus):                  0.000   Jarque-Bera (JB):      18282960516.701\n",
      "Skew:                          42.034   Prob(JB):                         0.00\n",
      "Kurtosis:                    2865.815   Cond. No.                     2.66e+04\n",
      "==============================================================================\n",
      "\n",
      "Notes:\n",
      "[1] Standard Errors assume that the covariance matrix of the errors is correctly specified.\n",
      "[2] The condition number is large, 2.66e+04. This might indicate that there are\n",
      "strong multicollinearity or other numerical problems.\n"
     ]
    }
   ],
   "source": [
    "fitted4 = rd4.fit()\n",
    "print(fitted4.summary())"
   ]
  },
  {
   "cell_type": "code",
   "execution_count": 75,
   "metadata": {
    "scrolled": false
   },
   "outputs": [
    {
     "name": "stdout",
     "output_type": "stream",
     "text": [
      "                            OLS Regression Results                            \n",
      "==============================================================================\n",
      "Dep. Variable:            ev_per_unit   R-squared:                       0.010\n",
      "Model:                            OLS   Adj. R-squared:                  0.008\n",
      "Method:                 Least Squares   F-statistic:                     6.377\n",
      "Date:                Wed, 30 Jun 2021   Prob (F-statistic):           5.01e-65\n",
      "Time:                        12:42:29   Log-Likelihood:                 21000.\n",
      "No. Observations:               53493   AIC:                        -4.183e+04\n",
      "Df Residuals:                   53410   BIC:                        -4.110e+04\n",
      "Df Model:                          82                                         \n",
      "Covariance Type:            nonrobust                                         \n",
      "============================================================================================================\n",
      "                                               coef    std err          t      P>|t|      [0.025      0.975]\n",
      "------------------------------------------------------------------------------------------------------------\n",
      "Intercept                                   -0.1102      0.009    -12.046      0.000      -0.128      -0.092\n",
      "rent_control[T.True]                         0.0141      0.003      4.332      0.000       0.008       0.021\n",
      "nbd_code[T.01B]                              0.0017      0.004      0.476      0.634      -0.005       0.009\n",
      "nbd_code[T.01C]                             -0.0048      0.007     -0.669      0.504      -0.019       0.009\n",
      "nbd_code[T.01D]                              0.0039      0.005      0.754      0.451      -0.006       0.014\n",
      "nbd_code[T.01E]                              0.0012      0.004      0.324      0.746      -0.006       0.009\n",
      "nbd_code[T.01F]                              0.0058      0.020      0.287      0.774      -0.034       0.045\n",
      "nbd_code[T.01G]                             -0.0083      0.006     -1.465      0.143      -0.019       0.003\n",
      "nbd_code[T.02A]                              0.0089      0.014      0.616      0.538      -0.019       0.037\n",
      "nbd_code[T.02B]                              0.0065      0.006      1.072      0.284      -0.005       0.018\n",
      "nbd_code[T.02C]                              0.0096      0.004      2.328      0.020       0.002       0.018\n",
      "nbd_code[T.02D]                              0.0132      0.009      1.534      0.125      -0.004       0.030\n",
      "nbd_code[T.02E]                              0.0026      0.005      0.552      0.581      -0.007       0.012\n",
      "nbd_code[T.02F]                              0.0041      0.003      1.174      0.240      -0.003       0.011\n",
      "nbd_code[T.02G]                              0.0122      0.016      0.747      0.455      -0.020       0.044\n",
      "nbd_code[T.03G]                             -0.0014      0.012     -0.113      0.910      -0.025       0.022\n",
      "nbd_code[T.03H]                              0.0090      0.009      0.974      0.330      -0.009       0.027\n",
      "nbd_code[T.03J]                             -0.0083      0.016     -0.512      0.609      -0.040       0.023\n",
      "nbd_code[T.04B]                             -0.0118      0.012     -0.947      0.344      -0.036       0.013\n",
      "nbd_code[T.04C]                              0.0001      0.008      0.016      0.987      -0.015       0.015\n",
      "nbd_code[T.04D]                             -0.0015      0.008     -0.194      0.846      -0.017       0.014\n",
      "nbd_code[T.04F]                             -0.0039      0.015     -0.255      0.798      -0.034       0.026\n",
      "nbd_code[T.04H]                             -0.0053      0.012     -0.434      0.665      -0.029       0.019\n",
      "nbd_code[T.04N]                              0.0061      0.013      0.478      0.633      -0.019       0.031\n",
      "nbd_code[T.04S]                             -0.0024      0.008     -0.297      0.767      -0.019       0.014\n",
      "nbd_code[T.04T]                             -0.0217      0.052     -0.417      0.676      -0.124       0.080\n",
      "nbd_code[T.05A]                             -0.0027      0.007     -0.413      0.680      -0.016       0.010\n",
      "nbd_code[T.05B]                              0.0049      0.008      0.644      0.520      -0.010       0.020\n",
      "nbd_code[T.05C]                              0.0001      0.004      0.024      0.981      -0.008       0.008\n",
      "nbd_code[T.05D]                              0.0058      0.005      1.064      0.287      -0.005       0.017\n",
      "nbd_code[T.05E]                             -0.0015      0.007     -0.198      0.843      -0.016       0.013\n",
      "nbd_code[T.05F]                             -0.0031      0.012     -0.264      0.792      -0.026       0.020\n",
      "nbd_code[T.05G]                             -0.0025      0.006     -0.415      0.678      -0.015       0.009\n",
      "nbd_code[T.05H]                              0.0006      0.016      0.036      0.971      -0.032       0.033\n",
      "nbd_code[T.05J]                             -0.0069      0.016     -0.440      0.660      -0.038       0.024\n",
      "nbd_code[T.05K]                              0.0034      0.005      0.692      0.489      -0.006       0.013\n",
      "nbd_code[T.05M]                              0.0049      0.007      0.670      0.503      -0.009       0.019\n",
      "nbd_code[T.06A]                             -0.0124      0.011     -1.126      0.260      -0.034       0.009\n",
      "nbd_code[T.06B]                              0.0155      0.008      1.920      0.055      -0.000       0.031\n",
      "nbd_code[T.06C]                             -0.0042      0.006     -0.648      0.517      -0.017       0.008\n",
      "nbd_code[T.06D]                             -0.0158      0.011     -1.428      0.153      -0.037       0.006\n",
      "nbd_code[T.06E]                              0.0073      0.017      0.440      0.660      -0.025       0.040\n",
      "nbd_code[T.06F]                             -0.0028      0.010     -0.292      0.770      -0.022       0.016\n",
      "nbd_code[T.07A]                              0.0040      0.008      0.535      0.592      -0.011       0.019\n",
      "nbd_code[T.07B]                              0.0094      0.006      1.709      0.087      -0.001       0.020\n",
      "nbd_code[T.07C]                             -0.0082      0.024     -0.343      0.732      -0.055       0.039\n",
      "nbd_code[T.07D]                             -0.0068      0.006     -1.104      0.270      -0.019       0.005\n",
      "nbd_code[T.08A]                              0.0504      0.018      2.824      0.005       0.015       0.085\n",
      "nbd_code[T.08B]                             -0.0206      0.032     -0.638      0.523      -0.084       0.043\n",
      "nbd_code[T.08C]                             -0.0094      0.007     -1.399      0.162      -0.023       0.004\n",
      "nbd_code[T.08D]                              0.0007      0.013      0.053      0.958      -0.024       0.026\n",
      "nbd_code[T.08E]                              0.0023      0.006      0.398      0.690      -0.009       0.014\n",
      "nbd_code[T.08F]                              0.0212      0.013      1.680      0.093      -0.004       0.046\n",
      "nbd_code[T.08G]                             -0.0013      0.007     -0.198      0.843      -0.014       0.012\n",
      "nbd_code[T.08H]                              0.0981      0.025      3.876      0.000       0.048       0.148\n",
      "nbd_code[T.09A]                             -0.0040      0.008     -0.523      0.601      -0.019       0.011\n",
      "nbd_code[T.09B]                             -0.0371      0.050     -0.747      0.455      -0.134       0.060\n",
      "nbd_code[T.09C]                              0.0005      0.007      0.081      0.935      -0.012       0.013\n",
      "nbd_code[T.09D]                             -0.0122      0.030     -0.402      0.687      -0.072       0.047\n",
      "nbd_code[T.09E]                              0.0032      0.005      0.655      0.513      -0.006       0.013\n",
      "nbd_code[T.09F]                              0.0102      0.012      0.878      0.380      -0.013       0.033\n",
      "nbd_code[T.09G]                              0.0051      0.007      0.699      0.485      -0.009       0.020\n",
      "nbd_code[T.09H]                             -0.0271      0.028     -0.968      0.333      -0.082       0.028\n",
      "nbd_code[T.10A]                              0.0072      0.009      0.814      0.416      -0.010       0.025\n",
      "nbd_code[T.10B]                              0.0030      0.009      0.316      0.752      -0.016       0.022\n",
      "nbd_code[T.10C]                             -0.0046      0.009     -0.517      0.605      -0.022       0.013\n",
      "nbd_code[T.10D]                             -0.0008      0.011     -0.072      0.942      -0.022       0.020\n",
      "nbd_code[T.10E]                              0.0082      0.010      0.840      0.401      -0.011       0.027\n",
      "nbd_code[T.10F]                             -0.0032      0.008     -0.426      0.670      -0.018       0.012\n",
      "nbd_code[T.10G]                             -0.0023      0.014     -0.161      0.872      -0.030       0.025\n",
      "nbd_code[T.10H]                              0.0005      0.010      0.045      0.964      -0.020       0.021\n",
      "nbd_code[T.10J]                              0.0092      0.036      0.255      0.799      -0.061       0.080\n",
      "nbd_code[T.10K]                             -0.0019      0.015     -0.127      0.899      -0.031       0.028\n",
      "nbd_code[T.['05B' '06A']]                   -0.0105      0.164     -0.064      0.949      -0.331       0.310\n",
      "nbd_code[T.['06F' '07A']]                   -0.0092      0.055     -0.169      0.866      -0.116       0.098\n",
      "nbd_code[T.['10A' '10G']]                    0.0025      0.052      0.047      0.962      -0.100       0.104\n",
      "nbd_code[T.unknown]                         -0.0117      0.164     -0.071      0.943      -0.332       0.309\n",
      "year_built_centered                         -0.0003      0.000     -1.142      0.253      -0.001       0.000\n",
      "year_built_centered:rent_control[T.True] -9.266e-05      0.000     -0.349      0.727      -0.001       0.000\n",
      "np.log(total_value):np.log(total_sqft)       0.0010    6.5e-05     15.910      0.000       0.001       0.001\n",
      "np.log(total_units)                         -0.0216      0.001    -19.441      0.000      -0.024      -0.019\n",
      "pct_latino                                   0.0406      0.015      2.622      0.009       0.010       0.071\n",
      "pct_occ_units_rental                         0.0199      0.009      2.334      0.020       0.003       0.037\n",
      "==============================================================================\n",
      "Omnibus:                   158130.086   Durbin-Watson:                   2.014\n",
      "Prob(Omnibus):                  0.000   Jarque-Bera (JB):      18282960516.701\n",
      "Skew:                          42.034   Prob(JB):                         0.00\n",
      "Kurtosis:                    2865.815   Cond. No.                     2.66e+04\n",
      "==============================================================================\n",
      "\n",
      "Notes:\n",
      "[1] Standard Errors assume that the covariance matrix of the errors is correctly specified.\n",
      "[2] The condition number is large, 2.66e+04. This might indicate that there are\n",
      "strong multicollinearity or other numerical problems.\n"
     ]
    }
   ],
   "source": [
    "rd4b = smf.ols(\n",
    "    \"ev_per_unit ~ rent_control + year_built_centered*rent_control + \"\n",
    "    \"np.log(total_value):np.log(total_sqft) + np.log(total_units) + \"\n",
    "    \"pct_latino + \"\n",
    "    \"pct_occ_units_rental + \"\n",
    "    \"nbd_code\",\n",
    "    data=rd4_df)\n",
    "fitted4b = rd4b.fit()\n",
    "print(fitted4b.summary())"
   ]
  },
  {
   "cell_type": "code",
   "execution_count": 80,
   "metadata": {},
   "outputs": [],
   "source": [
    "rd4_df['geometry'] = rd4_df.apply(lambda x: Point(x['longitude'], x['latitude']), axis=1)\n",
    "rd4_gdf = gpd.GeoDataFrame(rd4_df, geometry='geometry')\n",
    "rd4_gdf.crs = 'EPSG:4326'"
   ]
  },
  {
   "cell_type": "code",
   "execution_count": 77,
   "metadata": {},
   "outputs": [],
   "source": [
    "nbd_gdf = gpd.read_file('/Users/max/Documents/cal/2021_02_summer/evic_paper/SF Find Neighborhoods/geo_export_b9533012-1016-4bb8-a58a-ce8a0b05319f.shp')"
   ]
  },
  {
   "cell_type": "code",
   "execution_count": 89,
   "metadata": {},
   "outputs": [],
   "source": [
    "rd4_nbd_df = gpd.sjoin(rd4_gdf, nbd_gdf,op='within', how='inner')"
   ]
  },
  {
   "cell_type": "code",
   "execution_count": 90,
   "metadata": {},
   "outputs": [
    {
     "data": {
      "text/plain": [
       "(53493, 81)"
      ]
     },
     "execution_count": 90,
     "metadata": {},
     "output_type": "execute_result"
    }
   ],
   "source": [
    "rd4_nbd_df.shape"
   ]
  },
  {
   "cell_type": "code",
   "execution_count": 86,
   "metadata": {},
   "outputs": [
    {
     "data": {
      "text/plain": [
       "Index(['link', 'name', 'geometry'], dtype='object')"
      ]
     },
     "execution_count": 86,
     "metadata": {},
     "output_type": "execute_result"
    }
   ],
   "source": [
    "nbd_gdf.columns"
   ]
  },
  {
   "cell_type": "code",
   "execution_count": 97,
   "metadata": {},
   "outputs": [
    {
     "data": {
      "text/plain": [
       "0"
      ]
     },
     "execution_count": 97,
     "metadata": {},
     "output_type": "execute_result"
    }
   ],
   "source": [
    "rd4_nbd_df[rd4_nbd_df['name'] == 'Chinatown']['ev_count'].sum()"
   ]
  },
  {
   "cell_type": "markdown",
   "metadata": {},
   "source": [
    "### rerun models on exact same data"
   ]
  },
  {
   "cell_type": "code",
   "execution_count": 99,
   "metadata": {},
   "outputs": [
    {
     "name": "stdout",
     "output_type": "stream",
     "text": [
      "                            OLS Regression Results                            \n",
      "==============================================================================\n",
      "Dep. Variable:            ev_per_unit   R-squared:                       0.000\n",
      "Model:                            OLS   Adj. R-squared:                  0.000\n",
      "Method:                 Least Squares   F-statistic:                     7.483\n",
      "Date:                Wed, 30 Jun 2021   Prob (F-statistic):           5.27e-05\n",
      "Time:                        12:54:21   Log-Likelihood:                 20751.\n",
      "No. Observations:               53493   AIC:                        -4.149e+04\n",
      "Df Residuals:                   53489   BIC:                        -4.146e+04\n",
      "Df Model:                           3                                         \n",
      "Covariance Type:            nonrobust                                         \n",
      "============================================================================================================\n",
      "                                               coef    std err          t      P>|t|      [0.025      0.975]\n",
      "------------------------------------------------------------------------------------------------------------\n",
      "Intercept                                    0.0038      0.003      1.508      0.132      -0.001       0.009\n",
      "rent_control[T.True]                         0.0097      0.003      3.059      0.002       0.003       0.016\n",
      "year_built_centered                          0.0002      0.000      0.782      0.434      -0.000       0.001\n",
      "year_built_centered:rent_control[T.True]    -0.0002      0.000     -0.588      0.556      -0.001       0.000\n",
      "==============================================================================\n",
      "Omnibus:                   158182.025   Durbin-Watson:                   2.005\n",
      "Prob(Omnibus):                  0.000   Jarque-Bera (JB):      18025779361.349\n",
      "Skew:                          42.083   Prob(JB):                         0.00\n",
      "Kurtosis:                    2845.588   Cond. No.                         112.\n",
      "==============================================================================\n",
      "\n",
      "Notes:\n",
      "[1] Standard Errors assume that the covariance matrix of the errors is correctly specified.\n"
     ]
    }
   ],
   "source": [
    "rd_rd4_df = smf.ols(\n",
    "    \"ev_per_unit ~ rent_control + year_built_centered*rent_control\",\n",
    "    data=rd4_df)\n",
    "rd_rd4_df_fitted = rd_rd4_df.fit()\n",
    "print(rd_rd4_df_fitted.summary())"
   ]
  },
  {
   "cell_type": "code",
   "execution_count": 102,
   "metadata": {},
   "outputs": [
    {
     "name": "stdout",
     "output_type": "stream",
     "text": [
      "                            OLS Regression Results                            \n",
      "==============================================================================\n",
      "Dep. Variable:            ev_per_unit   R-squared:                       0.008\n",
      "Model:                            OLS   Adj. R-squared:                  0.008\n",
      "Method:                 Least Squares   F-statistic:                     82.04\n",
      "Date:                Wed, 30 Jun 2021   Prob (F-statistic):           4.11e-86\n",
      "Time:                        12:57:07   Log-Likelihood:                 20944.\n",
      "No. Observations:               53493   AIC:                        -4.188e+04\n",
      "Df Residuals:                   53487   BIC:                        -4.182e+04\n",
      "Df Model:                           5                                         \n",
      "Covariance Type:            nonrobust                                         \n",
      "============================================================================================================\n",
      "                                               coef    std err          t      P>|t|      [0.025      0.975]\n",
      "------------------------------------------------------------------------------------------------------------\n",
      "Intercept                                   -0.0921      0.007    -14.026      0.000      -0.105      -0.079\n",
      "rent_control[T.True]                         0.0136      0.003      4.285      0.000       0.007       0.020\n",
      "year_built_centered                         -0.0002      0.000     -0.824      0.410      -0.001       0.000\n",
      "year_built_centered:rent_control[T.True]    -0.0002      0.000     -0.596      0.551      -0.001       0.000\n",
      "np.log(total_value):np.log(total_sqft)       0.0010   6.01e-05     17.115      0.000       0.001       0.001\n",
      "np.log(total_units)                         -0.0204      0.001    -18.751      0.000      -0.023      -0.018\n",
      "==============================================================================\n",
      "Omnibus:                   158128.692   Durbin-Watson:                   2.013\n",
      "Prob(Omnibus):                  0.000   Jarque-Bera (JB):      18227625859.185\n",
      "Skew:                          42.035   Prob(JB):                         0.00\n",
      "Kurtosis:                    2861.475   Cond. No.                     1.09e+03\n",
      "==============================================================================\n",
      "\n",
      "Notes:\n",
      "[1] Standard Errors assume that the covariance matrix of the errors is correctly specified.\n",
      "[2] The condition number is large, 1.09e+03. This might indicate that there are\n",
      "strong multicollinearity or other numerical problems.\n"
     ]
    }
   ],
   "source": [
    "rd2_rd4_df = smf.ols(\n",
    "    \"ev_per_unit ~ rent_control + year_built_centered*rent_control + \"\n",
    "    \"np.log(total_value):np.log(total_sqft) + np.log(total_units)\",\n",
    "    data=rd4_df)\n",
    "rd2_rd4_df_fitted = rd2_rd4_df.fit()\n",
    "print(rd2_rd4_df_fitted.summary())"
   ]
  },
  {
   "cell_type": "code",
   "execution_count": null,
   "metadata": {},
   "outputs": [],
   "source": [
    "rd4_df['median_hh_income_std'] = (rd4_df['median_hh_income'] - rd4_df['median_hh_income'])/"
   ]
  },
  {
   "cell_type": "code",
   "execution_count": 120,
   "metadata": {},
   "outputs": [
    {
     "name": "stdout",
     "output_type": "stream",
     "text": [
      "                            OLS Regression Results                            \n",
      "==============================================================================\n",
      "Dep. Variable:            ev_per_unit   R-squared:                       0.008\n",
      "Model:                            OLS   Adj. R-squared:                  0.008\n",
      "Method:                 Least Squares   F-statistic:                     64.24\n",
      "Date:                Wed, 30 Jun 2021   Prob (F-statistic):           1.32e-92\n",
      "Time:                        14:44:06   Log-Likelihood:                 20963.\n",
      "No. Observations:               53493   AIC:                        -4.191e+04\n",
      "Df Residuals:                   53485   BIC:                        -4.184e+04\n",
      "Df Model:                           7                                         \n",
      "Covariance Type:            nonrobust                                         \n",
      "============================================================================================================\n",
      "                                               coef    std err          t      P>|t|      [0.025      0.975]\n",
      "------------------------------------------------------------------------------------------------------------\n",
      "Intercept                                   -0.1075      0.007    -15.271      0.000      -0.121      -0.094\n",
      "rent_control[T.True]                         0.0135      0.003      4.246      0.000       0.007       0.020\n",
      "year_built_centered                         -0.0003      0.000     -1.094      0.274      -0.001       0.000\n",
      "year_built_centered:rent_control[T.True]    -0.0001      0.000     -0.547      0.585      -0.001       0.000\n",
      "np.log(total_value):np.log(total_sqft)       0.0010   6.08e-05     17.004      0.000       0.001       0.001\n",
      "np.log(total_units)                         -0.0212      0.001    -19.300      0.000      -0.023      -0.019\n",
      "pct_latino                                   0.0371      0.007      5.207      0.000       0.023       0.051\n",
      "pct_occ_units_rental                         0.0184      0.005      4.003      0.000       0.009       0.027\n",
      "==============================================================================\n",
      "Omnibus:                   158129.608   Durbin-Watson:                   2.013\n",
      "Prob(Omnibus):                  0.000   Jarque-Bera (JB):      18251423631.472\n",
      "Skew:                          42.035   Prob(JB):                         0.00\n",
      "Kurtosis:                    2863.342   Cond. No.                     1.30e+03\n",
      "==============================================================================\n",
      "\n",
      "Notes:\n",
      "[1] Standard Errors assume that the covariance matrix of the errors is correctly specified.\n",
      "[2] The condition number is large, 1.3e+03. This might indicate that there are\n",
      "strong multicollinearity or other numerical problems.\n"
     ]
    }
   ],
   "source": [
    "rd3_rd4_df = smf.ols(\n",
    "    \"ev_per_unit ~ rent_control + year_built_centered*rent_control + \"\n",
    "    \"np.log(total_value):np.log(total_sqft) + np.log(total_units) + \"\n",
    "    \"pct_latino +\"\n",
    "    \"pct_occ_units_rental\",\n",
    "    data=rd4_df)\n",
    "rd3_rd4_df_fitted = rd3_rd4_df.fit()\n",
    "print(rd3_rd4_df_fitted.summary())"
   ]
  },
  {
   "cell_type": "code",
   "execution_count": 107,
   "metadata": {},
   "outputs": [
    {
     "data": {
      "text/plain": [
       "115"
      ]
     },
     "execution_count": 107,
     "metadata": {},
     "output_type": "execute_result"
    }
   ],
   "source": [
    "df[~df['index'].isin(rd4_df.index)]['ev_count'].sum()"
   ]
  },
  {
   "cell_type": "code",
   "execution_count": 109,
   "metadata": {},
   "outputs": [
    {
     "data": {
      "text/plain": [
       "(895, 35)"
      ]
     },
     "execution_count": 109,
     "metadata": {},
     "output_type": "execute_result"
    }
   ],
   "source": [
    "df[~df['index'].isin(rd4_df.index)].shape"
   ]
  },
  {
   "cell_type": "code",
   "execution_count": 122,
   "metadata": {},
   "outputs": [
    {
     "data": {
      "text/plain": [
       "rent_control\n",
       "False    0.005407\n",
       "True     0.013109\n",
       "Name: ev_per_unit, dtype: float64"
      ]
     },
     "execution_count": 122,
     "metadata": {},
     "output_type": "execute_result"
    }
   ],
   "source": [
    "rd4_df.groupby('rent_control')['ev_per_unit'].mean()"
   ]
  },
  {
   "cell_type": "code",
   "execution_count": null,
   "metadata": {},
   "outputs": [],
   "source": []
  }
 ],
 "metadata": {
  "kernelspec": {
   "display_name": "Python 3",
   "language": "python",
   "name": "python3"
  },
  "language_info": {
   "codemirror_mode": {
    "name": "ipython",
    "version": 3
   },
   "file_extension": ".py",
   "mimetype": "text/x-python",
   "name": "python",
   "nbconvert_exporter": "python",
   "pygments_lexer": "ipython3",
   "version": "3.7.8"
  }
 },
 "nbformat": 4,
 "nbformat_minor": 4
}
