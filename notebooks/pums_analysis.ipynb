{
 "cells": [
  {
   "cell_type": "markdown",
   "metadata": {
    "toc": true
   },
   "source": [
    "<h1>Table of Contents<span class=\"tocSkip\"></span></h1>\n",
    "<div class=\"toc\"><ul class=\"toc-item\"><li><span><a href=\"#Tenure-Duration\" data-toc-modified-id=\"Tenure-Duration-1\">Tenure Duration</a></span></li><li><span><a href=\"#Race\" data-toc-modified-id=\"Race-2\">Race</a></span></li></ul></div>"
   ]
  },
  {
   "cell_type": "markdown",
   "metadata": {},
   "source": [
    "Adapted from [this](https://github.com/waddell/urban-informatics-and-visualization/blob/master/Other%20Materials/19%20-%20Working-With-PUMS-Data.ipynb) notebook by Aksel Olsen"
   ]
  },
  {
   "cell_type": "code",
   "execution_count": 1,
   "metadata": {},
   "outputs": [],
   "source": [
    "import pandas as pd\n",
    "from matplotlib import pyplot as plt\n",
    "import matplotlib.ticker as mtick\n",
    "import seaborn as sns"
   ]
  },
  {
   "cell_type": "code",
   "execution_count": 47,
   "metadata": {},
   "outputs": [],
   "source": [
    "## function to be passed by groupby.apply to returned weighted estimate--no standard errors provided\n",
    "def get_weighted_mean(frame, var, weight):\n",
    "    \"\"\"\n",
    "    Takes ungrouped observations, splits into groups, applies the logic below, and combines groups into one table. \n",
    "    Needs the numeric variable (var) as well as the group by varible (group, as a list) to be passed. Basically\n",
    "    a weighted mean by categorical group.\n",
    "    \"\"\"\n",
    "    \n",
    "    ## A: calculates the weighted value of the variable at the level of each observation\n",
    "    weighted_x = frame[weight] * frame[var]  \n",
    "\n",
    "    try:\n",
    "        # sums value for the group and divides by weighted sum of records, returning\n",
    "        # one value for each group. \n",
    "        estimate = weighted_x.sum() / frame[weight].sum()\n",
    "    \n",
    "    except ZeroDivisionError:\n",
    "        estimate = 0\n",
    "\n",
    "    return pd.DataFrame(data={var:[estimate]})\n",
    "\n",
    "## function to be passed by groupby.apply to returned weighted estimate--no standard errors provided\n",
    "def weighted_SE(frame, var, weights):\n",
    "\n",
    "    ## A: calculates the weigted value of var x at the level of each observation\n",
    "    wcol = [] # weight collection\n",
    "    primary = [] # holder of the main estimate\n",
    "    \n",
    "    ## calculate 81 estimates (the last 80 being replicates)\n",
    "    for w in weights:\n",
    "        weighted_x = frame[w] * frame[var]  \n",
    "        repl_estimate = weighted_x.sum() / frame[w].sum()\n",
    "        wcol.append(repl_estimate)\n",
    "    \n",
    "    primary.append(wcol[0])\n",
    "    wcol = wcol[1:]        \n",
    "    squared_difference = 0\n",
    "\n",
    "    primaryWeightSum = pd.Series(primary).sum()\n",
    "    replicateWeightsSum = pd.Series(wcol).sum() \n",
    "    \n",
    "    ## loop through each rep weight column, calculate sq difference with main weight     \n",
    "    for col in wcol:\n",
    "        squared_difference = squared_difference + (col - primary[0])**2\n",
    "\n",
    "    # formula derived from: https://www2.census.gov/programs-surveys/acs/tech_docs/pums/accuracy/2012AccuracyPUMS.pdf\n",
    "    variance =(4 / 80.) * squared_difference\n",
    "    standard_error = (variance)**.5\n",
    "    \n",
    "    return pd.DataFrame(data={var:[primaryWeightSum], 'se':standard_error})"
   ]
  },
  {
   "cell_type": "code",
   "execution_count": 2,
   "metadata": {},
   "outputs": [],
   "source": [
    "pums_h = pd.read_csv(\"/Users/max/Downloads/csv_hca(2)/ss12hca.csv\")"
   ]
  },
  {
   "cell_type": "code",
   "execution_count": 3,
   "metadata": {},
   "outputs": [],
   "source": [
    "pums_h.index=pums_h.SERIALNO"
   ]
  },
  {
   "cell_type": "code",
   "execution_count": 4,
   "metadata": {},
   "outputs": [],
   "source": [
    "pums_p = pd.read_csv(\"/Users/max/Downloads/csv_pca(1)/ss12pca.csv\")"
   ]
  },
  {
   "cell_type": "code",
   "execution_count": 5,
   "metadata": {},
   "outputs": [
    {
     "name": "stdout",
     "output_type": "stream",
     "text": [
      "there are 153115 observations of 206 variables in the housing table \n",
      "there are 368047 observations of 286 variables in the population table \n"
     ]
    }
   ],
   "source": [
    "print(\"there are %s observations of %s variables in the housing table \" %(pums_h.shape[0],pums_h.shape[1]))\n",
    "print(\"there are %s observations of %s variables in the population table \" %(pums_p.shape[0],pums_p.shape[1]))"
   ]
  },
  {
   "cell_type": "code",
   "execution_count": 6,
   "metadata": {},
   "outputs": [
    {
     "data": {
      "text/plain": [
       "dict_keys(['001', '013', '041', '055', '075', '081', '085', '095', '097'])"
      ]
     },
     "execution_count": 6,
     "metadata": {},
     "output_type": "execute_result"
    }
   ],
   "source": [
    "bayareafips ={'001':'Alameda', '013':'Contra Costa', '041':'Marin', '055':'Napa', '075':'San Francisco', '081':'San Mateo', '085':'Santa Clara', '095':'Sonoma', '097':'Solano'}\n",
    "bayareafips.keys()"
   ]
  },
  {
   "cell_type": "code",
   "execution_count": 7,
   "metadata": {},
   "outputs": [
    {
     "data": {
      "text/plain": [
       "[7501, 7502, 7503, 7504, 7505, 7506, 7507]"
      ]
     },
     "execution_count": 7,
     "metadata": {},
     "output_type": "execute_result"
    }
   ],
   "source": [
    "sfPUMAS = [k for k in range(7501,7508)]\n",
    "sfPUMAS"
   ]
  },
  {
   "cell_type": "code",
   "execution_count": 8,
   "metadata": {},
   "outputs": [
    {
     "data": {
      "text/plain": [
       "(7311, 286)"
      ]
     },
     "execution_count": 8,
     "metadata": {},
     "output_type": "execute_result"
    }
   ],
   "source": [
    "pums_p = pums_p[pums_p.PUMA.isin(sfPUMAS)]\n",
    "pums_p.shape"
   ]
  },
  {
   "cell_type": "code",
   "execution_count": 9,
   "metadata": {},
   "outputs": [
    {
     "data": {
      "text/plain": [
       "(3586, 206)"
      ]
     },
     "execution_count": 9,
     "metadata": {},
     "output_type": "execute_result"
    }
   ],
   "source": [
    "pums_h = pums_h[pums_h.PUMA.isin(sfPUMAS)]\n",
    "pums_h.shape"
   ]
  },
  {
   "cell_type": "code",
   "execution_count": 11,
   "metadata": {},
   "outputs": [
    {
     "data": {
      "text/plain": [
       "824855"
      ]
     },
     "execution_count": 11,
     "metadata": {},
     "output_type": "execute_result"
    }
   ],
   "source": [
    "sf_pop = pums_p.PWGTP.sum()\n",
    "sf_pop"
   ]
  },
  {
   "cell_type": "markdown",
   "metadata": {},
   "source": [
    "# Get human-readable labels"
   ]
  },
  {
   "cell_type": "code",
   "execution_count": 14,
   "metadata": {},
   "outputs": [],
   "source": [
    "# we skip the blank category here--Ideally fix, but currently most vars are loaded as integers, so 'bb' won't work here\n",
    "\n",
    "# RACE\n",
    "# note that these are not actually verbatim categories from the code book. Instead, this collapses categories.\n",
    "codesrace = {\n",
    "    1: \"White\",\n",
    "    2: \"Black\",\n",
    "    3: \"Other\",\n",
    "    4: \"Other\",\n",
    "    5: \"Other\",\n",
    "    6: \"Asian\",\n",
    "    7: \"Other\",\n",
    "    8: \"Other\",\n",
    "    9: \"Two + Races\"\n",
    "}\n",
    "\n",
    "# TENURE\n",
    "codesten={\n",
    "    1.0: \"Owned with mortgage or loan (include home equity loans)\",\n",
    "    2.0: \"Owned free and clear\",\n",
    "    3.0: \"Rented\",\n",
    "    4.0: \"Occupied without payment of rent\"\n",
    "}\n",
    "\n",
    "## YEAR BUILT\n",
    "codeybl={\n",
    "    1.0: \"1939 or earlier\",\n",
    "    2.0: \"1940 to 1949\",\n",
    "    3.0: \"1950 to 1959\",\n",
    "    4.0: \"1960 to 1969\",\n",
    "    5.0: \"1970 to 1979\",\n",
    "    6.0: \"1980 to 1989\",\n",
    "    7.0: \"1990 to 1999\",\n",
    "    8.0: \"2000 to 2004\",\n",
    "    9.0: \"2005\",\n",
    "    10.0: \"2006\",\n",
    "    11.0: \"2007\",\n",
    "    12.0: \"2008\",\n",
    "    13.0: \"2009\",\n",
    "    14.0: \"2010\",\n",
    "    15.0: \"2011\",\n",
    "    16.0: \"2012\"\n",
    "}\n",
    "\n",
    "# YEAR MOVED INTO UNIT\n",
    "codemovein={\n",
    "    1: \"12 months or less\",\n",
    "    2: \"13 to 23 months\",\n",
    "    3: \"2 to 4 years\",\n",
    "    4: \"5 to 9 years\",\n",
    "    5: \"10 to 19 years\",\n",
    "    6: \"20 to 29 years\",\n",
    "    7: \"30 years or more\",\n",
    "}\n",
    "\n",
    "# num units\n",
    "codebldg={\n",
    "    1.0: \"Mobile home or trailer\",\n",
    "    2.0: \"One-family house detached\",\n",
    "    3.0: \"One-family house attached\",\n",
    "    4.0: \"2 Apartments\",\n",
    "    5.0: \"3-4 Apartments\",\n",
    "    6.0: \"5-9 Apartments\",\n",
    "    7.0: \"10-19 Apartments\",\n",
    "    8.0: \"20-49 Apartments\",\n",
    "    9.0: \"50 or more apartments\",\n",
    "    10.0: \"Boat, RV, van, etc.\"\n",
    "}\n",
    "\n",
    "code_sex = {\n",
    "    1: 'Male',\n",
    "    2: 'Female'\n",
    "}\n",
    "\n",
    "code_hupac = {}"
   ]
  },
  {
   "cell_type": "code",
   "execution_count": 29,
   "metadata": {},
   "outputs": [
    {
     "data": {
      "text/plain": [
       "White          3651\n",
       "Asian          2481\n",
       "Black           406\n",
       "Other           405\n",
       "Two + Races     368\n",
       "Name: RAC1P_l, dtype: int64"
      ]
     },
     "execution_count": 29,
     "metadata": {},
     "output_type": "execute_result"
    }
   ],
   "source": [
    "pums_p['RAC1P_l'] = pums_p['RAC1P'].map(codesrace)\n",
    "pums_p['RAC1P_l'].value_counts(dropna=False)"
   ]
  },
  {
   "cell_type": "code",
   "execution_count": 30,
   "metadata": {},
   "outputs": [
    {
     "data": {
      "text/plain": [
       "5 to 9 years         673\n",
       "2 to 4 years         592\n",
       "10 to 19 years       577\n",
       "13 to 23 months      420\n",
       "30 years or more     406\n",
       "12 months or less    402\n",
       "20 to 29 years       365\n",
       "NaN                  151\n",
       "Name: MV_l, dtype: int64"
      ]
     },
     "execution_count": 30,
     "metadata": {},
     "output_type": "execute_result"
    }
   ],
   "source": [
    "pums_h['MV_l'] = pums_h['MV'].map(codemovein)\n",
    "pums_h['MV_l'].value_counts(dropna=False)"
   ]
  },
  {
   "cell_type": "code",
   "execution_count": 31,
   "metadata": {},
   "outputs": [
    {
     "data": {
      "text/plain": [
       "Rented                                                     1784\n",
       "Owned with mortgage or loan (include home equity loans)     935\n",
       "NaN                                                         428\n",
       "Owned free and clear                                        396\n",
       "Occupied without payment of rent                             43\n",
       "Name: TEN_l, dtype: int64"
      ]
     },
     "execution_count": 31,
     "metadata": {},
     "output_type": "execute_result"
    }
   ],
   "source": [
    "pums_h['TEN_l'] = pums_h['TEN'].map(codesten)\n",
    "pums_h['TEN_l'].value_counts(dropna=False)"
   ]
  },
  {
   "cell_type": "code",
   "execution_count": 32,
   "metadata": {},
   "outputs": [
    {
     "data": {
      "text/plain": [
       "1939 or earlier    1617\n",
       "1950 to 1959        366\n",
       "1940 to 1949        366\n",
       "1960 to 1969        278\n",
       "NaN                 277\n",
       "1970 to 1979        214\n",
       "1980 to 1989        152\n",
       "1990 to 1999        113\n",
       "2000 to 2004         89\n",
       "2007                 27\n",
       "2005                 24\n",
       "2009                 22\n",
       "2008                 12\n",
       "2010                 12\n",
       "2006                 10\n",
       "2011                  6\n",
       "2012                  1\n",
       "Name: YBL_l, dtype: int64"
      ]
     },
     "execution_count": 32,
     "metadata": {},
     "output_type": "execute_result"
    }
   ],
   "source": [
    "pums_h['YBL_l'] = pums_h['YBL'].map(codeybl)\n",
    "pums_h['YBL_l'].value_counts(dropna=False)"
   ]
  },
  {
   "cell_type": "code",
   "execution_count": 33,
   "metadata": {},
   "outputs": [],
   "source": [
    "pums_p['SEX_l'] = pums_p['SEX'].map(code_sex)"
   ]
  },
  {
   "cell_type": "code",
   "execution_count": 34,
   "metadata": {},
   "outputs": [],
   "source": [
    "pums_p['DISAB_l'] = pums_p['DIS'].map({1: 'Yes', 2: 'No'})"
   ]
  },
  {
   "cell_type": "code",
   "execution_count": 35,
   "metadata": {},
   "outputs": [
    {
     "data": {
      "text/plain": [
       "No     6485\n",
       "Yes     826\n",
       "Name: DISAB_l, dtype: int64"
      ]
     },
     "execution_count": 35,
     "metadata": {},
     "output_type": "execute_result"
    }
   ],
   "source": [
    "pums_p['DISAB_l'].value_counts(dropna=False)"
   ]
  },
  {
   "cell_type": "code",
   "execution_count": 36,
   "metadata": {},
   "outputs": [],
   "source": [
    "pums_h['SNAP_recipient'] = pums_h['FS'].map({1: 'Yes', 2: 'No'})"
   ]
  },
  {
   "cell_type": "code",
   "execution_count": 168,
   "metadata": {},
   "outputs": [],
   "source": [
    "pums_p['pub_asst_inc'] = 'No'\n",
    "pums_p.loc[pums_p['PAP'] > 0, 'pub_asst_inc'] = 'Yes'"
   ]
  },
  {
   "cell_type": "code",
   "execution_count": 171,
   "metadata": {},
   "outputs": [],
   "source": [
    "pums_p['HISP_l'] = 'No'\n",
    "pums_p.loc[pums_p['HISP'] > 1, 'HISP_l'] = 'Yes' "
   ]
  },
  {
   "cell_type": "markdown",
   "metadata": {},
   "source": [
    "# Just get the renters"
   ]
  },
  {
   "cell_type": "code",
   "execution_count": 38,
   "metadata": {},
   "outputs": [],
   "source": [
    "pums_h_rent = pums_h[pums_h['TEN_l'] == 'Rented'].copy()"
   ]
  },
  {
   "cell_type": "code",
   "execution_count": 39,
   "metadata": {},
   "outputs": [
    {
     "data": {
      "text/plain": [
       "216427"
      ]
     },
     "execution_count": 39,
     "metadata": {},
     "output_type": "execute_result"
    }
   ],
   "source": [
    "pums_h_rent.WGTP.sum()"
   ]
  },
  {
   "cell_type": "markdown",
   "metadata": {},
   "source": [
    "# Rent control proxy"
   ]
  },
  {
   "cell_type": "code",
   "execution_count": 42,
   "metadata": {},
   "outputs": [],
   "source": [
    "pums_h_rent['rent_control'] = (pums_h_rent['YBL'] <= 5) & (pums_h_rent['BLD'].between(4, 9))"
   ]
  },
  {
   "cell_type": "code",
   "execution_count": 43,
   "metadata": {},
   "outputs": [
    {
     "data": {
      "text/plain": [
       "True     1316\n",
       "False     468\n",
       "Name: rent_control, dtype: int64"
      ]
     },
     "execution_count": 43,
     "metadata": {},
     "output_type": "execute_result"
    }
   ],
   "source": [
    "pums_h_rent['rent_control'].value_counts()"
   ]
  },
  {
   "cell_type": "code",
   "execution_count": 197,
   "metadata": {},
   "outputs": [],
   "source": [
    "pums_p_rent = pums_p.merge(pums_h_rent[['rent_control', 'YBL', 'BLD']].reset_index(), on='SERIALNO', how='left') "
   ]
  },
  {
   "cell_type": "code",
   "execution_count": 198,
   "metadata": {},
   "outputs": [
    {
     "data": {
      "text/plain": [
       "True     2375\n",
       "False    1137\n",
       "Name: rent_control, dtype: int64"
      ]
     },
     "execution_count": 198,
     "metadata": {},
     "output_type": "execute_result"
    }
   ],
   "source": [
    "pums_p_rent['rent_control'].value_counts()"
   ]
  },
  {
   "cell_type": "markdown",
   "metadata": {},
   "source": [
    "# Masks"
   ]
  },
  {
   "cell_type": "code",
   "execution_count": 272,
   "metadata": {},
   "outputs": [],
   "source": [
    "p_mask = pums_p_rent['YBL'].between(3, 11)\n",
    "h_mask = pums_h_rent['YBL'].between(3, 11)"
   ]
  },
  {
   "cell_type": "markdown",
   "metadata": {},
   "source": [
    "# Plots"
   ]
  },
  {
   "cell_type": "markdown",
   "metadata": {},
   "source": [
    "### Tenure Duration"
   ]
  },
  {
   "cell_type": "code",
   "execution_count": 85,
   "metadata": {},
   "outputs": [],
   "source": [
    "grp_col = 'rent_control'\n",
    "wgt_col = 'WGTP'\n",
    "value_col = 'MV_l'\n",
    "new_col = 'pct_pop'\n",
    "marginals = pums_h_rent.groupby(grp_col)[[wgt_col]].sum().rename(columns={'WGTP': 'total'}).reset_index()"
   ]
  },
  {
   "cell_type": "code",
   "execution_count": 98,
   "metadata": {
    "scrolled": false
   },
   "outputs": [
    {
     "data": {
      "text/plain": [
       "Text(0, 0.5, '% Pop. by Rent Control Status')"
      ]
     },
     "execution_count": 98,
     "metadata": {},
     "output_type": "execute_result"
    },
    {
     "data": {
      "image/png": "[encoded data removed]",
      "text/plain": [
       "<Figure size 1008x576 with 1 Axes>"
      ]
     },
     "metadata": {
      "needs_background": "light"
     },
     "output_type": "display_data"
    }
   ],
   "source": [
    "fig, ax = plt.subplots(figsize=(14, 8))\n",
    "\n",
    "joint_df = pums_h_rent[[grp_col, value_col, wgt_col]].groupby([grp_col, value_col]).sum()\n",
    "joint_df = joint_df.reset_index()\n",
    "joint_df = pd.merge(joint_df, marginals, on=grp_col)\n",
    "joint_df[new_col] = joint_df[wgt_col] / joint_df['total']\n",
    "\n",
    "sns.barplot(\n",
    "    x=value_col, y=new_col,\n",
    "    data=joint_df, hue=grp_col, alpha=0.6,\n",
    "    order=['12 months or less', '13 to 23 months', '2 to 4 years', '5 to 9 years', '10 to 19 years', '20 to 29 years', '30 years or more']\n",
    ")\n",
    "\n",
    "ax.set_xlabel(\"Duration of Tenure\", fontsize=14)\n",
    "ax.set_ylabel(\"% Pop. by Rent Control Status\", fontsize=14)"
   ]
  },
  {
   "cell_type": "code",
   "execution_count": 166,
   "metadata": {},
   "outputs": [],
   "source": [
    "def get_weighted_pct_pop(pums_df, grp_col, wgt_col, value_col, new_col):\n",
    "\n",
    "    marginals = pums_df[[grp_col, value_col, wgt_col]].groupby(grp_col)[[wgt_col]].sum().rename(\n",
    "        columns={wgt_col: 'total'}).reset_index()\n",
    "    joint_df = pums_df[[grp_col, value_col, wgt_col]].groupby([grp_col, value_col]).sum()\n",
    "    joint_df = joint_df.reset_index()\n",
    "    joint_df = pd.merge(joint_df, marginals, on=grp_col)\n",
    "    joint_df[new_col] = joint_df[wgt_col] / joint_df['total']\n",
    "    \n",
    "    return joint_df\n",
    "\n",
    "def get_weighted_agg_se(weighted_agg_func, pums_df, grp_col, wgt_col, value_col, new_col='pct_pop'):\n",
    "    \n",
    "    repl_cols = [wgt_col] + [col for col in pums_df.columns if wgt_col.lower() in col]\n",
    "    \n",
    "    repls = [] # weight collection\n",
    "\n",
    "    for repl_col in repl_cols:\n",
    "        repl_estimate = weighted_agg_func(pums_df, grp_col, repl_col, value_col, new_col)\n",
    "        repls.append(repl_estimate)\n",
    "\n",
    "    primary = repls[0]\n",
    "    primary['tot_err'] = 0\n",
    "    repls = repls[1:]        \n",
    "\n",
    "    ## loop through each rep weight column, calculate sq difference with main weight     \n",
    "    for repl in repls:\n",
    "        primary['tot_err'] = primary['tot_err'] + (repl[new_col] - primary[new_col]) ** 2\n",
    "\n",
    "    # formula derived from: https://www2.census.gov/programs-surveys/acs/tech_docs/pums/accuracy/2012AccuracyPUMS.pdf\n",
    "    variance = (4 / 80.) * primary['tot_err']\n",
    "    primary['se'] = (variance) ** .5\n",
    "    \n",
    "    return primary"
   ]
  },
  {
   "cell_type": "markdown",
   "metadata": {},
   "source": [
    "# Children"
   ]
  },
  {
   "cell_type": "code",
   "execution_count": 328,
   "metadata": {},
   "outputs": [],
   "source": [
    "pums_h_rent['HUPAC_l'] = pums_h_rent['HUPAC'].map({\n",
    "    4: 'no children', 1: 'only children under 6', 2: 'only children 6 to 17', 3: 'children under 6 and over 6'})"
   ]
  },
  {
   "cell_type": "code",
   "execution_count": 330,
   "metadata": {},
   "outputs": [
    {
     "data": {
      "text/plain": [
       "Text(0, 0.5, '% Pop. by Rent Control Status')"
      ]
     },
     "execution_count": 330,
     "metadata": {},
     "output_type": "execute_result"
    },
    {
     "data": {
      "image/png": "[encoded data removed]",
      "text/plain": [
       "<Figure size 720x576 with 1 Axes>"
      ]
     },
     "metadata": {
      "needs_background": "light"
     },
     "output_type": "display_data"
    }
   ],
   "source": [
    "fig, ax = plt.subplots(figsize=(10, 8))\n",
    "\n",
    "pums_df = pums_h_rent\n",
    "grp_col = 'rent_control'\n",
    "wgt_col = 'WGTP'\n",
    "value_col = 'HUPAC_l'\n",
    "new_col = 'pct_pop'\n",
    "\n",
    "weighted_agg_df = get_weighted_agg_se(get_weighted_pct_pop, pums_df, grp_col, wgt_col, value_col, new_col)\n",
    "\n",
    "sns.barplot(\n",
    "    x=value_col, y=new_col,\n",
    "    data=weighted_agg_df, hue=grp_col, alpha=0.6,\n",
    ")\n",
    "\n",
    "ax.errorbar(\n",
    "    [patch.get_x() + (patch.get_width() / 2) for patch in ax.patches],\n",
    "    weighted_agg_df[new_col], yerr=weighted_agg_df['se'] * 1.645,\n",
    "    fmt='none', c='k', elinewidth=1, capsize=5,\n",
    "    label='90% c.i.')\n",
    "\n",
    "ax.set_xlabel(\"Children\", fontsize=14)\n",
    "ax.set_ylabel(\"% Pop. by Rent Control Status\", fontsize=14)"
   ]
  },
  {
   "cell_type": "code",
   "execution_count": 332,
   "metadata": {},
   "outputs": [
    {
     "data": {
      "text/html": [
       "<div>\n",
       "<style scoped>\n",
       "    .dataframe tbody tr th:only-of-type {\n",
       "        vertical-align: middle;\n",
       "    }\n",
       "\n",
       "    .dataframe tbody tr th {\n",
       "        vertical-align: top;\n",
       "    }\n",
       "\n",
       "    .dataframe thead tr th {\n",
       "        text-align: left;\n",
       "    }\n",
       "\n",
       "    .dataframe thead tr:last-of-type th {\n",
       "        text-align: right;\n",
       "    }\n",
       "</style>\n",
       "<table border=\"1\" class=\"dataframe\">\n",
       "  <thead>\n",
       "    <tr>\n",
       "      <th></th>\n",
       "      <th colspan=\"2\" halign=\"left\">pct_pop</th>\n",
       "      <th colspan=\"2\" halign=\"left\">se</th>\n",
       "    </tr>\n",
       "    <tr>\n",
       "      <th>rent_control</th>\n",
       "      <th>False</th>\n",
       "      <th>True</th>\n",
       "      <th>False</th>\n",
       "      <th>True</th>\n",
       "    </tr>\n",
       "    <tr>\n",
       "      <th>HUPAC_l</th>\n",
       "      <th></th>\n",
       "      <th></th>\n",
       "      <th></th>\n",
       "      <th></th>\n",
       "    </tr>\n",
       "  </thead>\n",
       "  <tbody>\n",
       "    <tr>\n",
       "      <th>children under 6 and over 6</th>\n",
       "      <td>0.044958</td>\n",
       "      <td>0.021759</td>\n",
       "      <td>0.010990</td>\n",
       "      <td>0.004966</td>\n",
       "    </tr>\n",
       "    <tr>\n",
       "      <th>no children</th>\n",
       "      <td>0.769338</td>\n",
       "      <td>0.904669</td>\n",
       "      <td>0.018995</td>\n",
       "      <td>0.009203</td>\n",
       "    </tr>\n",
       "    <tr>\n",
       "      <th>only children 6 to 17</th>\n",
       "      <td>0.109543</td>\n",
       "      <td>0.050678</td>\n",
       "      <td>0.016843</td>\n",
       "      <td>0.006602</td>\n",
       "    </tr>\n",
       "    <tr>\n",
       "      <th>only children under 6</th>\n",
       "      <td>0.076161</td>\n",
       "      <td>0.022894</td>\n",
       "      <td>0.014422</td>\n",
       "      <td>0.003709</td>\n",
       "    </tr>\n",
       "  </tbody>\n",
       "</table>\n",
       "</div>"
      ],
      "text/plain": [
       "                              pct_pop                  se          \n",
       "rent_control                    False     True      False     True \n",
       "HUPAC_l                                                            \n",
       "children under 6 and over 6  0.044958  0.021759  0.010990  0.004966\n",
       "no children                  0.769338  0.904669  0.018995  0.009203\n",
       "only children 6 to 17        0.109543  0.050678  0.016843  0.006602\n",
       "only children under 6        0.076161  0.022894  0.014422  0.003709"
      ]
     },
     "execution_count": 332,
     "metadata": {},
     "output_type": "execute_result"
    }
   ],
   "source": [
    "weighted_agg_df.pivot(index='HUPAC_l', columns='rent_control', values=['pct_pop', 'se'])"
   ]
  },
  {
   "cell_type": "code",
   "execution_count": 333,
   "metadata": {},
   "outputs": [
    {
     "data": {
      "text/plain": [
       "Text(0, 0.5, '% Pop. by Rent Control Status')"
      ]
     },
     "execution_count": 333,
     "metadata": {},
     "output_type": "execute_result"
    },
    {
     "data": {
      "image/png": "[encoded data removed]",
      "text/plain": [
       "<Figure size 720x576 with 1 Axes>"
      ]
     },
     "metadata": {
      "needs_background": "light"
     },
     "output_type": "display_data"
    }
   ],
   "source": [
    "fig, ax = plt.subplots(figsize=(10, 8))\n",
    "\n",
    "pums_df = pums_h_rent[h_mask]\n",
    "grp_col = 'rent_control'\n",
    "wgt_col = 'WGTP'\n",
    "value_col = 'HUPAC_l'\n",
    "new_col = 'pct_pop'\n",
    "\n",
    "weighted_agg_df = get_weighted_agg_se(get_weighted_pct_pop, pums_df, grp_col, wgt_col, value_col, new_col)\n",
    "\n",
    "sns.barplot(\n",
    "    x=value_col, y=new_col,\n",
    "    data=weighted_agg_df, hue=grp_col, alpha=0.6,\n",
    ")\n",
    "\n",
    "ax.errorbar(\n",
    "    [patch.get_x() + (patch.get_width() / 2) for patch in ax.patches],\n",
    "    weighted_agg_df[new_col], yerr=weighted_agg_df['se'] * 1.645,\n",
    "    fmt='none', c='k', elinewidth=1, capsize=5,\n",
    "    label='90% c.i.')\n",
    "\n",
    "ax.set_xlabel(\"Children\", fontsize=14)\n",
    "ax.set_ylabel(\"% Pop. by Rent Control Status\", fontsize=14)"
   ]
  },
  {
   "cell_type": "code",
   "execution_count": 334,
   "metadata": {},
   "outputs": [
    {
     "data": {
      "text/html": [
       "<div>\n",
       "<style scoped>\n",
       "    .dataframe tbody tr th:only-of-type {\n",
       "        vertical-align: middle;\n",
       "    }\n",
       "\n",
       "    .dataframe tbody tr th {\n",
       "        vertical-align: top;\n",
       "    }\n",
       "\n",
       "    .dataframe thead tr th {\n",
       "        text-align: left;\n",
       "    }\n",
       "\n",
       "    .dataframe thead tr:last-of-type th {\n",
       "        text-align: right;\n",
       "    }\n",
       "</style>\n",
       "<table border=\"1\" class=\"dataframe\">\n",
       "  <thead>\n",
       "    <tr>\n",
       "      <th></th>\n",
       "      <th colspan=\"2\" halign=\"left\">pct_pop</th>\n",
       "      <th colspan=\"2\" halign=\"left\">se</th>\n",
       "    </tr>\n",
       "    <tr>\n",
       "      <th>rent_control</th>\n",
       "      <th>False</th>\n",
       "      <th>True</th>\n",
       "      <th>False</th>\n",
       "      <th>True</th>\n",
       "    </tr>\n",
       "    <tr>\n",
       "      <th>HUPAC_l</th>\n",
       "      <th></th>\n",
       "      <th></th>\n",
       "      <th></th>\n",
       "      <th></th>\n",
       "    </tr>\n",
       "  </thead>\n",
       "  <tbody>\n",
       "    <tr>\n",
       "      <th>children under 6 and over 6</th>\n",
       "      <td>0.040649</td>\n",
       "      <td>0.024186</td>\n",
       "      <td>0.014041</td>\n",
       "      <td>0.008344</td>\n",
       "    </tr>\n",
       "    <tr>\n",
       "      <th>no children</th>\n",
       "      <td>0.811185</td>\n",
       "      <td>0.901612</td>\n",
       "      <td>0.025269</td>\n",
       "      <td>0.015966</td>\n",
       "    </tr>\n",
       "    <tr>\n",
       "      <th>only children 6 to 17</th>\n",
       "      <td>0.092293</td>\n",
       "      <td>0.050193</td>\n",
       "      <td>0.022611</td>\n",
       "      <td>0.012745</td>\n",
       "    </tr>\n",
       "    <tr>\n",
       "      <th>only children under 6</th>\n",
       "      <td>0.055873</td>\n",
       "      <td>0.024010</td>\n",
       "      <td>0.014592</td>\n",
       "      <td>0.007601</td>\n",
       "    </tr>\n",
       "  </tbody>\n",
       "</table>\n",
       "</div>"
      ],
      "text/plain": [
       "                              pct_pop                  se          \n",
       "rent_control                    False     True      False     True \n",
       "HUPAC_l                                                            \n",
       "children under 6 and over 6  0.040649  0.024186  0.014041  0.008344\n",
       "no children                  0.811185  0.901612  0.025269  0.015966\n",
       "only children 6 to 17        0.092293  0.050193  0.022611  0.012745\n",
       "only children under 6        0.055873  0.024010  0.014592  0.007601"
      ]
     },
     "execution_count": 334,
     "metadata": {},
     "output_type": "execute_result"
    }
   ],
   "source": [
    "weighted_agg_df.pivot(index='HUPAC_l', columns='rent_control', values=['pct_pop', 'se'])"
   ]
  },
  {
   "cell_type": "markdown",
   "metadata": {},
   "source": [
    "### Race"
   ]
  },
  {
   "cell_type": "code",
   "execution_count": 200,
   "metadata": {},
   "outputs": [
    {
     "data": {
      "text/plain": [
       "Text(0, 0.5, '% Pop. by Rent Control Status')"
      ]
     },
     "execution_count": 200,
     "metadata": {},
     "output_type": "execute_result"
    },
    {
     "data": {
      "image/png": "[encoded data removed]",
      "text/plain": [
       "<Figure size 720x576 with 1 Axes>"
      ]
     },
     "metadata": {
      "needs_background": "light"
     },
     "output_type": "display_data"
    }
   ],
   "source": [
    "fig, ax = plt.subplots(figsize=(10, 8))\n",
    "\n",
    "pums_df = pums_p_rent\n",
    "grp_col = 'rent_control'\n",
    "wgt_col = 'PWGTP'\n",
    "value_col = 'RAC1P_l'\n",
    "new_col = 'pct_pop'\n",
    "\n",
    "weighted_agg_df = get_weighted_agg_se(get_weighted_pct_pop, pums_df, grp_col, wgt_col, value_col, new_col)\n",
    "\n",
    "sns.barplot(\n",
    "    x=value_col, y=new_col,\n",
    "    data=weighted_agg_df, hue=grp_col, alpha=0.6,\n",
    ")\n",
    "\n",
    "ax.errorbar(\n",
    "    [patch.get_x() + (patch.get_width() / 2) for patch in ax.patches],\n",
    "    weighted_agg_df[new_col], yerr=weighted_agg_df['se'] * 1.645,\n",
    "    fmt='none', c='k', elinewidth=1, capsize=5,\n",
    "    label='90% c.i.')\n",
    "\n",
    "ax.set_xlabel(\"Race\", fontsize=14)\n",
    "ax.set_ylabel(\"% Pop. by Rent Control Status\", fontsize=14)"
   ]
  },
  {
   "cell_type": "code",
   "execution_count": 202,
   "metadata": {},
   "outputs": [
    {
     "data": {
      "text/html": [
       "<div>\n",
       "<style scoped>\n",
       "    .dataframe tbody tr th:only-of-type {\n",
       "        vertical-align: middle;\n",
       "    }\n",
       "\n",
       "    .dataframe tbody tr th {\n",
       "        vertical-align: top;\n",
       "    }\n",
       "\n",
       "    .dataframe thead tr th {\n",
       "        text-align: left;\n",
       "    }\n",
       "\n",
       "    .dataframe thead tr:last-of-type th {\n",
       "        text-align: right;\n",
       "    }\n",
       "</style>\n",
       "<table border=\"1\" class=\"dataframe\">\n",
       "  <thead>\n",
       "    <tr>\n",
       "      <th></th>\n",
       "      <th colspan=\"2\" halign=\"left\">pct_pop</th>\n",
       "      <th colspan=\"2\" halign=\"left\">se</th>\n",
       "    </tr>\n",
       "    <tr>\n",
       "      <th>rent_control</th>\n",
       "      <th>False</th>\n",
       "      <th>True</th>\n",
       "      <th>False</th>\n",
       "      <th>True</th>\n",
       "    </tr>\n",
       "    <tr>\n",
       "      <th>RAC1P_l</th>\n",
       "      <th></th>\n",
       "      <th></th>\n",
       "      <th></th>\n",
       "      <th></th>\n",
       "    </tr>\n",
       "  </thead>\n",
       "  <tbody>\n",
       "    <tr>\n",
       "      <th>Asian</th>\n",
       "      <td>0.283867</td>\n",
       "      <td>0.240324</td>\n",
       "      <td>0.023350</td>\n",
       "      <td>0.012532</td>\n",
       "    </tr>\n",
       "    <tr>\n",
       "      <th>Black</th>\n",
       "      <td>0.092015</td>\n",
       "      <td>0.044126</td>\n",
       "      <td>0.014332</td>\n",
       "      <td>0.004590</td>\n",
       "    </tr>\n",
       "    <tr>\n",
       "      <th>Other</th>\n",
       "      <td>0.132780</td>\n",
       "      <td>0.079517</td>\n",
       "      <td>0.020866</td>\n",
       "      <td>0.012096</td>\n",
       "    </tr>\n",
       "    <tr>\n",
       "      <th>Two + Races</th>\n",
       "      <td>0.050470</td>\n",
       "      <td>0.052476</td>\n",
       "      <td>0.008727</td>\n",
       "      <td>0.005186</td>\n",
       "    </tr>\n",
       "    <tr>\n",
       "      <th>White</th>\n",
       "      <td>0.440868</td>\n",
       "      <td>0.583557</td>\n",
       "      <td>0.029623</td>\n",
       "      <td>0.014769</td>\n",
       "    </tr>\n",
       "  </tbody>\n",
       "</table>\n",
       "</div>"
      ],
      "text/plain": [
       "               pct_pop                  se          \n",
       "rent_control     False     True      False     True \n",
       "RAC1P_l                                             \n",
       "Asian         0.283867  0.240324  0.023350  0.012532\n",
       "Black         0.092015  0.044126  0.014332  0.004590\n",
       "Other         0.132780  0.079517  0.020866  0.012096\n",
       "Two + Races   0.050470  0.052476  0.008727  0.005186\n",
       "White         0.440868  0.583557  0.029623  0.014769"
      ]
     },
     "execution_count": 202,
     "metadata": {},
     "output_type": "execute_result"
    }
   ],
   "source": [
    "weighted_agg_df.pivot(index='RAC1P_l', columns='rent_control', values=['pct_pop', 'se'])"
   ]
  },
  {
   "cell_type": "code",
   "execution_count": 273,
   "metadata": {},
   "outputs": [
    {
     "data": {
      "text/plain": [
       "Text(0.5, 1.0, 'Renters in Multi-Unit Buildings Built 1950-2007')"
      ]
     },
     "execution_count": 273,
     "metadata": {},
     "output_type": "execute_result"
    },
    {
     "data": {
      "image/png": "[encoded data removed]",
      "text/plain": [
       "<Figure size 720x576 with 1 Axes>"
      ]
     },
     "metadata": {
      "needs_background": "light"
     },
     "output_type": "display_data"
    }
   ],
   "source": [
    "fig, ax = plt.subplots(figsize=(10, 8))\n",
    "\n",
    "pums_df = pums_p_rent[p_mask]\n",
    "grp_col = 'rent_control'\n",
    "wgt_col = 'PWGTP'\n",
    "value_col = 'RAC1P_l'\n",
    "new_col = 'pct_pop'\n",
    "\n",
    "weighted_agg_df = get_weighted_agg_se(get_weighted_pct_pop, pums_df, grp_col, wgt_col, value_col, new_col)\n",
    "\n",
    "sns.barplot(\n",
    "    x=value_col, y=new_col,\n",
    "    data=weighted_agg_df, hue=grp_col, alpha=0.6,\n",
    ")\n",
    "\n",
    "ax.errorbar(\n",
    "    [patch.get_x() + (patch.get_width() / 2) for patch in ax.patches],\n",
    "    weighted_agg_df[new_col], yerr=weighted_agg_df['se'] * 1.645,\n",
    "    fmt='none', c='k', elinewidth=1, capsize=5,\n",
    "    label='90% c.i.')\n",
    "\n",
    "ax.set_xlabel(\"Race\", fontsize=14)\n",
    "ax.set_ylabel(\"% Pop. by Rent Control Status\", fontsize=14)\n",
    "ax.set_title(\"Renters in Multi-Unit Buildings Built 1950-2007\")"
   ]
  },
  {
   "cell_type": "code",
   "execution_count": 274,
   "metadata": {},
   "outputs": [
    {
     "data": {
      "text/html": [
       "<div>\n",
       "<style scoped>\n",
       "    .dataframe tbody tr th:only-of-type {\n",
       "        vertical-align: middle;\n",
       "    }\n",
       "\n",
       "    .dataframe tbody tr th {\n",
       "        vertical-align: top;\n",
       "    }\n",
       "\n",
       "    .dataframe thead tr th {\n",
       "        text-align: left;\n",
       "    }\n",
       "\n",
       "    .dataframe thead tr:last-of-type th {\n",
       "        text-align: right;\n",
       "    }\n",
       "</style>\n",
       "<table border=\"1\" class=\"dataframe\">\n",
       "  <thead>\n",
       "    <tr>\n",
       "      <th></th>\n",
       "      <th colspan=\"2\" halign=\"left\">pct_pop</th>\n",
       "      <th colspan=\"2\" halign=\"left\">se</th>\n",
       "    </tr>\n",
       "    <tr>\n",
       "      <th>rent_control</th>\n",
       "      <th>False</th>\n",
       "      <th>True</th>\n",
       "      <th>False</th>\n",
       "      <th>True</th>\n",
       "    </tr>\n",
       "    <tr>\n",
       "      <th>RAC1P_l</th>\n",
       "      <th></th>\n",
       "      <th></th>\n",
       "      <th></th>\n",
       "      <th></th>\n",
       "    </tr>\n",
       "  </thead>\n",
       "  <tbody>\n",
       "    <tr>\n",
       "      <th>Asian</th>\n",
       "      <td>0.308800</td>\n",
       "      <td>0.260691</td>\n",
       "      <td>0.029653</td>\n",
       "      <td>0.023352</td>\n",
       "    </tr>\n",
       "    <tr>\n",
       "      <th>Black</th>\n",
       "      <td>0.098705</td>\n",
       "      <td>0.056789</td>\n",
       "      <td>0.018237</td>\n",
       "      <td>0.009877</td>\n",
       "    </tr>\n",
       "    <tr>\n",
       "      <th>Other</th>\n",
       "      <td>0.127903</td>\n",
       "      <td>0.071988</td>\n",
       "      <td>0.030022</td>\n",
       "      <td>0.020087</td>\n",
       "    </tr>\n",
       "    <tr>\n",
       "      <th>Two + Races</th>\n",
       "      <td>0.056400</td>\n",
       "      <td>0.061205</td>\n",
       "      <td>0.011559</td>\n",
       "      <td>0.009868</td>\n",
       "    </tr>\n",
       "    <tr>\n",
       "      <th>White</th>\n",
       "      <td>0.408193</td>\n",
       "      <td>0.549326</td>\n",
       "      <td>0.035316</td>\n",
       "      <td>0.029353</td>\n",
       "    </tr>\n",
       "  </tbody>\n",
       "</table>\n",
       "</div>"
      ],
      "text/plain": [
       "               pct_pop                  se          \n",
       "rent_control     False     True      False     True \n",
       "RAC1P_l                                             \n",
       "Asian         0.308800  0.260691  0.029653  0.023352\n",
       "Black         0.098705  0.056789  0.018237  0.009877\n",
       "Other         0.127903  0.071988  0.030022  0.020087\n",
       "Two + Races   0.056400  0.061205  0.011559  0.009868\n",
       "White         0.408193  0.549326  0.035316  0.029353"
      ]
     },
     "execution_count": 274,
     "metadata": {},
     "output_type": "execute_result"
    }
   ],
   "source": [
    "weighted_agg_df.pivot(index=value_col, columns=grp_col, values=['pct_pop', 'se'])"
   ]
  },
  {
   "cell_type": "code",
   "execution_count": 203,
   "metadata": {},
   "outputs": [
    {
     "data": {
      "text/plain": [
       "Text(0, 0.5, '% Pop. by Rent Control Status')"
      ]
     },
     "execution_count": 203,
     "metadata": {},
     "output_type": "execute_result"
    },
    {
     "data": {
      "image/png": "[encoded data removed]",
      "text/plain": [
       "<Figure size 432x576 with 1 Axes>"
      ]
     },
     "metadata": {
      "needs_background": "light"
     },
     "output_type": "display_data"
    }
   ],
   "source": [
    "fig, ax = plt.subplots(figsize=(6, 8))\n",
    "\n",
    "pums_df = pums_p_rent\n",
    "grp_col = 'rent_control'\n",
    "wgt_col = 'PWGTP'\n",
    "value_col = 'HISP_l'\n",
    "new_col = 'pct_pop'\n",
    "\n",
    "weighted_agg_df = get_weighted_agg_se(get_weighted_pct_pop, pums_df, grp_col, wgt_col, value_col, new_col)\n",
    "\n",
    "sns.barplot(\n",
    "    x=value_col, y=new_col,\n",
    "    data=weighted_agg_df, hue=grp_col, alpha=0.6,\n",
    ")\n",
    "\n",
    "ax.errorbar(\n",
    "    [patch.get_x() + (patch.get_width() / 2) for patch in ax.patches],\n",
    "    weighted_agg_df[new_col], yerr=weighted_agg_df['se'] * 1.645,\n",
    "    fmt='none', c='k', elinewidth=1, capsize=5,\n",
    "    label='90% c.i.')\n",
    "\n",
    "ax.set_xlabel(\"Hispanic Origin\", fontsize=14)\n",
    "ax.set_ylabel(\"% Pop. by Rent Control Status\", fontsize=14)"
   ]
  },
  {
   "cell_type": "code",
   "execution_count": 206,
   "metadata": {},
   "outputs": [
    {
     "data": {
      "text/html": [
       "<div>\n",
       "<style scoped>\n",
       "    .dataframe tbody tr th:only-of-type {\n",
       "        vertical-align: middle;\n",
       "    }\n",
       "\n",
       "    .dataframe tbody tr th {\n",
       "        vertical-align: top;\n",
       "    }\n",
       "\n",
       "    .dataframe thead tr th {\n",
       "        text-align: left;\n",
       "    }\n",
       "\n",
       "    .dataframe thead tr:last-of-type th {\n",
       "        text-align: right;\n",
       "    }\n",
       "</style>\n",
       "<table border=\"1\" class=\"dataframe\">\n",
       "  <thead>\n",
       "    <tr>\n",
       "      <th></th>\n",
       "      <th colspan=\"2\" halign=\"left\">pct_pop</th>\n",
       "      <th colspan=\"2\" halign=\"left\">se</th>\n",
       "    </tr>\n",
       "    <tr>\n",
       "      <th>rent_control</th>\n",
       "      <th>False</th>\n",
       "      <th>True</th>\n",
       "      <th>False</th>\n",
       "      <th>True</th>\n",
       "    </tr>\n",
       "    <tr>\n",
       "      <th>HISP_l</th>\n",
       "      <th></th>\n",
       "      <th></th>\n",
       "      <th></th>\n",
       "      <th></th>\n",
       "    </tr>\n",
       "  </thead>\n",
       "  <tbody>\n",
       "    <tr>\n",
       "      <th>No</th>\n",
       "      <td>0.751929</td>\n",
       "      <td>0.841108</td>\n",
       "      <td>0.022253</td>\n",
       "      <td>0.010328</td>\n",
       "    </tr>\n",
       "    <tr>\n",
       "      <th>Yes</th>\n",
       "      <td>0.248071</td>\n",
       "      <td>0.158892</td>\n",
       "      <td>0.022253</td>\n",
       "      <td>0.010328</td>\n",
       "    </tr>\n",
       "  </tbody>\n",
       "</table>\n",
       "</div>"
      ],
      "text/plain": [
       "               pct_pop                  se          \n",
       "rent_control     False     True      False     True \n",
       "HISP_l                                              \n",
       "No            0.751929  0.841108  0.022253  0.010328\n",
       "Yes           0.248071  0.158892  0.022253  0.010328"
      ]
     },
     "execution_count": 206,
     "metadata": {},
     "output_type": "execute_result"
    }
   ],
   "source": [
    "weighted_agg_df.pivot(index=value_col, columns='rent_control', values=['pct_pop', 'se'])"
   ]
  },
  {
   "cell_type": "code",
   "execution_count": 275,
   "metadata": {},
   "outputs": [
    {
     "data": {
      "image/png": "[encoded data removed]",
      "text/plain": [
       "<Figure size 432x576 with 1 Axes>"
      ]
     },
     "metadata": {
      "needs_background": "light"
     },
     "output_type": "display_data"
    }
   ],
   "source": [
    "fig, ax = plt.subplots(figsize=(6, 8))\n",
    "\n",
    "pums_df = pums_p_rent[p_mask]\n",
    "grp_col = 'rent_control'\n",
    "wgt_col = 'PWGTP'\n",
    "value_col = 'HISP_l'\n",
    "new_col = 'pct_pop'\n",
    "\n",
    "weighted_agg_df = get_weighted_agg_se(get_weighted_pct_pop, pums_df, grp_col, wgt_col, value_col, new_col)\n",
    "\n",
    "sns.barplot(\n",
    "    x=value_col, y=new_col,\n",
    "    data=weighted_agg_df, hue=grp_col, alpha=0.6,\n",
    ")\n",
    "\n",
    "ax.errorbar(\n",
    "    [patch.get_x() + (patch.get_width() / 2) for patch in ax.patches],\n",
    "    weighted_agg_df[new_col], yerr=weighted_agg_df['se'] * 1.645,\n",
    "    fmt='none', c='k', elinewidth=1, capsize=5,\n",
    "    label='90% c.i.')\n",
    "\n",
    "ax.set_xlabel(\"Hispanic Origin\", fontsize=14)\n",
    "ax.set_ylabel(\"% Pop. by Rent Control Status\", fontsize=14)\n",
    "_ = ax.set_title(\"Renters in Multi-Unit Buildings Built 1950-2007\")"
   ]
  },
  {
   "cell_type": "code",
   "execution_count": 276,
   "metadata": {},
   "outputs": [
    {
     "data": {
      "text/html": [
       "<div>\n",
       "<style scoped>\n",
       "    .dataframe tbody tr th:only-of-type {\n",
       "        vertical-align: middle;\n",
       "    }\n",
       "\n",
       "    .dataframe tbody tr th {\n",
       "        vertical-align: top;\n",
       "    }\n",
       "\n",
       "    .dataframe thead tr th {\n",
       "        text-align: left;\n",
       "    }\n",
       "\n",
       "    .dataframe thead tr:last-of-type th {\n",
       "        text-align: right;\n",
       "    }\n",
       "</style>\n",
       "<table border=\"1\" class=\"dataframe\">\n",
       "  <thead>\n",
       "    <tr>\n",
       "      <th></th>\n",
       "      <th colspan=\"2\" halign=\"left\">pct_pop</th>\n",
       "      <th colspan=\"2\" halign=\"left\">se</th>\n",
       "    </tr>\n",
       "    <tr>\n",
       "      <th>rent_control</th>\n",
       "      <th>False</th>\n",
       "      <th>True</th>\n",
       "      <th>False</th>\n",
       "      <th>True</th>\n",
       "    </tr>\n",
       "    <tr>\n",
       "      <th>HISP_l</th>\n",
       "      <th></th>\n",
       "      <th></th>\n",
       "      <th></th>\n",
       "      <th></th>\n",
       "    </tr>\n",
       "  </thead>\n",
       "  <tbody>\n",
       "    <tr>\n",
       "      <th>No</th>\n",
       "      <td>0.776941</td>\n",
       "      <td>0.8373</td>\n",
       "      <td>0.028798</td>\n",
       "      <td>0.02186</td>\n",
       "    </tr>\n",
       "    <tr>\n",
       "      <th>Yes</th>\n",
       "      <td>0.223059</td>\n",
       "      <td>0.1627</td>\n",
       "      <td>0.028798</td>\n",
       "      <td>0.02186</td>\n",
       "    </tr>\n",
       "  </tbody>\n",
       "</table>\n",
       "</div>"
      ],
      "text/plain": [
       "               pct_pop                se         \n",
       "rent_control     False   True      False    True \n",
       "HISP_l                                           \n",
       "No            0.776941  0.8373  0.028798  0.02186\n",
       "Yes           0.223059  0.1627  0.028798  0.02186"
      ]
     },
     "execution_count": 276,
     "metadata": {},
     "output_type": "execute_result"
    }
   ],
   "source": [
    "weighted_agg_df.pivot(index=value_col, columns='rent_control', values=['pct_pop', 'se'])"
   ]
  },
  {
   "cell_type": "markdown",
   "metadata": {},
   "source": [
    "# Sex"
   ]
  },
  {
   "cell_type": "code",
   "execution_count": 207,
   "metadata": {},
   "outputs": [
    {
     "data": {
      "text/plain": [
       "Text(0, 0.5, '% Pop. by Rent Control Status')"
      ]
     },
     "execution_count": 207,
     "metadata": {},
     "output_type": "execute_result"
    },
    {
     "data": {
      "image/png": "[encoded data removed]",
      "text/plain": [
       "<Figure size 432x576 with 1 Axes>"
      ]
     },
     "metadata": {
      "needs_background": "light"
     },
     "output_type": "display_data"
    }
   ],
   "source": [
    "fig, ax = plt.subplots(figsize=(6, 8))\n",
    "\n",
    "pums_df = pums_p_rent\n",
    "grp_col = 'rent_control'\n",
    "wgt_col = 'PWGTP'\n",
    "value_col = 'SEX_l'\n",
    "new_col = 'pct_pop'\n",
    "\n",
    "weighted_agg_df = get_weighted_agg_se(get_weighted_pct_pop, pums_df, grp_col, wgt_col, value_col, new_col)\n",
    "\n",
    "sns.barplot(\n",
    "    x=value_col, y=new_col,\n",
    "    data=weighted_agg_df, hue=grp_col, alpha=0.6,\n",
    ")\n",
    "\n",
    "ax.errorbar(\n",
    "    [patch.get_x() + (patch.get_width() / 2) for patch in ax.patches],\n",
    "    weighted_agg_df[new_col], yerr=weighted_agg_df['se'] * 1.645,\n",
    "    fmt='none', c='k', elinewidth=1, capsize=5,\n",
    "    label='90% c.i.')\n",
    "\n",
    "ax.set_xlabel(\"Sex\", fontsize=14)\n",
    "ax.set_ylabel(\"% Pop. by Rent Control Status\", fontsize=14)"
   ]
  },
  {
   "cell_type": "code",
   "execution_count": 208,
   "metadata": {},
   "outputs": [
    {
     "data": {
      "text/html": [
       "<div>\n",
       "<style scoped>\n",
       "    .dataframe tbody tr th:only-of-type {\n",
       "        vertical-align: middle;\n",
       "    }\n",
       "\n",
       "    .dataframe tbody tr th {\n",
       "        vertical-align: top;\n",
       "    }\n",
       "\n",
       "    .dataframe thead tr th {\n",
       "        text-align: left;\n",
       "    }\n",
       "\n",
       "    .dataframe thead tr:last-of-type th {\n",
       "        text-align: right;\n",
       "    }\n",
       "</style>\n",
       "<table border=\"1\" class=\"dataframe\">\n",
       "  <thead>\n",
       "    <tr>\n",
       "      <th></th>\n",
       "      <th colspan=\"2\" halign=\"left\">pct_pop</th>\n",
       "      <th colspan=\"2\" halign=\"left\">se</th>\n",
       "    </tr>\n",
       "    <tr>\n",
       "      <th>rent_control</th>\n",
       "      <th>False</th>\n",
       "      <th>True</th>\n",
       "      <th>False</th>\n",
       "      <th>True</th>\n",
       "    </tr>\n",
       "    <tr>\n",
       "      <th>SEX_l</th>\n",
       "      <th></th>\n",
       "      <th></th>\n",
       "      <th></th>\n",
       "      <th></th>\n",
       "    </tr>\n",
       "  </thead>\n",
       "  <tbody>\n",
       "    <tr>\n",
       "      <th>Female</th>\n",
       "      <td>0.48041</td>\n",
       "      <td>0.47773</td>\n",
       "      <td>0.016587</td>\n",
       "      <td>0.009102</td>\n",
       "    </tr>\n",
       "    <tr>\n",
       "      <th>Male</th>\n",
       "      <td>0.51959</td>\n",
       "      <td>0.52227</td>\n",
       "      <td>0.016587</td>\n",
       "      <td>0.009102</td>\n",
       "    </tr>\n",
       "  </tbody>\n",
       "</table>\n",
       "</div>"
      ],
      "text/plain": [
       "              pct_pop                 se          \n",
       "rent_control    False    True      False     True \n",
       "SEX_l                                             \n",
       "Female        0.48041  0.47773  0.016587  0.009102\n",
       "Male          0.51959  0.52227  0.016587  0.009102"
      ]
     },
     "execution_count": 208,
     "metadata": {},
     "output_type": "execute_result"
    }
   ],
   "source": [
    "weighted_agg_df.pivot(index=value_col, columns='rent_control', values=['pct_pop', 'se'])"
   ]
  },
  {
   "cell_type": "code",
   "execution_count": 277,
   "metadata": {},
   "outputs": [
    {
     "data": {
      "image/png": "[encoded data removed]",
      "text/plain": [
       "<Figure size 432x576 with 1 Axes>"
      ]
     },
     "metadata": {
      "needs_background": "light"
     },
     "output_type": "display_data"
    }
   ],
   "source": [
    "fig, ax = plt.subplots(figsize=(6, 8))\n",
    "\n",
    "pums_df = pums_p_rent[p_mask]\n",
    "grp_col = 'rent_control'\n",
    "wgt_col = 'PWGTP'\n",
    "value_col = 'SEX_l'\n",
    "new_col = 'pct_pop'\n",
    "\n",
    "weighted_agg_df = get_weighted_agg_se(get_weighted_pct_pop, pums_df, grp_col, wgt_col, value_col, new_col)\n",
    "\n",
    "sns.barplot(\n",
    "    x=value_col, y=new_col,\n",
    "    data=weighted_agg_df, hue=grp_col, alpha=0.6,\n",
    ")\n",
    "\n",
    "ax.errorbar(\n",
    "    [patch.get_x() + (patch.get_width() / 2) for patch in ax.patches],\n",
    "    weighted_agg_df[new_col], yerr=weighted_agg_df['se'] * 1.645,\n",
    "    fmt='none', c='k', elinewidth=1, capsize=5,\n",
    "    label='90% c.i.')\n",
    "\n",
    "ax.set_xlabel(\"Sex\", fontsize=14)\n",
    "ax.set_ylabel(\"% Pop. by Rent Control Status\", fontsize=14)\n",
    "_ = ax.set_title(\"Renters in Multi-Unit Buildings Built 1950-2007\")"
   ]
  },
  {
   "cell_type": "code",
   "execution_count": 278,
   "metadata": {},
   "outputs": [
    {
     "data": {
      "text/html": [
       "<div>\n",
       "<style scoped>\n",
       "    .dataframe tbody tr th:only-of-type {\n",
       "        vertical-align: middle;\n",
       "    }\n",
       "\n",
       "    .dataframe tbody tr th {\n",
       "        vertical-align: top;\n",
       "    }\n",
       "\n",
       "    .dataframe thead tr th {\n",
       "        text-align: left;\n",
       "    }\n",
       "\n",
       "    .dataframe thead tr:last-of-type th {\n",
       "        text-align: right;\n",
       "    }\n",
       "</style>\n",
       "<table border=\"1\" class=\"dataframe\">\n",
       "  <thead>\n",
       "    <tr>\n",
       "      <th></th>\n",
       "      <th colspan=\"2\" halign=\"left\">pct_pop</th>\n",
       "      <th colspan=\"2\" halign=\"left\">se</th>\n",
       "    </tr>\n",
       "    <tr>\n",
       "      <th>rent_control</th>\n",
       "      <th>False</th>\n",
       "      <th>True</th>\n",
       "      <th>False</th>\n",
       "      <th>True</th>\n",
       "    </tr>\n",
       "    <tr>\n",
       "      <th>SEX_l</th>\n",
       "      <th></th>\n",
       "      <th></th>\n",
       "      <th></th>\n",
       "      <th></th>\n",
       "    </tr>\n",
       "  </thead>\n",
       "  <tbody>\n",
       "    <tr>\n",
       "      <th>Female</th>\n",
       "      <td>0.486926</td>\n",
       "      <td>0.499166</td>\n",
       "      <td>0.023707</td>\n",
       "      <td>0.018284</td>\n",
       "    </tr>\n",
       "    <tr>\n",
       "      <th>Male</th>\n",
       "      <td>0.513074</td>\n",
       "      <td>0.500834</td>\n",
       "      <td>0.023707</td>\n",
       "      <td>0.018284</td>\n",
       "    </tr>\n",
       "  </tbody>\n",
       "</table>\n",
       "</div>"
      ],
      "text/plain": [
       "               pct_pop                  se          \n",
       "rent_control     False     True      False     True \n",
       "SEX_l                                               \n",
       "Female        0.486926  0.499166  0.023707  0.018284\n",
       "Male          0.513074  0.500834  0.023707  0.018284"
      ]
     },
     "execution_count": 278,
     "metadata": {},
     "output_type": "execute_result"
    }
   ],
   "source": [
    "weighted_agg_df.pivot(index=value_col, columns='rent_control', values=['pct_pop', 'se'])"
   ]
  },
  {
   "cell_type": "markdown",
   "metadata": {},
   "source": [
    "# Race $\\times$ Sex"
   ]
  },
  {
   "cell_type": "code",
   "execution_count": 209,
   "metadata": {},
   "outputs": [
    {
     "data": {
      "text/plain": [
       "Text(0, 0.5, '% Pop. by Rent Control Status')"
      ]
     },
     "execution_count": 209,
     "metadata": {},
     "output_type": "execute_result"
    },
    {
     "data": {
      "image/png": "[encoded data removed]",
      "text/plain": [
       "<Figure size 1008x576 with 1 Axes>"
      ]
     },
     "metadata": {
      "needs_background": "light"
     },
     "output_type": "display_data"
    }
   ],
   "source": [
    "fig, ax = plt.subplots(figsize=(14, 8))\n",
    "\n",
    "pums_df = pums_p_rent.copy()\n",
    "pums_df['race_sex'] = pums_df['RAC1P_l'] + ' ' + pums_df['SEX_l']\n",
    "grp_col = 'rent_control'\n",
    "wgt_col = 'PWGTP'\n",
    "value_col = 'race_sex'\n",
    "new_col = 'pct_pop'\n",
    "\n",
    "weighted_agg_df = get_weighted_agg_se(get_weighted_pct_pop, pums_df, grp_col, wgt_col, value_col, new_col)\n",
    "\n",
    "sns.barplot(\n",
    "    x=value_col, y=new_col,\n",
    "    data=weighted_agg_df, hue=grp_col, alpha=0.6,\n",
    ")\n",
    "\n",
    "ax.errorbar(\n",
    "    [patch.get_x() + (patch.get_width() / 2) for patch in ax.patches],\n",
    "    weighted_agg_df[new_col], yerr=weighted_agg_df['se'] * 1.645,\n",
    "    fmt='none', c='k', elinewidth=1, capsize=5,\n",
    "    label='90% c.i.')\n",
    "\n",
    "ax.set_xlabel(r\"Race $\\times$ Sex\", fontsize=14)\n",
    "ax.set_ylabel(\"% Pop. by Rent Control Status\", fontsize=14)"
   ]
  },
  {
   "cell_type": "code",
   "execution_count": 210,
   "metadata": {},
   "outputs": [
    {
     "data": {
      "text/html": [
       "<div>\n",
       "<style scoped>\n",
       "    .dataframe tbody tr th:only-of-type {\n",
       "        vertical-align: middle;\n",
       "    }\n",
       "\n",
       "    .dataframe tbody tr th {\n",
       "        vertical-align: top;\n",
       "    }\n",
       "\n",
       "    .dataframe thead tr th {\n",
       "        text-align: left;\n",
       "    }\n",
       "\n",
       "    .dataframe thead tr:last-of-type th {\n",
       "        text-align: right;\n",
       "    }\n",
       "</style>\n",
       "<table border=\"1\" class=\"dataframe\">\n",
       "  <thead>\n",
       "    <tr>\n",
       "      <th></th>\n",
       "      <th colspan=\"2\" halign=\"left\">pct_pop</th>\n",
       "      <th colspan=\"2\" halign=\"left\">se</th>\n",
       "    </tr>\n",
       "    <tr>\n",
       "      <th>rent_control</th>\n",
       "      <th>False</th>\n",
       "      <th>True</th>\n",
       "      <th>False</th>\n",
       "      <th>True</th>\n",
       "    </tr>\n",
       "    <tr>\n",
       "      <th>race_sex</th>\n",
       "      <th></th>\n",
       "      <th></th>\n",
       "      <th></th>\n",
       "      <th></th>\n",
       "    </tr>\n",
       "  </thead>\n",
       "  <tbody>\n",
       "    <tr>\n",
       "      <th>Asian Female</th>\n",
       "      <td>0.147989</td>\n",
       "      <td>0.135325</td>\n",
       "      <td>0.014578</td>\n",
       "      <td>0.008838</td>\n",
       "    </tr>\n",
       "    <tr>\n",
       "      <th>Asian Male</th>\n",
       "      <td>0.135878</td>\n",
       "      <td>0.104999</td>\n",
       "      <td>0.012266</td>\n",
       "      <td>0.007087</td>\n",
       "    </tr>\n",
       "    <tr>\n",
       "      <th>Black Female</th>\n",
       "      <td>0.052254</td>\n",
       "      <td>0.019992</td>\n",
       "      <td>0.009510</td>\n",
       "      <td>0.003174</td>\n",
       "    </tr>\n",
       "    <tr>\n",
       "      <th>Black Male</th>\n",
       "      <td>0.039761</td>\n",
       "      <td>0.024134</td>\n",
       "      <td>0.007862</td>\n",
       "      <td>0.003024</td>\n",
       "    </tr>\n",
       "    <tr>\n",
       "      <th>Other Female</th>\n",
       "      <td>0.061279</td>\n",
       "      <td>0.036524</td>\n",
       "      <td>0.010537</td>\n",
       "      <td>0.005958</td>\n",
       "    </tr>\n",
       "    <tr>\n",
       "      <th>Other Male</th>\n",
       "      <td>0.071500</td>\n",
       "      <td>0.042994</td>\n",
       "      <td>0.014190</td>\n",
       "      <td>0.007597</td>\n",
       "    </tr>\n",
       "    <tr>\n",
       "      <th>Two + Races Female</th>\n",
       "      <td>0.026818</td>\n",
       "      <td>0.028889</td>\n",
       "      <td>0.006725</td>\n",
       "      <td>0.003684</td>\n",
       "    </tr>\n",
       "    <tr>\n",
       "      <th>Two + Races Male</th>\n",
       "      <td>0.023653</td>\n",
       "      <td>0.023588</td>\n",
       "      <td>0.005326</td>\n",
       "      <td>0.003241</td>\n",
       "    </tr>\n",
       "    <tr>\n",
       "      <th>White Female</th>\n",
       "      <td>0.192070</td>\n",
       "      <td>0.257001</td>\n",
       "      <td>0.017330</td>\n",
       "      <td>0.008659</td>\n",
       "    </tr>\n",
       "    <tr>\n",
       "      <th>White Male</th>\n",
       "      <td>0.248798</td>\n",
       "      <td>0.326556</td>\n",
       "      <td>0.018333</td>\n",
       "      <td>0.010798</td>\n",
       "    </tr>\n",
       "  </tbody>\n",
       "</table>\n",
       "</div>"
      ],
      "text/plain": [
       "                     pct_pop                  se          \n",
       "rent_control           False     True      False     True \n",
       "race_sex                                                  \n",
       "Asian Female        0.147989  0.135325  0.014578  0.008838\n",
       "Asian Male          0.135878  0.104999  0.012266  0.007087\n",
       "Black Female        0.052254  0.019992  0.009510  0.003174\n",
       "Black Male          0.039761  0.024134  0.007862  0.003024\n",
       "Other Female        0.061279  0.036524  0.010537  0.005958\n",
       "Other Male          0.071500  0.042994  0.014190  0.007597\n",
       "Two + Races Female  0.026818  0.028889  0.006725  0.003684\n",
       "Two + Races Male    0.023653  0.023588  0.005326  0.003241\n",
       "White Female        0.192070  0.257001  0.017330  0.008659\n",
       "White Male          0.248798  0.326556  0.018333  0.010798"
      ]
     },
     "execution_count": 210,
     "metadata": {},
     "output_type": "execute_result"
    }
   ],
   "source": [
    "weighted_agg_df.pivot(index=value_col, columns='rent_control', values=['pct_pop', 'se'])"
   ]
  },
  {
   "cell_type": "code",
   "execution_count": 279,
   "metadata": {},
   "outputs": [
    {
     "data": {
      "image/png": "[encoded data removed]",
      "text/plain": [
       "<Figure size 1008x576 with 1 Axes>"
      ]
     },
     "metadata": {
      "needs_background": "light"
     },
     "output_type": "display_data"
    }
   ],
   "source": [
    "fig, ax = plt.subplots(figsize=(14, 8))\n",
    "\n",
    "pums_df = pums_p_rent.copy()[p_mask]\n",
    "pums_df['race_sex'] = pums_df['RAC1P_l'] + ' ' + pums_df['SEX_l']\n",
    "grp_col = 'rent_control'\n",
    "wgt_col = 'PWGTP'\n",
    "value_col = 'race_sex'\n",
    "new_col = 'pct_pop'\n",
    "\n",
    "weighted_agg_df = get_weighted_agg_se(get_weighted_pct_pop, pums_df, grp_col, wgt_col, value_col, new_col)\n",
    "\n",
    "sns.barplot(\n",
    "    x=value_col, y=new_col,\n",
    "    data=weighted_agg_df, hue=grp_col, alpha=0.6,\n",
    ")\n",
    "\n",
    "ax.errorbar(\n",
    "    [patch.get_x() + (patch.get_width() / 2) for patch in ax.patches],\n",
    "    weighted_agg_df[new_col], yerr=weighted_agg_df['se'] * 1.645,\n",
    "    fmt='none', c='k', elinewidth=1, capsize=5,\n",
    "    label='90% c.i.')\n",
    "\n",
    "ax.set_xlabel(r\"Race $\\times$ Sex\", fontsize=14)\n",
    "ax.set_ylabel(\"% Pop. by Rent Control Status\", fontsize=14)\n",
    "_ = ax.set_title(\"Renters in Multi-Unit Buildings Built 1950-2007\")"
   ]
  },
  {
   "cell_type": "code",
   "execution_count": 280,
   "metadata": {},
   "outputs": [
    {
     "data": {
      "text/html": [
       "<div>\n",
       "<style scoped>\n",
       "    .dataframe tbody tr th:only-of-type {\n",
       "        vertical-align: middle;\n",
       "    }\n",
       "\n",
       "    .dataframe tbody tr th {\n",
       "        vertical-align: top;\n",
       "    }\n",
       "\n",
       "    .dataframe thead tr th {\n",
       "        text-align: left;\n",
       "    }\n",
       "\n",
       "    .dataframe thead tr:last-of-type th {\n",
       "        text-align: right;\n",
       "    }\n",
       "</style>\n",
       "<table border=\"1\" class=\"dataframe\">\n",
       "  <thead>\n",
       "    <tr>\n",
       "      <th></th>\n",
       "      <th colspan=\"2\" halign=\"left\">pct_pop</th>\n",
       "      <th colspan=\"2\" halign=\"left\">se</th>\n",
       "    </tr>\n",
       "    <tr>\n",
       "      <th>rent_control</th>\n",
       "      <th>False</th>\n",
       "      <th>True</th>\n",
       "      <th>False</th>\n",
       "      <th>True</th>\n",
       "    </tr>\n",
       "    <tr>\n",
       "      <th>race_sex</th>\n",
       "      <th></th>\n",
       "      <th></th>\n",
       "      <th></th>\n",
       "      <th></th>\n",
       "    </tr>\n",
       "  </thead>\n",
       "  <tbody>\n",
       "    <tr>\n",
       "      <th>Asian Female</th>\n",
       "      <td>0.172381</td>\n",
       "      <td>0.147459</td>\n",
       "      <td>0.018665</td>\n",
       "      <td>0.016722</td>\n",
       "    </tr>\n",
       "    <tr>\n",
       "      <th>Asian Male</th>\n",
       "      <td>0.136419</td>\n",
       "      <td>0.113232</td>\n",
       "      <td>0.016345</td>\n",
       "      <td>0.013101</td>\n",
       "    </tr>\n",
       "    <tr>\n",
       "      <th>Black Female</th>\n",
       "      <td>0.055912</td>\n",
       "      <td>0.033367</td>\n",
       "      <td>0.011856</td>\n",
       "      <td>0.007712</td>\n",
       "    </tr>\n",
       "    <tr>\n",
       "      <th>Black Male</th>\n",
       "      <td>0.042793</td>\n",
       "      <td>0.023423</td>\n",
       "      <td>0.010607</td>\n",
       "      <td>0.005347</td>\n",
       "    </tr>\n",
       "    <tr>\n",
       "      <th>Other Female</th>\n",
       "      <td>0.061955</td>\n",
       "      <td>0.031741</td>\n",
       "      <td>0.016440</td>\n",
       "      <td>0.010356</td>\n",
       "    </tr>\n",
       "    <tr>\n",
       "      <th>Other Male</th>\n",
       "      <td>0.065947</td>\n",
       "      <td>0.040248</td>\n",
       "      <td>0.018779</td>\n",
       "      <td>0.011830</td>\n",
       "    </tr>\n",
       "    <tr>\n",
       "      <th>Two + Races Female</th>\n",
       "      <td>0.027978</td>\n",
       "      <td>0.035066</td>\n",
       "      <td>0.007234</td>\n",
       "      <td>0.006733</td>\n",
       "    </tr>\n",
       "    <tr>\n",
       "      <th>Two + Races Male</th>\n",
       "      <td>0.028422</td>\n",
       "      <td>0.026139</td>\n",
       "      <td>0.007313</td>\n",
       "      <td>0.006468</td>\n",
       "    </tr>\n",
       "    <tr>\n",
       "      <th>White Female</th>\n",
       "      <td>0.168700</td>\n",
       "      <td>0.251534</td>\n",
       "      <td>0.020929</td>\n",
       "      <td>0.020063</td>\n",
       "    </tr>\n",
       "    <tr>\n",
       "      <th>White Male</th>\n",
       "      <td>0.239493</td>\n",
       "      <td>0.297792</td>\n",
       "      <td>0.022597</td>\n",
       "      <td>0.022431</td>\n",
       "    </tr>\n",
       "  </tbody>\n",
       "</table>\n",
       "</div>"
      ],
      "text/plain": [
       "                     pct_pop                  se          \n",
       "rent_control           False     True      False     True \n",
       "race_sex                                                  \n",
       "Asian Female        0.172381  0.147459  0.018665  0.016722\n",
       "Asian Male          0.136419  0.113232  0.016345  0.013101\n",
       "Black Female        0.055912  0.033367  0.011856  0.007712\n",
       "Black Male          0.042793  0.023423  0.010607  0.005347\n",
       "Other Female        0.061955  0.031741  0.016440  0.010356\n",
       "Other Male          0.065947  0.040248  0.018779  0.011830\n",
       "Two + Races Female  0.027978  0.035066  0.007234  0.006733\n",
       "Two + Races Male    0.028422  0.026139  0.007313  0.006468\n",
       "White Female        0.168700  0.251534  0.020929  0.020063\n",
       "White Male          0.239493  0.297792  0.022597  0.022431"
      ]
     },
     "execution_count": 280,
     "metadata": {},
     "output_type": "execute_result"
    }
   ],
   "source": [
    "weighted_agg_df.pivot(index=value_col, columns='rent_control', values=['pct_pop', 'se'])"
   ]
  },
  {
   "cell_type": "code",
   "execution_count": 211,
   "metadata": {},
   "outputs": [
    {
     "data": {
      "text/plain": [
       "Text(0, 0.5, '% Pop. by Rent Control Status')"
      ]
     },
     "execution_count": 211,
     "metadata": {},
     "output_type": "execute_result"
    },
    {
     "data": {
      "image/png": "[encoded data removed]",
      "text/plain": [
       "<Figure size 1008x576 with 1 Axes>"
      ]
     },
     "metadata": {
      "needs_background": "light"
     },
     "output_type": "display_data"
    }
   ],
   "source": [
    "fig, ax = plt.subplots(figsize=(14, 8))\n",
    "\n",
    "pums_df = pums_p_rent.copy()\n",
    "pums_df['hisp_sex'] = pums_df['HISP_l'] + ' ' + pums_df['SEX_l']\n",
    "grp_col = 'rent_control'\n",
    "wgt_col = 'PWGTP'\n",
    "value_col = 'hisp_sex'\n",
    "new_col = 'pct_pop'\n",
    "\n",
    "weighted_agg_df = get_weighted_agg_se(get_weighted_pct_pop, pums_df, grp_col, wgt_col, value_col, new_col)\n",
    "\n",
    "sns.barplot(\n",
    "    x=value_col, y=new_col,\n",
    "    data=weighted_agg_df, hue=grp_col, alpha=0.6,\n",
    ")\n",
    "\n",
    "ax.errorbar(\n",
    "    [patch.get_x() + (patch.get_width() / 2) for patch in ax.patches],\n",
    "    weighted_agg_df[new_col], yerr=weighted_agg_df['se'] * 1.645,\n",
    "    fmt='none', c='k', elinewidth=1, capsize=5,\n",
    "    label='90% c.i.')\n",
    "\n",
    "ax.set_xlabel(r\"Hispanic $\\times$ Sex\", fontsize=14)\n",
    "ax.set_ylabel(\"% Pop. by Rent Control Status\", fontsize=14)"
   ]
  },
  {
   "cell_type": "code",
   "execution_count": 281,
   "metadata": {},
   "outputs": [
    {
     "data": {
      "image/png": "[encoded data removed]",
      "text/plain": [
       "<Figure size 1008x576 with 1 Axes>"
      ]
     },
     "metadata": {
      "needs_background": "light"
     },
     "output_type": "display_data"
    }
   ],
   "source": [
    "fig, ax = plt.subplots(figsize=(14, 8))\n",
    "\n",
    "pums_df = pums_p_rent.copy()[p_mask]\n",
    "pums_df['hisp_sex'] = pums_df['HISP_l'] + ' ' + pums_df['SEX_l']\n",
    "grp_col = 'rent_control'\n",
    "wgt_col = 'PWGTP'\n",
    "value_col = 'hisp_sex'\n",
    "new_col = 'pct_pop'\n",
    "\n",
    "weighted_agg_df = get_weighted_agg_se(get_weighted_pct_pop, pums_df, grp_col, wgt_col, value_col, new_col)\n",
    "\n",
    "sns.barplot(\n",
    "    x=value_col, y=new_col,\n",
    "    data=weighted_agg_df, hue=grp_col, alpha=0.6,\n",
    ")\n",
    "\n",
    "ax.errorbar(\n",
    "    [patch.get_x() + (patch.get_width() / 2) for patch in ax.patches],\n",
    "    weighted_agg_df[new_col], yerr=weighted_agg_df['se'] * 1.645,\n",
    "    fmt='none', c='k', elinewidth=1, capsize=5,\n",
    "    label='90% c.i.')\n",
    "\n",
    "ax.set_xlabel(r\"Hispanic $\\times$ Sex\", fontsize=14)\n",
    "ax.set_ylabel(\"% Pop. by Rent Control Status\", fontsize=14)\n",
    "_ = ax.set_title(\"Renters in Multi-Unit Buildings Built 1950-2007\")"
   ]
  },
  {
   "cell_type": "code",
   "execution_count": 282,
   "metadata": {},
   "outputs": [
    {
     "data": {
      "text/html": [
       "<div>\n",
       "<style scoped>\n",
       "    .dataframe tbody tr th:only-of-type {\n",
       "        vertical-align: middle;\n",
       "    }\n",
       "\n",
       "    .dataframe tbody tr th {\n",
       "        vertical-align: top;\n",
       "    }\n",
       "\n",
       "    .dataframe thead tr th {\n",
       "        text-align: left;\n",
       "    }\n",
       "\n",
       "    .dataframe thead tr:last-of-type th {\n",
       "        text-align: right;\n",
       "    }\n",
       "</style>\n",
       "<table border=\"1\" class=\"dataframe\">\n",
       "  <thead>\n",
       "    <tr>\n",
       "      <th></th>\n",
       "      <th colspan=\"2\" halign=\"left\">pct_pop</th>\n",
       "      <th colspan=\"2\" halign=\"left\">se</th>\n",
       "    </tr>\n",
       "    <tr>\n",
       "      <th>rent_control</th>\n",
       "      <th>False</th>\n",
       "      <th>True</th>\n",
       "      <th>False</th>\n",
       "      <th>True</th>\n",
       "    </tr>\n",
       "    <tr>\n",
       "      <th>hisp_sex</th>\n",
       "      <th></th>\n",
       "      <th></th>\n",
       "      <th></th>\n",
       "      <th></th>\n",
       "    </tr>\n",
       "  </thead>\n",
       "  <tbody>\n",
       "    <tr>\n",
       "      <th>No Female</th>\n",
       "      <td>0.387866</td>\n",
       "      <td>0.430534</td>\n",
       "      <td>0.021682</td>\n",
       "      <td>0.020802</td>\n",
       "    </tr>\n",
       "    <tr>\n",
       "      <th>No Male</th>\n",
       "      <td>0.389075</td>\n",
       "      <td>0.406766</td>\n",
       "      <td>0.025126</td>\n",
       "      <td>0.020168</td>\n",
       "    </tr>\n",
       "    <tr>\n",
       "      <th>Yes Female</th>\n",
       "      <td>0.099060</td>\n",
       "      <td>0.068632</td>\n",
       "      <td>0.016434</td>\n",
       "      <td>0.012455</td>\n",
       "    </tr>\n",
       "    <tr>\n",
       "      <th>Yes Male</th>\n",
       "      <td>0.123999</td>\n",
       "      <td>0.094068</td>\n",
       "      <td>0.020507</td>\n",
       "      <td>0.013507</td>\n",
       "    </tr>\n",
       "  </tbody>\n",
       "</table>\n",
       "</div>"
      ],
      "text/plain": [
       "               pct_pop                  se          \n",
       "rent_control     False     True      False     True \n",
       "hisp_sex                                            \n",
       "No Female     0.387866  0.430534  0.021682  0.020802\n",
       "No Male       0.389075  0.406766  0.025126  0.020168\n",
       "Yes Female    0.099060  0.068632  0.016434  0.012455\n",
       "Yes Male      0.123999  0.094068  0.020507  0.013507"
      ]
     },
     "execution_count": 282,
     "metadata": {},
     "output_type": "execute_result"
    }
   ],
   "source": [
    "weighted_agg_df.pivot(index=value_col, columns='rent_control', values=['pct_pop', 'se'])"
   ]
  },
  {
   "cell_type": "markdown",
   "metadata": {},
   "source": [
    "# Disability Status"
   ]
  },
  {
   "cell_type": "code",
   "execution_count": 265,
   "metadata": {},
   "outputs": [
    {
     "data": {
      "text/plain": [
       "Text(0, 0.5, '% Pop. by Rent Control Status')"
      ]
     },
     "execution_count": 265,
     "metadata": {},
     "output_type": "execute_result"
    },
    {
     "data": {
      "image/png": "[encoded data removed]",
      "text/plain": [
       "<Figure size 432x576 with 1 Axes>"
      ]
     },
     "metadata": {
      "needs_background": "light"
     },
     "output_type": "display_data"
    }
   ],
   "source": [
    "fig, ax = plt.subplots(figsize=(6, 8))\n",
    "\n",
    "pums_df = pums_p_rent\n",
    "grp_col = 'rent_control'\n",
    "wgt_col = 'PWGTP'\n",
    "value_col = 'DISAB_l'\n",
    "new_col = 'pct_pop'\n",
    "\n",
    "weighted_agg_df = get_weighted_agg_se(get_weighted_pct_pop, pums_df, grp_col, wgt_col, value_col, new_col)\n",
    "\n",
    "sns.barplot(\n",
    "    x=value_col, y=new_col,\n",
    "    data=weighted_agg_df, hue=grp_col, alpha=0.6,\n",
    ")\n",
    "\n",
    "ax.errorbar(\n",
    "    [patch.get_x() + (patch.get_width() / 2) for patch in ax.patches],\n",
    "    weighted_agg_df[new_col], yerr=weighted_agg_df['se'] * 1.645,\n",
    "    fmt='none', c='k', elinewidth=1, capsize=5,\n",
    "    label='90% c.i.')\n",
    "\n",
    "ax.set_xlabel(\"Disability Status\", fontsize=14)\n",
    "ax.set_ylabel(\"% Pop. by Rent Control Status\", fontsize=14)"
   ]
  },
  {
   "cell_type": "code",
   "execution_count": 267,
   "metadata": {},
   "outputs": [
    {
     "data": {
      "text/html": [
       "<div>\n",
       "<style scoped>\n",
       "    .dataframe tbody tr th:only-of-type {\n",
       "        vertical-align: middle;\n",
       "    }\n",
       "\n",
       "    .dataframe tbody tr th {\n",
       "        vertical-align: top;\n",
       "    }\n",
       "\n",
       "    .dataframe thead tr th {\n",
       "        text-align: left;\n",
       "    }\n",
       "\n",
       "    .dataframe thead tr:last-of-type th {\n",
       "        text-align: right;\n",
       "    }\n",
       "</style>\n",
       "<table border=\"1\" class=\"dataframe\">\n",
       "  <thead>\n",
       "    <tr>\n",
       "      <th></th>\n",
       "      <th colspan=\"2\" halign=\"left\">pct_pop</th>\n",
       "      <th colspan=\"2\" halign=\"left\">se</th>\n",
       "    </tr>\n",
       "    <tr>\n",
       "      <th>rent_control</th>\n",
       "      <th>False</th>\n",
       "      <th>True</th>\n",
       "      <th>False</th>\n",
       "      <th>True</th>\n",
       "    </tr>\n",
       "    <tr>\n",
       "      <th>DISAB_l</th>\n",
       "      <th></th>\n",
       "      <th></th>\n",
       "      <th></th>\n",
       "      <th></th>\n",
       "    </tr>\n",
       "  </thead>\n",
       "  <tbody>\n",
       "    <tr>\n",
       "      <th>No</th>\n",
       "      <td>0.889757</td>\n",
       "      <td>0.889137</td>\n",
       "      <td>0.018265</td>\n",
       "      <td>0.007975</td>\n",
       "    </tr>\n",
       "    <tr>\n",
       "      <th>Yes</th>\n",
       "      <td>0.110243</td>\n",
       "      <td>0.110863</td>\n",
       "      <td>0.018265</td>\n",
       "      <td>0.007975</td>\n",
       "    </tr>\n",
       "  </tbody>\n",
       "</table>\n",
       "</div>"
      ],
      "text/plain": [
       "               pct_pop                  se          \n",
       "rent_control     False     True      False     True \n",
       "DISAB_l                                             \n",
       "No            0.889757  0.889137  0.018265  0.007975\n",
       "Yes           0.110243  0.110863  0.018265  0.007975"
      ]
     },
     "execution_count": 267,
     "metadata": {},
     "output_type": "execute_result"
    }
   ],
   "source": [
    "weighted_agg_df.pivot(index=value_col, columns='rent_control', values=['pct_pop', 'se'])"
   ]
  },
  {
   "cell_type": "code",
   "execution_count": 283,
   "metadata": {},
   "outputs": [
    {
     "data": {
      "text/plain": [
       "Text(0, 0.5, '% Pop. by Rent Control Status')"
      ]
     },
     "execution_count": 283,
     "metadata": {},
     "output_type": "execute_result"
    },
    {
     "data": {
      "image/png": "[encoded data removed]",
      "text/plain": [
       "<Figure size 432x576 with 1 Axes>"
      ]
     },
     "metadata": {
      "needs_background": "light"
     },
     "output_type": "display_data"
    }
   ],
   "source": [
    "fig, ax = plt.subplots(figsize=(6, 8))\n",
    "\n",
    "pums_df = pums_p_rent[p_mask]\n",
    "grp_col = 'rent_control'\n",
    "wgt_col = 'PWGTP'\n",
    "value_col = 'DISAB_l'\n",
    "new_col = 'pct_pop'\n",
    "\n",
    "weighted_agg_df = get_weighted_agg_se(get_weighted_pct_pop, pums_df, grp_col, wgt_col, value_col, new_col)\n",
    "\n",
    "sns.barplot(\n",
    "    x=value_col, y=new_col,\n",
    "    data=weighted_agg_df, hue=grp_col, alpha=0.6,\n",
    ")\n",
    "\n",
    "ax.errorbar(\n",
    "    [patch.get_x() + (patch.get_width() / 2) for patch in ax.patches],\n",
    "    weighted_agg_df[new_col], yerr=weighted_agg_df['se'] * 1.645,\n",
    "    fmt='none', c='k', elinewidth=1, capsize=5,\n",
    "    label='90% c.i.')\n",
    "\n",
    "ax.set_xlabel(\"Disability Status\", fontsize=14)\n",
    "ax.set_ylabel(\"% Pop. by Rent Control Status\", fontsize=14)"
   ]
  },
  {
   "cell_type": "code",
   "execution_count": 284,
   "metadata": {},
   "outputs": [
    {
     "data": {
      "text/html": [
       "<div>\n",
       "<style scoped>\n",
       "    .dataframe tbody tr th:only-of-type {\n",
       "        vertical-align: middle;\n",
       "    }\n",
       "\n",
       "    .dataframe tbody tr th {\n",
       "        vertical-align: top;\n",
       "    }\n",
       "\n",
       "    .dataframe thead tr th {\n",
       "        text-align: left;\n",
       "    }\n",
       "\n",
       "    .dataframe thead tr:last-of-type th {\n",
       "        text-align: right;\n",
       "    }\n",
       "</style>\n",
       "<table border=\"1\" class=\"dataframe\">\n",
       "  <thead>\n",
       "    <tr>\n",
       "      <th></th>\n",
       "      <th colspan=\"2\" halign=\"left\">pct_pop</th>\n",
       "      <th colspan=\"2\" halign=\"left\">se</th>\n",
       "    </tr>\n",
       "    <tr>\n",
       "      <th>rent_control</th>\n",
       "      <th>False</th>\n",
       "      <th>True</th>\n",
       "      <th>False</th>\n",
       "      <th>True</th>\n",
       "    </tr>\n",
       "    <tr>\n",
       "      <th>DISAB_l</th>\n",
       "      <th></th>\n",
       "      <th></th>\n",
       "      <th></th>\n",
       "      <th></th>\n",
       "    </tr>\n",
       "  </thead>\n",
       "  <tbody>\n",
       "    <tr>\n",
       "      <th>No</th>\n",
       "      <td>0.882</td>\n",
       "      <td>0.868086</td>\n",
       "      <td>0.014883</td>\n",
       "      <td>0.015781</td>\n",
       "    </tr>\n",
       "    <tr>\n",
       "      <th>Yes</th>\n",
       "      <td>0.118</td>\n",
       "      <td>0.131914</td>\n",
       "      <td>0.014883</td>\n",
       "      <td>0.015781</td>\n",
       "    </tr>\n",
       "  </tbody>\n",
       "</table>\n",
       "</div>"
      ],
      "text/plain": [
       "             pct_pop                  se          \n",
       "rent_control   False     True      False     True \n",
       "DISAB_l                                           \n",
       "No             0.882  0.868086  0.014883  0.015781\n",
       "Yes            0.118  0.131914  0.014883  0.015781"
      ]
     },
     "execution_count": 284,
     "metadata": {},
     "output_type": "execute_result"
    }
   ],
   "source": [
    "weighted_agg_df.pivot(index=value_col, columns='rent_control', values=['pct_pop', 'se'])"
   ]
  },
  {
   "cell_type": "markdown",
   "metadata": {},
   "source": [
    "# SNAP Assistance"
   ]
  },
  {
   "cell_type": "code",
   "execution_count": 268,
   "metadata": {},
   "outputs": [
    {
     "data": {
      "text/plain": [
       "Text(0, 0.5, '% Pop. by Rent Control Status')"
      ]
     },
     "execution_count": 268,
     "metadata": {},
     "output_type": "execute_result"
    },
    {
     "data": {
      "image/png": "[encoded data removed]",
      "text/plain": [
       "<Figure size 432x576 with 1 Axes>"
      ]
     },
     "metadata": {
      "needs_background": "light"
     },
     "output_type": "display_data"
    }
   ],
   "source": [
    "fig, ax = plt.subplots(figsize=(6, 8))\n",
    "\n",
    "pums_df = pums_h_rent\n",
    "grp_col = 'rent_control'\n",
    "wgt_col = 'WGTP'\n",
    "value_col = 'SNAP_recipient'\n",
    "new_col = 'pct_pop'\n",
    "\n",
    "weighted_agg_df = get_weighted_agg_se(get_weighted_pct_pop, pums_df, grp_col, wgt_col, value_col, new_col)\n",
    "\n",
    "sns.barplot(\n",
    "    x=value_col, y=new_col,\n",
    "    data=weighted_agg_df, hue=grp_col, alpha=0.6,\n",
    ")\n",
    "\n",
    "ax.errorbar(\n",
    "    [patch.get_x() + (patch.get_width() / 2) for patch in ax.patches],\n",
    "    weighted_agg_df[new_col], yerr=weighted_agg_df['se'] * 1.645,\n",
    "    fmt='none', c='k', elinewidth=1, capsize=5,\n",
    "    label='90% c.i.')\n",
    "\n",
    "ax.set_xlabel(\"SNAP Recipient\", fontsize=14)\n",
    "ax.set_ylabel(\"% Pop. by Rent Control Status\", fontsize=14)"
   ]
  },
  {
   "cell_type": "code",
   "execution_count": 269,
   "metadata": {},
   "outputs": [
    {
     "data": {
      "text/html": [
       "<div>\n",
       "<style scoped>\n",
       "    .dataframe tbody tr th:only-of-type {\n",
       "        vertical-align: middle;\n",
       "    }\n",
       "\n",
       "    .dataframe tbody tr th {\n",
       "        vertical-align: top;\n",
       "    }\n",
       "\n",
       "    .dataframe thead tr th {\n",
       "        text-align: left;\n",
       "    }\n",
       "\n",
       "    .dataframe thead tr:last-of-type th {\n",
       "        text-align: right;\n",
       "    }\n",
       "</style>\n",
       "<table border=\"1\" class=\"dataframe\">\n",
       "  <thead>\n",
       "    <tr>\n",
       "      <th></th>\n",
       "      <th colspan=\"2\" halign=\"left\">pct_pop</th>\n",
       "      <th colspan=\"2\" halign=\"left\">se</th>\n",
       "    </tr>\n",
       "    <tr>\n",
       "      <th>rent_control</th>\n",
       "      <th>False</th>\n",
       "      <th>True</th>\n",
       "      <th>False</th>\n",
       "      <th>True</th>\n",
       "    </tr>\n",
       "    <tr>\n",
       "      <th>SNAP_recipient</th>\n",
       "      <th></th>\n",
       "      <th></th>\n",
       "      <th></th>\n",
       "      <th></th>\n",
       "    </tr>\n",
       "  </thead>\n",
       "  <tbody>\n",
       "    <tr>\n",
       "      <th>No</th>\n",
       "      <td>0.91943</td>\n",
       "      <td>0.944205</td>\n",
       "      <td>0.014109</td>\n",
       "      <td>0.007072</td>\n",
       "    </tr>\n",
       "    <tr>\n",
       "      <th>Yes</th>\n",
       "      <td>0.08057</td>\n",
       "      <td>0.055795</td>\n",
       "      <td>0.014109</td>\n",
       "      <td>0.007072</td>\n",
       "    </tr>\n",
       "  </tbody>\n",
       "</table>\n",
       "</div>"
      ],
      "text/plain": [
       "                pct_pop                  se          \n",
       "rent_control      False     True      False     True \n",
       "SNAP_recipient                                       \n",
       "No              0.91943  0.944205  0.014109  0.007072\n",
       "Yes             0.08057  0.055795  0.014109  0.007072"
      ]
     },
     "execution_count": 269,
     "metadata": {},
     "output_type": "execute_result"
    }
   ],
   "source": [
    "weighted_agg_df.pivot(index=value_col, columns='rent_control', values=['pct_pop', 'se'])"
   ]
  },
  {
   "cell_type": "code",
   "execution_count": 285,
   "metadata": {},
   "outputs": [
    {
     "data": {
      "text/plain": [
       "Text(0, 0.5, '% Pop. by Rent Control Status')"
      ]
     },
     "execution_count": 285,
     "metadata": {},
     "output_type": "execute_result"
    },
    {
     "data": {
      "image/png": "[encoded data removed]",
      "text/plain": [
       "<Figure size 432x576 with 1 Axes>"
      ]
     },
     "metadata": {
      "needs_background": "light"
     },
     "output_type": "display_data"
    }
   ],
   "source": [
    "fig, ax = plt.subplots(figsize=(6, 8))\n",
    "\n",
    "pums_df = pums_h_rent[h_mask]\n",
    "grp_col = 'rent_control'\n",
    "wgt_col = 'WGTP'\n",
    "value_col = 'SNAP_recipient'\n",
    "new_col = 'pct_pop'\n",
    "\n",
    "weighted_agg_df = get_weighted_agg_se(get_weighted_pct_pop, pums_df, grp_col, wgt_col, value_col, new_col)\n",
    "\n",
    "sns.barplot(\n",
    "    x=value_col, y=new_col,\n",
    "    data=weighted_agg_df, hue=grp_col, alpha=0.6,\n",
    ")\n",
    "\n",
    "ax.errorbar(\n",
    "    [patch.get_x() + (patch.get_width() / 2) for patch in ax.patches],\n",
    "    weighted_agg_df[new_col], yerr=weighted_agg_df['se'] * 1.645,\n",
    "    fmt='none', c='k', elinewidth=1, capsize=5,\n",
    "    label='90% c.i.')\n",
    "\n",
    "ax.set_xlabel(\"SNAP Recipient\", fontsize=14)\n",
    "ax.set_ylabel(\"% Pop. by Rent Control Status\", fontsize=14)"
   ]
  },
  {
   "cell_type": "code",
   "execution_count": 286,
   "metadata": {},
   "outputs": [
    {
     "data": {
      "text/html": [
       "<div>\n",
       "<style scoped>\n",
       "    .dataframe tbody tr th:only-of-type {\n",
       "        vertical-align: middle;\n",
       "    }\n",
       "\n",
       "    .dataframe tbody tr th {\n",
       "        vertical-align: top;\n",
       "    }\n",
       "\n",
       "    .dataframe thead tr th {\n",
       "        text-align: left;\n",
       "    }\n",
       "\n",
       "    .dataframe thead tr:last-of-type th {\n",
       "        text-align: right;\n",
       "    }\n",
       "</style>\n",
       "<table border=\"1\" class=\"dataframe\">\n",
       "  <thead>\n",
       "    <tr>\n",
       "      <th></th>\n",
       "      <th colspan=\"2\" halign=\"left\">pct_pop</th>\n",
       "      <th colspan=\"2\" halign=\"left\">se</th>\n",
       "    </tr>\n",
       "    <tr>\n",
       "      <th>rent_control</th>\n",
       "      <th>False</th>\n",
       "      <th>True</th>\n",
       "      <th>False</th>\n",
       "      <th>True</th>\n",
       "    </tr>\n",
       "    <tr>\n",
       "      <th>SNAP_recipient</th>\n",
       "      <th></th>\n",
       "      <th></th>\n",
       "      <th></th>\n",
       "      <th></th>\n",
       "    </tr>\n",
       "  </thead>\n",
       "  <tbody>\n",
       "    <tr>\n",
       "      <th>No</th>\n",
       "      <td>0.922508</td>\n",
       "      <td>0.953939</td>\n",
       "      <td>0.017268</td>\n",
       "      <td>0.009306</td>\n",
       "    </tr>\n",
       "    <tr>\n",
       "      <th>Yes</th>\n",
       "      <td>0.077492</td>\n",
       "      <td>0.046061</td>\n",
       "      <td>0.017268</td>\n",
       "      <td>0.009306</td>\n",
       "    </tr>\n",
       "  </tbody>\n",
       "</table>\n",
       "</div>"
      ],
      "text/plain": [
       "                 pct_pop                  se          \n",
       "rent_control       False     True      False     True \n",
       "SNAP_recipient                                        \n",
       "No              0.922508  0.953939  0.017268  0.009306\n",
       "Yes             0.077492  0.046061  0.017268  0.009306"
      ]
     },
     "execution_count": 286,
     "metadata": {},
     "output_type": "execute_result"
    }
   ],
   "source": [
    "weighted_agg_df.pivot(index=value_col, columns='rent_control', values=['pct_pop', 'se'])"
   ]
  },
  {
   "cell_type": "markdown",
   "metadata": {},
   "source": [
    "# Public Assistance Income"
   ]
  },
  {
   "cell_type": "code",
   "execution_count": 270,
   "metadata": {},
   "outputs": [
    {
     "data": {
      "text/plain": [
       "Text(0, 0.5, '% Pop. by Rent Control Status')"
      ]
     },
     "execution_count": 270,
     "metadata": {},
     "output_type": "execute_result"
    },
    {
     "data": {
      "image/png": "[encoded data removed]",
      "text/plain": [
       "<Figure size 432x576 with 1 Axes>"
      ]
     },
     "metadata": {
      "needs_background": "light"
     },
     "output_type": "display_data"
    }
   ],
   "source": [
    "fig, ax = plt.subplots(figsize=(6, 8))\n",
    "\n",
    "pums_df = pums_p_rent\n",
    "grp_col = 'rent_control'\n",
    "wgt_col = 'PWGTP'\n",
    "value_col = 'pub_asst_inc'\n",
    "new_col = 'pct_pop'\n",
    "\n",
    "weighted_agg_df = get_weighted_agg_se(get_weighted_pct_pop, pums_df, grp_col, wgt_col, value_col, new_col)\n",
    "\n",
    "sns.barplot(\n",
    "    x=value_col, y=new_col,\n",
    "    data=weighted_agg_df, hue=grp_col, alpha=0.6,\n",
    ")\n",
    "\n",
    "ax.errorbar(\n",
    "    [patch.get_x() + (patch.get_width() / 2) for patch in ax.patches],\n",
    "    weighted_agg_df[new_col], yerr=weighted_agg_df['se'] * 1.645,\n",
    "    fmt='none', c='k', elinewidth=1, capsize=5,\n",
    "    label='90% c.i.')\n",
    "\n",
    "ax.set_xlabel(\"Public Assistance Income\", fontsize=14)\n",
    "ax.set_ylabel(\"% Pop. by Rent Control Status\", fontsize=14)"
   ]
  },
  {
   "cell_type": "code",
   "execution_count": 271,
   "metadata": {},
   "outputs": [
    {
     "data": {
      "text/html": [
       "<div>\n",
       "<style scoped>\n",
       "    .dataframe tbody tr th:only-of-type {\n",
       "        vertical-align: middle;\n",
       "    }\n",
       "\n",
       "    .dataframe tbody tr th {\n",
       "        vertical-align: top;\n",
       "    }\n",
       "\n",
       "    .dataframe thead tr th {\n",
       "        text-align: left;\n",
       "    }\n",
       "\n",
       "    .dataframe thead tr:last-of-type th {\n",
       "        text-align: right;\n",
       "    }\n",
       "</style>\n",
       "<table border=\"1\" class=\"dataframe\">\n",
       "  <thead>\n",
       "    <tr>\n",
       "      <th></th>\n",
       "      <th colspan=\"2\" halign=\"left\">pct_pop</th>\n",
       "      <th colspan=\"2\" halign=\"left\">se</th>\n",
       "    </tr>\n",
       "    <tr>\n",
       "      <th>rent_control</th>\n",
       "      <th>False</th>\n",
       "      <th>True</th>\n",
       "      <th>False</th>\n",
       "      <th>True</th>\n",
       "    </tr>\n",
       "    <tr>\n",
       "      <th>pub_asst_inc</th>\n",
       "      <th></th>\n",
       "      <th></th>\n",
       "      <th></th>\n",
       "      <th></th>\n",
       "    </tr>\n",
       "  </thead>\n",
       "  <tbody>\n",
       "    <tr>\n",
       "      <th>No</th>\n",
       "      <td>0.984064</td>\n",
       "      <td>0.980025</td>\n",
       "      <td>0.003969</td>\n",
       "      <td>0.003907</td>\n",
       "    </tr>\n",
       "    <tr>\n",
       "      <th>Yes</th>\n",
       "      <td>0.015936</td>\n",
       "      <td>0.019975</td>\n",
       "      <td>0.003969</td>\n",
       "      <td>0.003907</td>\n",
       "    </tr>\n",
       "  </tbody>\n",
       "</table>\n",
       "</div>"
      ],
      "text/plain": [
       "               pct_pop                  se          \n",
       "rent_control     False     True      False     True \n",
       "pub_asst_inc                                        \n",
       "No            0.984064  0.980025  0.003969  0.003907\n",
       "Yes           0.015936  0.019975  0.003969  0.003907"
      ]
     },
     "execution_count": 271,
     "metadata": {},
     "output_type": "execute_result"
    }
   ],
   "source": [
    "weighted_agg_df.pivot(index=value_col, columns='rent_control', values=['pct_pop', 'se'])"
   ]
  },
  {
   "cell_type": "code",
   "execution_count": 287,
   "metadata": {},
   "outputs": [
    {
     "data": {
      "text/plain": [
       "Text(0, 0.5, '% Pop. by Rent Control Status')"
      ]
     },
     "execution_count": 287,
     "metadata": {},
     "output_type": "execute_result"
    },
    {
     "data": {
      "image/png": "[encoded data removed]",
      "text/plain": [
       "<Figure size 432x576 with 1 Axes>"
      ]
     },
     "metadata": {
      "needs_background": "light"
     },
     "output_type": "display_data"
    }
   ],
   "source": [
    "fig, ax = plt.subplots(figsize=(6, 8))\n",
    "\n",
    "pums_df = pums_p_rent[p_mask]\n",
    "grp_col = 'rent_control'\n",
    "wgt_col = 'PWGTP'\n",
    "value_col = 'pub_asst_inc'\n",
    "new_col = 'pct_pop'\n",
    "\n",
    "weighted_agg_df = get_weighted_agg_se(get_weighted_pct_pop, pums_df, grp_col, wgt_col, value_col, new_col)\n",
    "\n",
    "sns.barplot(\n",
    "    x=value_col, y=new_col,\n",
    "    data=weighted_agg_df, hue=grp_col, alpha=0.6,\n",
    ")\n",
    "\n",
    "ax.errorbar(\n",
    "    [patch.get_x() + (patch.get_width() / 2) for patch in ax.patches],\n",
    "    weighted_agg_df[new_col], yerr=weighted_agg_df['se'] * 1.645,\n",
    "    fmt='none', c='k', elinewidth=1, capsize=5,\n",
    "    label='90% c.i.')\n",
    "\n",
    "ax.set_xlabel(\"Public Assistance Income\", fontsize=14)\n",
    "ax.set_ylabel(\"% Pop. by Rent Control Status\", fontsize=14)"
   ]
  },
  {
   "cell_type": "code",
   "execution_count": 288,
   "metadata": {},
   "outputs": [
    {
     "data": {
      "text/html": [
       "<div>\n",
       "<style scoped>\n",
       "    .dataframe tbody tr th:only-of-type {\n",
       "        vertical-align: middle;\n",
       "    }\n",
       "\n",
       "    .dataframe tbody tr th {\n",
       "        vertical-align: top;\n",
       "    }\n",
       "\n",
       "    .dataframe thead tr th {\n",
       "        text-align: left;\n",
       "    }\n",
       "\n",
       "    .dataframe thead tr:last-of-type th {\n",
       "        text-align: right;\n",
       "    }\n",
       "</style>\n",
       "<table border=\"1\" class=\"dataframe\">\n",
       "  <thead>\n",
       "    <tr>\n",
       "      <th></th>\n",
       "      <th colspan=\"2\" halign=\"left\">pct_pop</th>\n",
       "      <th colspan=\"2\" halign=\"left\">se</th>\n",
       "    </tr>\n",
       "    <tr>\n",
       "      <th>rent_control</th>\n",
       "      <th>False</th>\n",
       "      <th>True</th>\n",
       "      <th>False</th>\n",
       "      <th>True</th>\n",
       "    </tr>\n",
       "    <tr>\n",
       "      <th>pub_asst_inc</th>\n",
       "      <th></th>\n",
       "      <th></th>\n",
       "      <th></th>\n",
       "      <th></th>\n",
       "    </tr>\n",
       "  </thead>\n",
       "  <tbody>\n",
       "    <tr>\n",
       "      <th>No</th>\n",
       "      <td>0.986859</td>\n",
       "      <td>0.989909</td>\n",
       "      <td>0.004514</td>\n",
       "      <td>0.003598</td>\n",
       "    </tr>\n",
       "    <tr>\n",
       "      <th>Yes</th>\n",
       "      <td>0.013141</td>\n",
       "      <td>0.010091</td>\n",
       "      <td>0.004514</td>\n",
       "      <td>0.003598</td>\n",
       "    </tr>\n",
       "  </tbody>\n",
       "</table>\n",
       "</div>"
      ],
      "text/plain": [
       "               pct_pop                  se          \n",
       "rent_control     False     True      False     True \n",
       "pub_asst_inc                                        \n",
       "No            0.986859  0.989909  0.004514  0.003598\n",
       "Yes           0.013141  0.010091  0.004514  0.003598"
      ]
     },
     "execution_count": 288,
     "metadata": {},
     "output_type": "execute_result"
    }
   ],
   "source": [
    "weighted_agg_df.pivot(index=value_col, columns='rent_control', values=['pct_pop', 'se'])"
   ]
  },
  {
   "cell_type": "markdown",
   "metadata": {},
   "source": [
    "# Continuous vars"
   ]
  },
  {
   "cell_type": "code",
   "execution_count": 262,
   "metadata": {},
   "outputs": [
    {
     "data": {
      "image/png": "[encoded data removed]",
      "text/plain": [
       "<Figure size 864x576 with 4 Axes>"
      ]
     },
     "metadata": {
      "needs_background": "light"
     },
     "output_type": "display_data"
    }
   ],
   "source": [
    "fig, axarr = plt.subplots(1, 4, figsize=(12, 8))\n",
    "pums_df = pums_h_rent\n",
    "wgt_col='WGTP'\n",
    "grp_col='rent_control'\n",
    "value_to_label = {\n",
    "    'HINCP': 'Household Income ($)', 'GRPIP': 'Gross Rent per\\nHousehold Income (%)', 'RNTP': 'Monthly Rent ($)',\n",
    "    'GRNTP': 'Gross monthly rent ($)'\n",
    "}\n",
    "\n",
    "means_df = pd.DataFrame()\n",
    "ses_df = pd.DataFrame()\n",
    "\n",
    "for i, value_col in enumerate(['RNTP', 'GRNTP', 'HINCP', 'GRPIP']):\n",
    "\n",
    "    ax = axarr[i]\n",
    "    wgt_mean = pums_df[[wgt_col, value_col, grp_col]].groupby(grp_col).apply(weighted_mean, value_col, wgt_col).reset_index()\n",
    "    means_df = pd.concat((means_df, wgt_mean[[grp_col, value_col]].set_index(grp_col).T))\n",
    "    sns.barplot(data=wgt_mean, x='rent_control', y=value_col, ax=ax, alpha=0.6)\n",
    "    if value_col == 'GRPIP':\n",
    "        ax.yaxis.set_major_formatter(mtick.PercentFormatter(decimals=0))\n",
    "    ax.set_xlabel(\"Rent Control Status\", fontsize=14)\n",
    "    ax.set_ylabel(\"\")\n",
    "    ax.set_title(value_to_label[value_col], fontsize=15)\n",
    "\n",
    "    wgt_se = [wgt_col] + pums_df.filter(like='wgtp', axis=1).columns.tolist()\n",
    "    se = pums_df[wgt_se + [value_col, grp_col]].groupby(grp_col).apply(weighted_SE, value_col, wgt_se)['se']\n",
    "    se.name = value_col\n",
    "    ses_df = pd.concat((ses_df, se.reset_index()[[grp_col, value_col]].set_index(grp_col).T))\n",
    "    yerr = se.values\n",
    "    ci_90 = yerr * 1.645\n",
    "    ax.errorbar(\n",
    "        x=[0, 1],y=wgt_mean[value_col], yerr=ci_90, fmt='none', c='k', elinewidth=1, capsize=5,\n",
    "        label='90% c.i.'\n",
    "    )\n",
    "    ax.legend()\n",
    "    \n",
    "fig.suptitle(\"San Francisco 2012 PUMS Weighted Household Records\\nAll Renters\", fontsize=20)\n",
    "fig.tight_layout(rect=[0, 0.03, 1, 0.99])"
   ]
  },
  {
   "cell_type": "code",
   "execution_count": 264,
   "metadata": {},
   "outputs": [
    {
     "data": {
      "text/html": [
       "<div>\n",
       "<style scoped>\n",
       "    .dataframe tbody tr th:only-of-type {\n",
       "        vertical-align: middle;\n",
       "    }\n",
       "\n",
       "    .dataframe tbody tr th {\n",
       "        vertical-align: top;\n",
       "    }\n",
       "\n",
       "    .dataframe thead th {\n",
       "        text-align: right;\n",
       "    }\n",
       "</style>\n",
       "<table border=\"1\" class=\"dataframe\">\n",
       "  <thead>\n",
       "    <tr style=\"text-align: right;\">\n",
       "      <th>rent_control</th>\n",
       "      <th>False</th>\n",
       "      <th>True</th>\n",
       "    </tr>\n",
       "  </thead>\n",
       "  <tbody>\n",
       "    <tr>\n",
       "      <th>RNTP</th>\n",
       "      <td>1577.547664</td>\n",
       "      <td>1451.893305</td>\n",
       "    </tr>\n",
       "    <tr>\n",
       "      <th>GRNTP</th>\n",
       "      <td>1684.334792</td>\n",
       "      <td>1506.656615</td>\n",
       "    </tr>\n",
       "    <tr>\n",
       "      <th>HINCP</th>\n",
       "      <td>88114.149939</td>\n",
       "      <td>79871.598061</td>\n",
       "    </tr>\n",
       "    <tr>\n",
       "      <th>GRPIP</th>\n",
       "      <td>38.480049</td>\n",
       "      <td>38.201842</td>\n",
       "    </tr>\n",
       "  </tbody>\n",
       "</table>\n",
       "</div>"
      ],
      "text/plain": [
       "rent_control         False         True \n",
       "RNTP           1577.547664   1451.893305\n",
       "GRNTP          1684.334792   1506.656615\n",
       "HINCP         88114.149939  79871.598061\n",
       "GRPIP            38.480049     38.201842"
      ]
     },
     "execution_count": 264,
     "metadata": {},
     "output_type": "execute_result"
    }
   ],
   "source": [
    "means_df"
   ]
  },
  {
   "cell_type": "code",
   "execution_count": 263,
   "metadata": {},
   "outputs": [
    {
     "data": {
      "text/html": [
       "<div>\n",
       "<style scoped>\n",
       "    .dataframe tbody tr th:only-of-type {\n",
       "        vertical-align: middle;\n",
       "    }\n",
       "\n",
       "    .dataframe tbody tr th {\n",
       "        vertical-align: top;\n",
       "    }\n",
       "\n",
       "    .dataframe thead th {\n",
       "        text-align: right;\n",
       "    }\n",
       "</style>\n",
       "<table border=\"1\" class=\"dataframe\">\n",
       "  <thead>\n",
       "    <tr style=\"text-align: right;\">\n",
       "      <th>rent_control</th>\n",
       "      <th>False</th>\n",
       "      <th>True</th>\n",
       "    </tr>\n",
       "  </thead>\n",
       "  <tbody>\n",
       "    <tr>\n",
       "      <th>RNTP</th>\n",
       "      <td>50.044535</td>\n",
       "      <td>22.643428</td>\n",
       "    </tr>\n",
       "    <tr>\n",
       "      <th>GRNTP</th>\n",
       "      <td>52.145136</td>\n",
       "      <td>23.227395</td>\n",
       "    </tr>\n",
       "    <tr>\n",
       "      <th>HINCP</th>\n",
       "      <td>5174.001902</td>\n",
       "      <td>3209.269103</td>\n",
       "    </tr>\n",
       "    <tr>\n",
       "      <th>GRPIP</th>\n",
       "      <td>1.603667</td>\n",
       "      <td>0.926255</td>\n",
       "    </tr>\n",
       "  </tbody>\n",
       "</table>\n",
       "</div>"
      ],
      "text/plain": [
       "rent_control        False        True \n",
       "RNTP            50.044535    22.643428\n",
       "GRNTP           52.145136    23.227395\n",
       "HINCP         5174.001902  3209.269103\n",
       "GRPIP            1.603667     0.926255"
      ]
     },
     "execution_count": 263,
     "metadata": {},
     "output_type": "execute_result"
    }
   ],
   "source": [
    "ses_df"
   ]
  },
  {
   "cell_type": "code",
   "execution_count": 289,
   "metadata": {},
   "outputs": [
    {
     "data": {
      "image/png": "[encoded data removed]",
      "text/plain": [
       "<Figure size 864x576 with 4 Axes>"
      ]
     },
     "metadata": {
      "needs_background": "light"
     },
     "output_type": "display_data"
    }
   ],
   "source": [
    "fig, axarr = plt.subplots(1, 4, figsize=(12, 8))\n",
    "pums_df = pums_h_rent[h_mask]\n",
    "wgt_col='WGTP'\n",
    "grp_col='rent_control'\n",
    "value_to_label = {\n",
    "    'HINCP': 'Household Income ($)', 'GRPIP': 'Gross Rent per\\nHousehold Income (%)', 'RNTP': 'Monthly Rent ($)',\n",
    "    'GRNTP': 'Gross monthly rent ($)'\n",
    "}\n",
    "\n",
    "means_df = pd.DataFrame()\n",
    "ses_df = pd.DataFrame()\n",
    "\n",
    "for i, value_col in enumerate(['RNTP', 'GRNTP', 'HINCP', 'GRPIP']):\n",
    "\n",
    "    ax = axarr[i]\n",
    "    wgt_mean = pums_df[[wgt_col, value_col, grp_col]].groupby(grp_col).apply(weighted_mean, value_col, wgt_col).reset_index()\n",
    "    means_df = pd.concat((means_df, wgt_mean[[grp_col, value_col]].set_index(grp_col).T))\n",
    "    sns.barplot(data=wgt_mean, x='rent_control', y=value_col, ax=ax, alpha=0.6)\n",
    "    if value_col == 'GRPIP':\n",
    "        ax.yaxis.set_major_formatter(mtick.PercentFormatter(decimals=0))\n",
    "    ax.set_xlabel(\"Rent Control Status\", fontsize=14)\n",
    "    ax.set_ylabel(\"\")\n",
    "    ax.set_title(value_to_label[value_col], fontsize=15)\n",
    "\n",
    "    wgt_se = [wgt_col] + pums_df.filter(like='wgtp', axis=1).columns.tolist()\n",
    "    se = pums_df[wgt_se + [value_col, grp_col]].groupby(grp_col).apply(weighted_SE, value_col, wgt_se)['se']\n",
    "    se.name = value_col\n",
    "    ses_df = pd.concat((ses_df, se.reset_index()[[grp_col, value_col]].set_index(grp_col).T))\n",
    "    yerr = se.values\n",
    "    ci_90 = yerr * 1.645\n",
    "    ax.errorbar(\n",
    "        x=[0, 1],y=wgt_mean[value_col], yerr=ci_90, fmt='none', c='k', elinewidth=1, capsize=5,\n",
    "        label='90% c.i.'\n",
    "    )\n",
    "    ax.legend()\n",
    "    \n",
    "fig.suptitle(\"San Francisco 2012 PUMS Weighted Household Records\\nMulti-Unit Buildings Built 1950-2007\", fontsize=20)\n",
    "fig.tight_layout(rect=[0, 0.03, 1, 0.99])"
   ]
  },
  {
   "cell_type": "code",
   "execution_count": 290,
   "metadata": {},
   "outputs": [
    {
     "data": {
      "text/html": [
       "<div>\n",
       "<style scoped>\n",
       "    .dataframe tbody tr th:only-of-type {\n",
       "        vertical-align: middle;\n",
       "    }\n",
       "\n",
       "    .dataframe tbody tr th {\n",
       "        vertical-align: top;\n",
       "    }\n",
       "\n",
       "    .dataframe thead th {\n",
       "        text-align: right;\n",
       "    }\n",
       "</style>\n",
       "<table border=\"1\" class=\"dataframe\">\n",
       "  <thead>\n",
       "    <tr style=\"text-align: right;\">\n",
       "      <th>rent_control</th>\n",
       "      <th>False</th>\n",
       "      <th>True</th>\n",
       "    </tr>\n",
       "  </thead>\n",
       "  <tbody>\n",
       "    <tr>\n",
       "      <th>RNTP</th>\n",
       "      <td>1519.410614</td>\n",
       "      <td>1418.408711</td>\n",
       "    </tr>\n",
       "    <tr>\n",
       "      <th>GRNTP</th>\n",
       "      <td>1602.523760</td>\n",
       "      <td>1468.718113</td>\n",
       "    </tr>\n",
       "    <tr>\n",
       "      <th>HINCP</th>\n",
       "      <td>83952.778729</td>\n",
       "      <td>71167.144429</td>\n",
       "    </tr>\n",
       "    <tr>\n",
       "      <th>GRPIP</th>\n",
       "      <td>35.531822</td>\n",
       "      <td>37.754754</td>\n",
       "    </tr>\n",
       "  </tbody>\n",
       "</table>\n",
       "</div>"
      ],
      "text/plain": [
       "rent_control         False         True \n",
       "RNTP           1519.410614   1418.408711\n",
       "GRNTP          1602.523760   1468.718113\n",
       "HINCP         83952.778729  71167.144429\n",
       "GRPIP            35.531822     37.754754"
      ]
     },
     "execution_count": 290,
     "metadata": {},
     "output_type": "execute_result"
    }
   ],
   "source": [
    "means_df"
   ]
  },
  {
   "cell_type": "code",
   "execution_count": 291,
   "metadata": {},
   "outputs": [
    {
     "data": {
      "text/html": [
       "<div>\n",
       "<style scoped>\n",
       "    .dataframe tbody tr th:only-of-type {\n",
       "        vertical-align: middle;\n",
       "    }\n",
       "\n",
       "    .dataframe tbody tr th {\n",
       "        vertical-align: top;\n",
       "    }\n",
       "\n",
       "    .dataframe thead th {\n",
       "        text-align: right;\n",
       "    }\n",
       "</style>\n",
       "<table border=\"1\" class=\"dataframe\">\n",
       "  <thead>\n",
       "    <tr style=\"text-align: right;\">\n",
       "      <th>rent_control</th>\n",
       "      <th>False</th>\n",
       "      <th>True</th>\n",
       "    </tr>\n",
       "  </thead>\n",
       "  <tbody>\n",
       "    <tr>\n",
       "      <th>RNTP</th>\n",
       "      <td>72.458319</td>\n",
       "      <td>42.015831</td>\n",
       "    </tr>\n",
       "    <tr>\n",
       "      <th>GRNTP</th>\n",
       "      <td>72.840677</td>\n",
       "      <td>42.612865</td>\n",
       "    </tr>\n",
       "    <tr>\n",
       "      <th>HINCP</th>\n",
       "      <td>6110.557449</td>\n",
       "      <td>5466.430219</td>\n",
       "    </tr>\n",
       "    <tr>\n",
       "      <th>GRPIP</th>\n",
       "      <td>1.518238</td>\n",
       "      <td>1.574333</td>\n",
       "    </tr>\n",
       "  </tbody>\n",
       "</table>\n",
       "</div>"
      ],
      "text/plain": [
       "rent_control        False        True \n",
       "RNTP            72.458319    42.015831\n",
       "GRNTP           72.840677    42.612865\n",
       "HINCP         6110.557449  5466.430219\n",
       "GRPIP            1.518238     1.574333"
      ]
     },
     "execution_count": 291,
     "metadata": {},
     "output_type": "execute_result"
    }
   ],
   "source": [
    "ses_df"
   ]
  },
  {
   "cell_type": "markdown",
   "metadata": {},
   "source": [
    "# Age of Head"
   ]
  },
  {
   "cell_type": "code",
   "execution_count": 311,
   "metadata": {},
   "outputs": [],
   "source": [
    "heads = pums_p_rent[pums_p_rent['RELP'] == 0].copy()\n",
    "pums_h_rent = pums_h_rent.merge(heads[['AGEP', 'SERIALNO']], left_index=True, right_on='SERIALNO').set_index('SERIALNO')"
   ]
  },
  {
   "cell_type": "code",
   "execution_count": 312,
   "metadata": {},
   "outputs": [
    {
     "data": {
      "image/png": "[encoded data removed]",
      "text/plain": [
       "<Figure size 216x432 with 1 Axes>"
      ]
     },
     "metadata": {
      "needs_background": "light"
     },
     "output_type": "display_data"
    }
   ],
   "source": [
    "fig, ax = plt.subplots(figsize=(3, 6))\n",
    "pums_df = pums_h_rent\n",
    "wgt_col='WGTP'\n",
    "grp_col='rent_control'\n",
    "value_col = 'AGEP'\n",
    "title = 'Age of Head'\n",
    "\n",
    "wgt_mean = pums_df[[wgt_col, value_col, grp_col]].groupby(grp_col).apply(weighted_mean, value_col, wgt_col).reset_index()\n",
    "means_df = pd.concat((means_df, wgt_mean[[grp_col, value_col]].set_index(grp_col).T))\n",
    "sns.barplot(data=wgt_mean, x='rent_control', y=value_col, ax=ax, alpha=0.6)\n",
    "ax.set_xlabel(\"Rent Control Status\", fontsize=14)\n",
    "ax.set_ylabel(\"\")\n",
    "ax.set_title(title, fontsize=15)\n",
    "\n",
    "wgt_se = [wgt_col] + pums_df.filter(like='wgtp', axis=1).columns.tolist()\n",
    "se = pums_df[wgt_se + [value_col, grp_col]].groupby(grp_col).apply(weighted_SE, value_col, wgt_se)['se']\n",
    "se.name = value_col\n",
    "ses_df = pd.concat((ses_df, se.reset_index()[[grp_col, value_col]].set_index(grp_col).T))\n",
    "yerr = se.values\n",
    "ci_90 = yerr * 1.645\n",
    "ax.errorbar(\n",
    "    x=[0, 1],y=wgt_mean[value_col], yerr=ci_90, fmt='none', c='k', elinewidth=1, capsize=5,\n",
    "    label='90% c.i.'\n",
    ")\n",
    "ax.legend()\n",
    "    \n",
    "fig.suptitle(\"San Francisco 2012 PUMS Weighted Household Records\\nAll Renters\", fontsize=20)\n",
    "fig.tight_layout(rect=[0, 0.03, 1, 0.99])"
   ]
  },
  {
   "cell_type": "code",
   "execution_count": 313,
   "metadata": {},
   "outputs": [
    {
     "data": {
      "text/html": [
       "<div>\n",
       "<style scoped>\n",
       "    .dataframe tbody tr th:only-of-type {\n",
       "        vertical-align: middle;\n",
       "    }\n",
       "\n",
       "    .dataframe tbody tr th {\n",
       "        vertical-align: top;\n",
       "    }\n",
       "\n",
       "    .dataframe thead th {\n",
       "        text-align: right;\n",
       "    }\n",
       "</style>\n",
       "<table border=\"1\" class=\"dataframe\">\n",
       "  <thead>\n",
       "    <tr style=\"text-align: right;\">\n",
       "      <th></th>\n",
       "      <th>0</th>\n",
       "      <th>1</th>\n",
       "    </tr>\n",
       "  </thead>\n",
       "  <tbody>\n",
       "    <tr>\n",
       "      <th>rent_control</th>\n",
       "      <td>False</td>\n",
       "      <td>True</td>\n",
       "    </tr>\n",
       "    <tr>\n",
       "      <th>level_1</th>\n",
       "      <td>0</td>\n",
       "      <td>0</td>\n",
       "    </tr>\n",
       "    <tr>\n",
       "      <th>AGEP</th>\n",
       "      <td>45.7792</td>\n",
       "      <td>44.8858</td>\n",
       "    </tr>\n",
       "  </tbody>\n",
       "</table>\n",
       "</div>"
      ],
      "text/plain": [
       "                    0        1\n",
       "rent_control    False     True\n",
       "level_1             0        0\n",
       "AGEP          45.7792  44.8858"
      ]
     },
     "execution_count": 313,
     "metadata": {},
     "output_type": "execute_result"
    }
   ],
   "source": [
    "wgt_mean.T"
   ]
  },
  {
   "cell_type": "code",
   "execution_count": 314,
   "metadata": {},
   "outputs": [
    {
     "data": {
      "text/html": [
       "<div>\n",
       "<style scoped>\n",
       "    .dataframe tbody tr th:only-of-type {\n",
       "        vertical-align: middle;\n",
       "    }\n",
       "\n",
       "    .dataframe tbody tr th {\n",
       "        vertical-align: top;\n",
       "    }\n",
       "\n",
       "    .dataframe thead th {\n",
       "        text-align: right;\n",
       "    }\n",
       "</style>\n",
       "<table border=\"1\" class=\"dataframe\">\n",
       "  <thead>\n",
       "    <tr style=\"text-align: right;\">\n",
       "      <th></th>\n",
       "      <th>0</th>\n",
       "      <th>1</th>\n",
       "    </tr>\n",
       "  </thead>\n",
       "  <tbody>\n",
       "    <tr>\n",
       "      <th>rent_control</th>\n",
       "      <td>False</td>\n",
       "      <td>True</td>\n",
       "    </tr>\n",
       "    <tr>\n",
       "      <th>level_1</th>\n",
       "      <td>0</td>\n",
       "      <td>0</td>\n",
       "    </tr>\n",
       "    <tr>\n",
       "      <th>AGEP</th>\n",
       "      <td>0.753553</td>\n",
       "      <td>0.481946</td>\n",
       "    </tr>\n",
       "  </tbody>\n",
       "</table>\n",
       "</div>"
      ],
      "text/plain": [
       "                     0         1\n",
       "rent_control     False      True\n",
       "level_1              0         0\n",
       "AGEP          0.753553  0.481946"
      ]
     },
     "execution_count": 314,
     "metadata": {},
     "output_type": "execute_result"
    }
   ],
   "source": [
    "se.reset_index().T"
   ]
  },
  {
   "cell_type": "code",
   "execution_count": 320,
   "metadata": {},
   "outputs": [
    {
     "data": {
      "image/png": "[encoded data removed]",
      "text/plain": [
       "<Figure size 216x432 with 1 Axes>"
      ]
     },
     "metadata": {
      "needs_background": "light"
     },
     "output_type": "display_data"
    }
   ],
   "source": [
    "fig, ax = plt.subplots(figsize=(3, 6))\n",
    "pums_df = pums_h_rent[h_mask]\n",
    "wgt_col='WGTP'\n",
    "grp_col='rent_control'\n",
    "value_col = 'AGEP'\n",
    "title = 'Age of Head'\n",
    "\n",
    "wgt_mean = pums_df[[wgt_col, value_col, grp_col]].groupby(grp_col).apply(weighted_mean, value_col, wgt_col).reset_index()\n",
    "means_df = pd.concat((means_df, wgt_mean[[grp_col, value_col]].set_index(grp_col).T))\n",
    "sns.barplot(data=wgt_mean, x='rent_control', y=value_col, ax=ax, alpha=0.6)\n",
    "ax.set_xlabel(\"Rent Control Status\", fontsize=14)\n",
    "ax.set_ylabel(\"\")\n",
    "ax.set_title(title, fontsize=15)\n",
    "\n",
    "wgt_se = [wgt_col] + pums_df.filter(like='wgtp', axis=1).columns.tolist()\n",
    "se = pums_df[wgt_se + [value_col, grp_col]].groupby(grp_col).apply(weighted_SE, value_col, wgt_se)['se']\n",
    "se.name = value_col\n",
    "ses_df = pd.concat((ses_df, se.reset_index()[[grp_col, value_col]].set_index(grp_col).T))\n",
    "yerr = se.values\n",
    "ci_90 = yerr * 1.645\n",
    "ax.errorbar(\n",
    "    x=[0, 1],y=wgt_mean[value_col], yerr=ci_90, fmt='none', c='k', elinewidth=1, capsize=5,\n",
    "    label='90% c.i.'\n",
    ")\n",
    "ax.legend()\n",
    "    \n",
    "fig.suptitle(\"San Francisco 2012 PUMS Weighted Household Records\\nAll Renters\", fontsize=20)\n",
    "fig.tight_layout(rect=[0, 0.03, 1, 0.99])"
   ]
  },
  {
   "cell_type": "code",
   "execution_count": 321,
   "metadata": {},
   "outputs": [
    {
     "data": {
      "text/html": [
       "<div>\n",
       "<style scoped>\n",
       "    .dataframe tbody tr th:only-of-type {\n",
       "        vertical-align: middle;\n",
       "    }\n",
       "\n",
       "    .dataframe tbody tr th {\n",
       "        vertical-align: top;\n",
       "    }\n",
       "\n",
       "    .dataframe thead th {\n",
       "        text-align: right;\n",
       "    }\n",
       "</style>\n",
       "<table border=\"1\" class=\"dataframe\">\n",
       "  <thead>\n",
       "    <tr style=\"text-align: right;\">\n",
       "      <th></th>\n",
       "      <th>0</th>\n",
       "      <th>1</th>\n",
       "    </tr>\n",
       "  </thead>\n",
       "  <tbody>\n",
       "    <tr>\n",
       "      <th>rent_control</th>\n",
       "      <td>False</td>\n",
       "      <td>True</td>\n",
       "    </tr>\n",
       "    <tr>\n",
       "      <th>level_1</th>\n",
       "      <td>0</td>\n",
       "      <td>0</td>\n",
       "    </tr>\n",
       "    <tr>\n",
       "      <th>AGEP</th>\n",
       "      <td>45.5788</td>\n",
       "      <td>46.8731</td>\n",
       "    </tr>\n",
       "  </tbody>\n",
       "</table>\n",
       "</div>"
      ],
      "text/plain": [
       "                    0        1\n",
       "rent_control    False     True\n",
       "level_1             0        0\n",
       "AGEP          45.5788  46.8731"
      ]
     },
     "execution_count": 321,
     "metadata": {},
     "output_type": "execute_result"
    }
   ],
   "source": [
    "wgt_mean.T"
   ]
  },
  {
   "cell_type": "code",
   "execution_count": 322,
   "metadata": {},
   "outputs": [
    {
     "data": {
      "text/html": [
       "<div>\n",
       "<style scoped>\n",
       "    .dataframe tbody tr th:only-of-type {\n",
       "        vertical-align: middle;\n",
       "    }\n",
       "\n",
       "    .dataframe tbody tr th {\n",
       "        vertical-align: top;\n",
       "    }\n",
       "\n",
       "    .dataframe thead th {\n",
       "        text-align: right;\n",
       "    }\n",
       "</style>\n",
       "<table border=\"1\" class=\"dataframe\">\n",
       "  <thead>\n",
       "    <tr style=\"text-align: right;\">\n",
       "      <th></th>\n",
       "      <th>0</th>\n",
       "      <th>1</th>\n",
       "    </tr>\n",
       "  </thead>\n",
       "  <tbody>\n",
       "    <tr>\n",
       "      <th>rent_control</th>\n",
       "      <td>False</td>\n",
       "      <td>True</td>\n",
       "    </tr>\n",
       "    <tr>\n",
       "      <th>level_1</th>\n",
       "      <td>0</td>\n",
       "      <td>0</td>\n",
       "    </tr>\n",
       "    <tr>\n",
       "      <th>AGEP</th>\n",
       "      <td>1.1285</td>\n",
       "      <td>0.982604</td>\n",
       "    </tr>\n",
       "  </tbody>\n",
       "</table>\n",
       "</div>"
      ],
      "text/plain": [
       "                   0         1\n",
       "rent_control   False      True\n",
       "level_1            0         0\n",
       "AGEP          1.1285  0.982604"
      ]
     },
     "execution_count": 322,
     "metadata": {},
     "output_type": "execute_result"
    }
   ],
   "source": [
    "se.reset_index().T"
   ]
  },
  {
   "cell_type": "markdown",
   "metadata": {},
   "source": [
    "# Number of children"
   ]
  },
  {
   "cell_type": "code",
   "execution_count": 342,
   "metadata": {},
   "outputs": [
    {
     "data": {
      "text/plain": [
       "0.0    1549\n",
       "1.0     124\n",
       "2.0      90\n",
       "3.0      12\n",
       "4.0       9\n",
       "Name: NOC, dtype: int64"
      ]
     },
     "execution_count": 342,
     "metadata": {},
     "output_type": "execute_result"
    }
   ],
   "source": [
    "pums_h_rent['NOC'].value_counts(dropna=False)"
   ]
  },
  {
   "cell_type": "code",
   "execution_count": 335,
   "metadata": {},
   "outputs": [
    {
     "data": {
      "image/png": "[encoded data removed]",
      "text/plain": [
       "<Figure size 216x432 with 1 Axes>"
      ]
     },
     "metadata": {
      "needs_background": "light"
     },
     "output_type": "display_data"
    }
   ],
   "source": [
    "fig, ax = plt.subplots(figsize=(3, 6))\n",
    "pums_df = pums_h_rent[h_mask]\n",
    "wgt_col='WGTP'\n",
    "grp_col='rent_control'\n",
    "value_col = 'NOC'\n",
    "title = 'Number of Own Children'\n",
    "\n",
    "wgt_mean = pums_df[[wgt_col, value_col, grp_col]].groupby(grp_col).apply(weighted_mean, value_col, wgt_col).reset_index()\n",
    "means_df = pd.concat((means_df, wgt_mean[[grp_col, value_col]].set_index(grp_col).T))\n",
    "sns.barplot(data=wgt_mean, x='rent_control', y=value_col, ax=ax, alpha=0.6)\n",
    "ax.set_xlabel(\"Rent Control Status\", fontsize=14)\n",
    "ax.set_ylabel(\"\")\n",
    "ax.set_title(title, fontsize=15)\n",
    "\n",
    "wgt_se = [wgt_col] + pums_df.filter(like='wgtp', axis=1).columns.tolist()\n",
    "se = pums_df[wgt_se + [value_col, grp_col]].groupby(grp_col).apply(weighted_SE, value_col, wgt_se)['se']\n",
    "se.name = value_col\n",
    "ses_df = pd.concat((ses_df, se.reset_index()[[grp_col, value_col]].set_index(grp_col).T))\n",
    "yerr = se.values\n",
    "ci_90 = yerr * 1.645\n",
    "ax.errorbar(\n",
    "    x=[0, 1],y=wgt_mean[value_col], yerr=ci_90, fmt='none', c='k', elinewidth=1, capsize=5,\n",
    "    label='90% c.i.'\n",
    ")\n",
    "ax.legend()\n",
    "    \n",
    "fig.suptitle(\"San Francisco 2012 PUMS Weighted Household Records\\nAll Renters\", fontsize=20)\n",
    "fig.tight_layout(rect=[0, 0.03, 1, 0.99])"
   ]
  },
  {
   "cell_type": "code",
   "execution_count": 336,
   "metadata": {},
   "outputs": [
    {
     "data": {
      "text/html": [
       "<div>\n",
       "<style scoped>\n",
       "    .dataframe tbody tr th:only-of-type {\n",
       "        vertical-align: middle;\n",
       "    }\n",
       "\n",
       "    .dataframe tbody tr th {\n",
       "        vertical-align: top;\n",
       "    }\n",
       "\n",
       "    .dataframe thead th {\n",
       "        text-align: right;\n",
       "    }\n",
       "</style>\n",
       "<table border=\"1\" class=\"dataframe\">\n",
       "  <thead>\n",
       "    <tr style=\"text-align: right;\">\n",
       "      <th></th>\n",
       "      <th>0</th>\n",
       "      <th>1</th>\n",
       "    </tr>\n",
       "  </thead>\n",
       "  <tbody>\n",
       "    <tr>\n",
       "      <th>rent_control</th>\n",
       "      <td>False</td>\n",
       "      <td>True</td>\n",
       "    </tr>\n",
       "    <tr>\n",
       "      <th>level_1</th>\n",
       "      <td>0</td>\n",
       "      <td>0</td>\n",
       "    </tr>\n",
       "    <tr>\n",
       "      <th>NOC</th>\n",
       "      <td>0.263823</td>\n",
       "      <td>0.139142</td>\n",
       "    </tr>\n",
       "  </tbody>\n",
       "</table>\n",
       "</div>"
      ],
      "text/plain": [
       "                     0         1\n",
       "rent_control     False      True\n",
       "level_1              0         0\n",
       "NOC           0.263823  0.139142"
      ]
     },
     "execution_count": 336,
     "metadata": {},
     "output_type": "execute_result"
    }
   ],
   "source": [
    "wgt_mean.T"
   ]
  },
  {
   "cell_type": "code",
   "execution_count": 339,
   "metadata": {},
   "outputs": [
    {
     "data": {
      "text/html": [
       "<div>\n",
       "<style scoped>\n",
       "    .dataframe tbody tr th:only-of-type {\n",
       "        vertical-align: middle;\n",
       "    }\n",
       "\n",
       "    .dataframe tbody tr th {\n",
       "        vertical-align: top;\n",
       "    }\n",
       "\n",
       "    .dataframe thead th {\n",
       "        text-align: right;\n",
       "    }\n",
       "</style>\n",
       "<table border=\"1\" class=\"dataframe\">\n",
       "  <thead>\n",
       "    <tr style=\"text-align: right;\">\n",
       "      <th></th>\n",
       "      <th>0</th>\n",
       "      <th>1</th>\n",
       "    </tr>\n",
       "  </thead>\n",
       "  <tbody>\n",
       "    <tr>\n",
       "      <th>rent_control</th>\n",
       "      <td>False</td>\n",
       "      <td>True</td>\n",
       "    </tr>\n",
       "    <tr>\n",
       "      <th>level_1</th>\n",
       "      <td>0</td>\n",
       "      <td>0</td>\n",
       "    </tr>\n",
       "    <tr>\n",
       "      <th>NOC</th>\n",
       "      <td>0.0424508</td>\n",
       "      <td>0.0250008</td>\n",
       "    </tr>\n",
       "  </tbody>\n",
       "</table>\n",
       "</div>"
      ],
      "text/plain": [
       "                      0          1\n",
       "rent_control      False       True\n",
       "level_1               0          0\n",
       "NOC           0.0424508  0.0250008"
      ]
     },
     "execution_count": 339,
     "metadata": {},
     "output_type": "execute_result"
    }
   ],
   "source": [
    "\n",
    "se.reset_index().T"
   ]
  },
  {
   "cell_type": "code",
   "execution_count": 340,
   "metadata": {},
   "outputs": [
    {
     "data": {
      "image/png": "[encoded data removed]",
      "text/plain": [
       "<Figure size 216x432 with 1 Axes>"
      ]
     },
     "metadata": {
      "needs_background": "light"
     },
     "output_type": "display_data"
    }
   ],
   "source": [
    "fig, ax = plt.subplots(figsize=(3, 6))\n",
    "pums_df = pums_h_rent\n",
    "wgt_col='WGTP'\n",
    "grp_col='rent_control'\n",
    "value_col = 'NOC'\n",
    "title = 'Number of Own Children'\n",
    "\n",
    "wgt_mean = pums_df[[wgt_col, value_col, grp_col]].groupby(grp_col).apply(weighted_mean, value_col, wgt_col).reset_index()\n",
    "means_df = pd.concat((means_df, wgt_mean[[grp_col, value_col]].set_index(grp_col).T))\n",
    "sns.barplot(data=wgt_mean, x='rent_control', y=value_col, ax=ax, alpha=0.6)\n",
    "ax.set_xlabel(\"Rent Control Status\", fontsize=14)\n",
    "ax.set_ylabel(\"\")\n",
    "ax.set_title(title, fontsize=15)\n",
    "\n",
    "wgt_se = [wgt_col] + pums_df.filter(like='wgtp', axis=1).columns.tolist()\n",
    "se = pums_df[wgt_se + [value_col, grp_col]].groupby(grp_col).apply(weighted_SE, value_col, wgt_se)['se']\n",
    "se.name = value_col\n",
    "ses_df = pd.concat((ses_df, se.reset_index()[[grp_col, value_col]].set_index(grp_col).T))\n",
    "yerr = se.values\n",
    "ci_90 = yerr * 1.645\n",
    "ax.errorbar(\n",
    "    x=[0, 1],y=wgt_mean[value_col], yerr=ci_90, fmt='none', c='k', elinewidth=1, capsize=5,\n",
    "    label='90% c.i.'\n",
    ")\n",
    "ax.legend()\n",
    "    \n",
    "fig.suptitle(\"San Francisco 2012 PUMS Weighted Household Records\\nAll Renters\", fontsize=20)\n",
    "fig.tight_layout(rect=[0, 0.03, 1, 0.99])"
   ]
  },
  {
   "cell_type": "code",
   "execution_count": 343,
   "metadata": {},
   "outputs": [
    {
     "data": {
      "text/html": [
       "<div>\n",
       "<style scoped>\n",
       "    .dataframe tbody tr th:only-of-type {\n",
       "        vertical-align: middle;\n",
       "    }\n",
       "\n",
       "    .dataframe tbody tr th {\n",
       "        vertical-align: top;\n",
       "    }\n",
       "\n",
       "    .dataframe thead th {\n",
       "        text-align: right;\n",
       "    }\n",
       "</style>\n",
       "<table border=\"1\" class=\"dataframe\">\n",
       "  <thead>\n",
       "    <tr style=\"text-align: right;\">\n",
       "      <th></th>\n",
       "      <th>0</th>\n",
       "      <th>1</th>\n",
       "    </tr>\n",
       "  </thead>\n",
       "  <tbody>\n",
       "    <tr>\n",
       "      <th>rent_control</th>\n",
       "      <td>False</td>\n",
       "      <td>True</td>\n",
       "    </tr>\n",
       "    <tr>\n",
       "      <th>level_1</th>\n",
       "      <td>0</td>\n",
       "      <td>0</td>\n",
       "    </tr>\n",
       "    <tr>\n",
       "      <th>NOC</th>\n",
       "      <td>0.344546</td>\n",
       "      <td>0.130978</td>\n",
       "    </tr>\n",
       "  </tbody>\n",
       "</table>\n",
       "</div>"
      ],
      "text/plain": [
       "                     0         1\n",
       "rent_control     False      True\n",
       "level_1              0         0\n",
       "NOC           0.344546  0.130978"
      ]
     },
     "execution_count": 343,
     "metadata": {},
     "output_type": "execute_result"
    }
   ],
   "source": [
    "wgt_mean.T"
   ]
  },
  {
   "cell_type": "code",
   "execution_count": 344,
   "metadata": {},
   "outputs": [
    {
     "data": {
      "text/html": [
       "<div>\n",
       "<style scoped>\n",
       "    .dataframe tbody tr th:only-of-type {\n",
       "        vertical-align: middle;\n",
       "    }\n",
       "\n",
       "    .dataframe tbody tr th {\n",
       "        vertical-align: top;\n",
       "    }\n",
       "\n",
       "    .dataframe thead th {\n",
       "        text-align: right;\n",
       "    }\n",
       "</style>\n",
       "<table border=\"1\" class=\"dataframe\">\n",
       "  <thead>\n",
       "    <tr style=\"text-align: right;\">\n",
       "      <th></th>\n",
       "      <th>0</th>\n",
       "      <th>1</th>\n",
       "    </tr>\n",
       "  </thead>\n",
       "  <tbody>\n",
       "    <tr>\n",
       "      <th>rent_control</th>\n",
       "      <td>False</td>\n",
       "      <td>True</td>\n",
       "    </tr>\n",
       "    <tr>\n",
       "      <th>level_1</th>\n",
       "      <td>0</td>\n",
       "      <td>0</td>\n",
       "    </tr>\n",
       "    <tr>\n",
       "      <th>NOC</th>\n",
       "      <td>0.0370429</td>\n",
       "      <td>0.014471</td>\n",
       "    </tr>\n",
       "  </tbody>\n",
       "</table>\n",
       "</div>"
      ],
      "text/plain": [
       "                      0         1\n",
       "rent_control      False      True\n",
       "level_1               0         0\n",
       "NOC           0.0370429  0.014471"
      ]
     },
     "execution_count": 344,
     "metadata": {},
     "output_type": "execute_result"
    }
   ],
   "source": [
    "se.reset_index().T"
   ]
  },
  {
   "cell_type": "code",
   "execution_count": null,
   "metadata": {},
   "outputs": [],
   "source": []
  }
 ],
 "metadata": {
  "kernelspec": {
   "display_name": "Python 3",
   "language": "python",
   "name": "python3"
  },
  "language_info": {
   "codemirror_mode": {
    "name": "ipython",
    "version": 3
   },
   "file_extension": ".py",
   "mimetype": "text/x-python",
   "name": "python",
   "nbconvert_exporter": "python",
   "pygments_lexer": "ipython3",
   "version": "3.7.8"
  },
  "toc": {
   "base_numbering": 1,
   "nav_menu": {},
   "number_sections": false,
   "sideBar": false,
   "skip_h1_title": true,
   "title_cell": "Table of Contents",
   "title_sidebar": "Contents",
   "toc_cell": true,
   "toc_position": {},
   "toc_section_display": true,
   "toc_window_display": false
  }
 },
 "nbformat": 4,
 "nbformat_minor": 4
}
