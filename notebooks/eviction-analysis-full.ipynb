{
 "cells": [
  {
   "cell_type": "markdown",
   "metadata": {},
   "source": [
    "### Abstract"
   ]
  },
  {
   "cell_type": "markdown",
   "metadata": {},
   "source": [
    "<center>\n",
    "<p style=\"line-height:1.4; font-family:Times New Roman; text-align:justify; width: 75%;\"\" >\n",
    "<font size=\"5\">\n",
    "In this paper I present evidence of a causal mechanism existing between local rent control ordinances and the rate of evictions in San Francisco, CA. \n",
    "    Using publically available eviction data collected by the City of San Francisco between 2007 and 2017 (n=43,841), along with SF County Assessor records, I use a regression discontinuity design to estimate the average treatment effect of rent control at +1.42% evictions per residential unit per year. Compared to the baseline eviction rate over this same time period, this causal effect represents a nearly 5x increase in the likelihood of an eviction for rent controlled units compared to their non-rent controlled counterparts.\n",
    "              </font></p></center>"
   ]
  },
  {
   "cell_type": "markdown",
   "metadata": {},
   "source": [
    "### To Do:"
   ]
  },
  {
   "cell_type": "markdown",
   "metadata": {},
   "source": [
    "- [ ] inflated \\# units (e.g. parkmerced) due to double counting or counting non-residential units\n",
    "- [x] properties in some assessor roll years and not others\n",
    "   - **solution**: take record from closest year, only consider evictions >= 2007\n",
    "- [x] properties with multiple rent control eligibility use codes:\n",
    "   - **solution**: count how many of these there are, take the max use code\n",
    "- [ ] zero-unit buildings in new construction\n",
    "   - **solution**: year_built < 2010, or units > 0\n",
    "- [ ] properties with multiple year-built's\n",
    "   - **solution**: take the max year built, which will give a conservative estimate w/r/t rent control\n",
    "- [x] year-built = 0\n",
    "   - **solution**: year_built > 1800\n",
    "- [ ] condo conversion or parcel splits after eviction but before earliest assessor record\n",
    "   - SRES --> MRES would overcount MRES evictions\n",
    "   - MRES --> SRES would undercount MRES evictions\n",
    "   - **solution**: only count evictions after 2007\n",
    "   - many of these are the \"0000 0000 000000000\" values in assessor rolls\n",
    "- [ ] rent controlled properties more likely to be in state of disrepair and therefore require demolition/capital improvements\n",
    "   - **solution**: fit hedonic and control for stddev above/below predicted value\n",
    "- [ ] petition applies to multiple units\n",
    "   - **solution**: use new eviction .csv with unit counts\n",
    "- [ ] prop 13 and prop values\n",
    "- [ ] controlling for num units twice??\n",
    "- [ ] standard error correction for RDD\n",
    "- [ ] when grouping assessor records by year, if an address doesn't appear in a given year, I need to impute zero evictions for that year! Right now evictions are just matched to the parcel record in the closest year"
   ]
  },
  {
   "cell_type": "markdown",
   "metadata": {},
   "source": [
    "### Imports"
   ]
  },
  {
   "cell_type": "code",
   "execution_count": 3,
   "metadata": {},
   "outputs": [],
   "source": [
    "import pandas as pd\n",
    "import numpy as np\n",
    "from matplotlib import pyplot as plt\n",
    "import seaborn as sns\n",
    "import statsmodels.formula.api as smf\n",
    "%matplotlib inline"
   ]
  },
  {
   "cell_type": "markdown",
   "metadata": {},
   "source": [
    "### Load assessor universe"
   ]
  },
  {
   "cell_type": "code",
   "execution_count": 2,
   "metadata": {},
   "outputs": [
    {
     "name": "stderr",
     "output_type": "stream",
     "text": [
      "/Users/max/anaconda3/envs/evictions/lib/python3.7/site-packages/IPython/core/interactiveshell.py:2714: DtypeWarning: Columns (1,7,10,16,45) have mixed types.Specify dtype option on import or set low_memory=False.\n",
      "  interactivity=interactivity, compiler=compiler, result=result)\n"
     ]
    }
   ],
   "source": [
    "asr_all = pd.read_csv('../data/assessor_2007-2018_clean_w_none_sttyps.csv')"
   ]
  },
  {
   "cell_type": "code",
   "execution_count": 4,
   "metadata": {},
   "outputs": [
    {
     "data": {
      "text/plain": [
       "Index(['BASELOT', 'BASELOTSFX', 'BATHS', 'BEDS', 'BUILTIN', 'CONSTTYPE',\n",
       "       'DEPTH', 'EXEMPTYPE', 'FBA', 'FRONT', 'KITCHEN', 'LAREA', 'LOTCODE',\n",
       "       'OWNRPRCNT', 'PROPLOC', 'RECURRSALD', 'REMARKFLA', 'REPRISDATE',\n",
       "       'ROLLYEAR', 'ROOMS', 'RP1CLACDE', 'RP1EXMVL1', 'RP1EXMVL2', 'RP1FXTVAL',\n",
       "       'RP1IMPVAL', 'RP1LNDVAL', 'RP1NBRCDE', 'RP1PPTVAL', 'RP1PRCLID',\n",
       "       'RP1STACDE', 'RP1TRACDE', 'RP1VOLUME', 'SQFT', 'STOREYNO', 'UNITS',\n",
       "       'YRBLT', 'ZONE', 'asr_yr', 'use_code', 'rc_eligible', 'house_1',\n",
       "       'house_2', 'street_name', 'street_rest', 'street_type', 'unit_num',\n",
       "       'bldg_type'],\n",
       "      dtype='object')"
      ]
     },
     "execution_count": 4,
     "metadata": {},
     "output_type": "execute_result"
    }
   ],
   "source": [
    "asr_all.columns"
   ]
  },
  {
   "cell_type": "code",
   "execution_count": 7,
   "metadata": {},
   "outputs": [],
   "source": [
    "asr = pd.read_csv('../data/asr_grouped_by_yr_w_fips.csv', dtype={'fipscd': str})"
   ]
  },
  {
   "cell_type": "code",
   "execution_count": 14,
   "metadata": {},
   "outputs": [],
   "source": [
    "asr['any_ev'] = (asr['ev_count'] > 0).astype(int)\n",
    "asr['any_ev_07'] = (asr['ev_count_post_07'] > 0).astype(int)\n",
    "asr['pre_1980'] = (asr['year_built_max'] < 1980)\n",
    "asr['built_1980'] = None\n",
    "asr.loc[asr['pre_1980'], 'built_1980'] = 'before'\n",
    "asr.loc[~asr['pre_1980'], 'built_1980'] = 'after'\n",
    "asr['ev_per_unit'] = asr['ev_count'] / asr['total_units']\n",
    "asr['ev_per_unit_since_07'] = asr['ev_count_post_07'] / asr['total_units']"
   ]
  },
  {
   "cell_type": "code",
   "execution_count": 53,
   "metadata": {},
   "outputs": [
    {
     "data": {
      "text/plain": [
       "45273"
      ]
     },
     "execution_count": 53,
     "metadata": {},
     "output_type": "execute_result"
    }
   ],
   "source": [
    "asr['ev_count'].sum()"
   ]
  },
  {
   "cell_type": "markdown",
   "metadata": {},
   "source": [
    "### Load eviction data"
   ]
  },
  {
   "cell_type": "code",
   "execution_count": 65,
   "metadata": {},
   "outputs": [
    {
     "name": "stderr",
     "output_type": "stream",
     "text": [
      "/Users/max/anaconda3/envs/evictions/lib/python3.7/site-packages/IPython/core/interactiveshell.py:2714: DtypeWarning: Columns (4) have mixed types.Specify dtype option on import or set low_memory=False.\n",
      "  interactivity=interactivity, compiler=compiler, result=result)\n"
     ]
    }
   ],
   "source": [
    "ev = pd.read_csv('../data/ev_matched_w_fips.csv')"
   ]
  },
  {
   "cell_type": "code",
   "execution_count": 66,
   "metadata": {},
   "outputs": [
    {
     "data": {
      "text/plain": [
       "(47720, 26)"
      ]
     },
     "execution_count": 66,
     "metadata": {},
     "output_type": "execute_result"
    }
   ],
   "source": [
    "ev.shape"
   ]
  },
  {
   "cell_type": "markdown",
   "metadata": {},
   "source": [
    "### Eviction type counts by built year"
   ]
  },
  {
   "cell_type": "markdown",
   "metadata": {},
   "source": [
    "#### Processing"
   ]
  },
  {
   "cell_type": "markdown",
   "metadata": {},
   "source": [
    "Retain only evictions since 2007"
   ]
  },
  {
   "cell_type": "code",
   "execution_count": 67,
   "metadata": {},
   "outputs": [],
   "source": [
    "ev = ev[ev['year'] >= 2007]"
   ]
  },
  {
   "cell_type": "code",
   "execution_count": 68,
   "metadata": {},
   "outputs": [
    {
     "data": {
      "text/plain": [
       "(22609, 26)"
      ]
     },
     "execution_count": 68,
     "metadata": {},
     "output_type": "execute_result"
    }
   ],
   "source": [
    "ev.shape"
   ]
  },
  {
   "cell_type": "markdown",
   "metadata": {},
   "source": [
    "% evictions matched to assessor records"
   ]
  },
  {
   "cell_type": "code",
   "execution_count": 52,
   "metadata": {},
   "outputs": [
    {
     "data": {
      "text/plain": [
       "0.9487217099748533"
      ]
     },
     "execution_count": 52,
     "metadata": {},
     "output_type": "execute_result"
    }
   ],
   "source": [
    "len(ev[~pd.isnull(ev['asr_index'])]) / len(ev)"
   ]
  },
  {
   "cell_type": "code",
   "execution_count": 21,
   "metadata": {},
   "outputs": [],
   "source": [
    "ev = ev.merge(asr, left_on='asr_index', right_on='index', suffixes=('_ev', '_asr'))"
   ]
  },
  {
   "cell_type": "code",
   "execution_count": 22,
   "metadata": {},
   "outputs": [],
   "source": [
    "ev = ev[ev['any_rc_eligibility'] == 1]"
   ]
  },
  {
   "cell_type": "code",
   "execution_count": 23,
   "metadata": {},
   "outputs": [],
   "source": [
    "ev.loc[pd.isnull(ev['type']), 'type'] = 'unknown'\n",
    "type_counts = ev.groupby(['built_1980', 'type']).agg(count=('index_ev', 'nunique')).reset_index()\n",
    "pre_sums = type_counts.groupby('built_1980')['count'].sum()"
   ]
  },
  {
   "cell_type": "code",
   "execution_count": 24,
   "metadata": {},
   "outputs": [
    {
     "data": {
      "text/plain": [
       "built_1980\n",
       "after       204\n",
       "before    15188\n",
       "Name: count, dtype: int64"
      ]
     },
     "execution_count": 24,
     "metadata": {},
     "output_type": "execute_result"
    }
   ],
   "source": [
    "pre_sums"
   ]
  },
  {
   "cell_type": "code",
   "execution_count": 25,
   "metadata": {},
   "outputs": [
    {
     "data": {
      "text/plain": [
       "(15392, 53)"
      ]
     },
     "execution_count": 25,
     "metadata": {},
     "output_type": "execute_result"
    }
   ],
   "source": [
    "ev.shape"
   ]
  },
  {
   "cell_type": "code",
   "execution_count": 16,
   "metadata": {},
   "outputs": [],
   "source": [
    "type_counts = type_counts.pivot(index='type', columns='built_1980', values='count')\n",
    "\n",
    "type_counts['pct_after'] = type_counts['after'] / pre_sums['after']\n",
    "type_counts['pct_before'] = type_counts['before'] / pre_sums['before']"
   ]
  },
  {
   "cell_type": "markdown",
   "metadata": {},
   "source": [
    "#### 8x rate of OMI's, but this is prob due to structural differences"
   ]
  },
  {
   "cell_type": "code",
   "execution_count": 17,
   "metadata": {},
   "outputs": [
    {
     "data": {
      "text/html": [
       "<div>\n",
       "<style scoped>\n",
       "    .dataframe tbody tr th:only-of-type {\n",
       "        vertical-align: middle;\n",
       "    }\n",
       "\n",
       "    .dataframe tbody tr th {\n",
       "        vertical-align: top;\n",
       "    }\n",
       "\n",
       "    .dataframe thead th {\n",
       "        text-align: right;\n",
       "    }\n",
       "</style>\n",
       "<table border=\"1\" class=\"dataframe\">\n",
       "  <thead>\n",
       "    <tr style=\"text-align: right;\">\n",
       "      <th>built_1980</th>\n",
       "      <th>after</th>\n",
       "      <th>before</th>\n",
       "      <th>pct_after</th>\n",
       "      <th>pct_before</th>\n",
       "    </tr>\n",
       "    <tr>\n",
       "      <th>type</th>\n",
       "      <th></th>\n",
       "      <th></th>\n",
       "      <th></th>\n",
       "      <th></th>\n",
       "    </tr>\n",
       "  </thead>\n",
       "  <tbody>\n",
       "    <tr>\n",
       "      <th>unknown</th>\n",
       "      <td>47.0</td>\n",
       "      <td>5466.0</td>\n",
       "      <td>0.230392</td>\n",
       "      <td>0.359889</td>\n",
       "    </tr>\n",
       "    <tr>\n",
       "      <th>Breach of Lease Agreement</th>\n",
       "      <td>76.0</td>\n",
       "      <td>3312.0</td>\n",
       "      <td>0.372549</td>\n",
       "      <td>0.218067</td>\n",
       "    </tr>\n",
       "    <tr>\n",
       "      <th>Nuisance</th>\n",
       "      <td>29.0</td>\n",
       "      <td>1767.0</td>\n",
       "      <td>0.142157</td>\n",
       "      <td>0.116342</td>\n",
       "    </tr>\n",
       "    <tr>\n",
       "      <th>OMI</th>\n",
       "      <td>3.0</td>\n",
       "      <td>1262.0</td>\n",
       "      <td>0.014706</td>\n",
       "      <td>0.083092</td>\n",
       "    </tr>\n",
       "    <tr>\n",
       "      <th>Capital Improvement</th>\n",
       "      <td>NaN</td>\n",
       "      <td>550.0</td>\n",
       "      <td>NaN</td>\n",
       "      <td>0.036213</td>\n",
       "    </tr>\n",
       "    <tr>\n",
       "      <th>Non-payment of Rent</th>\n",
       "      <td>11.0</td>\n",
       "      <td>532.0</td>\n",
       "      <td>0.053922</td>\n",
       "      <td>0.035028</td>\n",
       "    </tr>\n",
       "    <tr>\n",
       "      <th>Habitual Late Payment of Rent</th>\n",
       "      <td>4.0</td>\n",
       "      <td>431.0</td>\n",
       "      <td>0.019608</td>\n",
       "      <td>0.028378</td>\n",
       "    </tr>\n",
       "    <tr>\n",
       "      <th>ELLIS</th>\n",
       "      <td>NaN</td>\n",
       "      <td>357.0</td>\n",
       "      <td>NaN</td>\n",
       "      <td>0.023505</td>\n",
       "    </tr>\n",
       "    <tr>\n",
       "      <th>Development Agreement</th>\n",
       "      <td>NaN</td>\n",
       "      <td>233.0</td>\n",
       "      <td>NaN</td>\n",
       "      <td>0.015341</td>\n",
       "    </tr>\n",
       "    <tr>\n",
       "      <th>Illegal Use of Unit</th>\n",
       "      <td>2.0</td>\n",
       "      <td>229.0</td>\n",
       "      <td>0.009804</td>\n",
       "      <td>0.015078</td>\n",
       "    </tr>\n",
       "    <tr>\n",
       "      <th>Breach of Lease Agreement Nuisance</th>\n",
       "      <td>3.0</td>\n",
       "      <td>210.0</td>\n",
       "      <td>0.014706</td>\n",
       "      <td>0.013827</td>\n",
       "    </tr>\n",
       "    <tr>\n",
       "      <th>Roommate Living in Same Unit</th>\n",
       "      <td>3.0</td>\n",
       "      <td>136.0</td>\n",
       "      <td>0.014706</td>\n",
       "      <td>0.008954</td>\n",
       "    </tr>\n",
       "    <tr>\n",
       "      <th>Other</th>\n",
       "      <td>18.0</td>\n",
       "      <td>125.0</td>\n",
       "      <td>0.088235</td>\n",
       "      <td>0.008230</td>\n",
       "    </tr>\n",
       "    <tr>\n",
       "      <th>Unapproved Subtenant</th>\n",
       "      <td>1.0</td>\n",
       "      <td>119.0</td>\n",
       "      <td>0.004902</td>\n",
       "      <td>0.007835</td>\n",
       "    </tr>\n",
       "    <tr>\n",
       "      <th>Demolition</th>\n",
       "      <td>NaN</td>\n",
       "      <td>104.0</td>\n",
       "      <td>NaN</td>\n",
       "      <td>0.006848</td>\n",
       "    </tr>\n",
       "    <tr>\n",
       "      <th>Denial of Access to Unit</th>\n",
       "      <td>2.0</td>\n",
       "      <td>59.0</td>\n",
       "      <td>0.009804</td>\n",
       "      <td>0.003885</td>\n",
       "    </tr>\n",
       "    <tr>\n",
       "      <th>Nuisance Illegal Use of Unit</th>\n",
       "      <td>NaN</td>\n",
       "      <td>51.0</td>\n",
       "      <td>NaN</td>\n",
       "      <td>0.003358</td>\n",
       "    </tr>\n",
       "    <tr>\n",
       "      <th>Breach of Lease Agreement Illegal Use of Unit</th>\n",
       "      <td>NaN</td>\n",
       "      <td>35.0</td>\n",
       "      <td>NaN</td>\n",
       "      <td>0.002304</td>\n",
       "    </tr>\n",
       "    <tr>\n",
       "      <th>Failure to Sign Lease Renewal</th>\n",
       "      <td>NaN</td>\n",
       "      <td>25.0</td>\n",
       "      <td>NaN</td>\n",
       "      <td>0.001646</td>\n",
       "    </tr>\n",
       "    <tr>\n",
       "      <th>Breach of Lease Agreement Nuisance Illegal Use of Unit</th>\n",
       "      <td>NaN</td>\n",
       "      <td>25.0</td>\n",
       "      <td>NaN</td>\n",
       "      <td>0.001646</td>\n",
       "    </tr>\n",
       "    <tr>\n",
       "      <th>Condo Conversion</th>\n",
       "      <td>NaN</td>\n",
       "      <td>17.0</td>\n",
       "      <td>NaN</td>\n",
       "      <td>0.001119</td>\n",
       "    </tr>\n",
       "    <tr>\n",
       "      <th>Non-payment of Rent Breach of Lease Agreement</th>\n",
       "      <td>NaN</td>\n",
       "      <td>14.0</td>\n",
       "      <td>NaN</td>\n",
       "      <td>0.000922</td>\n",
       "    </tr>\n",
       "    <tr>\n",
       "      <th>Non-payment of Rent Habitual Late Payment of Rent</th>\n",
       "      <td>1.0</td>\n",
       "      <td>13.0</td>\n",
       "      <td>0.004902</td>\n",
       "      <td>0.000856</td>\n",
       "    </tr>\n",
       "    <tr>\n",
       "      <th>Denial of Access to Unit Breach of Lease Agreement</th>\n",
       "      <td>NaN</td>\n",
       "      <td>12.0</td>\n",
       "      <td>NaN</td>\n",
       "      <td>0.000790</td>\n",
       "    </tr>\n",
       "    <tr>\n",
       "      <th>Habitual Late Payment of Rent Breach of Lease Agreement</th>\n",
       "      <td>NaN</td>\n",
       "      <td>12.0</td>\n",
       "      <td>NaN</td>\n",
       "      <td>0.000790</td>\n",
       "    </tr>\n",
       "    <tr>\n",
       "      <th>Unapproved Subtenant Breach of Lease Agreement</th>\n",
       "      <td>NaN</td>\n",
       "      <td>12.0</td>\n",
       "      <td>NaN</td>\n",
       "      <td>0.000790</td>\n",
       "    </tr>\n",
       "    <tr>\n",
       "      <th>Habitual Late Payment of Rent Breach of Lease Agreement Nuisance</th>\n",
       "      <td>NaN</td>\n",
       "      <td>7.0</td>\n",
       "      <td>NaN</td>\n",
       "      <td>0.000461</td>\n",
       "    </tr>\n",
       "    <tr>\n",
       "      <th>Substantial Rehabilitation</th>\n",
       "      <td>NaN</td>\n",
       "      <td>7.0</td>\n",
       "      <td>NaN</td>\n",
       "      <td>0.000461</td>\n",
       "    </tr>\n",
       "    <tr>\n",
       "      <th>Roommate Living in Same Unit Nuisance</th>\n",
       "      <td>NaN</td>\n",
       "      <td>6.0</td>\n",
       "      <td>NaN</td>\n",
       "      <td>0.000395</td>\n",
       "    </tr>\n",
       "    <tr>\n",
       "      <th>Lead Remediation</th>\n",
       "      <td>NaN</td>\n",
       "      <td>6.0</td>\n",
       "      <td>NaN</td>\n",
       "      <td>0.000395</td>\n",
       "    </tr>\n",
       "    <tr>\n",
       "      <th>Breach of Lease Agreement Other</th>\n",
       "      <td>1.0</td>\n",
       "      <td>5.0</td>\n",
       "      <td>0.004902</td>\n",
       "      <td>0.000329</td>\n",
       "    </tr>\n",
       "    <tr>\n",
       "      <th>Denial of Access to Unit Breach of Lease Agreement Nuisance</th>\n",
       "      <td>NaN</td>\n",
       "      <td>4.0</td>\n",
       "      <td>NaN</td>\n",
       "      <td>0.000263</td>\n",
       "    </tr>\n",
       "    <tr>\n",
       "      <th>Breach of Lease Agreement Failure to Sign Lease Renewal</th>\n",
       "      <td>NaN</td>\n",
       "      <td>4.0</td>\n",
       "      <td>NaN</td>\n",
       "      <td>0.000263</td>\n",
       "    </tr>\n",
       "    <tr>\n",
       "      <th>Habitual Late Payment of Rent Nuisance</th>\n",
       "      <td>NaN</td>\n",
       "      <td>4.0</td>\n",
       "      <td>NaN</td>\n",
       "      <td>0.000263</td>\n",
       "    </tr>\n",
       "    <tr>\n",
       "      <th>Good Samaritan Tenancy Ends</th>\n",
       "      <td>NaN</td>\n",
       "      <td>4.0</td>\n",
       "      <td>NaN</td>\n",
       "      <td>0.000263</td>\n",
       "    </tr>\n",
       "    <tr>\n",
       "      <th>Unapproved Subtenant Breach of Lease Agreement Nuisance</th>\n",
       "      <td>NaN</td>\n",
       "      <td>3.0</td>\n",
       "      <td>NaN</td>\n",
       "      <td>0.000198</td>\n",
       "    </tr>\n",
       "    <tr>\n",
       "      <th>Non-payment of Rent Nuisance</th>\n",
       "      <td>NaN</td>\n",
       "      <td>3.0</td>\n",
       "      <td>NaN</td>\n",
       "      <td>0.000198</td>\n",
       "    </tr>\n",
       "    <tr>\n",
       "      <th>Denial of Access to Unit Breach of Lease Agreement Nuisance Illegal Use of Unit</th>\n",
       "      <td>NaN</td>\n",
       "      <td>3.0</td>\n",
       "      <td>NaN</td>\n",
       "      <td>0.000198</td>\n",
       "    </tr>\n",
       "    <tr>\n",
       "      <th>Unapproved Subtenant Nuisance Illegal Use of Unit</th>\n",
       "      <td>NaN</td>\n",
       "      <td>2.0</td>\n",
       "      <td>NaN</td>\n",
       "      <td>0.000132</td>\n",
       "    </tr>\n",
       "    <tr>\n",
       "      <th>Nuisance Other</th>\n",
       "      <td>1.0</td>\n",
       "      <td>2.0</td>\n",
       "      <td>0.004902</td>\n",
       "      <td>0.000132</td>\n",
       "    </tr>\n",
       "    <tr>\n",
       "      <th>Denial of Access to Unit Unapproved Subtenant Breach of Lease Agreement</th>\n",
       "      <td>NaN</td>\n",
       "      <td>2.0</td>\n",
       "      <td>NaN</td>\n",
       "      <td>0.000132</td>\n",
       "    </tr>\n",
       "    <tr>\n",
       "      <th>Denial of Access to Unit Other</th>\n",
       "      <td>NaN</td>\n",
       "      <td>2.0</td>\n",
       "      <td>NaN</td>\n",
       "      <td>0.000132</td>\n",
       "    </tr>\n",
       "    <tr>\n",
       "      <th>Denial of Access to Unit Nuisance</th>\n",
       "      <td>NaN</td>\n",
       "      <td>2.0</td>\n",
       "      <td>NaN</td>\n",
       "      <td>0.000132</td>\n",
       "    </tr>\n",
       "    <tr>\n",
       "      <th>Nuisance Capital Improvement</th>\n",
       "      <td>NaN</td>\n",
       "      <td>1.0</td>\n",
       "      <td>NaN</td>\n",
       "      <td>0.000066</td>\n",
       "    </tr>\n",
       "    <tr>\n",
       "      <th>Non-payment of Rent Unapproved Subtenant</th>\n",
       "      <td>NaN</td>\n",
       "      <td>1.0</td>\n",
       "      <td>NaN</td>\n",
       "      <td>0.000066</td>\n",
       "    </tr>\n",
       "    <tr>\n",
       "      <th>Non-payment of Rent Roommate Living in Same Unit</th>\n",
       "      <td>NaN</td>\n",
       "      <td>1.0</td>\n",
       "      <td>NaN</td>\n",
       "      <td>0.000066</td>\n",
       "    </tr>\n",
       "    <tr>\n",
       "      <th>Breach of Lease Agreement Roommate Living in Same Unit</th>\n",
       "      <td>NaN</td>\n",
       "      <td>1.0</td>\n",
       "      <td>NaN</td>\n",
       "      <td>0.000066</td>\n",
       "    </tr>\n",
       "    <tr>\n",
       "      <th>Non-payment of Rent Habitual Late Payment of Rent Nuisance</th>\n",
       "      <td>NaN</td>\n",
       "      <td>1.0</td>\n",
       "      <td>NaN</td>\n",
       "      <td>0.000066</td>\n",
       "    </tr>\n",
       "    <tr>\n",
       "      <th>Non-payment of Rent Habitual Late Payment of Rent Breach of Lease Agreement Nuisance</th>\n",
       "      <td>NaN</td>\n",
       "      <td>1.0</td>\n",
       "      <td>NaN</td>\n",
       "      <td>0.000066</td>\n",
       "    </tr>\n",
       "    <tr>\n",
       "      <th>Non-payment of Rent Denial of Access to Unit</th>\n",
       "      <td>NaN</td>\n",
       "      <td>1.0</td>\n",
       "      <td>NaN</td>\n",
       "      <td>0.000066</td>\n",
       "    </tr>\n",
       "    <tr>\n",
       "      <th>Non-payment of Rent Breach of Lease Agreement Nuisance</th>\n",
       "      <td>NaN</td>\n",
       "      <td>1.0</td>\n",
       "      <td>NaN</td>\n",
       "      <td>0.000066</td>\n",
       "    </tr>\n",
       "    <tr>\n",
       "      <th>Denial of Access to Unit Breach of Lease Agreement Other</th>\n",
       "      <td>NaN</td>\n",
       "      <td>1.0</td>\n",
       "      <td>NaN</td>\n",
       "      <td>0.000066</td>\n",
       "    </tr>\n",
       "    <tr>\n",
       "      <th>Habitual Late Payment of Rent Breach of Lease Agreement Failure to Sign Lease Renewal</th>\n",
       "      <td>NaN</td>\n",
       "      <td>1.0</td>\n",
       "      <td>NaN</td>\n",
       "      <td>0.000066</td>\n",
       "    </tr>\n",
       "    <tr>\n",
       "      <th>Unapproved Subtenant Breach of Lease Agreement Nuisance Illegal Use of Unit</th>\n",
       "      <td>NaN</td>\n",
       "      <td>1.0</td>\n",
       "      <td>NaN</td>\n",
       "      <td>0.000066</td>\n",
       "    </tr>\n",
       "    <tr>\n",
       "      <th>Unapproved Subtenant Illegal Use of Unit</th>\n",
       "      <td>NaN</td>\n",
       "      <td>1.0</td>\n",
       "      <td>NaN</td>\n",
       "      <td>0.000066</td>\n",
       "    </tr>\n",
       "    <tr>\n",
       "      <th>Unapproved Subtenant Nuisance</th>\n",
       "      <td>NaN</td>\n",
       "      <td>1.0</td>\n",
       "      <td>NaN</td>\n",
       "      <td>0.000066</td>\n",
       "    </tr>\n",
       "    <tr>\n",
       "      <th>Non-payment of Rent Other</th>\n",
       "      <td>NaN</td>\n",
       "      <td>1.0</td>\n",
       "      <td>NaN</td>\n",
       "      <td>0.000066</td>\n",
       "    </tr>\n",
       "    <tr>\n",
       "      <th>Habitual Late Payment of Rent Other</th>\n",
       "      <td>1.0</td>\n",
       "      <td>NaN</td>\n",
       "      <td>0.004902</td>\n",
       "      <td>NaN</td>\n",
       "    </tr>\n",
       "    <tr>\n",
       "      <th>Habitual Late Payment of Rent Roommate Living in Same Unit Nuisance</th>\n",
       "      <td>1.0</td>\n",
       "      <td>NaN</td>\n",
       "      <td>0.004902</td>\n",
       "      <td>NaN</td>\n",
       "    </tr>\n",
       "  </tbody>\n",
       "</table>\n",
       "</div>"
      ],
      "text/plain": [
       "built_1980                                          after  before  pct_after  \\\n",
       "type                                                                           \n",
       "unknown                                              47.0  5466.0   0.230392   \n",
       "Breach of Lease Agreement                            76.0  3312.0   0.372549   \n",
       "Nuisance                                             29.0  1767.0   0.142157   \n",
       "OMI                                                   3.0  1262.0   0.014706   \n",
       "Capital Improvement                                   NaN   550.0        NaN   \n",
       "Non-payment of Rent                                  11.0   532.0   0.053922   \n",
       "Habitual Late Payment of Rent                         4.0   431.0   0.019608   \n",
       "ELLIS                                                 NaN   357.0        NaN   \n",
       "Development Agreement                                 NaN   233.0        NaN   \n",
       "Illegal Use of Unit                                   2.0   229.0   0.009804   \n",
       "Breach of Lease Agreement Nuisance                    3.0   210.0   0.014706   \n",
       "Roommate Living in Same Unit                          3.0   136.0   0.014706   \n",
       "Other                                                18.0   125.0   0.088235   \n",
       "Unapproved Subtenant                                  1.0   119.0   0.004902   \n",
       "Demolition                                            NaN   104.0        NaN   \n",
       "Denial of Access to Unit                              2.0    59.0   0.009804   \n",
       "Nuisance Illegal Use of Unit                          NaN    51.0        NaN   \n",
       "Breach of Lease Agreement Illegal Use of Unit         NaN    35.0        NaN   \n",
       "Failure to Sign Lease Renewal                         NaN    25.0        NaN   \n",
       "Breach of Lease Agreement Nuisance Illegal Use ...    NaN    25.0        NaN   \n",
       "Condo Conversion                                      NaN    17.0        NaN   \n",
       "Non-payment of Rent Breach of Lease Agreement         NaN    14.0        NaN   \n",
       "Non-payment of Rent Habitual Late Payment of Rent     1.0    13.0   0.004902   \n",
       "Denial of Access to Unit Breach of Lease Agreement    NaN    12.0        NaN   \n",
       "Habitual Late Payment of Rent Breach of Lease A...    NaN    12.0        NaN   \n",
       "Unapproved Subtenant Breach of Lease Agreement        NaN    12.0        NaN   \n",
       "Habitual Late Payment of Rent Breach of Lease A...    NaN     7.0        NaN   \n",
       "Substantial Rehabilitation                            NaN     7.0        NaN   \n",
       "Roommate Living in Same Unit Nuisance                 NaN     6.0        NaN   \n",
       "Lead Remediation                                      NaN     6.0        NaN   \n",
       "Breach of Lease Agreement Other                       1.0     5.0   0.004902   \n",
       "Denial of Access to Unit Breach of Lease Agreem...    NaN     4.0        NaN   \n",
       "Breach of Lease Agreement Failure to Sign Lease...    NaN     4.0        NaN   \n",
       "Habitual Late Payment of Rent Nuisance                NaN     4.0        NaN   \n",
       "Good Samaritan Tenancy Ends                           NaN     4.0        NaN   \n",
       "Unapproved Subtenant Breach of Lease Agreement ...    NaN     3.0        NaN   \n",
       "Non-payment of Rent Nuisance                          NaN     3.0        NaN   \n",
       "Denial of Access to Unit Breach of Lease Agreem...    NaN     3.0        NaN   \n",
       "Unapproved Subtenant Nuisance Illegal Use of Unit     NaN     2.0        NaN   \n",
       "Nuisance Other                                        1.0     2.0   0.004902   \n",
       "Denial of Access to Unit Unapproved Subtenant B...    NaN     2.0        NaN   \n",
       "Denial of Access to Unit Other                        NaN     2.0        NaN   \n",
       "Denial of Access to Unit Nuisance                     NaN     2.0        NaN   \n",
       "Nuisance Capital Improvement                          NaN     1.0        NaN   \n",
       "Non-payment of Rent Unapproved Subtenant              NaN     1.0        NaN   \n",
       "Non-payment of Rent Roommate Living in Same Unit      NaN     1.0        NaN   \n",
       "Breach of Lease Agreement Roommate Living in Sa...    NaN     1.0        NaN   \n",
       "Non-payment of Rent Habitual Late Payment of Re...    NaN     1.0        NaN   \n",
       "Non-payment of Rent Habitual Late Payment of Re...    NaN     1.0        NaN   \n",
       "Non-payment of Rent Denial of Access to Unit          NaN     1.0        NaN   \n",
       "Non-payment of Rent Breach of Lease Agreement N...    NaN     1.0        NaN   \n",
       "Denial of Access to Unit Breach of Lease Agreem...    NaN     1.0        NaN   \n",
       "Habitual Late Payment of Rent Breach of Lease A...    NaN     1.0        NaN   \n",
       "Unapproved Subtenant Breach of Lease Agreement ...    NaN     1.0        NaN   \n",
       "Unapproved Subtenant Illegal Use of Unit              NaN     1.0        NaN   \n",
       "Unapproved Subtenant Nuisance                         NaN     1.0        NaN   \n",
       "Non-payment of Rent Other                             NaN     1.0        NaN   \n",
       "Habitual Late Payment of Rent Other                   1.0     NaN   0.004902   \n",
       "Habitual Late Payment of Rent Roommate Living i...    1.0     NaN   0.004902   \n",
       "\n",
       "built_1980                                          pct_before  \n",
       "type                                                            \n",
       "unknown                                               0.359889  \n",
       "Breach of Lease Agreement                             0.218067  \n",
       "Nuisance                                              0.116342  \n",
       "OMI                                                   0.083092  \n",
       "Capital Improvement                                   0.036213  \n",
       "Non-payment of Rent                                   0.035028  \n",
       "Habitual Late Payment of Rent                         0.028378  \n",
       "ELLIS                                                 0.023505  \n",
       "Development Agreement                                 0.015341  \n",
       "Illegal Use of Unit                                   0.015078  \n",
       "Breach of Lease Agreement Nuisance                    0.013827  \n",
       "Roommate Living in Same Unit                          0.008954  \n",
       "Other                                                 0.008230  \n",
       "Unapproved Subtenant                                  0.007835  \n",
       "Demolition                                            0.006848  \n",
       "Denial of Access to Unit                              0.003885  \n",
       "Nuisance Illegal Use of Unit                          0.003358  \n",
       "Breach of Lease Agreement Illegal Use of Unit         0.002304  \n",
       "Failure to Sign Lease Renewal                         0.001646  \n",
       "Breach of Lease Agreement Nuisance Illegal Use ...    0.001646  \n",
       "Condo Conversion                                      0.001119  \n",
       "Non-payment of Rent Breach of Lease Agreement         0.000922  \n",
       "Non-payment of Rent Habitual Late Payment of Rent     0.000856  \n",
       "Denial of Access to Unit Breach of Lease Agreement    0.000790  \n",
       "Habitual Late Payment of Rent Breach of Lease A...    0.000790  \n",
       "Unapproved Subtenant Breach of Lease Agreement        0.000790  \n",
       "Habitual Late Payment of Rent Breach of Lease A...    0.000461  \n",
       "Substantial Rehabilitation                            0.000461  \n",
       "Roommate Living in Same Unit Nuisance                 0.000395  \n",
       "Lead Remediation                                      0.000395  \n",
       "Breach of Lease Agreement Other                       0.000329  \n",
       "Denial of Access to Unit Breach of Lease Agreem...    0.000263  \n",
       "Breach of Lease Agreement Failure to Sign Lease...    0.000263  \n",
       "Habitual Late Payment of Rent Nuisance                0.000263  \n",
       "Good Samaritan Tenancy Ends                           0.000263  \n",
       "Unapproved Subtenant Breach of Lease Agreement ...    0.000198  \n",
       "Non-payment of Rent Nuisance                          0.000198  \n",
       "Denial of Access to Unit Breach of Lease Agreem...    0.000198  \n",
       "Unapproved Subtenant Nuisance Illegal Use of Unit     0.000132  \n",
       "Nuisance Other                                        0.000132  \n",
       "Denial of Access to Unit Unapproved Subtenant B...    0.000132  \n",
       "Denial of Access to Unit Other                        0.000132  \n",
       "Denial of Access to Unit Nuisance                     0.000132  \n",
       "Nuisance Capital Improvement                          0.000066  \n",
       "Non-payment of Rent Unapproved Subtenant              0.000066  \n",
       "Non-payment of Rent Roommate Living in Same Unit      0.000066  \n",
       "Breach of Lease Agreement Roommate Living in Sa...    0.000066  \n",
       "Non-payment of Rent Habitual Late Payment of Re...    0.000066  \n",
       "Non-payment of Rent Habitual Late Payment of Re...    0.000066  \n",
       "Non-payment of Rent Denial of Access to Unit          0.000066  \n",
       "Non-payment of Rent Breach of Lease Agreement N...    0.000066  \n",
       "Denial of Access to Unit Breach of Lease Agreem...    0.000066  \n",
       "Habitual Late Payment of Rent Breach of Lease A...    0.000066  \n",
       "Unapproved Subtenant Breach of Lease Agreement ...    0.000066  \n",
       "Unapproved Subtenant Illegal Use of Unit              0.000066  \n",
       "Unapproved Subtenant Nuisance                         0.000066  \n",
       "Non-payment of Rent Other                             0.000066  \n",
       "Habitual Late Payment of Rent Other                        NaN  \n",
       "Habitual Late Payment of Rent Roommate Living i...         NaN  "
      ]
     },
     "execution_count": 17,
     "metadata": {},
     "output_type": "execute_result"
    }
   ],
   "source": [
    "type_counts.sort_values('pct_before', ascending=False)"
   ]
  },
  {
   "cell_type": "code",
   "execution_count": 18,
   "metadata": {},
   "outputs": [],
   "source": [
    "ev['ev_type_cat'] = 'breach of lease'\n",
    "ev.loc[ev['type'].isin([\n",
    "    'OMI', 'Capital Improvement', 'ELLIS', 'Condo Conversion', 'Substantial Rehabilitation',\n",
    "    'Lead Remediation', 'Good Samaritan Tenancy Ends',\n",
    "    'Development Agreement', 'Demolition']), 'ev_type_cat'] = 'no fault'\n",
    "ev.loc[ev['type'].isin(['unknown', 'Other']), 'ev_type_cat'] = 'unknown/Other'"
   ]
  },
  {
   "cell_type": "code",
   "execution_count": 19,
   "metadata": {},
   "outputs": [],
   "source": [
    "cat_counts = ev.groupby(['built_1980', 'ev_type_cat']).agg(count=('index_ev', 'nunique')).reset_index()"
   ]
  },
  {
   "cell_type": "code",
   "execution_count": 20,
   "metadata": {},
   "outputs": [
    {
     "data": {
      "text/html": [
       "<div>\n",
       "<style scoped>\n",
       "    .dataframe tbody tr th:only-of-type {\n",
       "        vertical-align: middle;\n",
       "    }\n",
       "\n",
       "    .dataframe tbody tr th {\n",
       "        vertical-align: top;\n",
       "    }\n",
       "\n",
       "    .dataframe thead th {\n",
       "        text-align: right;\n",
       "    }\n",
       "</style>\n",
       "<table border=\"1\" class=\"dataframe\">\n",
       "  <thead>\n",
       "    <tr style=\"text-align: right;\">\n",
       "      <th></th>\n",
       "      <th>built_1980</th>\n",
       "      <th>ev_type_cat</th>\n",
       "      <th>count</th>\n",
       "    </tr>\n",
       "  </thead>\n",
       "  <tbody>\n",
       "    <tr>\n",
       "      <th>0</th>\n",
       "      <td>after</td>\n",
       "      <td>breach of lease</td>\n",
       "      <td>136</td>\n",
       "    </tr>\n",
       "    <tr>\n",
       "      <th>1</th>\n",
       "      <td>after</td>\n",
       "      <td>no fault</td>\n",
       "      <td>3</td>\n",
       "    </tr>\n",
       "    <tr>\n",
       "      <th>2</th>\n",
       "      <td>after</td>\n",
       "      <td>unknown/Other</td>\n",
       "      <td>65</td>\n",
       "    </tr>\n",
       "    <tr>\n",
       "      <th>3</th>\n",
       "      <td>before</td>\n",
       "      <td>breach of lease</td>\n",
       "      <td>7057</td>\n",
       "    </tr>\n",
       "    <tr>\n",
       "      <th>4</th>\n",
       "      <td>before</td>\n",
       "      <td>no fault</td>\n",
       "      <td>2540</td>\n",
       "    </tr>\n",
       "    <tr>\n",
       "      <th>5</th>\n",
       "      <td>before</td>\n",
       "      <td>unknown/Other</td>\n",
       "      <td>5591</td>\n",
       "    </tr>\n",
       "  </tbody>\n",
       "</table>\n",
       "</div>"
      ],
      "text/plain": [
       "  built_1980      ev_type_cat  count\n",
       "0      after  breach of lease    136\n",
       "1      after         no fault      3\n",
       "2      after    unknown/Other     65\n",
       "3     before  breach of lease   7057\n",
       "4     before         no fault   2540\n",
       "5     before    unknown/Other   5591"
      ]
     },
     "execution_count": 20,
     "metadata": {},
     "output_type": "execute_result"
    }
   ],
   "source": [
    "cat_counts"
   ]
  },
  {
   "cell_type": "code",
   "execution_count": 21,
   "metadata": {},
   "outputs": [],
   "source": [
    "cat_counts = cat_counts.pivot(index='ev_type_cat', columns='built_1980', values='count')\n",
    "cat_counts['pct_after'] = cat_counts['after'] / pre_sums['after']\n",
    "cat_counts['pct_before'] = cat_counts['before'] / pre_sums['before']"
   ]
  },
  {
   "cell_type": "markdown",
   "metadata": {},
   "source": [
    "#### Eviction Rates by Category and RC Status"
   ]
  },
  {
   "cell_type": "code",
   "execution_count": 22,
   "metadata": {},
   "outputs": [
    {
     "data": {
      "text/html": [
       "<div>\n",
       "<style scoped>\n",
       "    .dataframe tbody tr th:only-of-type {\n",
       "        vertical-align: middle;\n",
       "    }\n",
       "\n",
       "    .dataframe tbody tr th {\n",
       "        vertical-align: top;\n",
       "    }\n",
       "\n",
       "    .dataframe thead th {\n",
       "        text-align: right;\n",
       "    }\n",
       "</style>\n",
       "<table border=\"1\" class=\"dataframe\">\n",
       "  <thead>\n",
       "    <tr style=\"text-align: right;\">\n",
       "      <th>built_1980</th>\n",
       "      <th>after</th>\n",
       "      <th>before</th>\n",
       "      <th>pct_after</th>\n",
       "      <th>pct_before</th>\n",
       "    </tr>\n",
       "    <tr>\n",
       "      <th>ev_type_cat</th>\n",
       "      <th></th>\n",
       "      <th></th>\n",
       "      <th></th>\n",
       "      <th></th>\n",
       "    </tr>\n",
       "  </thead>\n",
       "  <tbody>\n",
       "    <tr>\n",
       "      <th>breach of lease</th>\n",
       "      <td>136</td>\n",
       "      <td>7057</td>\n",
       "      <td>0.666667</td>\n",
       "      <td>0.464643</td>\n",
       "    </tr>\n",
       "    <tr>\n",
       "      <th>no fault</th>\n",
       "      <td>3</td>\n",
       "      <td>2540</td>\n",
       "      <td>0.014706</td>\n",
       "      <td>0.167237</td>\n",
       "    </tr>\n",
       "    <tr>\n",
       "      <th>unknown/Other</th>\n",
       "      <td>65</td>\n",
       "      <td>5591</td>\n",
       "      <td>0.318627</td>\n",
       "      <td>0.368120</td>\n",
       "    </tr>\n",
       "  </tbody>\n",
       "</table>\n",
       "</div>"
      ],
      "text/plain": [
       "built_1980       after  before  pct_after  pct_before\n",
       "ev_type_cat                                          \n",
       "breach of lease    136    7057   0.666667    0.464643\n",
       "no fault             3    2540   0.014706    0.167237\n",
       "unknown/Other       65    5591   0.318627    0.368120"
      ]
     },
     "execution_count": 22,
     "metadata": {},
     "output_type": "execute_result"
    }
   ],
   "source": [
    "cat_counts"
   ]
  },
  {
   "cell_type": "markdown",
   "metadata": {},
   "source": [
    "### Mean differences"
   ]
  },
  {
   "cell_type": "markdown",
   "metadata": {},
   "source": [
    "#### Evictions post-2007:"
   ]
  },
  {
   "cell_type": "code",
   "execution_count": 23,
   "metadata": {},
   "outputs": [
    {
     "data": {
      "text/html": [
       "<div>\n",
       "<style scoped>\n",
       "    .dataframe tbody tr th:only-of-type {\n",
       "        vertical-align: middle;\n",
       "    }\n",
       "\n",
       "    .dataframe tbody tr th {\n",
       "        vertical-align: top;\n",
       "    }\n",
       "\n",
       "    .dataframe thead th {\n",
       "        text-align: right;\n",
       "    }\n",
       "</style>\n",
       "<table border=\"1\" class=\"dataframe\">\n",
       "  <thead>\n",
       "    <tr style=\"text-align: right;\">\n",
       "      <th></th>\n",
       "      <th></th>\n",
       "      <th>mean_any_ev</th>\n",
       "      <th>total_addresses</th>\n",
       "      <th>total_units</th>\n",
       "      <th>total_evictions</th>\n",
       "      <th>units_per_address</th>\n",
       "      <th>evictions_per_address</th>\n",
       "      <th>evictions_per_unit</th>\n",
       "    </tr>\n",
       "    <tr>\n",
       "      <th>any_rc_eligibility</th>\n",
       "      <th>pre_1980</th>\n",
       "      <th></th>\n",
       "      <th></th>\n",
       "      <th></th>\n",
       "      <th></th>\n",
       "      <th></th>\n",
       "      <th></th>\n",
       "      <th></th>\n",
       "    </tr>\n",
       "  </thead>\n",
       "  <tbody>\n",
       "    <tr>\n",
       "      <th rowspan=\"2\" valign=\"top\">0.0</th>\n",
       "      <th>False</th>\n",
       "      <td>0.002104</td>\n",
       "      <td>87451</td>\n",
       "      <td>293578</td>\n",
       "      <td>266</td>\n",
       "      <td>3.357057</td>\n",
       "      <td>0.003042</td>\n",
       "      <td>0.000906</td>\n",
       "    </tr>\n",
       "    <tr>\n",
       "      <th>True</th>\n",
       "      <td>0.002969</td>\n",
       "      <td>1192876</td>\n",
       "      <td>1521359</td>\n",
       "      <td>5767</td>\n",
       "      <td>1.275371</td>\n",
       "      <td>0.004835</td>\n",
       "      <td>0.003791</td>\n",
       "    </tr>\n",
       "    <tr>\n",
       "      <th rowspan=\"2\" valign=\"top\">1.0</th>\n",
       "      <th>False</th>\n",
       "      <td>0.005936</td>\n",
       "      <td>14993</td>\n",
       "      <td>105574</td>\n",
       "      <td>178</td>\n",
       "      <td>7.041553</td>\n",
       "      <td>0.011872</td>\n",
       "      <td>0.001686</td>\n",
       "    </tr>\n",
       "    <tr>\n",
       "      <th>True</th>\n",
       "      <td>0.018945</td>\n",
       "      <td>364791</td>\n",
       "      <td>1751105</td>\n",
       "      <td>14895</td>\n",
       "      <td>4.800297</td>\n",
       "      <td>0.040832</td>\n",
       "      <td>0.008506</td>\n",
       "    </tr>\n",
       "  </tbody>\n",
       "</table>\n",
       "</div>"
      ],
      "text/plain": [
       "                             mean_any_ev  total_addresses  total_units  \\\n",
       "any_rc_eligibility pre_1980                                              \n",
       "0.0                False        0.002104            87451       293578   \n",
       "                   True         0.002969          1192876      1521359   \n",
       "1.0                False        0.005936            14993       105574   \n",
       "                   True         0.018945           364791      1751105   \n",
       "\n",
       "                             total_evictions  units_per_address  \\\n",
       "any_rc_eligibility pre_1980                                       \n",
       "0.0                False                 266           3.357057   \n",
       "                   True                 5767           1.275371   \n",
       "1.0                False                 178           7.041553   \n",
       "                   True                14895           4.800297   \n",
       "\n",
       "                             evictions_per_address  evictions_per_unit  \n",
       "any_rc_eligibility pre_1980                                             \n",
       "0.0                False                  0.003042            0.000906  \n",
       "                   True                   0.004835            0.003791  \n",
       "1.0                False                  0.011872            0.001686  \n",
       "                   True                   0.040832            0.008506  "
      ]
     },
     "execution_count": 23,
     "metadata": {},
     "output_type": "execute_result"
    }
   ],
   "source": [
    "mean_diffs = asr[\n",
    "        (asr['year_built_max'] < 2007) &\n",
    "        (asr['year_built_min'] > 0)].groupby(['any_rc_eligibility', 'pre_1980']).agg(\n",
    "            mean_any_ev=('any_ev_07', 'mean'),\n",
    "            total_addresses=('index', 'count'),\n",
    "            total_units=('total_units', 'sum'),\n",
    "            total_evictions=('ev_count_post_07', 'sum'),\n",
    "        )\n",
    "\n",
    "mean_diffs['units_per_address'] = mean_diffs['total_units'] / mean_diffs['total_addresses']\n",
    "mean_diffs['evictions_per_address'] = mean_diffs['total_evictions'] / mean_diffs['total_addresses']\n",
    "mean_diffs['evictions_per_unit'] = mean_diffs['total_evictions'] / mean_diffs['total_units']\n",
    "\n",
    "mean_diffs"
   ]
  },
  {
   "cell_type": "markdown",
   "metadata": {},
   "source": [
    "#### All Evictions"
   ]
  },
  {
   "cell_type": "code",
   "execution_count": 24,
   "metadata": {},
   "outputs": [
    {
     "data": {
      "text/html": [
       "<div>\n",
       "<style scoped>\n",
       "    .dataframe tbody tr th:only-of-type {\n",
       "        vertical-align: middle;\n",
       "    }\n",
       "\n",
       "    .dataframe tbody tr th {\n",
       "        vertical-align: top;\n",
       "    }\n",
       "\n",
       "    .dataframe thead th {\n",
       "        text-align: right;\n",
       "    }\n",
       "</style>\n",
       "<table border=\"1\" class=\"dataframe\">\n",
       "  <thead>\n",
       "    <tr style=\"text-align: right;\">\n",
       "      <th></th>\n",
       "      <th></th>\n",
       "      <th>mean_any_ev</th>\n",
       "      <th>total_addresses</th>\n",
       "      <th>total_units</th>\n",
       "      <th>total_evictions</th>\n",
       "      <th>units_per_address</th>\n",
       "      <th>evictions_per_address</th>\n",
       "      <th>evictions_per_unit</th>\n",
       "    </tr>\n",
       "    <tr>\n",
       "      <th>any_rc_eligibility</th>\n",
       "      <th>pre_1980</th>\n",
       "      <th></th>\n",
       "      <th></th>\n",
       "      <th></th>\n",
       "      <th></th>\n",
       "      <th></th>\n",
       "      <th></th>\n",
       "      <th></th>\n",
       "    </tr>\n",
       "  </thead>\n",
       "  <tbody>\n",
       "    <tr>\n",
       "      <th rowspan=\"2\" valign=\"top\">0.0</th>\n",
       "      <th>False</th>\n",
       "      <td>0.002104</td>\n",
       "      <td>87451</td>\n",
       "      <td>293578</td>\n",
       "      <td>558</td>\n",
       "      <td>3.357057</td>\n",
       "      <td>0.006381</td>\n",
       "      <td>0.001901</td>\n",
       "    </tr>\n",
       "    <tr>\n",
       "      <th>True</th>\n",
       "      <td>0.002969</td>\n",
       "      <td>1192876</td>\n",
       "      <td>1521359</td>\n",
       "      <td>14103</td>\n",
       "      <td>1.275371</td>\n",
       "      <td>0.011823</td>\n",
       "      <td>0.009270</td>\n",
       "    </tr>\n",
       "    <tr>\n",
       "      <th rowspan=\"2\" valign=\"top\">1.0</th>\n",
       "      <th>False</th>\n",
       "      <td>0.005936</td>\n",
       "      <td>14993</td>\n",
       "      <td>105574</td>\n",
       "      <td>385</td>\n",
       "      <td>7.041553</td>\n",
       "      <td>0.025679</td>\n",
       "      <td>0.003647</td>\n",
       "    </tr>\n",
       "    <tr>\n",
       "      <th>True</th>\n",
       "      <td>0.018945</td>\n",
       "      <td>364791</td>\n",
       "      <td>1751105</td>\n",
       "      <td>29132</td>\n",
       "      <td>4.800297</td>\n",
       "      <td>0.079859</td>\n",
       "      <td>0.016636</td>\n",
       "    </tr>\n",
       "  </tbody>\n",
       "</table>\n",
       "</div>"
      ],
      "text/plain": [
       "                             mean_any_ev  total_addresses  total_units  \\\n",
       "any_rc_eligibility pre_1980                                              \n",
       "0.0                False        0.002104            87451       293578   \n",
       "                   True         0.002969          1192876      1521359   \n",
       "1.0                False        0.005936            14993       105574   \n",
       "                   True         0.018945           364791      1751105   \n",
       "\n",
       "                             total_evictions  units_per_address  \\\n",
       "any_rc_eligibility pre_1980                                       \n",
       "0.0                False                 558           3.357057   \n",
       "                   True                14103           1.275371   \n",
       "1.0                False                 385           7.041553   \n",
       "                   True                29132           4.800297   \n",
       "\n",
       "                             evictions_per_address  evictions_per_unit  \n",
       "any_rc_eligibility pre_1980                                             \n",
       "0.0                False                  0.006381            0.001901  \n",
       "                   True                   0.011823            0.009270  \n",
       "1.0                False                  0.025679            0.003647  \n",
       "                   True                   0.079859            0.016636  "
      ]
     },
     "execution_count": 24,
     "metadata": {},
     "output_type": "execute_result"
    }
   ],
   "source": [
    "mean_diffs = asr[\n",
    "        (asr['year_built_max'] < 2007) &\n",
    "        (asr['year_built_min'] > 0)].groupby(['any_rc_eligibility', 'pre_1980']).agg(\n",
    "            mean_any_ev=('any_ev_07', 'mean'),\n",
    "            total_addresses=('index', 'count'),\n",
    "            total_units=('total_units', 'sum'),\n",
    "            total_evictions=('ev_count', 'sum'),\n",
    "        )\n",
    "\n",
    "mean_diffs['units_per_address'] = mean_diffs['total_units'] / mean_diffs['total_addresses']\n",
    "mean_diffs['evictions_per_address'] = mean_diffs['total_evictions'] / mean_diffs['total_addresses']\n",
    "mean_diffs['evictions_per_unit'] = mean_diffs['total_evictions'] / mean_diffs['total_units']\n",
    "\n",
    "mean_diffs"
   ]
  },
  {
   "cell_type": "markdown",
   "metadata": {},
   "source": [
    "### Plots"
   ]
  },
  {
   "cell_type": "markdown",
   "metadata": {},
   "source": [
    "#### Processing"
   ]
  },
  {
   "cell_type": "code",
   "execution_count": 26,
   "metadata": {},
   "outputs": [],
   "source": [
    "rc_pop = asr[\n",
    "    (asr['any_rc_eligibility'] == 1) & (asr['year_built_max'] > 1500) &\n",
    "    (asr['year_built_max'] < 2500) & (asr['total_units'] > 0)]"
   ]
  },
  {
   "cell_type": "code",
   "execution_count": 27,
   "metadata": {},
   "outputs": [
    {
     "data": {
      "text/plain": [
       "(377653, 27)"
      ]
     },
     "execution_count": 27,
     "metadata": {},
     "output_type": "execute_result"
    }
   ],
   "source": [
    "rc_pop.shape"
   ]
  },
  {
   "cell_type": "code",
   "execution_count": 26,
   "metadata": {},
   "outputs": [],
   "source": [
    "yr_vs_ev = rc_pop.groupby('year_built_max').agg({\n",
    "    'ev_per_unit':'mean',\n",
    "    'ev_per_unit_since_07':'mean'\n",
    "}).reset_index()\n",
    "\n",
    "yr_vs_ev1 = yr_vs_ev[(yr_vs_ev['year_built_max'] < 1980) &\n",
    "                     (yr_vs_ev['year_built_max'] >= 1953)]\n",
    "yr_vs_ev2 = yr_vs_ev[(yr_vs_ev['year_built_max'] >= 1980) &\n",
    "                     (yr_vs_ev['year_built_max'] <= 2007)]"
   ]
  },
  {
   "cell_type": "markdown",
   "metadata": {},
   "source": [
    "#### Viz"
   ]
  },
  {
   "cell_type": "code",
   "execution_count": 27,
   "metadata": {
    "scrolled": false
   },
   "outputs": [
    {
     "name": "stderr",
     "output_type": "stream",
     "text": [
      "/Users/max/anaconda3/envs/evictions/lib/python3.7/site-packages/seaborn/_decorators.py:43: FutureWarning: Pass the following variables as keyword args: x, y, data. From version 0.12, the only valid positional argument will be `data`, and passing other arguments without an explicit keyword will result in an error or misinterpretation.\n",
      "  FutureWarning\n",
      "/Users/max/anaconda3/envs/evictions/lib/python3.7/site-packages/seaborn/_decorators.py:43: FutureWarning: Pass the following variables as keyword args: x, y, data. From version 0.12, the only valid positional argument will be `data`, and passing other arguments without an explicit keyword will result in an error or misinterpretation.\n",
      "  FutureWarning\n"
     ]
    },
    {
     "data": {
      "text/plain": [
       "Text(0.3, 0.8, 'rent control \\nbuilt-year threshold')"
      ]
     },
     "execution_count": 27,
     "metadata": {},
     "output_type": "execute_result"
    },
    {
     "name": "stderr",
     "output_type": "stream",
     "text": [
      "/Users/max/anaconda3/envs/evictions/lib/python3.7/site-packages/IPython/core/events.py:74: UserWarning: 'frac' option in 'arrowprops' is no longer supported; use 'headlength' to set the head length in points.\n",
      "  func(*args, **kwargs)\n",
      "/Users/max/anaconda3/envs/evictions/lib/python3.7/site-packages/IPython/core/pylabtools.py:131: UserWarning: 'frac' option in 'arrowprops' is no longer supported; use 'headlength' to set the head length in points.\n",
      "  fig.canvas.print_figure(bytes_io, **kw)\n"
     ]
    },
    {
     "data": {
      "image/png": "[encoded data removed]",
      "text/plain": [
       "<Figure size 936x504 with 1 Axes>"
      ]
     },
     "metadata": {
      "needs_background": "light"
     },
     "output_type": "display_data"
    }
   ],
   "source": [
    "fig, ax = plt.subplots(figsize=(13,7))\n",
    "sns.regplot('year_built_max', 'ev_per_unit_since_07', yr_vs_ev1, ax=ax, truncate=True, label='rent controlled')\n",
    "sns.regplot('year_built_max', 'ev_per_unit_since_07', yr_vs_ev2, ax=ax, truncate=True, label='non-rent controlled')\n",
    "ax.axvline(1979.5, ls=':', c='r')\n",
    "ax.legend()\n",
    "_ = ax.set_xlabel(\"property built-year\", fontsize=16)\n",
    "_ = ax.set_ylabel(\"avg.\\nevictions/unit\\nper year\", fontsize=16, rotation=0, labelpad=70)\n",
    "_ = ax.set_title(\"SF Eviction Rates (2007-2017)\\nfor Multi-family Residential Properties\\n\"\n",
    "                 \"(incl. SRO's, excl. TIC's)\", fontsize=20)\n",
    "ax.set_ylim((-0.005, 0.05))\n",
    "ax.annotate('rent control \\nbuilt-year threshold', xy=(1979, 0.04),  xycoords='data',\n",
    "            xytext=(0.3, 0.8), textcoords='axes fraction',\n",
    "            arrowprops=dict(facecolor='black',frac=0.05, width=0.5, headwidth=10),\n",
    "            horizontalalignment='center', verticalalignment='center', fontsize=12\n",
    "            )"
   ]
  },
  {
   "cell_type": "markdown",
   "metadata": {},
   "source": [
    "### Fit Hedonic regression"
   ]
  },
  {
   "cell_type": "code",
   "execution_count": 71,
   "metadata": {},
   "outputs": [
    {
     "name": "stderr",
     "output_type": "stream",
     "text": [
      "/Users/max/anaconda3/envs/evictions/lib/python3.7/site-packages/IPython/core/interactiveshell.py:2714: DtypeWarning: Columns (2,8,11,17,46) have mixed types.Specify dtype option on import or set low_memory=False.\n",
      "  interactivity=interactivity, compiler=compiler, result=result)\n"
     ]
    }
   ],
   "source": [
    "asr_all = pd.read_csv('../data/assessor_2007-2018_clean_w_none_sttyps_fips.csv')"
   ]
  },
  {
   "cell_type": "code",
   "execution_count": 72,
   "metadata": {},
   "outputs": [],
   "source": [
    "asr_all['total_value'] = asr_all['RP1LNDVAL'] + asr_all['RP1IMPVAL']"
   ]
  },
  {
   "cell_type": "code",
   "execution_count": 73,
   "metadata": {},
   "outputs": [],
   "source": [
    "asr_all.loc[pd.isnull(asr_all['RP1NBRCDE']), 'RP1NBRCDE'] = 'unknown'"
   ]
  },
  {
   "cell_type": "code",
   "execution_count": 74,
   "metadata": {},
   "outputs": [],
   "source": [
    "asr_grouped_by_yr = asr_all.groupby(['asr_yr', 'house_1', 'house_2', 'street_name', 'street_type']).agg(\n",
    "    total_units=('UNITS', 'sum'),\n",
    "    diff_unit_counts=('UNITS', 'nunique'),\n",
    "    min_units=('UNITS', 'min'),\n",
    "    diff_bldg_types=('bldg_type', 'nunique'),\n",
    "    bldg_type_min=('bldg_type', 'min'),\n",
    "    bldg_type_max=('bldg_type', 'max'),\n",
    "    diff_rc_eligibility=('rc_eligible', 'nunique'),\n",
    "    any_rc_eligibility=('rc_eligible', 'max'),\n",
    "    diff_years_built=('YRBLT', 'nunique'),\n",
    "    year_built_min=('YRBLT', 'min'),\n",
    "    year_built_max=('YRBLT', 'max'),\n",
    "    total_value=('total_value', 'sum'),\n",
    "    total_beds=('BEDS', 'sum'),\n",
    "    total_baths=('BATHS', 'sum'),\n",
    "    mean_stories=('STOREYNO', 'mean'),\n",
    "    total_sqft=('SQFT', 'sum'),\n",
    "    nbd=('RP1NBRCDE', pd.Series.mode),\n",
    "    total_rooms=('ROOMS', 'sum'),\n",
    "    total_area=('LAREA', 'sum')\n",
    "    ).reset_index()"
   ]
  },
  {
   "cell_type": "code",
   "execution_count": 75,
   "metadata": {},
   "outputs": [],
   "source": [
    "asr_grouped_by_yr['nbd'] = asr_grouped_by_yr['nbd'].apply(lambda x: list(x)[0] if type(x) == np.ndarray else x)"
   ]
  },
  {
   "cell_type": "code",
   "execution_count": 76,
   "metadata": {},
   "outputs": [],
   "source": [
    "asr_grouped_by_yr['yr_built_since_1900'] = asr_grouped_by_yr['year_built_max'] - 1900"
   ]
  },
  {
   "cell_type": "code",
   "execution_count": 77,
   "metadata": {},
   "outputs": [],
   "source": [
    "df_hed = asr_grouped_by_yr[\n",
    "    (asr_grouped_by_yr['any_rc_eligibility'] == 1) &\n",
    "    (asr_grouped_by_yr['total_units'] > 0) & \n",
    "    (asr_grouped_by_yr['year_built_max'] >= 1950) &\n",
    "    (asr_grouped_by_yr['year_built_max'] <= 2010) &\n",
    "    (asr_grouped_by_yr['total_sqft'] > 0) &\n",
    "#     (asr_grouped_by_yr['total_beds'] > 0) \n",
    "    (asr_grouped_by_yr['total_baths'] > 0) & \n",
    "    (asr_grouped_by_yr['total_rooms'] > 0) &\n",
    "    (asr_grouped_by_yr['mean_stories'] > 0) &\n",
    "    (asr_grouped_by_yr['total_area'] > 0)\n",
    "]"
   ]
  },
  {
   "cell_type": "code",
   "execution_count": 78,
   "metadata": {},
   "outputs": [],
   "source": [
    "hedonic = smf.ols(\n",
    "    'total_value ~ total_sqft + np.log1p(total_beds) + np.log1p(total_baths) + np.log1p(total_units) + mean_stories + total_area + '\n",
    "    'total_rooms + yr_built_since_1900 + C(asr_yr) + nbd', data=df_hed\n",
    ").fit()"
   ]
  },
  {
   "cell_type": "code",
   "execution_count": 79,
   "metadata": {},
   "outputs": [
    {
     "name": "stderr",
     "output_type": "stream",
     "text": [
      "/Users/max/anaconda3/envs/evictions/lib/python3.7/site-packages/ipykernel_launcher.py:1: SettingWithCopyWarning: \n",
      "A value is trying to be set on a copy of a slice from a DataFrame.\n",
      "Try using .loc[row_indexer,col_indexer] = value instead\n",
      "\n",
      "See the caveats in the documentation: https://pandas.pydata.org/pandas-docs/stable/user_guide/indexing.html#returning-a-view-versus-a-copy\n",
      "  \"\"\"Entry point for launching an IPython kernel.\n"
     ]
    }
   ],
   "source": [
    "df_hed['hedonic_resid'] = hedonic.resid"
   ]
  },
  {
   "cell_type": "code",
   "execution_count": 80,
   "metadata": {
    "scrolled": false
   },
   "outputs": [
    {
     "name": "stdout",
     "output_type": "stream",
     "text": [
      "                            OLS Regression Results                            \n",
      "==============================================================================\n",
      "Dep. Variable:            total_value   R-squared:                       0.908\n",
      "Model:                            OLS   Adj. R-squared:                  0.908\n",
      "Method:                 Least Squares   F-statistic:                     6721.\n",
      "Date:                Fri, 13 Nov 2020   Prob (F-statistic):               0.00\n",
      "Time:                        12:42:14   Log-Likelihood:            -9.8665e+05\n",
      "No. Observations:               61479   AIC:                         1.973e+06\n",
      "Df Residuals:                   61388   BIC:                         1.974e+06\n",
      "Df Model:                          90                                         \n",
      "Covariance Type:            nonrobust                                         \n",
      "=========================================================================================\n",
      "                            coef    std err          t      P>|t|      [0.025      0.975]\n",
      "-----------------------------------------------------------------------------------------\n",
      "Intercept              -1.15e+06   8.32e+04    -13.824      0.000   -1.31e+06   -9.87e+05\n",
      "C(asr_yr)[T.2008]      8.132e+04   4.25e+04      1.914      0.056   -1957.907    1.65e+05\n",
      "C(asr_yr)[T.2009]      1.349e+05   4.25e+04      3.171      0.002    5.15e+04    2.18e+05\n",
      "C(asr_yr)[T.2010]      1.525e+05   4.26e+04      3.584      0.000    6.91e+04    2.36e+05\n",
      "C(asr_yr)[T.2011]       1.42e+05   4.28e+04      3.319      0.001    5.81e+04    2.26e+05\n",
      "C(asr_yr)[T.2012]      1.872e+05   4.26e+04      4.391      0.000    1.04e+05    2.71e+05\n",
      "C(asr_yr)[T.2013]      2.367e+05   4.26e+04      5.553      0.000    1.53e+05     3.2e+05\n",
      "C(asr_yr)[T.2014]      2.642e+05   4.27e+04      6.191      0.000    1.81e+05    3.48e+05\n",
      "C(asr_yr)[T.2015]       1.47e+05   5.29e+04      2.779      0.005    4.33e+04    2.51e+05\n",
      "C(asr_yr)[T.2016]      3.547e+05   4.26e+04      8.321      0.000    2.71e+05    4.38e+05\n",
      "C(asr_yr)[T.2017]      4.389e+05   4.27e+04     10.289      0.000    3.55e+05    5.22e+05\n",
      "nbd[T.01B]            -3810.7164   4.79e+04     -0.080      0.937   -9.77e+04    9.01e+04\n",
      "nbd[T.01C]             6.307e+04   7.92e+04      0.796      0.426   -9.22e+04    2.18e+05\n",
      "nbd[T.01D]               1.4e+04   6.81e+04      0.205      0.837    -1.2e+05    1.48e+05\n",
      "nbd[T.01E]              6.04e+04   4.65e+04      1.298      0.194   -3.08e+04    1.52e+05\n",
      "nbd[T.01F]            -2.351e+05   2.59e+05     -0.907      0.364   -7.43e+05    2.73e+05\n",
      "nbd[T.01G]             5.751e+04   7.27e+04      0.791      0.429   -8.49e+04       2e+05\n",
      "nbd[T.02A]             1.978e+05   1.81e+05      1.093      0.274   -1.57e+05    5.52e+05\n",
      "nbd[T.02B]             2.301e+05   7.18e+04      3.207      0.001    8.95e+04    3.71e+05\n",
      "nbd[T.02C]             1.494e+05   5.06e+04      2.953      0.003    5.02e+04    2.49e+05\n",
      "nbd[T.02D]             1.153e+05   9.81e+04      1.175      0.240    -7.7e+04    3.08e+05\n",
      "nbd[T.02E]             1.019e+05   5.57e+04      1.830      0.067   -7216.136    2.11e+05\n",
      "nbd[T.02F]             7.353e+04   4.47e+04      1.646      0.100    -1.4e+04    1.61e+05\n",
      "nbd[T.02G]             2.899e+05    1.8e+05      1.608      0.108   -6.36e+04    6.43e+05\n",
      "nbd[T.03D]             6.851e+08    3.7e+06    185.375      0.000    6.78e+08    6.92e+08\n",
      "nbd[T.03G]             2.781e+04   1.55e+05      0.179      0.858   -2.77e+05    3.32e+05\n",
      "nbd[T.03H]              4.71e+04   1.07e+05      0.439      0.660   -1.63e+05    2.57e+05\n",
      "nbd[T.03J]              2.15e+05   1.93e+05      1.113      0.266   -1.64e+05    5.94e+05\n",
      "nbd[T.04B]             1.671e+06   1.72e+05      9.740      0.000    1.33e+06    2.01e+06\n",
      "nbd[T.04C]             2.803e+05    1.1e+05      2.556      0.011    6.54e+04    4.95e+05\n",
      "nbd[T.04D]             1.339e+06   1.09e+05     12.322      0.000    1.13e+06    1.55e+06\n",
      "nbd[T.04F]            -5.545e+04   2.16e+05     -0.257      0.797   -4.78e+05    3.67e+05\n",
      "nbd[T.04H]             2.167e+06   3.43e+05      6.317      0.000    1.49e+06    2.84e+06\n",
      "nbd[T.04N]              2.77e+04   1.91e+05      0.145      0.885   -3.47e+05    4.03e+05\n",
      "nbd[T.04S]             2.576e+05   9.85e+04      2.617      0.009    6.47e+04    4.51e+05\n",
      "nbd[T.04T]             1.227e+06   6.82e+05      1.800      0.072   -1.09e+05    2.56e+06\n",
      "nbd[T.05A]             3.667e+05   8.03e+04      4.566      0.000    2.09e+05    5.24e+05\n",
      "nbd[T.05B]              1.09e+05   1.01e+05      1.076      0.282   -8.95e+04    3.08e+05\n",
      "nbd[T.05C]             2.938e+05   4.94e+04      5.946      0.000    1.97e+05    3.91e+05\n",
      "nbd[T.05D]             1.639e+05   7.17e+04      2.286      0.022    2.34e+04    3.04e+05\n",
      "nbd[T.05E]             1.431e+05   9.45e+04      1.515      0.130    -4.2e+04    3.28e+05\n",
      "nbd[T.05F]             3.855e+05   1.43e+05      2.703      0.007    1.06e+05    6.65e+05\n",
      "nbd[T.05G]             2.671e+05   7.68e+04      3.479      0.001    1.17e+05    4.18e+05\n",
      "nbd[T.05H]             2.771e+05   1.75e+05      1.587      0.113   -6.52e+04    6.19e+05\n",
      "nbd[T.05J]            -2.269e+06   2.03e+05    -11.179      0.000   -2.67e+06   -1.87e+06\n",
      "nbd[T.05K]             3.424e+05   6.15e+04      5.570      0.000    2.22e+05    4.63e+05\n",
      "nbd[T.05M]             1.855e+05   9.18e+04      2.020      0.043    5542.434    3.66e+05\n",
      "nbd[T.06A]             2.163e+04   1.09e+05      0.198      0.843   -1.93e+05    2.36e+05\n",
      "nbd[T.06B]             1.099e+04   1.11e+05      0.099      0.921   -2.06e+05    2.28e+05\n",
      "nbd[T.06C]              4.65e+05   8.94e+04      5.202      0.000     2.9e+05     6.4e+05\n",
      "nbd[T.06D]            -1.865e+06   1.58e+05    -11.766      0.000   -2.18e+06   -1.55e+06\n",
      "nbd[T.06E]             2.433e+04   1.99e+05      0.122      0.903   -3.66e+05    4.14e+05\n",
      "nbd[T.06F]            -2.519e+05   1.27e+05     -1.987      0.047   -5.01e+05   -3363.875\n",
      "nbd[T.07A]              2.93e+05   9.73e+04      3.011      0.003    1.02e+05    4.84e+05\n",
      "nbd[T.07B]             2.794e+05   6.94e+04      4.029      0.000    1.43e+05    4.15e+05\n",
      "nbd[T.07C]            -1.738e+05   3.15e+05     -0.552      0.581   -7.91e+05    4.43e+05\n",
      "nbd[T.07D]             1.814e+05   7.32e+04      2.480      0.013     3.8e+04    3.25e+05\n",
      "nbd[T.08A]             2.826e+06   1.72e+05     16.445      0.000    2.49e+06    3.16e+06\n",
      "nbd[T.08B]            -6.786e+05   6.82e+05     -0.995      0.320   -2.01e+06    6.58e+05\n",
      "nbd[T.08C]             2.555e+05   8.75e+04      2.922      0.003    8.41e+04    4.27e+05\n",
      "nbd[T.08D]            -4.767e+05   1.66e+05     -2.868      0.004   -8.03e+05   -1.51e+05\n",
      "nbd[T.08E]             1.976e+05   7.21e+04      2.741      0.006    5.63e+04    3.39e+05\n",
      "nbd[T.08F]             8.406e+05    1.8e+05      4.677      0.000    4.88e+05    1.19e+06\n",
      "nbd[T.08G]             9.171e+05   8.54e+04     10.739      0.000     7.5e+05    1.08e+06\n",
      "nbd[T.08H]            -4.212e+06    3.4e+05    -12.386      0.000   -4.88e+06   -3.55e+06\n",
      "nbd[T.09A]             2.454e+05   8.68e+04      2.827      0.005    7.53e+04    4.16e+05\n",
      "nbd[T.09B]             1.728e+07   8.55e+05     20.217      0.000    1.56e+07     1.9e+07\n",
      "nbd[T.09C]             1.459e+05   5.76e+04      2.535      0.011    3.31e+04    2.59e+05\n",
      "nbd[T.09D]             4.436e+06   6.06e+05      7.322      0.000    3.25e+06    5.62e+06\n",
      "nbd[T.09E]             4.299e+05   6.26e+04      6.863      0.000    3.07e+05    5.53e+05\n",
      "nbd[T.09F]             3.109e+06   2.01e+05     15.507      0.000    2.72e+06     3.5e+06\n",
      "nbd[T.09G]             1.977e+05   6.51e+04      3.037      0.002    7.01e+04    3.25e+05\n",
      "nbd[T.10A]             5.223e+05   9.84e+04      5.309      0.000    3.29e+05    7.15e+05\n",
      "nbd[T.10B]             1.289e+05   1.07e+05      1.203      0.229   -8.11e+04    3.39e+05\n",
      "nbd[T.10C]             1.009e+05   8.83e+04      1.143      0.253   -7.21e+04    2.74e+05\n",
      "nbd[T.10D]              1.44e+05   1.23e+05      1.172      0.241   -9.68e+04    3.85e+05\n",
      "nbd[T.10E]              1.96e+05   9.74e+04      2.012      0.044    5063.520    3.87e+05\n",
      "nbd[T.10F]             2.091e+05   9.04e+04      2.314      0.021     3.2e+04    3.86e+05\n",
      "nbd[T.10G]             3.032e+04   1.78e+05      0.171      0.865   -3.18e+05    3.79e+05\n",
      "nbd[T.10H]             1.797e+05   1.21e+05      1.490      0.136   -5.67e+04    4.16e+05\n",
      "nbd[T.10J]            -3.703e+05   3.18e+05     -1.166      0.244   -9.93e+05    2.52e+05\n",
      "nbd[T.10K]             1.513e+05   1.83e+05      0.826      0.409   -2.08e+05    5.11e+05\n",
      "nbd[T.unknown]        -7.102e+05   2.26e+06     -0.314      0.753   -5.14e+06    3.72e+06\n",
      "total_sqft               52.1297      1.005     51.889      0.000      50.161      54.099\n",
      "np.log1p(total_beds)   1.398e+05   1.17e+04     11.949      0.000    1.17e+05    1.63e+05\n",
      "np.log1p(total_baths)  7.647e+05   3.73e+04     20.478      0.000    6.92e+05    8.38e+05\n",
      "np.log1p(total_units) -2.458e+05   3.27e+04     -7.514      0.000    -3.1e+05   -1.82e+05\n",
      "mean_stories           1.342e+05   1.28e+04     10.468      0.000    1.09e+05    1.59e+05\n",
      "total_area              -45.7552      0.764    -59.897      0.000     -47.252     -44.258\n",
      "total_rooms            9411.7576    360.377     26.116      0.000    8705.418    1.01e+04\n",
      "yr_built_since_1900    -330.6120    951.613     -0.347      0.728   -2195.776    1534.552\n",
      "==============================================================================\n",
      "Omnibus:                   100098.512   Durbin-Watson:                   1.996\n",
      "Prob(Omnibus):                  0.000   Jarque-Bera (JB):      21121730581.549\n",
      "Skew:                          -8.935   Prob(JB):                         0.00\n",
      "Kurtosis:                    2874.432   Cond. No.                     2.64e+07\n",
      "==============================================================================\n",
      "\n",
      "Notes:\n",
      "[1] Standard Errors assume that the covariance matrix of the errors is correctly specified.\n",
      "[2] The condition number is large, 2.64e+07. This might indicate that there are\n",
      "strong multicollinearity or other numerical problems.\n"
     ]
    }
   ],
   "source": [
    "print(hedonic.summary())"
   ]
  },
  {
   "cell_type": "markdown",
   "metadata": {
    "heading_collapsed": true
   },
   "source": [
    "### Merge Census Data"
   ]
  },
  {
   "cell_type": "code",
   "execution_count": 40,
   "metadata": {
    "hidden": true
   },
   "outputs": [],
   "source": [
    "census_df = pd.read_csv('../data/census_tract_acs_data.csv', dtype={'tract_id': str})"
   ]
  },
  {
   "cell_type": "code",
   "execution_count": 41,
   "metadata": {
    "hidden": true
   },
   "outputs": [
    {
     "data": {
      "text/html": [
       "<div>\n",
       "<style scoped>\n",
       "    .dataframe tbody tr th:only-of-type {\n",
       "        vertical-align: middle;\n",
       "    }\n",
       "\n",
       "    .dataframe tbody tr th {\n",
       "        vertical-align: top;\n",
       "    }\n",
       "\n",
       "    .dataframe thead th {\n",
       "        text-align: right;\n",
       "    }\n",
       "</style>\n",
       "<table border=\"1\" class=\"dataframe\">\n",
       "  <thead>\n",
       "    <tr style=\"text-align: right;\">\n",
       "      <th></th>\n",
       "      <th>Unnamed: 0</th>\n",
       "      <th>median_hh_income</th>\n",
       "      <th>total_pop_race</th>\n",
       "      <th>white_only_pop</th>\n",
       "      <th>black_only_pop</th>\n",
       "      <th>multiracial_pop</th>\n",
       "      <th>total_hisp_pop</th>\n",
       "      <th>hispanic_pop</th>\n",
       "      <th>total_pop_tenure</th>\n",
       "      <th>total_renter_pop</th>\n",
       "      <th>...</th>\n",
       "      <th>renter_movein_1990_1999</th>\n",
       "      <th>renter_movein_1980_1989</th>\n",
       "      <th>renter_movein_1970_1979</th>\n",
       "      <th>renter_movein_1969_earlier</th>\n",
       "      <th>median_movein_yr_owners</th>\n",
       "      <th>median_movein_yr_renters</th>\n",
       "      <th>state</th>\n",
       "      <th>county</th>\n",
       "      <th>tract</th>\n",
       "      <th>tract_id</th>\n",
       "    </tr>\n",
       "  </thead>\n",
       "  <tbody>\n",
       "    <tr>\n",
       "      <th>0</th>\n",
       "      <td>0</td>\n",
       "      <td>54798.0</td>\n",
       "      <td>3741.0</td>\n",
       "      <td>1974.0</td>\n",
       "      <td>58.0</td>\n",
       "      <td>300.0</td>\n",
       "      <td>3741.0</td>\n",
       "      <td>385.0</td>\n",
       "      <td>3726.0</td>\n",
       "      <td>3209.0</td>\n",
       "      <td>...</td>\n",
       "      <td>208.0</td>\n",
       "      <td>131.0</td>\n",
       "      <td>41.0</td>\n",
       "      <td>0.0</td>\n",
       "      <td>2003.0</td>\n",
       "      <td>2006.0</td>\n",
       "      <td>6</td>\n",
       "      <td>75</td>\n",
       "      <td>10100</td>\n",
       "      <td>06075010100</td>\n",
       "    </tr>\n",
       "    <tr>\n",
       "      <th>1</th>\n",
       "      <td>1</td>\n",
       "      <td>108557.0</td>\n",
       "      <td>4028.0</td>\n",
       "      <td>3416.0</td>\n",
       "      <td>19.0</td>\n",
       "      <td>228.0</td>\n",
       "      <td>4028.0</td>\n",
       "      <td>209.0</td>\n",
       "      <td>3991.0</td>\n",
       "      <td>2603.0</td>\n",
       "      <td>...</td>\n",
       "      <td>101.0</td>\n",
       "      <td>11.0</td>\n",
       "      <td>113.0</td>\n",
       "      <td>47.0</td>\n",
       "      <td>1998.0</td>\n",
       "      <td>2006.0</td>\n",
       "      <td>6</td>\n",
       "      <td>75</td>\n",
       "      <td>10200</td>\n",
       "      <td>06075010200</td>\n",
       "    </tr>\n",
       "    <tr>\n",
       "      <th>2</th>\n",
       "      <td>2</td>\n",
       "      <td>91458.0</td>\n",
       "      <td>4729.0</td>\n",
       "      <td>2730.0</td>\n",
       "      <td>0.0</td>\n",
       "      <td>46.0</td>\n",
       "      <td>4729.0</td>\n",
       "      <td>344.0</td>\n",
       "      <td>4710.0</td>\n",
       "      <td>3590.0</td>\n",
       "      <td>...</td>\n",
       "      <td>146.0</td>\n",
       "      <td>96.0</td>\n",
       "      <td>95.0</td>\n",
       "      <td>45.0</td>\n",
       "      <td>1993.0</td>\n",
       "      <td>2007.0</td>\n",
       "      <td>6</td>\n",
       "      <td>75</td>\n",
       "      <td>10300</td>\n",
       "      <td>06075010300</td>\n",
       "    </tr>\n",
       "    <tr>\n",
       "      <th>3</th>\n",
       "      <td>3</td>\n",
       "      <td>86847.0</td>\n",
       "      <td>5103.0</td>\n",
       "      <td>3097.0</td>\n",
       "      <td>1.0</td>\n",
       "      <td>329.0</td>\n",
       "      <td>5103.0</td>\n",
       "      <td>470.0</td>\n",
       "      <td>5005.0</td>\n",
       "      <td>3946.0</td>\n",
       "      <td>...</td>\n",
       "      <td>127.0</td>\n",
       "      <td>84.0</td>\n",
       "      <td>100.0</td>\n",
       "      <td>14.0</td>\n",
       "      <td>1995.0</td>\n",
       "      <td>2007.0</td>\n",
       "      <td>6</td>\n",
       "      <td>75</td>\n",
       "      <td>10400</td>\n",
       "      <td>06075010400</td>\n",
       "    </tr>\n",
       "    <tr>\n",
       "      <th>4</th>\n",
       "      <td>4</td>\n",
       "      <td>115233.0</td>\n",
       "      <td>2592.0</td>\n",
       "      <td>1765.0</td>\n",
       "      <td>40.0</td>\n",
       "      <td>135.0</td>\n",
       "      <td>2592.0</td>\n",
       "      <td>204.0</td>\n",
       "      <td>2558.0</td>\n",
       "      <td>1897.0</td>\n",
       "      <td>...</td>\n",
       "      <td>80.0</td>\n",
       "      <td>99.0</td>\n",
       "      <td>47.0</td>\n",
       "      <td>59.0</td>\n",
       "      <td>2001.0</td>\n",
       "      <td>2005.0</td>\n",
       "      <td>6</td>\n",
       "      <td>75</td>\n",
       "      <td>10500</td>\n",
       "      <td>06075010500</td>\n",
       "    </tr>\n",
       "  </tbody>\n",
       "</table>\n",
       "<p>5 rows × 29 columns</p>\n",
       "</div>"
      ],
      "text/plain": [
       "   Unnamed: 0  median_hh_income  total_pop_race  white_only_pop  \\\n",
       "0           0           54798.0          3741.0          1974.0   \n",
       "1           1          108557.0          4028.0          3416.0   \n",
       "2           2           91458.0          4729.0          2730.0   \n",
       "3           3           86847.0          5103.0          3097.0   \n",
       "4           4          115233.0          2592.0          1765.0   \n",
       "\n",
       "   black_only_pop  multiracial_pop  total_hisp_pop  hispanic_pop  \\\n",
       "0            58.0            300.0          3741.0         385.0   \n",
       "1            19.0            228.0          4028.0         209.0   \n",
       "2             0.0             46.0          4729.0         344.0   \n",
       "3             1.0            329.0          5103.0         470.0   \n",
       "4            40.0            135.0          2592.0         204.0   \n",
       "\n",
       "   total_pop_tenure  total_renter_pop  ...  renter_movein_1990_1999  \\\n",
       "0            3726.0            3209.0  ...                    208.0   \n",
       "1            3991.0            2603.0  ...                    101.0   \n",
       "2            4710.0            3590.0  ...                    146.0   \n",
       "3            5005.0            3946.0  ...                    127.0   \n",
       "4            2558.0            1897.0  ...                     80.0   \n",
       "\n",
       "   renter_movein_1980_1989  renter_movein_1970_1979  \\\n",
       "0                    131.0                     41.0   \n",
       "1                     11.0                    113.0   \n",
       "2                     96.0                     95.0   \n",
       "3                     84.0                    100.0   \n",
       "4                     99.0                     47.0   \n",
       "\n",
       "   renter_movein_1969_earlier  median_movein_yr_owners  \\\n",
       "0                         0.0                   2003.0   \n",
       "1                        47.0                   1998.0   \n",
       "2                        45.0                   1993.0   \n",
       "3                        14.0                   1995.0   \n",
       "4                        59.0                   2001.0   \n",
       "\n",
       "   median_movein_yr_renters  state  county  tract     tract_id  \n",
       "0                    2006.0      6      75  10100  06075010100  \n",
       "1                    2006.0      6      75  10200  06075010200  \n",
       "2                    2007.0      6      75  10300  06075010300  \n",
       "3                    2007.0      6      75  10400  06075010400  \n",
       "4                    2005.0      6      75  10500  06075010500  \n",
       "\n",
       "[5 rows x 29 columns]"
      ]
     },
     "execution_count": 41,
     "metadata": {},
     "output_type": "execute_result"
    }
   ],
   "source": [
    "census_df.head()"
   ]
  },
  {
   "cell_type": "code",
   "execution_count": 47,
   "metadata": {
    "hidden": true
   },
   "outputs": [],
   "source": [
    "asr['tract_id'] = asr['fipscd'].astype(str).str.zfill(15).str[:11]"
   ]
  },
  {
   "cell_type": "code",
   "execution_count": 51,
   "metadata": {
    "hidden": true
   },
   "outputs": [],
   "source": [
    "asr = pd.merge(asr, census_df, on='tract_id', how='left')"
   ]
  },
  {
   "cell_type": "code",
   "execution_count": 58,
   "metadata": {
    "hidden": true
   },
   "outputs": [
    {
     "name": "stdout",
     "output_type": "stream",
     "text": [
      "Dropped 334 parcels (0.02%) merging on tract-level census data\n"
     ]
    }
   ],
   "source": [
    "dropped_parcels = len(asr[pd.isnull(asr['median_hh_income'])])\n",
    "print('Dropped {0} parcels ({1}%) merging on tract-level census data'.format(\n",
    "    dropped_parcels, np.round(dropped_parcels/len(asr)*100, 2)))"
   ]
  },
  {
   "cell_type": "markdown",
   "metadata": {},
   "source": [
    "### Fitting the sharp RD"
   ]
  },
  {
   "cell_type": "markdown",
   "metadata": {},
   "source": [
    "Control variables to add:\n",
    "- rent burden?\n",
    "- stddev prop value"
   ]
  },
  {
   "cell_type": "code",
   "execution_count": 31,
   "metadata": {},
   "outputs": [],
   "source": [
    "bandwidth = 27\n"
   ]
  },
  {
   "cell_type": "code",
   "execution_count": 32,
   "metadata": {},
   "outputs": [],
   "source": [
    "df = asr[\n",
    "    (asr['any_rc_eligibility'] == 1) & (asr['year_built_max'] > 1980 - bandwidth) &\n",
    "    (asr['year_built_max'] < 1980 + bandwidth) & (asr['total_units'] > 0)]"
   ]
  },
  {
   "cell_type": "code",
   "execution_count": 33,
   "metadata": {},
   "outputs": [
    {
     "data": {
      "text/plain": [
       "(59810, 27)"
      ]
     },
     "execution_count": 33,
     "metadata": {},
     "output_type": "execute_result"
    }
   ],
   "source": [
    "df.shape"
   ]
  },
  {
   "cell_type": "code",
   "execution_count": 70,
   "metadata": {},
   "outputs": [
    {
     "data": {
      "text/plain": [
       "15392"
      ]
     },
     "execution_count": 70,
     "metadata": {},
     "output_type": "execute_result"
    }
   ],
   "source": [
    "asr.loc[asr['any_rc_eligibility'] == 1,'ev_count_post_07'].sum()"
   ]
  },
  {
   "cell_type": "code",
   "execution_count": 38,
   "metadata": {},
   "outputs": [
    {
     "data": {
      "text/plain": [
       "(1576233, 27)"
      ]
     },
     "execution_count": 38,
     "metadata": {},
     "output_type": "execute_result"
    }
   ],
   "source": [
    "asr[asr['total_units'] > 0].shape"
   ]
  },
  {
   "cell_type": "code",
   "execution_count": 40,
   "metadata": {},
   "outputs": [
    {
     "data": {
      "text/plain": [
       "2527"
      ]
     },
     "execution_count": 40,
     "metadata": {},
     "output_type": "execute_result"
    }
   ],
   "source": [
    "df['ev_count_post_07'].sum()"
   ]
  },
  {
   "cell_type": "code",
   "execution_count": 43,
   "metadata": {},
   "outputs": [
    {
     "data": {
      "text/plain": [
       "(59810, 27)"
      ]
     },
     "execution_count": 43,
     "metadata": {},
     "output_type": "execute_result"
    }
   ],
   "source": [
    "df.shape"
   ]
  },
  {
   "cell_type": "code",
   "execution_count": 61,
   "metadata": {},
   "outputs": [
    {
     "name": "stderr",
     "output_type": "stream",
     "text": [
      "/Users/max/anaconda3/envs/evictions/lib/python3.7/site-packages/ipykernel_launcher.py:1: SettingWithCopyWarning: \n",
      "A value is trying to be set on a copy of a slice from a DataFrame.\n",
      "Try using .loc[row_indexer,col_indexer] = value instead\n",
      "\n",
      "See the caveats in the documentation: https://pandas.pydata.org/pandas-docs/stable/user_guide/indexing.html#returning-a-view-versus-a-copy\n",
      "  \"\"\"Entry point for launching an IPython kernel.\n",
      "/Users/max/anaconda3/envs/evictions/lib/python3.7/site-packages/pandas/core/indexing.py:1765: SettingWithCopyWarning: \n",
      "A value is trying to be set on a copy of a slice from a DataFrame.\n",
      "Try using .loc[row_indexer,col_indexer] = value instead\n",
      "\n",
      "See the caveats in the documentation: https://pandas.pydata.org/pandas-docs/stable/user_guide/indexing.html#returning-a-view-versus-a-copy\n",
      "  isetter(loc, value)\n",
      "/Users/max/anaconda3/envs/evictions/lib/python3.7/site-packages/ipykernel_launcher.py:3: SettingWithCopyWarning: \n",
      "A value is trying to be set on a copy of a slice from a DataFrame.\n",
      "Try using .loc[row_indexer,col_indexer] = value instead\n",
      "\n",
      "See the caveats in the documentation: https://pandas.pydata.org/pandas-docs/stable/user_guide/indexing.html#returning-a-view-versus-a-copy\n",
      "  This is separate from the ipykernel package so we can avoid doing imports until\n"
     ]
    }
   ],
   "source": [
    "df['rent_control'] = False\n",
    "df.loc[df['pre_1980'] == True, 'rent_control'] = True\n",
    "df['year_built_centered'] = df['year_built_max'] - 1980\n"
   ]
  },
  {
   "cell_type": "code",
   "execution_count": 62,
   "metadata": {},
   "outputs": [
    {
     "data": {
      "text/html": [
       "<div>\n",
       "<style scoped>\n",
       "    .dataframe tbody tr th:only-of-type {\n",
       "        vertical-align: middle;\n",
       "    }\n",
       "\n",
       "    .dataframe tbody tr th {\n",
       "        vertical-align: top;\n",
       "    }\n",
       "\n",
       "    .dataframe thead th {\n",
       "        text-align: right;\n",
       "    }\n",
       "</style>\n",
       "<table border=\"1\" class=\"dataframe\">\n",
       "  <thead>\n",
       "    <tr style=\"text-align: right;\">\n",
       "      <th></th>\n",
       "      <th>mean_any_ev</th>\n",
       "      <th>total_addresses</th>\n",
       "      <th>total_units</th>\n",
       "      <th>total_evictions</th>\n",
       "      <th>ev_per_unit</th>\n",
       "    </tr>\n",
       "    <tr>\n",
       "      <th>pre_1980</th>\n",
       "      <th></th>\n",
       "      <th></th>\n",
       "      <th></th>\n",
       "      <th></th>\n",
       "      <th></th>\n",
       "    </tr>\n",
       "  </thead>\n",
       "  <tbody>\n",
       "    <tr>\n",
       "      <th>False</th>\n",
       "      <td>0.014195</td>\n",
       "      <td>14723</td>\n",
       "      <td>109899</td>\n",
       "      <td>377</td>\n",
       "      <td>0.010078</td>\n",
       "    </tr>\n",
       "    <tr>\n",
       "      <th>True</th>\n",
       "      <td>0.040810</td>\n",
       "      <td>45087</td>\n",
       "      <td>363510</td>\n",
       "      <td>4190</td>\n",
       "      <td>0.021510</td>\n",
       "    </tr>\n",
       "  </tbody>\n",
       "</table>\n",
       "</div>"
      ],
      "text/plain": [
       "          mean_any_ev  total_addresses  total_units  total_evictions  \\\n",
       "pre_1980                                                               \n",
       "False        0.014195            14723       109899              377   \n",
       "True         0.040810            45087       363510             4190   \n",
       "\n",
       "          ev_per_unit  \n",
       "pre_1980               \n",
       "False        0.010078  \n",
       "True         0.021510  "
      ]
     },
     "execution_count": 62,
     "metadata": {},
     "output_type": "execute_result"
    }
   ],
   "source": [
    "df.groupby('pre_1980').agg(\n",
    "            mean_any_ev=('any_ev', 'mean'),\n",
    "            total_addresses=('index', 'count'),\n",
    "            total_units=('total_units', 'sum'),\n",
    "            total_evictions=('ev_count', 'sum'),\n",
    "            ev_per_unit=('ev_per_unit', 'mean')\n",
    ")"
   ]
  },
  {
   "cell_type": "code",
   "execution_count": 81,
   "metadata": {},
   "outputs": [],
   "source": [
    "df = pd.merge(\n",
    "    df,\n",
    "    df_hed[[\n",
    "        'asr_yr', 'house_1', 'house_2', 'street_name', 'street_type', 'total_rooms',\n",
    "        'total_value', 'total_area', 'total_sqft', 'nbd', 'total_baths', 'hedonic_resid']],\n",
    "    on=['asr_yr', 'house_1', 'house_2', 'street_name', 'street_type'])"
   ]
  },
  {
   "cell_type": "markdown",
   "metadata": {},
   "source": [
    "### Summary of Models"
   ]
  },
  {
   "cell_type": "markdown",
   "metadata": {},
   "source": [
    "\\begin{array}{rr}\n",
    " &(1) & (2) & (3) & (4) \\\\ \\hline \n",
    "\\text{rent control} & 0.0098^{***} & 0.0166^{*} & 0.0143^{***} & 0.0142^{***}   \\\\\n",
    " & (0.002) &  (0.088) & (< 0.001) & (< 0.001) \\\\ \\hline\n",
    "\\text{Property Characteristics} & N & Y & Y & Y \\\\\n",
    "\\text{Census Tract Demographics} & N & N & Y & Y \\\\\n",
    "\\text{Neighborhood Fixed Effects} & N & N & N & Y \\\\ \\hline\n",
    "R^2 & < 0.001 & 0.008 & 0.007 & 0.009\n",
    "\\end{array}"
   ]
  },
  {
   "cell_type": "markdown",
   "metadata": {},
   "source": [
    "### Model 1: Standard RDD (No Additional Covariates)"
   ]
  },
  {
   "cell_type": "code",
   "execution_count": 88,
   "metadata": {},
   "outputs": [],
   "source": [
    "rd = smf.ols(\n",
    "    \"ev_per_unit_since_07 ~ rent_control + year_built_centered*rent_control\",\n",
    "    data=df)"
   ]
  },
  {
   "cell_type": "code",
   "execution_count": 89,
   "metadata": {},
   "outputs": [],
   "source": [
    "fitted = rd.fit()"
   ]
  },
  {
   "cell_type": "code",
   "execution_count": 90,
   "metadata": {},
   "outputs": [
    {
     "name": "stdout",
     "output_type": "stream",
     "text": [
      "                             OLS Regression Results                             \n",
      "================================================================================\n",
      "Dep. Variable:     ev_per_unit_since_07   R-squared:                       0.000\n",
      "Model:                              OLS   Adj. R-squared:                  0.000\n",
      "Method:                   Least Squares   F-statistic:                     8.381\n",
      "Date:                  Fri, 13 Nov 2020   Prob (F-statistic):           1.45e-05\n",
      "Time:                          12:58:33   Log-Likelihood:                 22402.\n",
      "No. Observations:                 54975   AIC:                        -4.480e+04\n",
      "Df Residuals:                     54971   BIC:                        -4.476e+04\n",
      "Df Model:                             3                                         \n",
      "Covariance Type:              nonrobust                                         \n",
      "============================================================================================================\n",
      "                                               coef    std err          t      P>|t|      [0.025      0.975]\n",
      "------------------------------------------------------------------------------------------------------------\n",
      "Intercept                                    0.0035      0.002      1.401      0.161      -0.001       0.008\n",
      "rent_control[T.True]                         0.0098      0.003      3.087      0.002       0.004       0.016\n",
      "year_built_centered                          0.0002      0.000      0.779      0.436      -0.000       0.001\n",
      "year_built_centered:rent_control[T.True]    -0.0002      0.000     -0.630      0.529      -0.001       0.000\n",
      "==============================================================================\n",
      "Omnibus:                   161893.413   Durbin-Watson:                   1.981\n",
      "Prob(Omnibus):                  0.000   Jarque-Bera (JB):      18768043461.427\n",
      "Skew:                          41.581   Prob(JB):                         0.00\n",
      "Kurtosis:                    2864.206   Cond. No.                         117.\n",
      "==============================================================================\n",
      "\n",
      "Notes:\n",
      "[1] Standard Errors assume that the covariance matrix of the errors is correctly specified.\n"
     ]
    }
   ],
   "source": [
    "print(fitted.summary())"
   ]
  },
  {
   "cell_type": "markdown",
   "metadata": {},
   "source": [
    "### Model 2: Standard RDD + Property Characteristics"
   ]
  },
  {
   "cell_type": "markdown",
   "metadata": {},
   "source": [
    "todo: divide price/sqft before formula"
   ]
  },
  {
   "cell_type": "code",
   "execution_count": null,
   "metadata": {},
   "outputs": [],
   "source": [
    "ev_count_post_07"
   ]
  },
  {
   "cell_type": "code",
   "execution_count": 128,
   "metadata": {},
   "outputs": [
    {
     "name": "stdout",
     "output_type": "stream",
     "text": [
      "                            OLS Regression Results                            \n",
      "==============================================================================\n",
      "Dep. Variable:       ev_count_post_07   R-squared:                       0.008\n",
      "Model:                            OLS   Adj. R-squared:                  0.008\n",
      "Method:                 Least Squares   F-statistic:                     106.8\n",
      "Date:                Fri, 13 Nov 2020   Prob (F-statistic):           8.53e-91\n",
      "Time:                        14:54:31   Log-Likelihood:                -39130.\n",
      "No. Observations:               54975   AIC:                         7.827e+04\n",
      "Df Residuals:                   54970   BIC:                         7.831e+04\n",
      "Df Model:                           4                                         \n",
      "Covariance Type:            nonrobust                                         \n",
      "============================================================================================================\n",
      "                                               coef    std err          t      P>|t|      [0.025      0.975]\n",
      "------------------------------------------------------------------------------------------------------------\n",
      "Intercept                                   -0.0660      0.009     -7.747      0.000      -0.083      -0.049\n",
      "rent_control[T.True]                         0.0166      0.010      1.706      0.088      -0.002       0.036\n",
      "year_built_centered                          0.0005      0.001      0.725      0.469      -0.001       0.002\n",
      "year_built_centered:rent_control[T.True]    -0.0008      0.001     -1.054      0.292      -0.002       0.001\n",
      "np.log1p(total_units)                        0.0570      0.003     18.907      0.000       0.051       0.063\n",
      "==============================================================================\n",
      "Omnibus:                   136260.208   Durbin-Watson:                   1.979\n",
      "Prob(Omnibus):                  0.000   Jarque-Bera (JB):       2645986610.167\n",
      "Skew:                          26.800   Prob(JB):                         0.00\n",
      "Kurtosis:                    1076.436   Cond. No.                         119.\n",
      "==============================================================================\n",
      "\n",
      "Notes:\n",
      "[1] Standard Errors assume that the covariance matrix of the errors is correctly specified.\n"
     ]
    }
   ],
   "source": [
    "rd5 = smf.ols(\"ev_count_post_07 ~ rent_control + year_built_centered*rent_control + np.log1p(total_units)\", data=df)\n",
    "fitted5 = rd5.fit()\n",
    "print(fitted5.summary())"
   ]
  },
  {
   "cell_type": "code",
   "execution_count": 123,
   "metadata": {},
   "outputs": [],
   "source": [
    "rd2 = smf.ols(\n",
    "    \"ev_per_unit_since_07 ~ rent_control + year_built_centered*rent_control + \"\n",
    "    \"np.log1p(total_value):np.log(total_sqft) + np.log(total_units)\",\n",
    "    data=df)"
   ]
  },
  {
   "cell_type": "code",
   "execution_count": 124,
   "metadata": {},
   "outputs": [
    {
     "name": "stdout",
     "output_type": "stream",
     "text": [
      "                             OLS Regression Results                             \n",
      "================================================================================\n",
      "Dep. Variable:     ev_per_unit_since_07   R-squared:                       0.006\n",
      "Model:                              OLS   Adj. R-squared:                  0.006\n",
      "Method:                   Least Squares   F-statistic:                     67.40\n",
      "Date:                  Fri, 13 Nov 2020   Prob (F-statistic):           1.81e-70\n",
      "Time:                          14:38:31   Log-Likelihood:                 22557.\n",
      "No. Observations:                 54975   AIC:                        -4.510e+04\n",
      "Df Residuals:                     54969   BIC:                        -4.505e+04\n",
      "Df Model:                             5                                         \n",
      "Covariance Type:              nonrobust                                         \n",
      "============================================================================================================\n",
      "                                               coef    std err          t      P>|t|      [0.025      0.975]\n",
      "------------------------------------------------------------------------------------------------------------\n",
      "Intercept                                   -0.0628      0.006    -10.667      0.000      -0.074      -0.051\n",
      "rent_control[T.True]                         0.0141      0.003      4.432      0.000       0.008       0.020\n",
      "year_built_centered                      -7.655e-05      0.000     -0.330      0.741      -0.001       0.000\n",
      "year_built_centered:rent_control[T.True]    -0.0001      0.000     -0.558      0.577      -0.001       0.000\n",
      "np.log1p(total_value):np.log(total_sqft)     0.0007    5.2e-05     14.063      0.000       0.001       0.001\n",
      "np.log(total_units)                         -0.0164      0.001    -16.763      0.000      -0.018      -0.015\n",
      "==============================================================================\n",
      "Omnibus:                   161838.817   Durbin-Watson:                   1.989\n",
      "Prob(Omnibus):                  0.000   Jarque-Bera (JB):      18927893752.464\n",
      "Skew:                          41.535   Prob(JB):                         0.00\n",
      "Kurtosis:                    2876.378   Cond. No.                     1.01e+03\n",
      "==============================================================================\n",
      "\n",
      "Notes:\n",
      "[1] Standard Errors assume that the covariance matrix of the errors is correctly specified.\n",
      "[2] The condition number is large, 1.01e+03. This might indicate that there are\n",
      "strong multicollinearity or other numerical problems.\n"
     ]
    }
   ],
   "source": [
    "fitted2 = rd2.fit()\n",
    "print(fitted2.summary())"
   ]
  },
  {
   "cell_type": "markdown",
   "metadata": {},
   "source": [
    "### Model 3: Standard RDD + Property Characteristics + Census Tract Attributes"
   ]
  },
  {
   "cell_type": "code",
   "execution_count": 106,
   "metadata": {},
   "outputs": [],
   "source": [
    "df['pct_non_white'] = 1 - (df['white_only_pop'] / df['total_pop_race'])\n",
    "df['pct_occ_units_rental'] = df['total_rental_tenure'] / df['total_occupied_units']\n",
    "df['pct_renter_pop'] = df['total_renter_pop'] / df['total_pop_tenure']\n",
    "df['pct_rentals_pre2000_movein'] = (\n",
    "    df['total_rental_tenure'] - df['renter_movein_2005_later'] - df['renter_movein_2000_2004']) / (\n",
    "    df['total_rental_tenure'])\n",
    "df['pct_renter_same_house_last_yr'] = df['renter_non_mover'] / df['total_renter_pop']"
   ]
  },
  {
   "cell_type": "code",
   "execution_count": 118,
   "metadata": {},
   "outputs": [],
   "source": [
    "rd3 = smf.ols(\n",
    "    \"ev_per_unit_since_07 ~ rent_control + year_built_centered*rent_control + \"\n",
    "    \"np.log1p(total_value):np.log(total_sqft) + np.log(total_units) + \"\n",
    "    \"np.log1p(median_hh_income) + \"\n",
    "    \"pct_non_white + \"\n",
    "    \"pct_occ_units_rental + \"\n",
    "    \"pct_rentals_pre2000_movein\",\n",
    "    data=df)"
   ]
  },
  {
   "cell_type": "code",
   "execution_count": 119,
   "metadata": {},
   "outputs": [
    {
     "name": "stdout",
     "output_type": "stream",
     "text": [
      "                             OLS Regression Results                             \n",
      "================================================================================\n",
      "Dep. Variable:     ev_per_unit_since_07   R-squared:                       0.007\n",
      "Model:                              OLS   Adj. R-squared:                  0.006\n",
      "Method:                   Least Squares   F-statistic:                     40.12\n",
      "Date:                  Fri, 13 Nov 2020   Prob (F-statistic):           4.85e-72\n",
      "Time:                          13:35:57   Log-Likelihood:                 22569.\n",
      "No. Observations:                 54975   AIC:                        -4.512e+04\n",
      "Df Residuals:                     54965   BIC:                        -4.503e+04\n",
      "Df Model:                             9                                         \n",
      "Covariance Type:              nonrobust                                         \n",
      "============================================================================================================\n",
      "                                               coef    std err          t      P>|t|      [0.025      0.975]\n",
      "------------------------------------------------------------------------------------------------------------\n",
      "Intercept                                    0.0463      0.049      0.945      0.345      -0.050       0.142\n",
      "rent_control[T.True]                         0.0143      0.003      4.498      0.000       0.008       0.021\n",
      "year_built_centered                      -8.955e-05      0.000     -0.385      0.700      -0.001       0.000\n",
      "year_built_centered:rent_control[T.True]    -0.0002      0.000     -0.687      0.492      -0.001       0.000\n",
      "np.log1p(total_value):np.log(total_sqft)     0.0007   5.24e-05     13.653      0.000       0.001       0.001\n",
      "np.log(total_units)                         -0.0173      0.001    -17.332      0.000      -0.019      -0.015\n",
      "np.log1p(median_hh_income)                  -0.0096      0.004     -2.480      0.013      -0.017      -0.002\n",
      "pct_non_white                               -0.0060      0.006     -0.930      0.353      -0.019       0.007\n",
      "pct_occ_units_rental                         0.0111      0.006      1.846      0.065      -0.001       0.023\n",
      "pct_rentals_pre2000_movein                  -0.0081      0.010     -0.797      0.426      -0.028       0.012\n",
      "==============================================================================\n",
      "Omnibus:                   161821.348   Durbin-Watson:                   1.990\n",
      "Prob(Omnibus):                  0.000   Jarque-Bera (JB):      18923679797.754\n",
      "Skew:                          41.522   Prob(JB):                         0.00\n",
      "Kurtosis:                    2876.058   Cond. No.                     8.32e+03\n",
      "==============================================================================\n",
      "\n",
      "Notes:\n",
      "[1] Standard Errors assume that the covariance matrix of the errors is correctly specified.\n",
      "[2] The condition number is large, 8.32e+03. This might indicate that there are\n",
      "strong multicollinearity or other numerical problems.\n"
     ]
    }
   ],
   "source": [
    "fitted3 = rd3.fit()\n",
    "print(fitted3.summary())"
   ]
  },
  {
   "cell_type": "markdown",
   "metadata": {},
   "source": [
    "### Model 4: Standard RDD + Property Characteristics + Census Tract Attributes + Neighborhood Fixed Effects"
   ]
  },
  {
   "cell_type": "code",
   "execution_count": 120,
   "metadata": {},
   "outputs": [],
   "source": [
    "rd4 = smf.ols(\n",
    "    \"ev_per_unit_since_07 ~ rent_control + year_built_centered*rent_control + \"\n",
    "    \"np.log1p(total_value):np.log(total_sqft) + np.log(total_units) + \"\n",
    "    \"np.log1p(median_hh_income) + \"\n",
    "    \"pct_occ_units_rental + \"\n",
    "    \"nbd\",\n",
    "    data=df)"
   ]
  },
  {
   "cell_type": "code",
   "execution_count": 122,
   "metadata": {},
   "outputs": [
    {
     "data": {
      "text/plain": [
       "72"
      ]
     },
     "execution_count": 122,
     "metadata": {},
     "output_type": "execute_result"
    }
   ],
   "source": [
    "df['nbd'].nunique()"
   ]
  },
  {
   "cell_type": "code",
   "execution_count": 121,
   "metadata": {},
   "outputs": [
    {
     "name": "stdout",
     "output_type": "stream",
     "text": [
      "                             OLS Regression Results                             \n",
      "================================================================================\n",
      "Dep. Variable:     ev_per_unit_since_07   R-squared:                       0.009\n",
      "Model:                              OLS   Adj. R-squared:                  0.007\n",
      "Method:                   Least Squares   F-statistic:                     6.137\n",
      "Date:                  Fri, 13 Nov 2020   Prob (F-statistic):           1.38e-58\n",
      "Time:                          13:39:28   Log-Likelihood:                 22628.\n",
      "No. Observations:                 54975   AIC:                        -4.510e+04\n",
      "Df Residuals:                     54896   BIC:                        -4.439e+04\n",
      "Df Model:                            78                                         \n",
      "Covariance Type:              nonrobust                                         \n",
      "============================================================================================================\n",
      "                                               coef    std err          t      P>|t|      [0.025      0.975]\n",
      "------------------------------------------------------------------------------------------------------------\n",
      "Intercept                                   -0.0869      0.055     -1.586      0.113      -0.194       0.020\n",
      "rent_control[T.True]                         0.0142      0.003      4.391      0.000       0.008       0.020\n",
      "nbd[T.01B]                                   0.0013      0.004      0.354      0.723      -0.006       0.008\n",
      "nbd[T.01C]                                  -0.0036      0.007     -0.477      0.633      -0.018       0.011\n",
      "nbd[T.01D]                                   0.0031      0.005      0.632      0.528      -0.007       0.013\n",
      "nbd[T.01E]                                   0.0018      0.004      0.513      0.608      -0.005       0.009\n",
      "nbd[T.01F]                                   0.0053      0.019      0.276      0.783      -0.032       0.043\n",
      "nbd[T.01G]                                  -0.0065      0.005     -1.192      0.233      -0.017       0.004\n",
      "nbd[T.02A]                                   0.0001      0.014      0.009      0.993      -0.027       0.028\n",
      "nbd[T.02B]                                   0.0048      0.006      0.796      0.426      -0.007       0.017\n",
      "nbd[T.02C]                                   0.0090      0.004      2.270      0.023       0.001       0.017\n",
      "nbd[T.02D]                                   0.0122      0.008      1.526      0.127      -0.003       0.028\n",
      "nbd[T.02E]                                   0.0002      0.004      0.039      0.969      -0.009       0.009\n",
      "nbd[T.02F]                                   0.0023      0.004      0.656      0.512      -0.005       0.009\n",
      "nbd[T.02G]                                   0.0102      0.015      0.663      0.507      -0.020       0.040\n",
      "nbd[T.03G]                                   0.0078      0.012      0.665      0.506      -0.015       0.031\n",
      "nbd[T.03H]                                   0.0139      0.008      1.636      0.102      -0.003       0.030\n",
      "nbd[T.03J]                                   0.0027      0.014      0.183      0.854      -0.026       0.031\n",
      "nbd[T.04B]                                  -0.0063      0.012     -0.506      0.613      -0.031       0.018\n",
      "nbd[T.04C]                                   0.0021      0.008      0.271      0.787      -0.013       0.018\n",
      "nbd[T.04D]                                  -0.0006      0.008     -0.073      0.942      -0.016       0.015\n",
      "nbd[T.04F]                                  -0.0030      0.015     -0.194      0.846      -0.033       0.027\n",
      "nbd[T.04H]                                   0.0058      0.025      0.237      0.813      -0.043       0.054\n",
      "nbd[T.04N]                                   0.0105      0.014      0.745      0.456      -0.017       0.038\n",
      "nbd[T.04S]                                   0.0005      0.008      0.062      0.950      -0.015       0.016\n",
      "nbd[T.04T]                                  -0.0178      0.049     -0.366      0.714      -0.113       0.077\n",
      "nbd[T.05A]                                  -0.0002      0.006     -0.025      0.980      -0.013       0.012\n",
      "nbd[T.05B]                                   0.0044      0.008      0.570      0.569      -0.011       0.020\n",
      "nbd[T.05C]                                   0.0016      0.004      0.362      0.717      -0.007       0.010\n",
      "nbd[T.05D]                                   0.0049      0.006      0.884      0.377      -0.006       0.016\n",
      "nbd[T.05E]                                  -0.0003      0.008     -0.043      0.966      -0.015       0.014\n",
      "nbd[T.05F]                                  -0.0030      0.011     -0.275      0.783      -0.025       0.019\n",
      "nbd[T.05G]                                  -0.0033      0.006     -0.537      0.591      -0.015       0.009\n",
      "nbd[T.05H]                                   0.0031      0.017      0.180      0.857      -0.031       0.037\n",
      "nbd[T.05J]                                   0.0028      0.014      0.194      0.846      -0.025       0.031\n",
      "nbd[T.05K]                                   0.0043      0.005      0.849      0.396      -0.006       0.014\n",
      "nbd[T.05M]                                   0.0084      0.007      1.201      0.230      -0.005       0.022\n",
      "nbd[T.06A]                                  -0.0105      0.010     -1.006      0.315      -0.031       0.010\n",
      "nbd[T.06B]                                   0.0211      0.008      2.566      0.010       0.005       0.037\n",
      "nbd[T.06C]                                  -0.0008      0.006     -0.126      0.900      -0.014       0.012\n",
      "nbd[T.06D]                                   0.0145      0.012      1.253      0.210      -0.008       0.037\n",
      "nbd[T.06E]                                   0.0076      0.016      0.491      0.623      -0.023       0.038\n",
      "nbd[T.06F]                                   0.0057      0.009      0.610      0.542      -0.013       0.024\n",
      "nbd[T.07A]                                   0.0036      0.008      0.447      0.655      -0.012       0.019\n",
      "nbd[T.07B]                                   0.0038      0.006      0.624      0.533      -0.008       0.016\n",
      "nbd[T.07C]                                  -0.0056      0.023     -0.247      0.805      -0.050       0.039\n",
      "nbd[T.07D]                                  -0.0061      0.006     -0.938      0.348      -0.019       0.007\n",
      "nbd[T.08A]                                   0.0765      0.012      6.156      0.000       0.052       0.101\n",
      "nbd[T.08B]                                  -0.0068      0.049     -0.139      0.890      -0.103       0.089\n",
      "nbd[T.08C]                                  -0.0087      0.006     -1.346      0.178      -0.021       0.004\n",
      "nbd[T.08D]                                   0.0064      0.012      0.540      0.589      -0.017       0.030\n",
      "nbd[T.08E]                                   0.0014      0.006      0.240      0.810      -0.010       0.013\n",
      "nbd[T.08F]                                  -0.0020      0.013     -0.153      0.879      -0.028       0.024\n",
      "nbd[T.08G]                                   0.0013      0.006      0.199      0.842      -0.011       0.014\n",
      "nbd[T.08H]                                   0.1235      0.024      5.197      0.000       0.077       0.170\n",
      "nbd[T.09A]                                   0.0067      0.007      1.023      0.306      -0.006       0.020\n",
      "nbd[T.09B]                                  -0.0836      0.161     -0.520      0.603      -0.398       0.231\n",
      "nbd[T.09C]                                   0.0137      0.004      3.198      0.001       0.005       0.022\n",
      "nbd[T.09D]                                   0.0110      0.047      0.237      0.813      -0.080       0.102\n",
      "nbd[T.09E]                                   0.0032      0.005      0.597      0.551      -0.007       0.014\n",
      "nbd[T.09F]                                   0.0040      0.015      0.266      0.790      -0.025       0.033\n",
      "nbd[T.09G]                                   0.0136      0.005      2.562      0.010       0.003       0.024\n",
      "nbd[T.10A]                                   0.0185      0.007      2.475      0.013       0.004       0.033\n",
      "nbd[T.10B]                                   0.0097      0.008      1.142      0.254      -0.007       0.026\n",
      "nbd[T.10C]                                   0.0088      0.007      1.245      0.213      -0.005       0.023\n",
      "nbd[T.10D]                                   0.0229      0.010      2.336      0.019       0.004       0.042\n",
      "nbd[T.10E]                                   0.0127      0.010      1.300      0.194      -0.006       0.032\n",
      "nbd[T.10F]                                   0.0008      0.007      0.113      0.910      -0.013       0.015\n",
      "nbd[T.10G]                                   0.0035      0.013      0.264      0.792      -0.023       0.030\n",
      "nbd[T.10H]                                   0.0090      0.009      0.991      0.322      -0.009       0.027\n",
      "nbd[T.10J]                                   0.0091      0.036      0.251      0.802      -0.062       0.080\n",
      "nbd[T.10K]                                   0.0029      0.014      0.212      0.832      -0.024       0.030\n",
      "nbd[T.unknown]                              -0.0120      0.161     -0.075      0.940      -0.327       0.303\n",
      "year_built_centered                         -0.0002      0.000     -0.814      0.416      -0.001       0.000\n",
      "year_built_centered:rent_control[T.True] -9.221e-05      0.000     -0.346      0.729      -0.001       0.000\n",
      "np.log1p(total_value):np.log(total_sqft)     0.0007   5.45e-05     13.348      0.000       0.001       0.001\n",
      "np.log(total_units)                         -0.0186      0.001    -18.038      0.000      -0.021      -0.017\n",
      "np.log1p(median_hh_income)                   0.0008      0.005      0.181      0.856      -0.008       0.010\n",
      "pct_occ_units_rental                         0.0224      0.009      2.575      0.010       0.005       0.039\n",
      "==============================================================================\n",
      "Omnibus:                   161823.464   Durbin-Watson:                   1.990\n",
      "Prob(Omnibus):                  0.000   Jarque-Bera (JB):      19000387229.558\n",
      "Skew:                          41.521   Prob(JB):                         0.00\n",
      "Kurtosis:                    2881.880   Cond. No.                     2.69e+04\n",
      "==============================================================================\n",
      "\n",
      "Notes:\n",
      "[1] Standard Errors assume that the covariance matrix of the errors is correctly specified.\n",
      "[2] The condition number is large, 2.69e+04. This might indicate that there are\n",
      "strong multicollinearity or other numerical problems.\n"
     ]
    }
   ],
   "source": [
    "fitted4 = rd4.fit()\n",
    "print(fitted4.summary())"
   ]
  },
  {
   "cell_type": "markdown",
   "metadata": {},
   "source": [
    "### Potential evictions"
   ]
  },
  {
   "cell_type": "code",
   "execution_count": 27,
   "metadata": {},
   "outputs": [],
   "source": [
    "units_by_yr = asr[\n",
    "    (asr['any_rc_eligibility'] == 1) &\n",
    "    (asr['year_built_max'] > 1900) &\n",
    "    (asr['year_built_max'] < 2100)].groupby('year_built_max').agg({'total_units': 'sum'}).reset_index()"
   ]
  },
  {
   "cell_type": "code",
   "execution_count": 28,
   "metadata": {},
   "outputs": [
    {
     "data": {
      "image/png": "[encoded data removed]",
      "text/plain": [
       "<Figure size 936x576 with 1 Axes>"
      ]
     },
     "metadata": {
      "needs_background": "light"
     },
     "output_type": "display_data"
    }
   ],
   "source": [
    "fig, ax = plt.subplots(figsize=(13,8))\n",
    "ax.scatter(units_by_yr['year_built_max'], units_by_yr['total_units'], s=25, facecolors='none', edgecolors='r')\n",
    "ax.plot(units_by_yr['year_built_max'], units_by_yr['total_units'], lw=1, c='k', )\n",
    "\n",
    "_ = ax.set_xlabel(\"year built\", fontsize=16)\n",
    "_ = ax.set_ylabel(\"# new units\", fontsize=16)\n",
    "_ = ax.set_title(\"SF New Construction: Rent-control eligible use-codes\", fontsize=20)"
   ]
  },
  {
   "cell_type": "code",
   "execution_count": 202,
   "metadata": {},
   "outputs": [],
   "source": [
    "rc_pop = asr[(asr['any_rc_eligibility'] == 1) & (asr['year_built_max'] > 1979)]\n",
    "rc_pop = rc_pop.groupby('year_built_max').agg({'total_units': 'sum'})\n",
    "rc_pop.index.name = \"new rent control year-built cutoff\"\n",
    "rc_pop['cumulative_units'] = rc_pop['total_units'].cumsum()\n",
    "rc_pop['potential_evictions'] = rc_pop['cumulative_units'] * fitted.params[1]\n",
    "rc_pop['pct_growth'] = rc_pop['potential_evictions'] / ev_per_year"
   ]
  },
  {
   "cell_type": "code",
   "execution_count": 203,
   "metadata": {
    "scrolled": true
   },
   "outputs": [
    {
     "data": {
      "text/html": [
       "<div>\n",
       "<style scoped>\n",
       "    .dataframe tbody tr th:only-of-type {\n",
       "        vertical-align: middle;\n",
       "    }\n",
       "\n",
       "    .dataframe tbody tr th {\n",
       "        vertical-align: top;\n",
       "    }\n",
       "\n",
       "    .dataframe thead th {\n",
       "        text-align: right;\n",
       "    }\n",
       "</style>\n",
       "<table border=\"1\" class=\"dataframe\">\n",
       "  <thead>\n",
       "    <tr style=\"text-align: right;\">\n",
       "      <th></th>\n",
       "      <th>total_units</th>\n",
       "      <th>cumulative_units</th>\n",
       "      <th>potential_evictions</th>\n",
       "      <th>pct_growth</th>\n",
       "    </tr>\n",
       "    <tr>\n",
       "      <th>new rent control year-built cutoff</th>\n",
       "      <th></th>\n",
       "      <th></th>\n",
       "      <th></th>\n",
       "      <th></th>\n",
       "    </tr>\n",
       "  </thead>\n",
       "  <tbody>\n",
       "    <tr>\n",
       "      <th>1980</th>\n",
       "      <td>6609</td>\n",
       "      <td>6609</td>\n",
       "      <td>75.078230</td>\n",
       "      <td>0.036528</td>\n",
       "    </tr>\n",
       "    <tr>\n",
       "      <th>1981</th>\n",
       "      <td>3442</td>\n",
       "      <td>10051</td>\n",
       "      <td>114.179345</td>\n",
       "      <td>0.055552</td>\n",
       "    </tr>\n",
       "    <tr>\n",
       "      <th>1982</th>\n",
       "      <td>5821</td>\n",
       "      <td>15872</td>\n",
       "      <td>180.305897</td>\n",
       "      <td>0.087725</td>\n",
       "    </tr>\n",
       "    <tr>\n",
       "      <th>1983</th>\n",
       "      <td>8781</td>\n",
       "      <td>24653</td>\n",
       "      <td>280.058044</td>\n",
       "      <td>0.136257</td>\n",
       "    </tr>\n",
       "    <tr>\n",
       "      <th>1984</th>\n",
       "      <td>4738</td>\n",
       "      <td>29391</td>\n",
       "      <td>333.881717</td>\n",
       "      <td>0.162444</td>\n",
       "    </tr>\n",
       "    <tr>\n",
       "      <th>1985</th>\n",
       "      <td>1523</td>\n",
       "      <td>30914</td>\n",
       "      <td>351.182995</td>\n",
       "      <td>0.170862</td>\n",
       "    </tr>\n",
       "    <tr>\n",
       "      <th>1986</th>\n",
       "      <td>6233</td>\n",
       "      <td>37147</td>\n",
       "      <td>421.989866</td>\n",
       "      <td>0.205312</td>\n",
       "    </tr>\n",
       "    <tr>\n",
       "      <th>1987</th>\n",
       "      <td>6134</td>\n",
       "      <td>43281</td>\n",
       "      <td>491.672097</td>\n",
       "      <td>0.239214</td>\n",
       "    </tr>\n",
       "    <tr>\n",
       "      <th>1988</th>\n",
       "      <td>10418</td>\n",
       "      <td>53699</td>\n",
       "      <td>610.020562</td>\n",
       "      <td>0.296794</td>\n",
       "    </tr>\n",
       "    <tr>\n",
       "      <th>1989</th>\n",
       "      <td>13857</td>\n",
       "      <td>67556</td>\n",
       "      <td>767.436061</td>\n",
       "      <td>0.373382</td>\n",
       "    </tr>\n",
       "    <tr>\n",
       "      <th>1990</th>\n",
       "      <td>9106</td>\n",
       "      <td>76662</td>\n",
       "      <td>870.880208</td>\n",
       "      <td>0.423711</td>\n",
       "    </tr>\n",
       "    <tr>\n",
       "      <th>1991</th>\n",
       "      <td>3034</td>\n",
       "      <td>79696</td>\n",
       "      <td>905.346444</td>\n",
       "      <td>0.440480</td>\n",
       "    </tr>\n",
       "    <tr>\n",
       "      <th>1992</th>\n",
       "      <td>1564</td>\n",
       "      <td>81260</td>\n",
       "      <td>923.113481</td>\n",
       "      <td>0.449124</td>\n",
       "    </tr>\n",
       "    <tr>\n",
       "      <th>1993</th>\n",
       "      <td>1456</td>\n",
       "      <td>82716</td>\n",
       "      <td>939.653639</td>\n",
       "      <td>0.457171</td>\n",
       "    </tr>\n",
       "    <tr>\n",
       "      <th>1994</th>\n",
       "      <td>3405</td>\n",
       "      <td>86121</td>\n",
       "      <td>978.334434</td>\n",
       "      <td>0.475991</td>\n",
       "    </tr>\n",
       "    <tr>\n",
       "      <th>1995</th>\n",
       "      <td>2263</td>\n",
       "      <td>88384</td>\n",
       "      <td>1004.042111</td>\n",
       "      <td>0.488499</td>\n",
       "    </tr>\n",
       "    <tr>\n",
       "      <th>1996</th>\n",
       "      <td>1093</td>\n",
       "      <td>89477</td>\n",
       "      <td>1016.458589</td>\n",
       "      <td>0.494540</td>\n",
       "    </tr>\n",
       "    <tr>\n",
       "      <th>1997</th>\n",
       "      <td>2101</td>\n",
       "      <td>91578</td>\n",
       "      <td>1040.325946</td>\n",
       "      <td>0.506152</td>\n",
       "    </tr>\n",
       "    <tr>\n",
       "      <th>1998</th>\n",
       "      <td>1353</td>\n",
       "      <td>92931</td>\n",
       "      <td>1055.696024</td>\n",
       "      <td>0.513630</td>\n",
       "    </tr>\n",
       "    <tr>\n",
       "      <th>1999</th>\n",
       "      <td>2988</td>\n",
       "      <td>95919</td>\n",
       "      <td>1089.639700</td>\n",
       "      <td>0.530144</td>\n",
       "    </tr>\n",
       "    <tr>\n",
       "      <th>2000</th>\n",
       "      <td>4284</td>\n",
       "      <td>100203</td>\n",
       "      <td>1138.305934</td>\n",
       "      <td>0.553822</td>\n",
       "    </tr>\n",
       "    <tr>\n",
       "      <th>2001</th>\n",
       "      <td>409</td>\n",
       "      <td>100612</td>\n",
       "      <td>1142.952173</td>\n",
       "      <td>0.556083</td>\n",
       "    </tr>\n",
       "    <tr>\n",
       "      <th>2002</th>\n",
       "      <td>2026</td>\n",
       "      <td>102638</td>\n",
       "      <td>1165.967530</td>\n",
       "      <td>0.567280</td>\n",
       "    </tr>\n",
       "    <tr>\n",
       "      <th>2003</th>\n",
       "      <td>1597</td>\n",
       "      <td>104235</td>\n",
       "      <td>1184.109448</td>\n",
       "      <td>0.576107</td>\n",
       "    </tr>\n",
       "    <tr>\n",
       "      <th>2004</th>\n",
       "      <td>1451</td>\n",
       "      <td>105686</td>\n",
       "      <td>1200.592806</td>\n",
       "      <td>0.584127</td>\n",
       "    </tr>\n",
       "    <tr>\n",
       "      <th>2005</th>\n",
       "      <td>2748</td>\n",
       "      <td>108434</td>\n",
       "      <td>1231.810082</td>\n",
       "      <td>0.599315</td>\n",
       "    </tr>\n",
       "    <tr>\n",
       "      <th>2006</th>\n",
       "      <td>3729</td>\n",
       "      <td>112163</td>\n",
       "      <td>1274.171516</td>\n",
       "      <td>0.619925</td>\n",
       "    </tr>\n",
       "    <tr>\n",
       "      <th>2007</th>\n",
       "      <td>6070</td>\n",
       "      <td>118233</td>\n",
       "      <td>1343.126707</td>\n",
       "      <td>0.653474</td>\n",
       "    </tr>\n",
       "    <tr>\n",
       "      <th>2008</th>\n",
       "      <td>4281</td>\n",
       "      <td>122514</td>\n",
       "      <td>1391.758861</td>\n",
       "      <td>0.677135</td>\n",
       "    </tr>\n",
       "    <tr>\n",
       "      <th>2009</th>\n",
       "      <td>2158</td>\n",
       "      <td>124672</td>\n",
       "      <td>1416.273738</td>\n",
       "      <td>0.689062</td>\n",
       "    </tr>\n",
       "    <tr>\n",
       "      <th>2010</th>\n",
       "      <td>2909</td>\n",
       "      <td>127581</td>\n",
       "      <td>1449.319974</td>\n",
       "      <td>0.705140</td>\n",
       "    </tr>\n",
       "    <tr>\n",
       "      <th>2011</th>\n",
       "      <td>649</td>\n",
       "      <td>128230</td>\n",
       "      <td>1456.692613</td>\n",
       "      <td>0.708727</td>\n",
       "    </tr>\n",
       "    <tr>\n",
       "      <th>2012</th>\n",
       "      <td>659</td>\n",
       "      <td>128889</td>\n",
       "      <td>1464.178852</td>\n",
       "      <td>0.712370</td>\n",
       "    </tr>\n",
       "    <tr>\n",
       "      <th>2013</th>\n",
       "      <td>2426</td>\n",
       "      <td>131315</td>\n",
       "      <td>1491.738208</td>\n",
       "      <td>0.725778</td>\n",
       "    </tr>\n",
       "    <tr>\n",
       "      <th>2014</th>\n",
       "      <td>2356</td>\n",
       "      <td>133671</td>\n",
       "      <td>1518.502365</td>\n",
       "      <td>0.738800</td>\n",
       "    </tr>\n",
       "    <tr>\n",
       "      <th>2015</th>\n",
       "      <td>2031</td>\n",
       "      <td>135702</td>\n",
       "      <td>1541.574522</td>\n",
       "      <td>0.750025</td>\n",
       "    </tr>\n",
       "    <tr>\n",
       "      <th>2016</th>\n",
       "      <td>1725</td>\n",
       "      <td>137427</td>\n",
       "      <td>1561.170519</td>\n",
       "      <td>0.759559</td>\n",
       "    </tr>\n",
       "    <tr>\n",
       "      <th>2017</th>\n",
       "      <td>20</td>\n",
       "      <td>137447</td>\n",
       "      <td>1561.397719</td>\n",
       "      <td>0.759670</td>\n",
       "    </tr>\n",
       "    <tr>\n",
       "      <th>2801</th>\n",
       "      <td>24</td>\n",
       "      <td>137471</td>\n",
       "      <td>1561.670359</td>\n",
       "      <td>0.759802</td>\n",
       "    </tr>\n",
       "    <tr>\n",
       "      <th>4101</th>\n",
       "      <td>11</td>\n",
       "      <td>137482</td>\n",
       "      <td>1561.795319</td>\n",
       "      <td>0.759863</td>\n",
       "    </tr>\n",
       "  </tbody>\n",
       "</table>\n",
       "</div>"
      ],
      "text/plain": [
       "                                    total_units  cumulative_units  \\\n",
       "new rent control year-built cutoff                                  \n",
       "1980                                       6609              6609   \n",
       "1981                                       3442             10051   \n",
       "1982                                       5821             15872   \n",
       "1983                                       8781             24653   \n",
       "1984                                       4738             29391   \n",
       "1985                                       1523             30914   \n",
       "1986                                       6233             37147   \n",
       "1987                                       6134             43281   \n",
       "1988                                      10418             53699   \n",
       "1989                                      13857             67556   \n",
       "1990                                       9106             76662   \n",
       "1991                                       3034             79696   \n",
       "1992                                       1564             81260   \n",
       "1993                                       1456             82716   \n",
       "1994                                       3405             86121   \n",
       "1995                                       2263             88384   \n",
       "1996                                       1093             89477   \n",
       "1997                                       2101             91578   \n",
       "1998                                       1353             92931   \n",
       "1999                                       2988             95919   \n",
       "2000                                       4284            100203   \n",
       "2001                                        409            100612   \n",
       "2002                                       2026            102638   \n",
       "2003                                       1597            104235   \n",
       "2004                                       1451            105686   \n",
       "2005                                       2748            108434   \n",
       "2006                                       3729            112163   \n",
       "2007                                       6070            118233   \n",
       "2008                                       4281            122514   \n",
       "2009                                       2158            124672   \n",
       "2010                                       2909            127581   \n",
       "2011                                        649            128230   \n",
       "2012                                        659            128889   \n",
       "2013                                       2426            131315   \n",
       "2014                                       2356            133671   \n",
       "2015                                       2031            135702   \n",
       "2016                                       1725            137427   \n",
       "2017                                         20            137447   \n",
       "2801                                         24            137471   \n",
       "4101                                         11            137482   \n",
       "\n",
       "                                    potential_evictions  pct_growth  \n",
       "new rent control year-built cutoff                                   \n",
       "1980                                          75.078230    0.036528  \n",
       "1981                                         114.179345    0.055552  \n",
       "1982                                         180.305897    0.087725  \n",
       "1983                                         280.058044    0.136257  \n",
       "1984                                         333.881717    0.162444  \n",
       "1985                                         351.182995    0.170862  \n",
       "1986                                         421.989866    0.205312  \n",
       "1987                                         491.672097    0.239214  \n",
       "1988                                         610.020562    0.296794  \n",
       "1989                                         767.436061    0.373382  \n",
       "1990                                         870.880208    0.423711  \n",
       "1991                                         905.346444    0.440480  \n",
       "1992                                         923.113481    0.449124  \n",
       "1993                                         939.653639    0.457171  \n",
       "1994                                         978.334434    0.475991  \n",
       "1995                                        1004.042111    0.488499  \n",
       "1996                                        1016.458589    0.494540  \n",
       "1997                                        1040.325946    0.506152  \n",
       "1998                                        1055.696024    0.513630  \n",
       "1999                                        1089.639700    0.530144  \n",
       "2000                                        1138.305934    0.553822  \n",
       "2001                                        1142.952173    0.556083  \n",
       "2002                                        1165.967530    0.567280  \n",
       "2003                                        1184.109448    0.576107  \n",
       "2004                                        1200.592806    0.584127  \n",
       "2005                                        1231.810082    0.599315  \n",
       "2006                                        1274.171516    0.619925  \n",
       "2007                                        1343.126707    0.653474  \n",
       "2008                                        1391.758861    0.677135  \n",
       "2009                                        1416.273738    0.689062  \n",
       "2010                                        1449.319974    0.705140  \n",
       "2011                                        1456.692613    0.708727  \n",
       "2012                                        1464.178852    0.712370  \n",
       "2013                                        1491.738208    0.725778  \n",
       "2014                                        1518.502365    0.738800  \n",
       "2015                                        1541.574522    0.750025  \n",
       "2016                                        1561.170519    0.759559  \n",
       "2017                                        1561.397719    0.759670  \n",
       "2801                                        1561.670359    0.759802  \n",
       "4101                                        1561.795319    0.759863  "
      ]
     },
     "execution_count": 203,
     "metadata": {},
     "output_type": "execute_result"
    }
   ],
   "source": [
    "rc_pop"
   ]
  },
  {
   "cell_type": "markdown",
   "metadata": {},
   "source": [
    "### RDD package"
   ]
  },
  {
   "cell_type": "code",
   "execution_count": 7,
   "metadata": {},
   "outputs": [],
   "source": [
    "import rdd"
   ]
  },
  {
   "cell_type": "code",
   "execution_count": null,
   "metadata": {},
   "outputs": [],
   "source": []
  }
 ],
 "metadata": {
  "kernelspec": {
   "display_name": "Python 3",
   "language": "python",
   "name": "python3"
  },
  "language_info": {
   "codemirror_mode": {
    "name": "ipython",
    "version": 3
   },
   "file_extension": ".py",
   "mimetype": "text/x-python",
   "name": "python",
   "nbconvert_exporter": "python",
   "pygments_lexer": "ipython3",
   "version": "3.7.8"
  }
 },
 "nbformat": 4,
 "nbformat_minor": 4
}
