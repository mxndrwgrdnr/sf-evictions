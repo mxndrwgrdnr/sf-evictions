{
 "cells": [
  {
   "cell_type": "markdown",
   "id": "67b0c8a0",
   "metadata": {},
   "source": [
    "Questions for Brian:\n",
    "- Columns:\n",
    "    - Class Codes: only ['F', 'A', 'DA', 'AC', 'FA', 'DF', '']\n",
    "        - no CO, DD, FS, OA, etc.\n",
    "    - \"Counters\" = cumulative sum?\n",
    "- Unique building ID instead of MAP_BLK_LOT?\n",
    "- Inclusive of 1979/1980 or no?\n",
    "- Whats going on with buildings built in 1985? See RD plot\n",
    "- Negative relationship between built year and eviction rate on both sides of discontinuity.\n",
    "- Best way to account for up-conversion, down-conversion, and policy changes?\n",
    "- Census Tract for RD model params?"
   ]
  },
  {
   "cell_type": "code",
   "execution_count": 128,
   "id": "f2ab6b7b",
   "metadata": {},
   "outputs": [],
   "source": [
    "import pandas as pd\n",
    "import os\n",
    "from matplotlib import pyplot as plt\n",
    "import seaborn as sns"
   ]
  },
  {
   "cell_type": "code",
   "execution_count": 17,
   "id": "7fbfb3fa",
   "metadata": {},
   "outputs": [
    {
     "data": {
      "text/plain": [
       "'/Users/max/Documents/cal/evictions'"
      ]
     },
     "execution_count": 17,
     "metadata": {},
     "output_type": "execute_result"
    }
   ],
   "source": [
    "os.getcwd()"
   ]
  },
  {
   "cell_type": "code",
   "execution_count": 18,
   "id": "a1ad96c0",
   "metadata": {},
   "outputs": [],
   "source": [
    "asr = pd.read_csv('./data/asr_grouped_by_yr_w_fips.csv', dtype={'fipscd': str})"
   ]
  },
  {
   "cell_type": "code",
   "execution_count": 20,
   "id": "b04f31a8",
   "metadata": {},
   "outputs": [
    {
     "data": {
      "text/plain": [
       "Index(['index', 'asr_yr', 'house_1', 'house_2', 'street_name', 'street_type',\n",
       "       'total_units', 'uniq_unit_counts', 'min_units', 'uniq_bldg_types',\n",
       "       'bldg_type_min', 'bldg_type_max', 'uniq_rc_eligibility',\n",
       "       'any_rc_eligibility', 'uniq_years_built', 'year_built_min',\n",
       "       'year_built_max', 'uniq_fipscd', 'fipscd', 'ev_count_post_07',\n",
       "       'ev_count'],\n",
       "      dtype='object')"
      ]
     },
     "execution_count": 20,
     "metadata": {},
     "output_type": "execute_result"
    }
   ],
   "source": [
    "asr.columns"
   ]
  },
  {
   "cell_type": "code",
   "execution_count": 163,
   "id": "76b218ef",
   "metadata": {},
   "outputs": [],
   "source": [
    "asr = asr[asr['total_units'] > 0]"
   ]
  },
  {
   "cell_type": "code",
   "execution_count": 169,
   "id": "ee5520dd",
   "metadata": {},
   "outputs": [],
   "source": [
    "asr['ev_per_unit'] = asr['ev_count_post_07'] / asr['total_units']"
   ]
  },
  {
   "cell_type": "code",
   "execution_count": 170,
   "id": "5ec038b6",
   "metadata": {},
   "outputs": [],
   "source": [
    "asr = asr[asr['any_rc_eligibility'] == 1]"
   ]
  },
  {
   "cell_type": "code",
   "execution_count": 171,
   "id": "46b14eea",
   "metadata": {},
   "outputs": [],
   "source": [
    "asr['pre_1980'] = (asr['year_built_max'] < 1980)"
   ]
  },
  {
   "cell_type": "code",
   "execution_count": 172,
   "id": "22346a8f",
   "metadata": {},
   "outputs": [
    {
     "data": {
      "text/plain": [
       "pre_1980\n",
       "False    0.004986\n",
       "True     0.012759\n",
       "Name: ev_per_unit, dtype: float64"
      ]
     },
     "execution_count": 172,
     "metadata": {},
     "output_type": "execute_result"
    }
   ],
   "source": [
    "asr.groupby('pre_1980')['ev_per_unit'].mean()"
   ]
  },
  {
   "cell_type": "code",
   "execution_count": null,
   "id": "ecda0868",
   "metadata": {},
   "outputs": [],
   "source": [
    "asr['']"
   ]
  },
  {
   "cell_type": "code",
   "execution_count": 186,
   "id": "3b90fe7e",
   "metadata": {},
   "outputs": [
    {
     "data": {
      "text/html": [
       "<div>\n",
       "<style scoped>\n",
       "    .dataframe tbody tr th:only-of-type {\n",
       "        vertical-align: middle;\n",
       "    }\n",
       "\n",
       "    .dataframe tbody tr th {\n",
       "        vertical-align: top;\n",
       "    }\n",
       "\n",
       "    .dataframe thead th {\n",
       "        text-align: right;\n",
       "    }\n",
       "</style>\n",
       "<table border=\"1\" class=\"dataframe\">\n",
       "  <thead>\n",
       "    <tr style=\"text-align: right;\">\n",
       "      <th></th>\n",
       "      <th>house_1</th>\n",
       "      <th>house_2</th>\n",
       "      <th>total_units</th>\n",
       "    </tr>\n",
       "    <tr>\n",
       "      <th>pre_1980</th>\n",
       "      <th></th>\n",
       "      <th></th>\n",
       "      <th></th>\n",
       "    </tr>\n",
       "  </thead>\n",
       "  <tbody>\n",
       "    <tr>\n",
       "      <th>False</th>\n",
       "      <td>-225.987429</td>\n",
       "      <td>1188.626286</td>\n",
       "      <td>11.275531</td>\n",
       "    </tr>\n",
       "    <tr>\n",
       "      <th>True</th>\n",
       "      <td>535.014067</td>\n",
       "      <td>1414.029653</td>\n",
       "      <td>4.881550</td>\n",
       "    </tr>\n",
       "  </tbody>\n",
       "</table>\n",
       "</div>"
      ],
      "text/plain": [
       "             house_1      house_2  total_units\n",
       "pre_1980                                      \n",
       "False    -225.987429  1188.626286    11.275531\n",
       "True      535.014067  1414.029653     4.881550"
      ]
     },
     "execution_count": 186,
     "metadata": {},
     "output_type": "execute_result"
    }
   ],
   "source": [
    "asr.groupby(['house_1','house_2','street_name','street_type','pre_1980'])['total_units'].mean().reset_index().groupby('pre_1980').mean()"
   ]
  },
  {
   "cell_type": "code",
   "execution_count": null,
   "id": "848978ea",
   "metadata": {},
   "outputs": [],
   "source": [
    "asr.groupby('pre_1980')['inde']"
   ]
  },
  {
   "cell_type": "code",
   "execution_count": 2,
   "id": "aaa7456b",
   "metadata": {},
   "outputs": [],
   "source": [
    "df = pd.read_stata(\"hpd_correction/Eviction_Building_Panel_Gardner_200307to201312_v1.dta\")"
   ]
  },
  {
   "cell_type": "code",
   "execution_count": 41,
   "id": "01456f21",
   "metadata": {},
   "outputs": [
    {
     "data": {
      "text/plain": [
       "True     4079176\n",
       "False         12\n",
       "dtype: int64"
      ]
     },
     "execution_count": 41,
     "metadata": {},
     "output_type": "execute_result"
    }
   ],
   "source": [
    "(df['permit_count'] >= df['rc_permit']).value_counts()"
   ]
  },
  {
   "cell_type": "code",
   "execution_count": 187,
   "id": "0fe7661a",
   "metadata": {},
   "outputs": [
    {
     "data": {
      "text/plain": [
       "initial_rentcontrol\n",
       "0.0    8.534335\n",
       "1.0    5.249129\n",
       "Name: initial_newUNITS, dtype: float64"
      ]
     },
     "execution_count": 187,
     "metadata": {},
     "output_type": "execute_result"
    }
   ],
   "source": []
  },
  {
   "cell_type": "code",
   "execution_count": 156,
   "id": "7c8e294c",
   "metadata": {},
   "outputs": [
    {
     "data": {
      "text/html": [
       "<div>\n",
       "<style scoped>\n",
       "    .dataframe tbody tr th:only-of-type {\n",
       "        vertical-align: middle;\n",
       "    }\n",
       "\n",
       "    .dataframe tbody tr th {\n",
       "        vertical-align: top;\n",
       "    }\n",
       "\n",
       "    .dataframe thead th {\n",
       "        text-align: right;\n",
       "    }\n",
       "</style>\n",
       "<table border=\"1\" class=\"dataframe\">\n",
       "  <thead>\n",
       "    <tr style=\"text-align: right;\">\n",
       "      <th></th>\n",
       "      <th>fiscalyear</th>\n",
       "      <th>RP1NBRCDE</th>\n",
       "      <th>MAP_BLK_LOT</th>\n",
       "      <th>year</th>\n",
       "      <th>month</th>\n",
       "      <th>yymm</th>\n",
       "      <th>demolition_yymm</th>\n",
       "      <th>modeRP1CLACDE</th>\n",
       "      <th>LATITUDE</th>\n",
       "      <th>LONGITUDE</th>\n",
       "      <th>...</th>\n",
       "      <th>pol_elliselddis</th>\n",
       "      <th>pol_othernofltminpmt</th>\n",
       "      <th>pol_othernofltmaxpmt</th>\n",
       "      <th>pol_othernofltelddis</th>\n",
       "      <th>totalellisminpmt</th>\n",
       "      <th>totalotherminpmt</th>\n",
       "      <th>total_evic</th>\n",
       "      <th>nofault_per_unit</th>\n",
       "      <th>total_evic_per_unit</th>\n",
       "      <th>atfault_per_unit</th>\n",
       "    </tr>\n",
       "  </thead>\n",
       "  <tbody>\n",
       "    <tr>\n",
       "      <th>698371</th>\n",
       "      <td>2004.0</td>\n",
       "      <td>06C</td>\n",
       "      <td>1081055</td>\n",
       "      <td>2005.0</td>\n",
       "      <td>3.0</td>\n",
       "      <td>200503.0</td>\n",
       "      <td>NaN</td>\n",
       "      <td>F</td>\n",
       "      <td>37.783138</td>\n",
       "      <td>-122.443687</td>\n",
       "      <td>...</td>\n",
       "      <td>1.0</td>\n",
       "      <td>1.0</td>\n",
       "      <td>0.0</td>\n",
       "      <td>0.0</td>\n",
       "      <td>0.0</td>\n",
       "      <td>0.0</td>\n",
       "      <td>1.0</td>\n",
       "      <td>0.5</td>\n",
       "      <td>0.5</td>\n",
       "      <td>0.0</td>\n",
       "    </tr>\n",
       "  </tbody>\n",
       "</table>\n",
       "<p>1 rows × 87 columns</p>\n",
       "</div>"
      ],
      "text/plain": [
       "        fiscalyear RP1NBRCDE MAP_BLK_LOT    year  month      yymm  \\\n",
       "698371      2004.0       06C     1081055  2005.0    3.0  200503.0   \n",
       "\n",
       "        demolition_yymm modeRP1CLACDE   LATITUDE   LONGITUDE  ...  \\\n",
       "698371              NaN             F  37.783138 -122.443687  ...   \n",
       "\n",
       "        pol_elliselddis  pol_othernofltminpmt  pol_othernofltmaxpmt  \\\n",
       "698371              1.0                   1.0                   0.0   \n",
       "\n",
       "        pol_othernofltelddis  totalellisminpmt  totalotherminpmt  total_evic  \\\n",
       "698371                   0.0               0.0               0.0         1.0   \n",
       "\n",
       "        nofault_per_unit  total_evic_per_unit  atfault_per_unit  \n",
       "698371               0.5                  0.5               0.0  \n",
       "\n",
       "[1 rows x 87 columns]"
      ]
     },
     "execution_count": 156,
     "metadata": {},
     "output_type": "execute_result"
    }
   ],
   "source": [
    "df[(df['newYRBLT'] >= 1980) & (df['nofault'] > 0)]"
   ]
  },
  {
   "cell_type": "code",
   "execution_count": 53,
   "id": "7115e9c1",
   "metadata": {},
   "outputs": [
    {
     "data": {
      "text/plain": [
       "1.0    3908199\n",
       "0.0     170977\n",
       "Name: initial_rentcontrol, dtype: int64"
      ]
     },
     "execution_count": 53,
     "metadata": {},
     "output_type": "execute_result"
    }
   ],
   "source": [
    "df['initial_rentcontrol'].value_counts()"
   ]
  },
  {
   "cell_type": "code",
   "execution_count": 60,
   "id": "fe314646",
   "metadata": {},
   "outputs": [
    {
     "data": {
      "text/plain": [
       "0.0    168690\n",
       "Name: initial_rentcontrol, dtype: int64"
      ]
     },
     "execution_count": 60,
     "metadata": {},
     "output_type": "execute_result"
    }
   ],
   "source": [
    "df[df['newYRBLT'] >= 1979]['initial_rentcontrol'].value_counts()"
   ]
  },
  {
   "cell_type": "code",
   "execution_count": 68,
   "id": "795ca979",
   "metadata": {},
   "outputs": [],
   "source": [
    "foo = df[(df['newYRBLT'] < 1979) & (df['initial_rentcontrol'] == 0)][['upconversion','MAP_BLK_LOT','modeRP1CLACDE','demolition_yymm','demolished','downconversion','initial_newUNITS']]"
   ]
  },
  {
   "cell_type": "code",
   "execution_count": 70,
   "id": "2d239b59",
   "metadata": {},
   "outputs": [
    {
     "data": {
      "text/html": [
       "<div>\n",
       "<style scoped>\n",
       "    .dataframe tbody tr th:only-of-type {\n",
       "        vertical-align: middle;\n",
       "    }\n",
       "\n",
       "    .dataframe tbody tr th {\n",
       "        vertical-align: top;\n",
       "    }\n",
       "\n",
       "    .dataframe thead th {\n",
       "        text-align: right;\n",
       "    }\n",
       "</style>\n",
       "<table border=\"1\" class=\"dataframe\">\n",
       "  <thead>\n",
       "    <tr style=\"text-align: right;\">\n",
       "      <th></th>\n",
       "      <th>upconversion</th>\n",
       "      <th>MAP_BLK_LOT</th>\n",
       "      <th>modeRP1CLACDE</th>\n",
       "      <th>demolition_yymm</th>\n",
       "      <th>demolished</th>\n",
       "      <th>downconversion</th>\n",
       "      <th>initial_newUNITS</th>\n",
       "    </tr>\n",
       "  </thead>\n",
       "  <tbody>\n",
       "    <tr>\n",
       "      <th>108</th>\n",
       "      <td>0.0</td>\n",
       "      <td>0091043</td>\n",
       "      <td>F</td>\n",
       "      <td>NaN</td>\n",
       "      <td>0.0</td>\n",
       "      <td>0.0</td>\n",
       "      <td>2.0</td>\n",
       "    </tr>\n",
       "    <tr>\n",
       "      <th>2759110</th>\n",
       "      <td>0.0</td>\n",
       "      <td>1225027</td>\n",
       "      <td>A</td>\n",
       "      <td>NaN</td>\n",
       "      <td>0.0</td>\n",
       "      <td>0.0</td>\n",
       "      <td>7.0</td>\n",
       "    </tr>\n",
       "    <tr>\n",
       "      <th>2757310</th>\n",
       "      <td>0.0</td>\n",
       "      <td>0091043</td>\n",
       "      <td>F</td>\n",
       "      <td>NaN</td>\n",
       "      <td>0.0</td>\n",
       "      <td>0.0</td>\n",
       "      <td>2.0</td>\n",
       "    </tr>\n",
       "    <tr>\n",
       "      <th>2757089</th>\n",
       "      <td>0.0</td>\n",
       "      <td>1239001</td>\n",
       "      <td>A</td>\n",
       "      <td>NaN</td>\n",
       "      <td>0.0</td>\n",
       "      <td>0.0</td>\n",
       "      <td>9.0</td>\n",
       "    </tr>\n",
       "    <tr>\n",
       "      <th>2754465</th>\n",
       "      <td>0.0</td>\n",
       "      <td>0822023</td>\n",
       "      <td>A</td>\n",
       "      <td>NaN</td>\n",
       "      <td>0.0</td>\n",
       "      <td>0.0</td>\n",
       "      <td>6.0</td>\n",
       "    </tr>\n",
       "    <tr>\n",
       "      <th>...</th>\n",
       "      <td>...</td>\n",
       "      <td>...</td>\n",
       "      <td>...</td>\n",
       "      <td>...</td>\n",
       "      <td>...</td>\n",
       "      <td>...</td>\n",
       "      <td>...</td>\n",
       "    </tr>\n",
       "    <tr>\n",
       "      <th>1365629</th>\n",
       "      <td>0.0</td>\n",
       "      <td>1177025</td>\n",
       "      <td>A</td>\n",
       "      <td>NaN</td>\n",
       "      <td>0.0</td>\n",
       "      <td>0.0</td>\n",
       "      <td>18.0</td>\n",
       "    </tr>\n",
       "    <tr>\n",
       "      <th>1365865</th>\n",
       "      <td>0.0</td>\n",
       "      <td>0187001</td>\n",
       "      <td>A</td>\n",
       "      <td>NaN</td>\n",
       "      <td>0.0</td>\n",
       "      <td>0.0</td>\n",
       "      <td>15.0</td>\n",
       "    </tr>\n",
       "    <tr>\n",
       "      <th>1366303</th>\n",
       "      <td>0.0</td>\n",
       "      <td>3547009</td>\n",
       "      <td>A</td>\n",
       "      <td>NaN</td>\n",
       "      <td>0.0</td>\n",
       "      <td>0.0</td>\n",
       "      <td>52.0</td>\n",
       "    </tr>\n",
       "    <tr>\n",
       "      <th>1364020</th>\n",
       "      <td>0.0</td>\n",
       "      <td>3701011</td>\n",
       "      <td>F</td>\n",
       "      <td>NaN</td>\n",
       "      <td>0.0</td>\n",
       "      <td>0.0</td>\n",
       "      <td>3.0</td>\n",
       "    </tr>\n",
       "    <tr>\n",
       "      <th>4078435</th>\n",
       "      <td>0.0</td>\n",
       "      <td>2039019</td>\n",
       "      <td>F</td>\n",
       "      <td>NaN</td>\n",
       "      <td>0.0</td>\n",
       "      <td>0.0</td>\n",
       "      <td>3.0</td>\n",
       "    </tr>\n",
       "  </tbody>\n",
       "</table>\n",
       "<p>2287 rows × 7 columns</p>\n",
       "</div>"
      ],
      "text/plain": [
       "         upconversion MAP_BLK_LOT modeRP1CLACDE  demolition_yymm  demolished  \\\n",
       "108               0.0     0091043             F              NaN         0.0   \n",
       "2759110           0.0     1225027             A              NaN         0.0   \n",
       "2757310           0.0     0091043             F              NaN         0.0   \n",
       "2757089           0.0     1239001             A              NaN         0.0   \n",
       "2754465           0.0     0822023             A              NaN         0.0   \n",
       "...               ...         ...           ...              ...         ...   \n",
       "1365629           0.0     1177025             A              NaN         0.0   \n",
       "1365865           0.0     0187001             A              NaN         0.0   \n",
       "1366303           0.0     3547009             A              NaN         0.0   \n",
       "1364020           0.0     3701011             F              NaN         0.0   \n",
       "4078435           0.0     2039019             F              NaN         0.0   \n",
       "\n",
       "         downconversion  initial_newUNITS  \n",
       "108                 0.0               2.0  \n",
       "2759110             0.0               7.0  \n",
       "2757310             0.0               2.0  \n",
       "2757089             0.0               9.0  \n",
       "2754465             0.0               6.0  \n",
       "...                 ...               ...  \n",
       "1365629             0.0              18.0  \n",
       "1365865             0.0              15.0  \n",
       "1366303             0.0              52.0  \n",
       "1364020             0.0               3.0  \n",
       "4078435             0.0               3.0  \n",
       "\n",
       "[2287 rows x 7 columns]"
      ]
     },
     "execution_count": 70,
     "metadata": {},
     "output_type": "execute_result"
    }
   ],
   "source": [
    "foo.sort_values(['upconversion'])"
   ]
  },
  {
   "cell_type": "code",
   "execution_count": 198,
   "id": "cb95ad4d",
   "metadata": {},
   "outputs": [],
   "source": [
    "df['total_evic'] = df['atfault'] + df['nofault']\n",
    "\n",
    "df['nofault_per_unit'] = (df['nofault'] / df['initial_newUNITS'])\n",
    "df['total_evic_per_unit'] = (df['total_evic'] / df['initial_newUNITS'])\n",
    "df['atfault_per_unit'] = (df['atfault'] / df['initial_newUNITS'])\n",
    "\n",
    "df.groupby('initial_rentcontrol').agg(\n",
    "    {'atfault_per_unit': \"mean\", \"nofault_per_unit\": \"mean\", \"total_evic_per_unit\": \"mean\"}) * 12"
   ]
  },
  {
   "cell_type": "code",
   "execution_count": 162,
   "id": "ef28ccec",
   "metadata": {},
   "outputs": [
    {
     "data": {
      "text/plain": [
       "7812.0"
      ]
     },
     "execution_count": 162,
     "metadata": {},
     "output_type": "execute_result"
    }
   ],
   "source": [
    "df['total_evic'].sum()"
   ]
  },
  {
   "cell_type": "code",
   "execution_count": 205,
   "id": "b7a83dff",
   "metadata": {},
   "outputs": [],
   "source": [
    "df_year = df.groupby(['MAP_BLK_LOT', 'year', 'newYRBLT', 'initial_newUNITS', 'initial_rentcontrol']).agg(\n",
    "    {'atfault': \"sum\", \"nofault\": \"sum\", \"total_evic\": \"sum\", \"month\": \"count\"}\n",
    ").reset_index().rename(columns={'month':'months_obs'})"
   ]
  },
  {
   "cell_type": "code",
   "execution_count": 206,
   "id": "a1037b83",
   "metadata": {},
   "outputs": [
    {
     "data": {
      "text/html": [
       "<div>\n",
       "<style scoped>\n",
       "    .dataframe tbody tr th:only-of-type {\n",
       "        vertical-align: middle;\n",
       "    }\n",
       "\n",
       "    .dataframe tbody tr th {\n",
       "        vertical-align: top;\n",
       "    }\n",
       "\n",
       "    .dataframe thead th {\n",
       "        text-align: right;\n",
       "    }\n",
       "</style>\n",
       "<table border=\"1\" class=\"dataframe\">\n",
       "  <thead>\n",
       "    <tr style=\"text-align: right;\">\n",
       "      <th></th>\n",
       "      <th>MAP_BLK_LOT</th>\n",
       "      <th>year</th>\n",
       "      <th>newYRBLT</th>\n",
       "      <th>initial_newUNITS</th>\n",
       "      <th>initial_rentcontrol</th>\n",
       "      <th>atfault</th>\n",
       "      <th>nofault</th>\n",
       "      <th>total_evic</th>\n",
       "      <th>months_obs</th>\n",
       "    </tr>\n",
       "  </thead>\n",
       "  <tbody>\n",
       "    <tr>\n",
       "      <th>0</th>\n",
       "      <td>0024005</td>\n",
       "      <td>2003.0</td>\n",
       "      <td>1906.0</td>\n",
       "      <td>6.0</td>\n",
       "      <td>1.0</td>\n",
       "      <td>0.0</td>\n",
       "      <td>0.0</td>\n",
       "      <td>0.0</td>\n",
       "      <td>6</td>\n",
       "    </tr>\n",
       "    <tr>\n",
       "      <th>1</th>\n",
       "      <td>0024005</td>\n",
       "      <td>2004.0</td>\n",
       "      <td>1906.0</td>\n",
       "      <td>6.0</td>\n",
       "      <td>1.0</td>\n",
       "      <td>0.0</td>\n",
       "      <td>0.0</td>\n",
       "      <td>0.0</td>\n",
       "      <td>12</td>\n",
       "    </tr>\n",
       "    <tr>\n",
       "      <th>2</th>\n",
       "      <td>0024005</td>\n",
       "      <td>2005.0</td>\n",
       "      <td>1906.0</td>\n",
       "      <td>6.0</td>\n",
       "      <td>1.0</td>\n",
       "      <td>0.0</td>\n",
       "      <td>0.0</td>\n",
       "      <td>0.0</td>\n",
       "      <td>12</td>\n",
       "    </tr>\n",
       "    <tr>\n",
       "      <th>3</th>\n",
       "      <td>0024005</td>\n",
       "      <td>2006.0</td>\n",
       "      <td>1906.0</td>\n",
       "      <td>6.0</td>\n",
       "      <td>1.0</td>\n",
       "      <td>0.0</td>\n",
       "      <td>0.0</td>\n",
       "      <td>0.0</td>\n",
       "      <td>12</td>\n",
       "    </tr>\n",
       "    <tr>\n",
       "      <th>4</th>\n",
       "      <td>0024005</td>\n",
       "      <td>2007.0</td>\n",
       "      <td>1906.0</td>\n",
       "      <td>6.0</td>\n",
       "      <td>1.0</td>\n",
       "      <td>0.0</td>\n",
       "      <td>0.0</td>\n",
       "      <td>0.0</td>\n",
       "      <td>12</td>\n",
       "    </tr>\n",
       "    <tr>\n",
       "      <th>...</th>\n",
       "      <td>...</td>\n",
       "      <td>...</td>\n",
       "      <td>...</td>\n",
       "      <td>...</td>\n",
       "      <td>...</td>\n",
       "      <td>...</td>\n",
       "      <td>...</td>\n",
       "      <td>...</td>\n",
       "      <td>...</td>\n",
       "    </tr>\n",
       "    <tr>\n",
       "      <th>358064</th>\n",
       "      <td>7555101</td>\n",
       "      <td>2009.0</td>\n",
       "      <td>1968.0</td>\n",
       "      <td>16.0</td>\n",
       "      <td>1.0</td>\n",
       "      <td>0.0</td>\n",
       "      <td>0.0</td>\n",
       "      <td>0.0</td>\n",
       "      <td>12</td>\n",
       "    </tr>\n",
       "    <tr>\n",
       "      <th>358065</th>\n",
       "      <td>7555101</td>\n",
       "      <td>2010.0</td>\n",
       "      <td>1968.0</td>\n",
       "      <td>16.0</td>\n",
       "      <td>1.0</td>\n",
       "      <td>0.0</td>\n",
       "      <td>0.0</td>\n",
       "      <td>0.0</td>\n",
       "      <td>12</td>\n",
       "    </tr>\n",
       "    <tr>\n",
       "      <th>358066</th>\n",
       "      <td>7555101</td>\n",
       "      <td>2011.0</td>\n",
       "      <td>1968.0</td>\n",
       "      <td>16.0</td>\n",
       "      <td>1.0</td>\n",
       "      <td>0.0</td>\n",
       "      <td>0.0</td>\n",
       "      <td>0.0</td>\n",
       "      <td>12</td>\n",
       "    </tr>\n",
       "    <tr>\n",
       "      <th>358067</th>\n",
       "      <td>7555101</td>\n",
       "      <td>2012.0</td>\n",
       "      <td>1968.0</td>\n",
       "      <td>16.0</td>\n",
       "      <td>1.0</td>\n",
       "      <td>0.0</td>\n",
       "      <td>0.0</td>\n",
       "      <td>0.0</td>\n",
       "      <td>12</td>\n",
       "    </tr>\n",
       "    <tr>\n",
       "      <th>358068</th>\n",
       "      <td>7555101</td>\n",
       "      <td>2013.0</td>\n",
       "      <td>1968.0</td>\n",
       "      <td>16.0</td>\n",
       "      <td>1.0</td>\n",
       "      <td>0.0</td>\n",
       "      <td>0.0</td>\n",
       "      <td>0.0</td>\n",
       "      <td>12</td>\n",
       "    </tr>\n",
       "  </tbody>\n",
       "</table>\n",
       "<p>358069 rows × 9 columns</p>\n",
       "</div>"
      ],
      "text/plain": [
       "       MAP_BLK_LOT    year  newYRBLT  initial_newUNITS  initial_rentcontrol  \\\n",
       "0          0024005  2003.0    1906.0               6.0                  1.0   \n",
       "1          0024005  2004.0    1906.0               6.0                  1.0   \n",
       "2          0024005  2005.0    1906.0               6.0                  1.0   \n",
       "3          0024005  2006.0    1906.0               6.0                  1.0   \n",
       "4          0024005  2007.0    1906.0               6.0                  1.0   \n",
       "...            ...     ...       ...               ...                  ...   \n",
       "358064     7555101  2009.0    1968.0              16.0                  1.0   \n",
       "358065     7555101  2010.0    1968.0              16.0                  1.0   \n",
       "358066     7555101  2011.0    1968.0              16.0                  1.0   \n",
       "358067     7555101  2012.0    1968.0              16.0                  1.0   \n",
       "358068     7555101  2013.0    1968.0              16.0                  1.0   \n",
       "\n",
       "        atfault  nofault  total_evic  months_obs  \n",
       "0           0.0      0.0         0.0           6  \n",
       "1           0.0      0.0         0.0          12  \n",
       "2           0.0      0.0         0.0          12  \n",
       "3           0.0      0.0         0.0          12  \n",
       "4           0.0      0.0         0.0          12  \n",
       "...         ...      ...         ...         ...  \n",
       "358064      0.0      0.0         0.0          12  \n",
       "358065      0.0      0.0         0.0          12  \n",
       "358066      0.0      0.0         0.0          12  \n",
       "358067      0.0      0.0         0.0          12  \n",
       "358068      0.0      0.0         0.0          12  \n",
       "\n",
       "[358069 rows x 9 columns]"
      ]
     },
     "execution_count": 206,
     "metadata": {},
     "output_type": "execute_result"
    }
   ],
   "source": [
    "df_year"
   ]
  },
  {
   "cell_type": "code",
   "execution_count": 207,
   "id": "765aa866",
   "metadata": {},
   "outputs": [],
   "source": [
    "df_year['nofault_per_unit'] = (df_year['nofault'] / df_year['initial_newUNITS']) / df_year['months_obs']\n",
    "df_year['atfault_per_unit'] = (df_year['atfault'] / df_year['initial_newUNITS']) / df_year['months_obs']\n",
    "df_year['total_evic_per_unit'] = (df_year['total_evic'] / df_year['initial_newUNITS']) / df_year['months_obs']"
   ]
  },
  {
   "cell_type": "code",
   "execution_count": 208,
   "id": "6f5c3614",
   "metadata": {},
   "outputs": [],
   "source": [
    "df_year['nofault_per_unit_per_yr'] = df_year['nofault_per_unit'] * 12\n",
    "df_year['total_evic_per_unit_per_yr'] = df_year['total_evic_per_unit'] * 12\n",
    "df_year['atfault_per_unit_per_yr'] = df_year['atfault_per_unit'] * 12"
   ]
  },
  {
   "cell_type": "code",
   "execution_count": 212,
   "id": "c05994d6",
   "metadata": {},
   "outputs": [
    {
     "data": {
      "text/html": [
       "<div>\n",
       "<style scoped>\n",
       "    .dataframe tbody tr th:only-of-type {\n",
       "        vertical-align: middle;\n",
       "    }\n",
       "\n",
       "    .dataframe tbody tr th {\n",
       "        vertical-align: top;\n",
       "    }\n",
       "\n",
       "    .dataframe thead th {\n",
       "        text-align: right;\n",
       "    }\n",
       "</style>\n",
       "<table border=\"1\" class=\"dataframe\">\n",
       "  <thead>\n",
       "    <tr style=\"text-align: right;\">\n",
       "      <th></th>\n",
       "      <th>total_addresses</th>\n",
       "      <th>total_units</th>\n",
       "      <th>mean_units_per_address</th>\n",
       "      <th>total_evictions</th>\n",
       "      <th>mean_ev_per_unit</th>\n",
       "    </tr>\n",
       "    <tr>\n",
       "      <th>initial_rentcontrol</th>\n",
       "      <th></th>\n",
       "      <th></th>\n",
       "      <th></th>\n",
       "      <th></th>\n",
       "      <th></th>\n",
       "    </tr>\n",
       "  </thead>\n",
       "  <tbody>\n",
       "    <tr>\n",
       "      <th>0.0</th>\n",
       "      <td>14974</td>\n",
       "      <td>127638.0</td>\n",
       "      <td>8.523975</td>\n",
       "      <td>100.0</td>\n",
       "      <td>0.002347</td>\n",
       "    </tr>\n",
       "    <tr>\n",
       "      <th>1.0</th>\n",
       "      <td>343095</td>\n",
       "      <td>1796465.0</td>\n",
       "      <td>5.236057</td>\n",
       "      <td>7712.0</td>\n",
       "      <td>0.005178</td>\n",
       "    </tr>\n",
       "  </tbody>\n",
       "</table>\n",
       "</div>"
      ],
      "text/plain": [
       "                     total_addresses  total_units  mean_units_per_address  \\\n",
       "initial_rentcontrol                                                         \n",
       "0.0                            14974     127638.0                8.523975   \n",
       "1.0                           343095    1796465.0                5.236057   \n",
       "\n",
       "                     total_evictions  mean_ev_per_unit  \n",
       "initial_rentcontrol                                     \n",
       "0.0                            100.0          0.002347  \n",
       "1.0                           7712.0          0.005178  "
      ]
     },
     "execution_count": 212,
     "metadata": {},
     "output_type": "execute_result"
    }
   ],
   "source": [
    "df_year.groupby(['initial_rentcontrol']).agg(\n",
    "    total_addresses=('MAP_BLK_LOT', 'count'),\n",
    "    total_units=('initial_newUNITS', 'sum'),\n",
    "    mean_units_per_address=('initial_newUNITS', 'mean'),\n",
    "    total_evictions=('total_evic', 'sum'),\n",
    "    mean_ev_per_unit=('total_evic_per_unit_per_yr', 'mean')\n",
    ")"
   ]
  },
  {
   "cell_type": "code",
   "execution_count": 204,
   "id": "791e9acf",
   "metadata": {},
   "outputs": [
    {
     "data": {
      "text/html": [
       "<div>\n",
       "<style scoped>\n",
       "    .dataframe tbody tr th:only-of-type {\n",
       "        vertical-align: middle;\n",
       "    }\n",
       "\n",
       "    .dataframe tbody tr th {\n",
       "        vertical-align: top;\n",
       "    }\n",
       "\n",
       "    .dataframe thead th {\n",
       "        text-align: right;\n",
       "    }\n",
       "</style>\n",
       "<table border=\"1\" class=\"dataframe\">\n",
       "  <thead>\n",
       "    <tr style=\"text-align: right;\">\n",
       "      <th></th>\n",
       "      <th>total_addresses</th>\n",
       "      <th>total_units</th>\n",
       "      <th>mean_units_per_address</th>\n",
       "      <th>total_evictions</th>\n",
       "      <th>mean_ev_per_unit</th>\n",
       "    </tr>\n",
       "    <tr>\n",
       "      <th>initial_rentcontrol</th>\n",
       "      <th></th>\n",
       "      <th></th>\n",
       "      <th></th>\n",
       "      <th></th>\n",
       "      <th></th>\n",
       "    </tr>\n",
       "  </thead>\n",
       "  <tbody>\n",
       "    <tr>\n",
       "      <th>0.0</th>\n",
       "      <td>14974</td>\n",
       "      <td>127638.0</td>\n",
       "      <td>8.523975</td>\n",
       "      <td>100.0</td>\n",
       "      <td>0.002347</td>\n",
       "    </tr>\n",
       "    <tr>\n",
       "      <th>1.0</th>\n",
       "      <td>343095</td>\n",
       "      <td>1796465.0</td>\n",
       "      <td>5.236057</td>\n",
       "      <td>7712.0</td>\n",
       "      <td>0.005178</td>\n",
       "    </tr>\n",
       "  </tbody>\n",
       "</table>\n",
       "</div>"
      ],
      "text/plain": [
       "                     total_addresses  total_units  mean_units_per_address  \\\n",
       "initial_rentcontrol                                                         \n",
       "0.0                            14974     127638.0                8.523975   \n",
       "1.0                           343095    1796465.0                5.236057   \n",
       "\n",
       "                     total_evictions  mean_ev_per_unit  \n",
       "initial_rentcontrol                                     \n",
       "0.0                            100.0          0.002347  \n",
       "1.0                           7712.0          0.005178  "
      ]
     },
     "execution_count": 204,
     "metadata": {},
     "output_type": "execute_result"
    }
   ],
   "source": [
    "grouped.groupby(['initial_rentcontrol']).agg(\n",
    "    total_addresses=('MAP_BLK_LOT', 'count'),\n",
    "    total_units=('initial_newUNITS', 'sum'),\n",
    "    mean_units_per_address=('initial_newUNITS','mean'),\n",
    "    total_evictions=('total_evic', 'sum'),\n",
    "    mean_ev_per_unit=('total_evic_per_unit_per_yr','mean')\n",
    ")"
   ]
  },
  {
   "cell_type": "code",
   "execution_count": 135,
   "id": "ae786ad2",
   "metadata": {},
   "outputs": [],
   "source": [
    "rc_pop = grouped[(grouped['newYRBLT'] > 1957) &\n",
    "    (grouped['newYRBLT'] < 2003) & (grouped['initial_newUNITS'] > 0)]"
   ]
  },
  {
   "cell_type": "code",
   "execution_count": 215,
   "id": "94d47c93",
   "metadata": {},
   "outputs": [
    {
     "data": {
      "text/plain": [
       "(1952.0, 2008.0)"
      ]
     },
     "execution_count": 215,
     "metadata": {},
     "output_type": "execute_result"
    },
    {
     "data": {
      "image/png": "[encoded data removed]",
      "text/plain": [
       "<Figure size 720x360 with 1 Axes>"
      ]
     },
     "metadata": {
      "needs_background": "light"
     },
     "output_type": "display_data"
    }
   ],
   "source": [
    "fig, ax = plt.subplots(figsize=(10,5))\n",
    "\n",
    "yr_vs_ev = rc_pop.groupby('newYRBLT').agg({ev_col: 'mean'}).reset_index()\n",
    "yr_vs_ev1 = yr_vs_ev[(yr_vs_ev['newYRBLT'] < 1979) & (yr_vs_ev['newYRBLT'] >= 1953)]\n",
    "yr_vs_ev2 = yr_vs_ev[(yr_vs_ev['newYRBLT'] > 1980) & (yr_vs_ev['newYRBLT'] <= 2007)\n",
    "                     & (yr_vs_ev['newYRBLT'] != 1985)  # 1985 is weirdly high outlier\n",
    "                    ]\n",
    "sns.regplot(\n",
    "    x='newYRBLT', y='total_evic_per_unit_per_yr', data=yr_vs_ev1, ax=ax, truncate=True,\n",
    "    label='rent controlled', line_kws={'color':'k', 'lw':1, 'label':'linear fit (c.i. = 95%)', 'zorder': 0})\n",
    "sns.regplot(\n",
    "    x='newYRBLT', y='total_evic_per_unit_per_yr', data=yr_vs_ev2, ax=ax, truncate=True,\n",
    "    label='non-rent controlled', line_kws={'color':'k', 'lw':'1',  'zorder': 0})\n",
    "ax.axvline(1979.5, ls=':', c='r', label='rent control built-year\\n eligibility threshold')\n",
    "ax.legend()\n",
    "_ = ax.set_xlabel(\"property built-year\", fontsize=12)\n",
    "_ = ax.set_ylabel(\"avg. evictions per unit per year\", fontsize=12,\n",
    "#                   rotation=0,\n",
    "#                   labelpad=70\n",
    "                 )\n",
    "# _ = ax.set_title(\"SF Eviction Rates (2007-2016)\\nfor Multi-family Residential Addresses\", fontsize=20)\n",
    "# ax.set_ylim((-0.005, 0.05))\n",
    "ax.set_xlim((1952, 2008))"
   ]
  },
  {
   "cell_type": "code",
   "execution_count": null,
   "id": "379733b5",
   "metadata": {},
   "outputs": [],
   "source": []
  },
  {
   "cell_type": "code",
   "execution_count": 157,
   "id": "9f2a66ed",
   "metadata": {},
   "outputs": [
    {
     "data": {
      "image/png": "[encoded data removed]",
      "text/plain": [
       "<Figure size 720x1080 with 3 Axes>"
      ]
     },
     "metadata": {
      "needs_background": "light"
     },
     "output_type": "display_data"
    }
   ],
   "source": [
    "fig, axarr = plt.subplots(3,1,figsize=(10,15), sharex=True)\n",
    "ev_cols = ['nofault_per_unit_per_yr', 'atfault_per_unit_per_yr', 'total_evic_per_unit_per_yr']\n",
    "titles = ['no fault', 'at fault', 'total']\n",
    "for i, ev_col in enumerate(ev_cols):\n",
    "    ax = axarr[i]\n",
    "    yr_vs_ev = rc_pop.groupby('newYRBLT').agg({ev_col: 'mean'}).reset_index()\n",
    "    yr_vs_ev1 = yr_vs_ev[(yr_vs_ev['newYRBLT'] < 1980) &\n",
    "                         (yr_vs_ev['newYRBLT'] >= 1953)]\n",
    "    yr_vs_ev2 = yr_vs_ev[(yr_vs_ev['newYRBLT'] >= 1980) &\n",
    "                         (yr_vs_ev['newYRBLT'] <= 2007)\n",
    "                         & (yr_vs_ev['newYRBLT'] != 1985)  # 1985 is weirdly high outlier\n",
    "                        ]\n",
    "\n",
    "    sns.regplot(\n",
    "        x='newYRBLT', y=ev_col, data=yr_vs_ev1, ax=ax, truncate=True,\n",
    "        label='rent controlled', line_kws={'color':'k', 'lw':1, 'label':'linear fit (c.i. = 95%)', 'zorder': 0})\n",
    "    sns.regplot(\n",
    "        x='newYRBLT', y=ev_col, data=yr_vs_ev2, ax=ax, truncate=True,\n",
    "        label='non-rent controlled', line_kws={'color':'k', 'lw':'1',  'zorder': 0})\n",
    "    ax.axvline(1979.5, ls=':', c='r', label='rent control built-year\\n eligibility threshold')\n",
    "    ax.legend()\n",
    "    ax.set_xlabel(\"\")\n",
    "    if i == len(titles) - 1:\n",
    "        _ = ax.set_xlabel(\"property built-year\", fontsize=12)\n",
    "    _ = ax.set_ylabel(\"avg. evictions per unit per year\", fontsize=12)\n",
    "    _ = ax.set_title(titles[i], fontsize=20)\n",
    "    # ax.set_ylim((-0.005, 0.05))\n",
    "    ax.set_xlim((1952, 2008))\n",
    "    \n",
    "fig.tight_layout()"
   ]
  },
  {
   "cell_type": "code",
   "execution_count": 40,
   "id": "6b24f7a3",
   "metadata": {},
   "outputs": [
    {
     "name": "stdout",
     "output_type": "stream",
     "text": [
      "fiscalyear\n",
      "RP1NBRCDE\n",
      "MAP_BLK_LOT\n",
      "year\n",
      "month\n",
      "yymm\n",
      "demolition_yymm\n",
      "modeRP1CLACDE\n",
      "LATITUDE\n",
      "LONGITUDE\n",
      "lottery_units\n",
      "lottery_winner\n",
      "lottery_year\n",
      "lottery_win_year\n",
      "lottery_win_yymm\n",
      "lottery_month\n",
      "lottery_participant\n",
      "newYRBLT\n",
      "counter1\n",
      "counter2\n",
      "counter3\n",
      "counter4\n",
      "counter5\n",
      "counter6\n",
      "counter7\n",
      "counter8\n",
      "counter9\n",
      "counter10\n",
      "counter11\n",
      "counter12\n",
      "counter13\n",
      "counter14\n",
      "counter15\n",
      "counter16\n",
      "counter19\n",
      "atfault\n",
      "nofault\n",
      "permit_count\n",
      "demolished\n",
      "demolition_filed\n",
      "upconversion\n",
      "downconversion\n",
      "initial_newUNITS\n",
      "rc_permit\n",
      "pol20\n",
      "pol22\n",
      "pol23\n",
      "pol24\n",
      "pol27\n",
      "pol28\n",
      "pol29\n",
      "pol30\n",
      "pol33\n",
      "pol34\n",
      "pol_suspendcondocnvers\n",
      "pol_ellisamt_lowincome\n",
      "pol_ellisamt_min\n",
      "pol_ellisamt_max\n",
      "pol_ellisamt_elddisabled\n",
      "pol_othnofltamt_min\n",
      "pol_othnofltamt_max\n",
      "pol_othnofltamt_specten\n",
      "stata_yymm\n",
      "BLK_LOT_ID\n",
      "NBR_ID\n",
      "initial_rentcontrol\n",
      "rc3ANYCOMPANY_RENT\n",
      "rc_atfault\n",
      "rc_counter8\n",
      "rc_counter9\n",
      "rc_counter10\n",
      "rc_counter12\n",
      "rc_counter13\n",
      "rc_nofault\n",
      "pol_ellislowincpmt\n",
      "pol_ellisminpmt\n",
      "pol_ellismaxpmt\n",
      "pol_elliselddis\n",
      "pol_othernofltminpmt\n",
      "pol_othernofltmaxpmt\n",
      "pol_othernofltelddis\n",
      "totalellisminpmt\n",
      "totalotherminpmt\n"
     ]
    }
   ],
   "source": [
    "for col in df.columns:\n",
    "    print(col)"
   ]
  },
  {
   "cell_type": "code",
   "execution_count": 4,
   "id": "230bbf28",
   "metadata": {},
   "outputs": [
    {
     "data": {
      "text/plain": [
       "(4079188, 83)"
      ]
     },
     "execution_count": 4,
     "metadata": {},
     "output_type": "execute_result"
    }
   ],
   "source": [
    "df.shape"
   ]
  },
  {
   "cell_type": "code",
   "execution_count": 11,
   "id": "b53f7437",
   "metadata": {},
   "outputs": [
    {
     "data": {
      "text/html": [
       "<div>\n",
       "<style scoped>\n",
       "    .dataframe tbody tr th:only-of-type {\n",
       "        vertical-align: middle;\n",
       "    }\n",
       "\n",
       "    .dataframe tbody tr th {\n",
       "        vertical-align: top;\n",
       "    }\n",
       "\n",
       "    .dataframe thead th {\n",
       "        text-align: right;\n",
       "    }\n",
       "</style>\n",
       "<table border=\"1\" class=\"dataframe\">\n",
       "  <thead>\n",
       "    <tr style=\"text-align: right;\">\n",
       "      <th></th>\n",
       "      <th>counter1</th>\n",
       "      <th>counter2</th>\n",
       "      <th>counter3</th>\n",
       "      <th>counter4</th>\n",
       "      <th>counter5</th>\n",
       "      <th>counter6</th>\n",
       "      <th>counter7</th>\n",
       "      <th>counter8</th>\n",
       "      <th>counter9</th>\n",
       "      <th>counter10</th>\n",
       "      <th>...</th>\n",
       "      <th>counter13</th>\n",
       "      <th>counter14</th>\n",
       "      <th>counter15</th>\n",
       "      <th>counter16</th>\n",
       "      <th>counter19</th>\n",
       "      <th>rc_counter8</th>\n",
       "      <th>rc_counter9</th>\n",
       "      <th>rc_counter10</th>\n",
       "      <th>rc_counter12</th>\n",
       "      <th>rc_counter13</th>\n",
       "    </tr>\n",
       "  </thead>\n",
       "  <tbody>\n",
       "    <tr>\n",
       "      <th>count</th>\n",
       "      <td>4.079176e+06</td>\n",
       "      <td>4.079176e+06</td>\n",
       "      <td>4.079176e+06</td>\n",
       "      <td>4.079176e+06</td>\n",
       "      <td>4.079176e+06</td>\n",
       "      <td>4.079176e+06</td>\n",
       "      <td>4.079176e+06</td>\n",
       "      <td>4.079176e+06</td>\n",
       "      <td>4.079176e+06</td>\n",
       "      <td>4.079176e+06</td>\n",
       "      <td>...</td>\n",
       "      <td>4.079176e+06</td>\n",
       "      <td>4.079176e+06</td>\n",
       "      <td>4.079176e+06</td>\n",
       "      <td>4.079176e+06</td>\n",
       "      <td>4.079176e+06</td>\n",
       "      <td>4.079176e+06</td>\n",
       "      <td>4.079176e+06</td>\n",
       "      <td>4.079176e+06</td>\n",
       "      <td>4.079176e+06</td>\n",
       "      <td>4.079176e+06</td>\n",
       "    </tr>\n",
       "    <tr>\n",
       "      <th>mean</th>\n",
       "      <td>2.189168e-04</td>\n",
       "      <td>5.844318e-04</td>\n",
       "      <td>3.407551e-04</td>\n",
       "      <td>2.451475e-05</td>\n",
       "      <td>3.432066e-06</td>\n",
       "      <td>1.789577e-05</td>\n",
       "      <td>5.760967e-05</td>\n",
       "      <td>2.429412e-04</td>\n",
       "      <td>1.225738e-06</td>\n",
       "      <td>2.574049e-05</td>\n",
       "      <td>...</td>\n",
       "      <td>3.194273e-04</td>\n",
       "      <td>1.225738e-06</td>\n",
       "      <td>2.451475e-07</td>\n",
       "      <td>2.451475e-07</td>\n",
       "      <td>2.843712e-05</td>\n",
       "      <td>2.284775e-04</td>\n",
       "      <td>1.225738e-06</td>\n",
       "      <td>2.132784e-05</td>\n",
       "      <td>9.805902e-07</td>\n",
       "      <td>1.061489e-04</td>\n",
       "    </tr>\n",
       "    <tr>\n",
       "      <th>std</th>\n",
       "      <td>1.758076e-02</td>\n",
       "      <td>3.686797e-02</td>\n",
       "      <td>1.980202e-02</td>\n",
       "      <td>9.951836e-03</td>\n",
       "      <td>1.980492e-03</td>\n",
       "      <td>5.024926e-03</td>\n",
       "      <td>8.210498e-03</td>\n",
       "      <td>1.656083e-02</td>\n",
       "      <td>1.107130e-03</td>\n",
       "      <td>7.327118e-03</td>\n",
       "      <td>...</td>\n",
       "      <td>3.885566e-02</td>\n",
       "      <td>1.107130e-03</td>\n",
       "      <td>4.951238e-04</td>\n",
       "      <td>4.951238e-04</td>\n",
       "      <td>5.900013e-03</td>\n",
       "      <td>1.511375e-02</td>\n",
       "      <td>1.107130e-03</td>\n",
       "      <td>4.618158e-03</td>\n",
       "      <td>9.902472e-04</td>\n",
       "      <td>1.030231e-02</td>\n",
       "    </tr>\n",
       "    <tr>\n",
       "      <th>min</th>\n",
       "      <td>0.000000e+00</td>\n",
       "      <td>0.000000e+00</td>\n",
       "      <td>0.000000e+00</td>\n",
       "      <td>0.000000e+00</td>\n",
       "      <td>0.000000e+00</td>\n",
       "      <td>0.000000e+00</td>\n",
       "      <td>0.000000e+00</td>\n",
       "      <td>0.000000e+00</td>\n",
       "      <td>0.000000e+00</td>\n",
       "      <td>0.000000e+00</td>\n",
       "      <td>...</td>\n",
       "      <td>0.000000e+00</td>\n",
       "      <td>0.000000e+00</td>\n",
       "      <td>0.000000e+00</td>\n",
       "      <td>0.000000e+00</td>\n",
       "      <td>0.000000e+00</td>\n",
       "      <td>0.000000e+00</td>\n",
       "      <td>0.000000e+00</td>\n",
       "      <td>0.000000e+00</td>\n",
       "      <td>0.000000e+00</td>\n",
       "      <td>0.000000e+00</td>\n",
       "    </tr>\n",
       "    <tr>\n",
       "      <th>25%</th>\n",
       "      <td>0.000000e+00</td>\n",
       "      <td>0.000000e+00</td>\n",
       "      <td>0.000000e+00</td>\n",
       "      <td>0.000000e+00</td>\n",
       "      <td>0.000000e+00</td>\n",
       "      <td>0.000000e+00</td>\n",
       "      <td>0.000000e+00</td>\n",
       "      <td>0.000000e+00</td>\n",
       "      <td>0.000000e+00</td>\n",
       "      <td>0.000000e+00</td>\n",
       "      <td>...</td>\n",
       "      <td>0.000000e+00</td>\n",
       "      <td>0.000000e+00</td>\n",
       "      <td>0.000000e+00</td>\n",
       "      <td>0.000000e+00</td>\n",
       "      <td>0.000000e+00</td>\n",
       "      <td>0.000000e+00</td>\n",
       "      <td>0.000000e+00</td>\n",
       "      <td>0.000000e+00</td>\n",
       "      <td>0.000000e+00</td>\n",
       "      <td>0.000000e+00</td>\n",
       "    </tr>\n",
       "    <tr>\n",
       "      <th>50%</th>\n",
       "      <td>0.000000e+00</td>\n",
       "      <td>0.000000e+00</td>\n",
       "      <td>0.000000e+00</td>\n",
       "      <td>0.000000e+00</td>\n",
       "      <td>0.000000e+00</td>\n",
       "      <td>0.000000e+00</td>\n",
       "      <td>0.000000e+00</td>\n",
       "      <td>0.000000e+00</td>\n",
       "      <td>0.000000e+00</td>\n",
       "      <td>0.000000e+00</td>\n",
       "      <td>...</td>\n",
       "      <td>0.000000e+00</td>\n",
       "      <td>0.000000e+00</td>\n",
       "      <td>0.000000e+00</td>\n",
       "      <td>0.000000e+00</td>\n",
       "      <td>0.000000e+00</td>\n",
       "      <td>0.000000e+00</td>\n",
       "      <td>0.000000e+00</td>\n",
       "      <td>0.000000e+00</td>\n",
       "      <td>0.000000e+00</td>\n",
       "      <td>0.000000e+00</td>\n",
       "    </tr>\n",
       "    <tr>\n",
       "      <th>75%</th>\n",
       "      <td>0.000000e+00</td>\n",
       "      <td>0.000000e+00</td>\n",
       "      <td>0.000000e+00</td>\n",
       "      <td>0.000000e+00</td>\n",
       "      <td>0.000000e+00</td>\n",
       "      <td>0.000000e+00</td>\n",
       "      <td>0.000000e+00</td>\n",
       "      <td>0.000000e+00</td>\n",
       "      <td>0.000000e+00</td>\n",
       "      <td>0.000000e+00</td>\n",
       "      <td>...</td>\n",
       "      <td>0.000000e+00</td>\n",
       "      <td>0.000000e+00</td>\n",
       "      <td>0.000000e+00</td>\n",
       "      <td>0.000000e+00</td>\n",
       "      <td>0.000000e+00</td>\n",
       "      <td>0.000000e+00</td>\n",
       "      <td>0.000000e+00</td>\n",
       "      <td>0.000000e+00</td>\n",
       "      <td>0.000000e+00</td>\n",
       "      <td>0.000000e+00</td>\n",
       "    </tr>\n",
       "    <tr>\n",
       "      <th>max</th>\n",
       "      <td>8.000000e+00</td>\n",
       "      <td>2.800000e+01</td>\n",
       "      <td>4.000000e+00</td>\n",
       "      <td>1.400000e+01</td>\n",
       "      <td>2.000000e+00</td>\n",
       "      <td>3.000000e+00</td>\n",
       "      <td>3.000000e+00</td>\n",
       "      <td>3.000000e+00</td>\n",
       "      <td>1.000000e+00</td>\n",
       "      <td>8.000000e+00</td>\n",
       "      <td>...</td>\n",
       "      <td>1.800000e+01</td>\n",
       "      <td>1.000000e+00</td>\n",
       "      <td>1.000000e+00</td>\n",
       "      <td>1.000000e+00</td>\n",
       "      <td>4.000000e+00</td>\n",
       "      <td>1.000000e+00</td>\n",
       "      <td>1.000000e+00</td>\n",
       "      <td>1.000000e+00</td>\n",
       "      <td>1.000000e+00</td>\n",
       "      <td>1.000000e+00</td>\n",
       "    </tr>\n",
       "  </tbody>\n",
       "</table>\n",
       "<p>8 rows × 22 columns</p>\n",
       "</div>"
      ],
      "text/plain": [
       "           counter1      counter2      counter3      counter4      counter5  \\\n",
       "count  4.079176e+06  4.079176e+06  4.079176e+06  4.079176e+06  4.079176e+06   \n",
       "mean   2.189168e-04  5.844318e-04  3.407551e-04  2.451475e-05  3.432066e-06   \n",
       "std    1.758076e-02  3.686797e-02  1.980202e-02  9.951836e-03  1.980492e-03   \n",
       "min    0.000000e+00  0.000000e+00  0.000000e+00  0.000000e+00  0.000000e+00   \n",
       "25%    0.000000e+00  0.000000e+00  0.000000e+00  0.000000e+00  0.000000e+00   \n",
       "50%    0.000000e+00  0.000000e+00  0.000000e+00  0.000000e+00  0.000000e+00   \n",
       "75%    0.000000e+00  0.000000e+00  0.000000e+00  0.000000e+00  0.000000e+00   \n",
       "max    8.000000e+00  2.800000e+01  4.000000e+00  1.400000e+01  2.000000e+00   \n",
       "\n",
       "           counter6      counter7      counter8      counter9     counter10  \\\n",
       "count  4.079176e+06  4.079176e+06  4.079176e+06  4.079176e+06  4.079176e+06   \n",
       "mean   1.789577e-05  5.760967e-05  2.429412e-04  1.225738e-06  2.574049e-05   \n",
       "std    5.024926e-03  8.210498e-03  1.656083e-02  1.107130e-03  7.327118e-03   \n",
       "min    0.000000e+00  0.000000e+00  0.000000e+00  0.000000e+00  0.000000e+00   \n",
       "25%    0.000000e+00  0.000000e+00  0.000000e+00  0.000000e+00  0.000000e+00   \n",
       "50%    0.000000e+00  0.000000e+00  0.000000e+00  0.000000e+00  0.000000e+00   \n",
       "75%    0.000000e+00  0.000000e+00  0.000000e+00  0.000000e+00  0.000000e+00   \n",
       "max    3.000000e+00  3.000000e+00  3.000000e+00  1.000000e+00  8.000000e+00   \n",
       "\n",
       "       ...     counter13     counter14     counter15     counter16  \\\n",
       "count  ...  4.079176e+06  4.079176e+06  4.079176e+06  4.079176e+06   \n",
       "mean   ...  3.194273e-04  1.225738e-06  2.451475e-07  2.451475e-07   \n",
       "std    ...  3.885566e-02  1.107130e-03  4.951238e-04  4.951238e-04   \n",
       "min    ...  0.000000e+00  0.000000e+00  0.000000e+00  0.000000e+00   \n",
       "25%    ...  0.000000e+00  0.000000e+00  0.000000e+00  0.000000e+00   \n",
       "50%    ...  0.000000e+00  0.000000e+00  0.000000e+00  0.000000e+00   \n",
       "75%    ...  0.000000e+00  0.000000e+00  0.000000e+00  0.000000e+00   \n",
       "max    ...  1.800000e+01  1.000000e+00  1.000000e+00  1.000000e+00   \n",
       "\n",
       "          counter19   rc_counter8   rc_counter9  rc_counter10  rc_counter12  \\\n",
       "count  4.079176e+06  4.079176e+06  4.079176e+06  4.079176e+06  4.079176e+06   \n",
       "mean   2.843712e-05  2.284775e-04  1.225738e-06  2.132784e-05  9.805902e-07   \n",
       "std    5.900013e-03  1.511375e-02  1.107130e-03  4.618158e-03  9.902472e-04   \n",
       "min    0.000000e+00  0.000000e+00  0.000000e+00  0.000000e+00  0.000000e+00   \n",
       "25%    0.000000e+00  0.000000e+00  0.000000e+00  0.000000e+00  0.000000e+00   \n",
       "50%    0.000000e+00  0.000000e+00  0.000000e+00  0.000000e+00  0.000000e+00   \n",
       "75%    0.000000e+00  0.000000e+00  0.000000e+00  0.000000e+00  0.000000e+00   \n",
       "max    4.000000e+00  1.000000e+00  1.000000e+00  1.000000e+00  1.000000e+00   \n",
       "\n",
       "       rc_counter13  \n",
       "count  4.079176e+06  \n",
       "mean   1.061489e-04  \n",
       "std    1.030231e-02  \n",
       "min    0.000000e+00  \n",
       "25%    0.000000e+00  \n",
       "50%    0.000000e+00  \n",
       "75%    0.000000e+00  \n",
       "max    1.000000e+00  \n",
       "\n",
       "[8 rows x 22 columns]"
      ]
     },
     "execution_count": 11,
     "metadata": {},
     "output_type": "execute_result"
    }
   ],
   "source": [
    "df[[col for col in df.columns if 'counter' in col]].describe()"
   ]
  },
  {
   "cell_type": "code",
   "execution_count": 21,
   "id": "1c452536",
   "metadata": {},
   "outputs": [
    {
     "data": {
      "text/html": [
       "<div>\n",
       "<style scoped>\n",
       "    .dataframe tbody tr th:only-of-type {\n",
       "        vertical-align: middle;\n",
       "    }\n",
       "\n",
       "    .dataframe tbody tr th {\n",
       "        vertical-align: top;\n",
       "    }\n",
       "\n",
       "    .dataframe thead th {\n",
       "        text-align: right;\n",
       "    }\n",
       "</style>\n",
       "<table border=\"1\" class=\"dataframe\">\n",
       "  <thead>\n",
       "    <tr style=\"text-align: right;\">\n",
       "      <th></th>\n",
       "      <th>atfault</th>\n",
       "      <th>nofault</th>\n",
       "      <th>rc_atfault</th>\n",
       "      <th>rc_nofault</th>\n",
       "      <th>initial_newUNITS</th>\n",
       "    </tr>\n",
       "  </thead>\n",
       "  <tbody>\n",
       "    <tr>\n",
       "      <th>count</th>\n",
       "      <td>4.079176e+06</td>\n",
       "      <td>4.079176e+06</td>\n",
       "      <td>4.079176e+06</td>\n",
       "      <td>4.079176e+06</td>\n",
       "      <td>4.079176e+06</td>\n",
       "    </tr>\n",
       "    <tr>\n",
       "      <th>mean</th>\n",
       "      <td>1.247556e-03</td>\n",
       "      <td>6.675368e-04</td>\n",
       "      <td>9.634299e-04</td>\n",
       "      <td>3.343813e-04</td>\n",
       "      <td>5.386827e+00</td>\n",
       "    </tr>\n",
       "    <tr>\n",
       "      <th>std</th>\n",
       "      <td>5.238647e-02</td>\n",
       "      <td>4.520885e-02</td>\n",
       "      <td>3.102421e-02</td>\n",
       "      <td>1.828304e-02</td>\n",
       "      <td>1.372945e+01</td>\n",
       "    </tr>\n",
       "    <tr>\n",
       "      <th>min</th>\n",
       "      <td>0.000000e+00</td>\n",
       "      <td>0.000000e+00</td>\n",
       "      <td>0.000000e+00</td>\n",
       "      <td>0.000000e+00</td>\n",
       "      <td>2.000000e+00</td>\n",
       "    </tr>\n",
       "    <tr>\n",
       "      <th>25%</th>\n",
       "      <td>0.000000e+00</td>\n",
       "      <td>0.000000e+00</td>\n",
       "      <td>0.000000e+00</td>\n",
       "      <td>0.000000e+00</td>\n",
       "      <td>2.000000e+00</td>\n",
       "    </tr>\n",
       "    <tr>\n",
       "      <th>50%</th>\n",
       "      <td>0.000000e+00</td>\n",
       "      <td>0.000000e+00</td>\n",
       "      <td>0.000000e+00</td>\n",
       "      <td>0.000000e+00</td>\n",
       "      <td>3.000000e+00</td>\n",
       "    </tr>\n",
       "    <tr>\n",
       "      <th>75%</th>\n",
       "      <td>0.000000e+00</td>\n",
       "      <td>0.000000e+00</td>\n",
       "      <td>0.000000e+00</td>\n",
       "      <td>0.000000e+00</td>\n",
       "      <td>5.000000e+00</td>\n",
       "    </tr>\n",
       "    <tr>\n",
       "      <th>max</th>\n",
       "      <td>3.000000e+01</td>\n",
       "      <td>1.800000e+01</td>\n",
       "      <td>1.000000e+00</td>\n",
       "      <td>1.000000e+00</td>\n",
       "      <td>7.200000e+02</td>\n",
       "    </tr>\n",
       "  </tbody>\n",
       "</table>\n",
       "</div>"
      ],
      "text/plain": [
       "            atfault       nofault    rc_atfault    rc_nofault  \\\n",
       "count  4.079176e+06  4.079176e+06  4.079176e+06  4.079176e+06   \n",
       "mean   1.247556e-03  6.675368e-04  9.634299e-04  3.343813e-04   \n",
       "std    5.238647e-02  4.520885e-02  3.102421e-02  1.828304e-02   \n",
       "min    0.000000e+00  0.000000e+00  0.000000e+00  0.000000e+00   \n",
       "25%    0.000000e+00  0.000000e+00  0.000000e+00  0.000000e+00   \n",
       "50%    0.000000e+00  0.000000e+00  0.000000e+00  0.000000e+00   \n",
       "75%    0.000000e+00  0.000000e+00  0.000000e+00  0.000000e+00   \n",
       "max    3.000000e+01  1.800000e+01  1.000000e+00  1.000000e+00   \n",
       "\n",
       "       initial_newUNITS  \n",
       "count      4.079176e+06  \n",
       "mean       5.386827e+00  \n",
       "std        1.372945e+01  \n",
       "min        2.000000e+00  \n",
       "25%        2.000000e+00  \n",
       "50%        3.000000e+00  \n",
       "75%        5.000000e+00  \n",
       "max        7.200000e+02  "
      ]
     },
     "execution_count": 21,
     "metadata": {},
     "output_type": "execute_result"
    }
   ],
   "source": [
    "df[['atfault','nofault','rc_atfault','rc_nofault','initial_newUNITS']].describe()"
   ]
  },
  {
   "cell_type": "code",
   "execution_count": 37,
   "id": "109cfe57",
   "metadata": {},
   "outputs": [
    {
     "data": {
      "text/plain": [
       "modeRP1CLACDE\n",
       "            0.0\n",
       "A     1492421.0\n",
       "AC      21979.0\n",
       "DA      32292.0\n",
       "DF       1536.0\n",
       "F     2357924.0\n",
       "FA       2047.0\n",
       "Name: initial_rentcontrol, dtype: float64"
      ]
     },
     "execution_count": 37,
     "metadata": {},
     "output_type": "execute_result"
    }
   ],
   "source": [
    "df.groupby('modeRP1CLACDE')['initial_rentcontrol'].sum()"
   ]
  },
  {
   "cell_type": "code",
   "execution_count": 39,
   "id": "b110c952",
   "metadata": {},
   "outputs": [
    {
     "data": {
      "text/plain": [
       "['F', 'A', 'DA', 'AC', 'FA', 'DF', '']"
      ]
     },
     "execution_count": 39,
     "metadata": {},
     "output_type": "execute_result"
    }
   ],
   "source": [
    "df['modeRP1CLACDE'].unique().tolist()"
   ]
  },
  {
   "cell_type": "code",
   "execution_count": null,
   "id": "ef9adbf3",
   "metadata": {},
   "outputs": [],
   "source": [
    "df[['RP1NBRC']]"
   ]
  },
  {
   "cell_type": "code",
   "execution_count": 25,
   "id": "830cfccf",
   "metadata": {},
   "outputs": [],
   "source": [
    "codes = pd.read_csv('./data/Reference__Assessor-Recorder_Property_Class_Codes.csv')\n",
    "code_dict = dict(zip(codes['Class Code'], codes['Use Code']))\n",
    "rc_dict = dict(zip(codes['Class Code'], codes['rc_eligible']))  "
   ]
  },
  {
   "cell_type": "code",
   "execution_count": null,
   "id": "f087a0d6",
   "metadata": {},
   "outputs": [],
   "source": [
    "asr['use_code'] = asr['RP1CLACDE'].map(code_dict)\n",
    "asr['rc_eligible'] = asr['RP1CLACDE'].map(rc_dict)"
   ]
  },
  {
   "cell_type": "code",
   "execution_count": 34,
   "id": "274b4986",
   "metadata": {},
   "outputs": [
    {
     "data": {
      "text/html": [
       "<div>\n",
       "<style scoped>\n",
       "    .dataframe tbody tr th:only-of-type {\n",
       "        vertical-align: middle;\n",
       "    }\n",
       "\n",
       "    .dataframe tbody tr th {\n",
       "        vertical-align: top;\n",
       "    }\n",
       "\n",
       "    .dataframe thead th {\n",
       "        text-align: right;\n",
       "    }\n",
       "</style>\n",
       "<table border=\"1\" class=\"dataframe\">\n",
       "  <thead>\n",
       "    <tr style=\"text-align: right;\">\n",
       "      <th></th>\n",
       "      <th>Use Code</th>\n",
       "      <th>Use Definition</th>\n",
       "      <th>Class Code</th>\n",
       "      <th>Class Definition</th>\n",
       "      <th>rc_eligible</th>\n",
       "    </tr>\n",
       "  </thead>\n",
       "  <tbody>\n",
       "    <tr>\n",
       "      <th>7</th>\n",
       "      <td>COMM</td>\n",
       "      <td>Commercial Misc</td>\n",
       "      <td>AC</td>\n",
       "      <td>Apartmnt &amp; Commercial Store</td>\n",
       "      <td>0</td>\n",
       "    </tr>\n",
       "    <tr>\n",
       "      <th>73</th>\n",
       "      <td>MRES</td>\n",
       "      <td>Multi-Family Residential</td>\n",
       "      <td>A</td>\n",
       "      <td>Apartment</td>\n",
       "      <td>1</td>\n",
       "    </tr>\n",
       "    <tr>\n",
       "      <th>77</th>\n",
       "      <td>MRES</td>\n",
       "      <td>Multi-Family Residential</td>\n",
       "      <td>DA</td>\n",
       "      <td>Dwellings - Apartments</td>\n",
       "      <td>1</td>\n",
       "    </tr>\n",
       "    <tr>\n",
       "      <th>85</th>\n",
       "      <td>MRES</td>\n",
       "      <td>Multi-Family Residential</td>\n",
       "      <td>DF</td>\n",
       "      <td>1 Flat &amp; Dwelling-1 Parcel</td>\n",
       "      <td>1</td>\n",
       "    </tr>\n",
       "    <tr>\n",
       "      <th>86</th>\n",
       "      <td>MRES</td>\n",
       "      <td>Multi-Family Residential</td>\n",
       "      <td>F</td>\n",
       "      <td>Flats &amp; Duplex</td>\n",
       "      <td>1</td>\n",
       "    </tr>\n",
       "    <tr>\n",
       "      <th>90</th>\n",
       "      <td>MRES</td>\n",
       "      <td>Multi-Family Residential</td>\n",
       "      <td>FA</td>\n",
       "      <td>1 Flat &amp; 1 Apt Bldg-1 Parcel</td>\n",
       "      <td>1</td>\n",
       "    </tr>\n",
       "  </tbody>\n",
       "</table>\n",
       "</div>"
      ],
      "text/plain": [
       "   Use Code            Use Definition Class Code  \\\n",
       "7      COMM           Commercial Misc         AC   \n",
       "73     MRES  Multi-Family Residential          A   \n",
       "77     MRES  Multi-Family Residential         DA   \n",
       "85     MRES  Multi-Family Residential         DF   \n",
       "86     MRES  Multi-Family Residential          F   \n",
       "90     MRES  Multi-Family Residential         FA   \n",
       "\n",
       "                Class Definition  rc_eligible  \n",
       "7    Apartmnt & Commercial Store            0  \n",
       "73                     Apartment            1  \n",
       "77        Dwellings - Apartments            1  \n",
       "85    1 Flat & Dwelling-1 Parcel            1  \n",
       "86                Flats & Duplex            1  \n",
       "90  1 Flat & 1 Apt Bldg-1 Parcel            1  "
      ]
     },
     "execution_count": 34,
     "metadata": {},
     "output_type": "execute_result"
    }
   ],
   "source": [
    "codes[codes['Class Code'].isin(df['modeRP1CLACDE'].unique().tolist())]"
   ]
  },
  {
   "cell_type": "code",
   "execution_count": 5,
   "id": "0edae3ce",
   "metadata": {},
   "outputs": [
    {
     "data": {
      "text/plain": [
       "33525"
      ]
     },
     "execution_count": 5,
     "metadata": {},
     "output_type": "execute_result"
    }
   ],
   "source": [
    "df.colum"
   ]
  },
  {
   "cell_type": "markdown",
   "id": "e1d8b96c",
   "metadata": {},
   "source": [
    "Most MAP_BLK_LOT have 12 years of data"
   ]
  },
  {
   "cell_type": "code",
   "execution_count": 7,
   "id": "c8730c43",
   "metadata": {},
   "outputs": [
    {
     "data": {
      "text/plain": [
       "12    322239\n",
       "6      35257\n",
       "1        538\n",
       "11         6\n",
       "9          6\n",
       "4          6\n",
       "5          5\n",
       "3          4\n",
       "7          3\n",
       "2          3\n",
       "10         2\n",
       "Name: RP1NBRCDE, dtype: int64"
      ]
     },
     "execution_count": 7,
     "metadata": {},
     "output_type": "execute_result"
    }
   ],
   "source": [
    "df.groupby(['MAP_BLK_LOT','year'])['RP1NBRCDE'].count().value_counts()"
   ]
  },
  {
   "cell_type": "code",
   "execution_count": null,
   "id": "4929d194",
   "metadata": {},
   "outputs": [],
   "source": []
  }
 ],
 "metadata": {
  "kernelspec": {
   "display_name": "Python [conda env:evictions]",
   "language": "python",
   "name": "conda-env-evictions-py"
  },
  "language_info": {
   "codemirror_mode": {
    "name": "ipython",
    "version": 3
   },
   "file_extension": ".py",
   "mimetype": "text/x-python",
   "name": "python",
   "nbconvert_exporter": "python",
   "pygments_lexer": "ipython3",
   "version": "3.7.8"
  },
  "toc": {
   "base_numbering": 1,
   "nav_menu": {},
   "number_sections": false,
   "sideBar": false,
   "skip_h1_title": true,
   "title_cell": "Table of Contents",
   "title_sidebar": "Contents",
   "toc_cell": false,
   "toc_position": {},
   "toc_section_display": true,
   "toc_window_display": false
  }
 },
 "nbformat": 4,
 "nbformat_minor": 5
}
