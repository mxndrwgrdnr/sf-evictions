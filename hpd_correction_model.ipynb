{
 "cells": [
  {
   "cell_type": "code",
   "execution_count": 50,
   "id": "fe0bfc9b",
   "metadata": {},
   "outputs": [],
   "source": [
    "import pandas as pd\n",
    "import os\n",
    "from matplotlib import pyplot as plt\n",
    "import seaborn as sns\n",
    "import numpy as np\n",
    "import statsmodels.formula.api as smf"
   ]
  },
  {
   "cell_type": "code",
   "execution_count": 3,
   "id": "15975bdf",
   "metadata": {},
   "outputs": [],
   "source": [
    "df = pd.read_stata(\"hpd_correction/Eviction_Building_Panel_Gardner_200307to201312_v1.dta\")"
   ]
  },
  {
   "cell_type": "code",
   "execution_count": 10,
   "id": "3ad0d97f",
   "metadata": {},
   "outputs": [],
   "source": [
    "df['total_evic'] = df['atfault'] + df['nofault']"
   ]
  },
  {
   "cell_type": "code",
   "execution_count": 11,
   "id": "27fcab42",
   "metadata": {},
   "outputs": [],
   "source": [
    "df_year = df.groupby(\n",
    "    ['MAP_BLK_LOT', 'year', 'newYRBLT', 'initial_newUNITS', 'initial_rentcontrol']).agg(\n",
    "    {'atfault': \"sum\", \"nofault\": \"sum\", \"total_evic\": \"sum\", \"month\": \"count\"}\n",
    ").reset_index().rename(columns={'month':'months_obs'})\n",
    "\n",
    "df_year['nofault_per_unit_per_month'] = (df_year['nofault'] / df_year['initial_newUNITS']) / df_year['months_obs']\n",
    "df_year['atfault_per_unit_per_month'] = (df_year['atfault'] / df_year['initial_newUNITS']) / df_year['months_obs']\n",
    "df_year['total_evic_per_unit_per_month'] = (df_year['total_evic'] / df_year['initial_newUNITS']) / df_year['months_obs']\n",
    "\n",
    "df_year['nofault_per_unit_per_yr'] = df_year['nofault_per_unit_per_month'] * 12\n",
    "df_year['total_evic_per_unit_per_yr'] = df_year['total_evic_per_unit_per_month'] * 12\n",
    "df_year['atfault_per_unit_per_yr'] = df_year['atfault_per_unit_per_month'] * 12"
   ]
  },
  {
   "cell_type": "code",
   "execution_count": 54,
   "id": "82bd3df4",
   "metadata": {},
   "outputs": [],
   "source": [
    "bandwidth = 23\n",
    "\n",
    "rd_df = df_year[\n",
    "    (df_year['newYRBLT'] > 1980 - bandwidth) &  # bandwidth\n",
    "    (df_year['newYRBLT'] < 1980 + bandwidth) &  # bandwidth\n",
    "    (df_year['newYRBLT'] != 1985) &  # huge outlier (?)\n",
    "#     (df_year['newYRBLT'] != 1979) &  # partial RC (?)\n",
    "#     (df_year['newYRBLT'] != 1980) &  # Should be RC but could be fuzzy boundary (?)\n",
    "    (df_year['initial_newUNITS'] > 0)\n",
    "].copy()"
   ]
  },
  {
   "cell_type": "code",
   "execution_count": 55,
   "id": "3f189912",
   "metadata": {},
   "outputs": [],
   "source": [
    "rd_df['pre_1980'] = rd_df['newYRBLT'] < 1980\n",
    "rd_df['rent_control'] = False\n",
    "rd_df.loc[rd_df['pre_1980'] == True, 'rent_control'] = True\n",
    "rd_df['year_built_centered'] = rd_df['newYRBLT'] - 1980"
   ]
  },
  {
   "cell_type": "markdown",
   "id": "d363ba7c",
   "metadata": {},
   "source": [
    "### Model 1"
   ]
  },
  {
   "cell_type": "code",
   "execution_count": 56,
   "id": "bef20b16",
   "metadata": {},
   "outputs": [],
   "source": [
    "rd = smf.ols(\n",
    "    \"total_evic_per_unit_per_yr ~ rent_control + year_built_centered*rent_control\",\n",
    "    data=rd_df)"
   ]
  },
  {
   "cell_type": "code",
   "execution_count": 57,
   "id": "748fc2e0",
   "metadata": {},
   "outputs": [],
   "source": [
    "fitted = rd.fit()"
   ]
  },
  {
   "cell_type": "code",
   "execution_count": 58,
   "id": "721d1f2b",
   "metadata": {},
   "outputs": [
    {
     "name": "stdout",
     "output_type": "stream",
     "text": [
      "                                OLS Regression Results                                \n",
      "======================================================================================\n",
      "Dep. Variable:     total_evic_per_unit_per_yr   R-squared:                       0.001\n",
      "Model:                                    OLS   Adj. R-squared:                  0.001\n",
      "Method:                         Least Squares   F-statistic:                     14.89\n",
      "Date:                        Sun, 04 Dec 2022   Prob (F-statistic):           1.10e-09\n",
      "Time:                                14:43:33   Log-Likelihood:                 85535.\n",
      "No. Observations:                       53031   AIC:                        -1.711e+05\n",
      "Df Residuals:                           53027   BIC:                        -1.710e+05\n",
      "Df Model:                                   3                                         \n",
      "Covariance Type:                    nonrobust                                         \n",
      "============================================================================================================\n",
      "                                               coef    std err          t      P>|t|      [0.025      0.975]\n",
      "------------------------------------------------------------------------------------------------------------\n",
      "Intercept                                    0.0013      0.001      1.608      0.108      -0.000       0.003\n",
      "rent_control[T.True]                         0.0018      0.001      1.803      0.071      -0.000       0.004\n",
      "year_built_centered                      -1.349e-05    8.2e-05     -0.165      0.869      -0.000       0.000\n",
      "year_built_centered:rent_control[T.True] -7.256e-05   9.06e-05     -0.801      0.423      -0.000       0.000\n",
      "==============================================================================\n",
      "Omnibus:                   134877.758   Durbin-Watson:                   1.918\n",
      "Prob(Omnibus):                  0.000   Jarque-Bera (JB):       4036028477.443\n",
      "Skew:                          28.429   Prob(JB):                         0.00\n",
      "Kurtosis:                    1353.309   Cond. No.                         108.\n",
      "==============================================================================\n",
      "\n",
      "Notes:\n",
      "[1] Standard Errors assume that the covariance matrix of the errors is correctly specified.\n"
     ]
    }
   ],
   "source": [
    "print(fitted.summary())"
   ]
  },
  {
   "cell_type": "markdown",
   "id": "60b24f8a",
   "metadata": {},
   "source": [
    "### Model 2"
   ]
  },
  {
   "cell_type": "code",
   "execution_count": 59,
   "id": "eeda3ada",
   "metadata": {},
   "outputs": [],
   "source": [
    "rd2 = smf.ols(\n",
    "    \"total_evic_per_unit_per_yr ~ rent_control + year_built_centered*rent_control + np.log(initial_newUNITS)\",\n",
    "    data=rd_df)"
   ]
  },
  {
   "cell_type": "code",
   "execution_count": 60,
   "id": "bf8a4ee7",
   "metadata": {},
   "outputs": [
    {
     "name": "stdout",
     "output_type": "stream",
     "text": [
      "                                OLS Regression Results                                \n",
      "======================================================================================\n",
      "Dep. Variable:     total_evic_per_unit_per_yr   R-squared:                       0.001\n",
      "Model:                                    OLS   Adj. R-squared:                  0.001\n",
      "Method:                         Least Squares   F-statistic:                     12.25\n",
      "Date:                        Sun, 04 Dec 2022   Prob (F-statistic):           5.91e-10\n",
      "Time:                                14:43:44   Log-Likelihood:                 85537.\n",
      "No. Observations:                       53031   AIC:                        -1.711e+05\n",
      "Df Residuals:                           53026   BIC:                        -1.710e+05\n",
      "Df Model:                                   4                                         \n",
      "Covariance Type:                    nonrobust                                         \n",
      "============================================================================================================\n",
      "                                               coef    std err          t      P>|t|      [0.025      0.975]\n",
      "------------------------------------------------------------------------------------------------------------\n",
      "Intercept                                    0.0018      0.001      2.184      0.029       0.000       0.003\n",
      "rent_control[T.True]                         0.0019      0.001      1.963      0.050    2.81e-06       0.004\n",
      "year_built_centered                      -8.582e-06    8.2e-05     -0.105      0.917      -0.000       0.000\n",
      "year_built_centered:rent_control[T.True] -8.679e-05   9.08e-05     -0.956      0.339      -0.000    9.12e-05\n",
      "np.log(initial_newUNITS)                    -0.0005      0.000     -2.083      0.037      -0.001   -3.08e-05\n",
      "==============================================================================\n",
      "Omnibus:                   134862.218   Durbin-Watson:                   1.918\n",
      "Prob(Omnibus):                  0.000   Jarque-Bera (JB):       4034051416.967\n",
      "Skew:                          28.421   Prob(JB):                         0.00\n",
      "Kurtosis:                    1352.978   Cond. No.                         108.\n",
      "==============================================================================\n",
      "\n",
      "Notes:\n",
      "[1] Standard Errors assume that the covariance matrix of the errors is correctly specified.\n"
     ]
    }
   ],
   "source": [
    "fitted2 = rd2.fit()\n",
    "print(fitted2.summary())"
   ]
  },
  {
   "cell_type": "code",
   "execution_count": null,
   "id": "706e79d9",
   "metadata": {},
   "outputs": [],
   "source": []
  }
 ],
 "metadata": {
  "kernelspec": {
   "display_name": "Python [conda env:evictions]",
   "language": "python",
   "name": "conda-env-evictions-py"
  },
  "language_info": {
   "codemirror_mode": {
    "name": "ipython",
    "version": 3
   },
   "file_extension": ".py",
   "mimetype": "text/x-python",
   "name": "python",
   "nbconvert_exporter": "python",
   "pygments_lexer": "ipython3",
   "version": "3.7.8"
  },
  "toc": {
   "base_numbering": 1,
   "nav_menu": {},
   "number_sections": false,
   "sideBar": false,
   "skip_h1_title": true,
   "title_cell": "Table of Contents",
   "title_sidebar": "Contents",
   "toc_cell": false,
   "toc_position": {},
   "toc_section_display": true,
   "toc_window_display": false
  }
 },
 "nbformat": 4,
 "nbformat_minor": 5
}
